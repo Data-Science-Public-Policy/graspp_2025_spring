{
 "cells": [
  {
   "cell_type": "markdown",
   "id": "435d6620",
   "metadata": {},
   "source": [
    "In this chapter, I perform a simple analysis of relation between trade with China and debt to gdp ratio for OECD countries."
   ]
  },
  {
   "cell_type": "markdown",
   "id": "7777c019",
   "metadata": {},
   "source": [
    "# 0 Prepare environment"
   ]
  },
  {
   "cell_type": "code",
   "execution_count": 2,
   "id": "71384ba9",
   "metadata": {},
   "outputs": [],
   "source": [
    "import pandas as pd\n",
    "import plotly.graph_objects as go\n",
    "from plotly.subplots import make_subplots\n",
    "from linearmodels.panel import PanelOLS\n",
    "import requests\n",
    "import time\n",
    "from fredapi import Fred\n",
    "from TradeDebtAnalyzer import TradeDebtAnalyzer\n"
   ]
  },
  {
   "cell_type": "code",
   "execution_count": 3,
   "id": "761b4c30",
   "metadata": {},
   "outputs": [
    {
     "data": {
      "text/plain": [
       "'c:\\\\Users\\\\trend\\\\Documents\\\\GitHub\\\\graspp_2025_spring\\\\notebooks\\\\assignment_individual\\\\HW1'"
      ]
     },
     "execution_count": 3,
     "metadata": {},
     "output_type": "execute_result"
    }
   ],
   "source": [
    "import os\n",
    "os.getcwd()"
   ]
  },
  {
   "cell_type": "markdown",
   "id": "3eb9bbd8",
   "metadata": {},
   "source": [
    "# 1.1 Download Data\n",
    "I suppressed the download function and used the already downloaded data in the following."
   ]
  },
  {
   "cell_type": "code",
   "execution_count": 3,
   "id": "5d892465",
   "metadata": {},
   "outputs": [],
   "source": [
    "#df_final = TradeDebtAnalyzer.download_data()\n",
    "# def download_data():\n",
    "#         api_key_un = \"53408856aa4441c8af4cf29b62aab37a\"\n",
    "\n",
    "#         def get_uncomtrade_data(subscription_key: str, params: dict) -> pd.DataFrame:\n",
    "#             base_url = f\"https://comtradeapi.un.org/data/v1/get/{params['typeCode']}/{params['freqCode']}/{params['clCode']}\"\n",
    "#             query_params = {\"subscription-key\": subscription_key, **params}\n",
    "#             try:\n",
    "#                 r = requests.get(base_url, params=query_params, timeout=60)\n",
    "#                 r.raise_for_status()\n",
    "#                 data = r.json()\n",
    "#                 return pd.DataFrame(data[\"data\"]) if data.get(\"data\") else pd.DataFrame()\n",
    "#             except (requests.RequestException, ValueError) as err:\n",
    "#                 print(f\"Request failed: {err}\")\n",
    "#                 return pd.DataFrame()\n",
    "\n",
    "#         country_list = [36, 40, 56, 124, 208, 233, 251, 300, 348, 352,\n",
    "#                         372, 392, 440, 554, 703, 724, 752, 826, 842]\n",
    "#         dfs = []\n",
    "#         for country in country_list:\n",
    "#             for year in range(2010, 2024):\n",
    "#                 query_cty = {\n",
    "#                     \"typeCode\": \"C\", \"freqCode\": \"A\", \"clCode\": \"HS\",\n",
    "#                     \"period\": f\"{year}\", \"reporterCode\": f\"{country}\",\n",
    "#                     \"partnerCode\": \"156\", \"partner2Code\": \"0\",\n",
    "#                     \"flowCode\": \"M\", \"maxrecords\": \"1000\", \"cmdCode\": \"TOTAL\"\n",
    "#                 }\n",
    "#                 time.sleep(2)\n",
    "#                 df_cty = get_uncomtrade_data(api_key_un, query_cty)\n",
    "#                 time.sleep(2)\n",
    "#                 if not df_cty.empty:\n",
    "#                     print(df_cty.shape, country, year)\n",
    "#                     dfs.append(df_cty)\n",
    "\n",
    "#         df = pd.concat(dfs, ignore_index=True)\n",
    "#         df_all = df[df['motCode'] == 0]\n",
    "#         df_all_sum = df_all.groupby(['period','reporterCode'])['primaryValue'].sum().reset_index()\n",
    "#         df_trade = df_all_sum[df_all_sum['reporterCode'] != 528]\n",
    "\n",
    "#         fred = Fred(api_key='a8be37f8d6242d8ee6601727cf359c50')\n",
    "\n",
    "#         debt_series = {\n",
    "#             '36': 'DEBTTLAUA188A', '40': 'DEBTTLATA188A', '56': 'DEBTTLBEA188A',\n",
    "#             '124': 'DEBTTLCAA188A', '208': 'DEBTTLDEA188A', '233': 'DEBTTLEEA188A',\n",
    "#             '251': 'DEBTTLFRA188A', '300': 'DEBTTLGRA188A', '348': 'DEBTTLHUA188A',\n",
    "#             '352': 'DEBTTLISA188A', '372': 'DEBTTLIEA188A', '392': 'DEBTTLJPA188A',\n",
    "#             '440': 'DEBTTLLTA188A', '554': 'DEBTTLNZA188A', '703': 'DEBTTLSKA188A',\n",
    "#             '724': 'DEBTTLESA188A', '752': 'DEBTTLSEA188A', '826': 'DEBTTLGBA188A', '842': 'DEBTTLUSA188A'\n",
    "#         }\n",
    "\n",
    "#         gdp_pc_series = {\n",
    "#             '36': 'NYGDPPCAPKDAUS', '40': 'NYGDPPCAPKDAUT', '56': 'NYGDPPCAPKDBEL',\n",
    "#             '124': 'NYGDPPCAPKDCAN', '208': 'NYGDPPCAPKDDNK', '233': 'NYGDPPCAPKDEST',\n",
    "#             '251': 'NYGDPPCAPKDFRA', '300': 'NYGDPPCAPKDGRC', '348': 'NYGDPPCAPKDHUN',\n",
    "#             '352': 'NYGDPPCAPKDISL', '372': 'NYGDPPCAPKDIRL', '392': 'NYGDPPCAPKDJPN',\n",
    "#             '440': 'NYGDPPCAPKDLTU', '554': 'NYGDPPCAPKDNZL', '703': 'NYGDPPCAPKDSVK',\n",
    "#             '724': 'NYGDPPCAPKDESP', '752': 'NYGDPPCAPKDSWE', '826': 'NYGDPPCAPKDGBR', '842': 'NYGDPPCAPKDUSA'\n",
    "#         }\n",
    "\n",
    "#         def get_series_data(series_dict, value_column):\n",
    "#             all_data = []\n",
    "#             for country_code, series_id in series_dict.items():\n",
    "#                 data = fred.get_series(series_id).loc['2010':'2023']\n",
    "#                 df = data.resample('A').mean().reset_index()\n",
    "#                 df.columns = ['year', value_column]\n",
    "#                 df['year'] = df['year'].dt.year\n",
    "#                 df['country'] = int(country_code)\n",
    "#                 all_data.append(df)\n",
    "#             return pd.concat(all_data, ignore_index=True)\n",
    "\n",
    "#         debt_df = get_series_data(debt_series, 'debt_ratio')\n",
    "#         gdp_df = get_series_data(gdp_pc_series, 'gdp_per_cap')\n",
    "#         merged_df = pd.merge(debt_df, gdp_df, on=['year', 'country'])\n",
    "\n",
    "#         df_trade['period'] = df_trade['period'].astype(int)\n",
    "#         merged_df['country'] = merged_df['country'].astype(int)\n",
    "#         df_final = pd.merge(df_trade, merged_df, left_on=['period','reporterCode'], right_on=['year','country'])\n",
    "\n",
    "#         return df_final[['period','reporterCode','primaryValue','debt_ratio','gdp_per_cap']]\n",
    "\n",
    "\n",
    "\n"
   ]
  },
  {
   "cell_type": "markdown",
   "id": "4287b245",
   "metadata": {},
   "source": [
    "# 2 Plot"
   ]
  },
  {
   "cell_type": "code",
   "execution_count": 4,
   "id": "811774ef",
   "metadata": {},
   "outputs": [
    {
     "data": {
      "application/vnd.plotly.v1+json": {
       "config": {
        "plotlyServerURL": "https://plot.ly"
       },
       "data": [
        {
         "hovertemplate": "Australia<br>%{x}<br>Import from China: %{y:,.2f}<extra></extra>",
         "line": {
          "dash": "solid"
         },
         "mode": "lines+markers",
         "name": "Import from China",
         "type": "scatter",
         "x": [
          "2010",
          "2011",
          "2012",
          "2013",
          "2014",
          "2015",
          "2016",
          "2017",
          "2018",
          "2019",
          "2020",
          "2021",
          "2022",
          "2023"
         ],
         "xaxis": "x",
         "y": [
          38004358372,
          43447909794,
          45996260698,
          44861052377,
          46854594144,
          46292722371,
          44241021648,
          49971610459.392,
          57102168766.725,
          56448232586.902,
          60208016256.254,
          72858757972.878,
          83730941500.959,
          71820697468.717
         ],
         "yaxis": "y"
        },
        {
         "hovertemplate": "Australia<br>%{x}<br>Debt Ratio (% of GDP): %{y:,.2f}<extra></extra>",
         "line": {
          "dash": "dot"
         },
         "mode": "lines+markers",
         "name": "Debt Ratio (% of GDP)",
         "type": "scatter",
         "x": [
          "2010",
          "2011",
          "2012",
          "2013",
          "2014",
          "2015",
          "2016",
          "2017",
          "2018",
          "2019",
          "2020",
          "2021",
          "2022",
          "2023"
         ],
         "xaxis": "x",
         "y": [
          28.6633975352712,
          30.0953996273683,
          39.441661369273,
          37.5600008066242,
          41.7223304965257,
          46.4820384628409,
          54.6779869160885,
          53.3164358193161,
          54.5030658860126,
          60.2260851971351,
          69.3215748590956,
          70.0109117652417,
          58.0466964106785,
          null
         ],
         "yaxis": "y2"
        },
        {
         "hovertemplate": "Austria<br>%{x}<br>Import from China: %{y:,.2f}<extra></extra>",
         "line": {
          "dash": "solid"
         },
         "mode": "lines+markers",
         "type": "scatter",
         "x": [
          "2010",
          "2011",
          "2012",
          "2013",
          "2014",
          "2015",
          "2016",
          "2017",
          "2018",
          "2019",
          "2020",
          "2021",
          "2022",
          "2023"
         ],
         "xaxis": "x2",
         "y": [
          7191716699,
          8899480099,
          8576840047.326,
          8928340062.038,
          9625579505.719,
          8755837829.701,
          8779584820.595,
          9526904208.166,
          10755897501.367,
          10998301463.325,
          11626199665.511,
          15489570220.236,
          18374175542.94,
          16339720323.874
         ],
         "yaxis": "y3"
        },
        {
         "hovertemplate": "Austria<br>%{x}<br>Debt Ratio (% of GDP): %{y:,.2f}<extra></extra>",
         "line": {
          "dash": "dot"
         },
         "mode": "lines+markers",
         "type": "scatter",
         "x": [
          "2010",
          "2011",
          "2012",
          "2013",
          "2014",
          "2015",
          "2016",
          "2017",
          "2018",
          "2019",
          "2020",
          "2021",
          "2022",
          "2023"
         ],
         "xaxis": "x2",
         "y": [
          87.6567178372011,
          87.866630904677,
          92.4903678869107,
          89.5758769414562,
          97.8910849273006,
          97.3280357189943,
          96.9275662307516,
          91.234734613238,
          86.052092772266,
          85.0546807677816,
          101.667208235561,
          96.0278211815402,
          76.2214007403381,
          78.3363673054487
         ],
         "yaxis": "y4"
        },
        {
         "hovertemplate": "Belgium<br>%{x}<br>Import from China: %{y:,.2f}<extra></extra>",
         "line": {
          "dash": "solid"
         },
         "mode": "lines+markers",
         "type": "scatter",
         "x": [
          "2010",
          "2011",
          "2012",
          "2013",
          "2014",
          "2015",
          "2016",
          "2017",
          "2018",
          "2019",
          "2020",
          "2021",
          "2022",
          "2023"
         ],
         "xaxis": "x3",
         "y": [
          8176073533.354,
          9395707045.425,
          7991103063.081,
          7992736880.193,
          8661725797.855,
          7663941672.529,
          7415774420.98,
          7738744130.923,
          8273273483.839,
          8539413646.656,
          9467039943.401,
          12516653458.49,
          15945050733.881,
          14237893001.577
         ],
         "yaxis": "y5"
        },
        {
         "hovertemplate": "Belgium<br>%{x}<br>Debt Ratio (% of GDP): %{y:,.2f}<extra></extra>",
         "line": {
          "dash": "dot"
         },
         "mode": "lines+markers",
         "type": "scatter",
         "x": [
          "2010",
          "2011",
          "2012",
          "2013",
          "2014",
          "2015",
          "2016",
          "2017",
          "2018",
          "2019",
          "2020",
          "2021",
          "2022",
          "2023"
         ],
         "xaxis": "x3",
         "y": [
          93.1802046517235,
          94.869878328893,
          103.556484643172,
          101.11748085884,
          111.761996278293,
          108.885649368795,
          110.598249698212,
          104.249557076875,
          101.506490561537,
          103.200888047045,
          118.442409069939,
          108.445297214838,
          92.4825366392405,
          null
         ],
         "yaxis": "y6"
        },
        {
         "hovertemplate": "Canada<br>%{x}<br>Import from China: %{y:,.2f}<extra></extra>",
         "line": {
          "dash": "solid"
         },
         "mode": "lines+markers",
         "type": "scatter",
         "x": [
          "2010",
          "2011",
          "2012",
          "2013",
          "2014",
          "2015",
          "2016",
          "2017",
          "2018",
          "2019",
          "2020",
          "2021",
          "2022",
          "2023"
         ],
         "xaxis": "x4",
         "y": [
          43240159894,
          48653536126,
          50764771704,
          51209844839,
          53066195538,
          51368522083.886,
          48575917684.254,
          54652257046.605,
          58326303197.793,
          56541202356.148,
          57131037420.364,
          68559619546.811,
          76991873836.818,
          66082873036.096
         ],
         "yaxis": "y7"
        },
        {
         "hovertemplate": "Canada<br>%{x}<br>Debt Ratio (% of GDP): %{y:,.2f}<extra></extra>",
         "line": {
          "dash": "dot"
         },
         "mode": "lines+markers",
         "type": "scatter",
         "x": [
          "2010",
          "2011",
          "2012",
          "2013",
          "2014",
          "2015",
          "2016",
          "2017",
          "2018",
          "2019",
          "2020",
          "2021",
          "2022",
          "2023"
         ],
         "xaxis": "x4",
         "y": [
          53.1497329605545,
          54.1193858391726,
          55.7251649377054,
          53.200869076551,
          51.4827081297932,
          55.9915837788793,
          56.0236243991088,
          54.4625651849142,
          53.1515356456582,
          53.3623246913959,
          74.5540471041546,
          71.0739602315819,
          61.4178635753383,
          62.2285228239297
         ],
         "yaxis": "y8"
        },
        {
         "hovertemplate": "Denmark<br>%{x}<br>Import from China: %{y:,.2f}<extra></extra>",
         "line": {
          "dash": "solid"
         },
         "mode": "lines+markers",
         "type": "scatter",
         "x": [
          "2010",
          "2011",
          "2012",
          "2013",
          "2014",
          "2015",
          "2016",
          "2017",
          "2018",
          "2019",
          "2020",
          "2021",
          "2022",
          "2023"
         ],
         "xaxis": "x5",
         "y": [
          6426366383,
          6720217637,
          6405169702,
          6573974542,
          7113521257,
          6375315508,
          6435820180.032,
          6725374194.574,
          7197566422.049,
          7030520269.719,
          7534800891.89,
          9799627671.989,
          10643508194.11,
          7766787182.912
         ],
         "yaxis": "y9"
        },
        {
         "hovertemplate": "Denmark<br>%{x}<br>Debt Ratio (% of GDP): %{y:,.2f}<extra></extra>",
         "line": {
          "dash": "dot"
         },
         "mode": "lines+markers",
         "type": "scatter",
         "x": [
          "2010",
          "2011",
          "2012",
          "2013",
          "2014",
          "2015",
          "2016",
          "2017",
          "2018",
          "2019",
          "2020",
          "2021",
          "2022",
          "2023"
         ],
         "xaxis": "x5",
         "y": [
          null,
          null,
          null,
          null,
          null,
          null,
          null,
          null,
          null,
          null,
          null,
          null,
          null,
          null
         ],
         "yaxis": "y10"
        },
        {
         "hovertemplate": "Estonia<br>%{x}<br>Import from China: %{y:,.2f}<extra></extra>",
         "line": {
          "dash": "solid"
         },
         "mode": "lines+markers",
         "type": "scatter",
         "x": [
          "2010",
          "2011",
          "2012",
          "2013",
          "2014",
          "2015",
          "2016",
          "2017",
          "2018",
          "2019",
          "2020",
          "2021",
          "2022",
          "2023"
         ],
         "xaxis": "x6",
         "y": [
          921924050,
          1419981000,
          1412968586,
          1465546691,
          1506153282,
          1262875980,
          2601014598.442,
          2953436804.041,
          3339304420.978,
          3026122557.58,
          3306489358.92,
          4216846333.52,
          4806761168.58,
          4344342807.42
         ],
         "yaxis": "y11"
        },
        {
         "hovertemplate": "Estonia<br>%{x}<br>Debt Ratio (% of GDP): %{y:,.2f}<extra></extra>",
         "line": {
          "dash": "dot"
         },
         "mode": "lines+markers",
         "type": "scatter",
         "x": [
          "2010",
          "2011",
          "2012",
          "2013",
          "2014",
          "2015",
          "2016",
          "2017",
          "2018",
          "2019",
          "2020",
          "2021",
          "2022",
          "2023"
         ],
         "xaxis": "x6",
         "y": [
          8.96568294463499,
          7.16885826942615,
          14.5041408926927,
          14.6301007382315,
          14.4483977377516,
          13.3135753206017,
          13.7050142821031,
          13.1349085764879,
          13.1736054942963,
          13.8075698975519,
          24.3854033747954,
          24.5944842740264,
          25.9834554447716,
          28.2527574202604
         ],
         "yaxis": "y12"
        },
        {
         "hovertemplate": "France<br>%{x}<br>Import from China: %{y:,.2f}<extra></extra>",
         "line": {
          "dash": "solid"
         },
         "mode": "lines+markers",
         "type": "scatter",
         "x": [
          "2010",
          "2011",
          "2012",
          "2013",
          "2014",
          "2015",
          "2016",
          "2017",
          "2018",
          "2019",
          "2020",
          "2021",
          "2022",
          "2023"
         ],
         "xaxis": "x7",
         "y": [
          48872681511,
          57431105723,
          53458273330,
          54221962983,
          56416479646,
          51871364118,
          51032597789,
          55401050257.348,
          59036932917.327,
          59564010774.077,
          41096131586.021,
          48189354261.874,
          51751166163.549,
          44858574684.799
         ],
         "yaxis": "y13"
        },
        {
         "hovertemplate": "France<br>%{x}<br>Debt Ratio (% of GDP): %{y:,.2f}<extra></extra>",
         "line": {
          "dash": "dot"
         },
         "mode": "lines+markers",
         "type": "scatter",
         "x": [
          "2010",
          "2011",
          "2012",
          "2013",
          "2014",
          "2015",
          "2016",
          "2017",
          "2018",
          "2019",
          "2020",
          "2021",
          "2022",
          "2023"
         ],
         "xaxis": "x7",
         "y": [
          81.5839043330584,
          83.3376896463065,
          91.0281619856124,
          92.6322654272623,
          99.72897755994,
          100.312637185328,
          103.318270583925,
          104.034964734395,
          103.380973835538,
          104.541768405548,
          122.181515731387,
          115.58850689623,
          96.7764980125667,
          98.4729036917015
         ],
         "yaxis": "y14"
        },
        {
         "hovertemplate": "Greece<br>%{x}<br>Import from China: %{y:,.2f}<extra></extra>",
         "line": {
          "dash": "solid"
         },
         "mode": "lines+markers",
         "type": "scatter",
         "x": [
          "2010",
          "2011",
          "2012",
          "2013",
          "2014",
          "2015",
          "2016",
          "2017",
          "2018",
          "2019",
          "2020",
          "2021",
          "2022",
          "2023"
         ],
         "xaxis": "x8",
         "y": [
          3797414605,
          3467938901,
          2944646704,
          2914166574,
          3313757754,
          2831346469,
          3194687236,
          3070606079.374,
          4241221017.185,
          4546496425.066,
          4275097434.878,
          5924661601.138,
          8327452143.694,
          7461352914.941
         ],
         "yaxis": "y15"
        },
        {
         "hovertemplate": "Greece<br>%{x}<br>Debt Ratio (% of GDP): %{y:,.2f}<extra></extra>",
         "line": {
          "dash": "dot"
         },
         "mode": "lines+markers",
         "type": "scatter",
         "x": [
          "2010",
          "2011",
          "2012",
          "2013",
          "2014",
          "2015",
          "2016",
          "2017",
          "2018",
          "2019",
          "2020",
          "2021",
          "2022",
          "2023"
         ],
         "xaxis": "x8",
         "y": [
          136.928187116935,
          116.116344893868,
          170.278178335433,
          187.608117967348,
          190.585867838051,
          190.301552874834,
          194.725367879293,
          198.458598610991,
          207.661903904942,
          210.381371566225,
          249.366027184106,
          233.448695008579,
          202.480392684901,
          190.608142099084
         ],
         "yaxis": "y16"
        },
        {
         "hovertemplate": "Hungary<br>%{x}<br>Import from China: %{y:,.2f}<extra></extra>",
         "line": {
          "dash": "solid"
         },
         "mode": "lines+markers",
         "type": "scatter",
         "x": [
          "2010",
          "2011",
          "2012",
          "2013",
          "2014",
          "2015",
          "2016",
          "2017",
          "2018",
          "2019",
          "2020",
          "2021",
          "2022",
          "2023"
         ],
         "xaxis": "x9",
         "y": [
          6173901000,
          6079151000,
          5412282799,
          5360437378,
          5140096968,
          4776876860,
          9733931260,
          5291299783,
          12754696524,
          14315795000,
          18034120756,
          19650807462,
          21467127614,
          19578500108
         ],
         "yaxis": "y17"
        },
        {
         "hovertemplate": "Hungary<br>%{x}<br>Debt Ratio (% of GDP): %{y:,.2f}<extra></extra>",
         "line": {
          "dash": "dot"
         },
         "mode": "lines+markers",
         "type": "scatter",
         "x": [
          "2010",
          "2011",
          "2012",
          "2013",
          "2014",
          "2015",
          "2016",
          "2017",
          "2018",
          "2019",
          "2020",
          "2021",
          "2022",
          "2023"
         ],
         "xaxis": "x9",
         "y": [
          81.2817151464614,
          90.562544900341,
          94.1475132059307,
          94.7331902055697,
          98.6713309160176,
          96.3973535639551,
          96.77762376685,
          91.9872247713716,
          86.5296515914666,
          83.3683015926417,
          95.9372022493216,
          86.9236862466223,
          75.5259534751362,
          null
         ],
         "yaxis": "y18"
        },
        {
         "hovertemplate": "Iceland<br>%{x}<br>Import from China: %{y:,.2f}<extra></extra>",
         "line": {
          "dash": "solid"
         },
         "mode": "lines+markers",
         "type": "scatter",
         "x": [
          "2010",
          "2011",
          "2012",
          "2013",
          "2014",
          "2015",
          "2016",
          "2017",
          "2018",
          "2019",
          "2020",
          "2021",
          "2022",
          "2023"
         ],
         "xaxis": "x10",
         "y": [
          235665462,
          303031245,
          341502602,
          391969275,
          397510600,
          414334776,
          419223668,
          483220208.436,
          680314734.922,
          485664372.456,
          480796151.99,
          694912863.846,
          903493842.864,
          826643221.73
         ],
         "yaxis": "y19"
        },
        {
         "hovertemplate": "Iceland<br>%{x}<br>Debt Ratio (% of GDP): %{y:,.2f}<extra></extra>",
         "line": {
          "dash": "dot"
         },
         "mode": "lines+markers",
         "type": "scatter",
         "x": [
          "2010",
          "2011",
          "2012",
          "2013",
          "2014",
          "2015",
          "2016",
          "2017",
          "2018",
          "2019",
          "2020",
          "2021",
          "2022",
          "2023"
         ],
         "xaxis": "x10",
         "y": [
          150.633812484101,
          156.915918249342,
          152.739624546059,
          140.954580207259,
          135.796521914069,
          117.370839587281,
          103.362423152956,
          90.4444869015692,
          81.9621967417907,
          90.1141894663873,
          100.316262095676,
          95.8217048268859,
          86.2909756775551,
          81.0578812308369
         ],
         "yaxis": "y20"
        },
        {
         "hovertemplate": "Ireland<br>%{x}<br>Import from China: %{y:,.2f}<extra></extra>",
         "line": {
          "dash": "solid"
         },
         "mode": "lines+markers",
         "type": "scatter",
         "x": [
          "2010",
          "2011",
          "2012",
          "2013",
          "2014",
          "2015",
          "2016",
          "2017",
          "2018",
          "2019",
          "2020",
          "2021",
          "2022",
          "2023"
         ],
         "xaxis": "x11",
         "y": [
          3336509645.008,
          3578146189.463,
          3547683282.129,
          3997916568.361,
          4499551031.411,
          4765502034.686,
          4581620163.004,
          5004575833.047,
          6275729116.42,
          6185710542.301,
          7477588962.299,
          9996877586.329,
          15193428164.168,
          11553221072.246
         ],
         "yaxis": "y21"
        },
        {
         "hovertemplate": "Ireland<br>%{x}<br>Debt Ratio (% of GDP): %{y:,.2f}<extra></extra>",
         "line": {
          "dash": "dot"
         },
         "mode": "lines+markers",
         "type": "scatter",
         "x": [
          "2010",
          "2011",
          "2012",
          "2013",
          "2014",
          "2015",
          "2016",
          "2017",
          "2018",
          "2019",
          "2020",
          "2021",
          "2022",
          "2023"
         ],
         "xaxis": "x11",
         "y": [
          82.4653136911507,
          110.569372265448,
          128.785045575103,
          129.108632155252,
          117.757439976442,
          85.4579233139236,
          83.488524641017,
          73.9850227274131,
          73.3536674722741,
          68.2101531884769,
          70.0047790053242,
          62.1665685484345,
          45.400258888176,
          null
         ],
         "yaxis": "y22"
        },
        {
         "hovertemplate": "Japan<br>%{x}<br>Import from China: %{y:,.2f}<extra></extra>",
         "line": {
          "dash": "solid"
         },
         "mode": "lines+markers",
         "type": "scatter",
         "x": [
          "2010",
          "2011",
          "2012",
          "2013",
          "2014",
          "2015",
          "2016",
          "2017",
          "2018",
          "2019",
          "2020",
          "2021",
          "2022",
          "2023"
         ],
         "xaxis": "x12",
         "y": [
          153203233770,
          183882189759,
          188500370264,
          180977514211,
          181294159255,
          160559698699,
          156552583048,
          164543433301.953,
          173716566952.912,
          169295821037.71,
          163850555245.582,
          185664476693.582,
          188857701313.612,
          168056752298.053
         ],
         "yaxis": "y23"
        },
        {
         "hovertemplate": "Japan<br>%{x}<br>Debt Ratio (% of GDP): %{y:,.2f}<extra></extra>",
         "line": {
          "dash": "dot"
         },
         "mode": "lines+markers",
         "type": "scatter",
         "x": [
          "2010",
          "2011",
          "2012",
          "2013",
          "2014",
          "2015",
          "2016",
          "2017",
          "2018",
          "2019",
          "2020",
          "2021",
          "2022",
          "2023"
         ],
         "xaxis": "x12",
         "y": [
          160.498098433606,
          175.567641219028,
          183.706209324867,
          186.564297348971,
          192.112850344345,
          194.584061217143,
          193.23043783523,
          193.489159658852,
          197.335609410989,
          198.010309174872,
          215.755540579043,
          216.329364856741,
          216.213375459903,
          null
         ],
         "yaxis": "y24"
        },
        {
         "hovertemplate": "Lithuania<br>%{x}<br>Import from China: %{y:,.2f}<extra></extra>",
         "line": {
          "dash": "solid"
         },
         "mode": "lines+markers",
         "type": "scatter",
         "x": [
          "2010",
          "2011",
          "2012",
          "2013",
          "2014",
          "2015",
          "2016",
          "2017",
          "2018",
          "2019",
          "2020",
          "2021",
          "2022",
          "2023"
         ],
         "xaxis": "x13",
         "y": [
          570238922,
          628314685,
          681588094,
          750783908,
          884211851,
          806015898,
          784256814.99,
          929395701.95,
          1009313530,
          1039963804,
          1336895926,
          1855223041.99,
          2088639733,
          1845974137
         ],
         "yaxis": "y25"
        },
        {
         "hovertemplate": "Lithuania<br>%{x}<br>Debt Ratio (% of GDP): %{y:,.2f}<extra></extra>",
         "line": {
          "dash": "dot"
         },
         "mode": "lines+markers",
         "type": "scatter",
         "x": [
          "2010",
          "2011",
          "2012",
          "2013",
          "2014",
          "2015",
          "2016",
          "2017",
          "2018",
          "2019",
          "2020",
          "2021",
          "2022",
          "2023"
         ],
         "xaxis": "x13",
         "y": [
          41.8012709485019,
          41.4084048325207,
          47.4575104035203,
          45.0676028896806,
          48.5816817622371,
          49.4373317773801,
          47.7462820347167,
          44.8859433184755,
          38.0791689976833,
          41.7982343469891,
          52.3554078518907,
          47.9378829041006,
          35.9357842383235,
          36.9310516393631
         ],
         "yaxis": "y26"
        },
        {
         "hovertemplate": "New Zealand<br>%{x}<br>Import from China: %{y:,.2f}<extra></extra>",
         "line": {
          "dash": "solid"
         },
         "mode": "lines+markers",
         "type": "scatter",
         "x": [
          "2010",
          "2011",
          "2012",
          "2013",
          "2014",
          "2015",
          "2016",
          "2017",
          "2018",
          "2019",
          "2020",
          "2021",
          "2022",
          "2023"
         ],
         "xaxis": "x14",
         "y": [
          4872407772.413,
          5876729911.21,
          6248986386.151,
          6770766523.427,
          7198993138.419,
          7146236998.723,
          7203337601.777,
          7748410971.97,
          8643468142.917,
          8542972033.747,
          8296252307.32,
          11774053083.663,
          12686967649.288,
          10456232285.786
         ],
         "yaxis": "y27"
        },
        {
         "hovertemplate": "New Zealand<br>%{x}<br>Debt Ratio (% of GDP): %{y:,.2f}<extra></extra>",
         "line": {
          "dash": "dot"
         },
         "mode": "lines+markers",
         "type": "scatter",
         "x": [
          "2010",
          "2011",
          "2012",
          "2013",
          "2014",
          "2015",
          "2016",
          "2017",
          "2018",
          "2019",
          "2020",
          "2021",
          "2022",
          "2023"
         ],
         "xaxis": "x14",
         "y": [
          34.8105506978391,
          48.135830634183,
          51.6565054668175,
          46.4495246931876,
          43.9103004132691,
          42.9302575989538,
          41.4034426972586,
          38.6627179042666,
          36.6308100322367,
          32.7886249322913,
          46.1185059391692,
          51.369754769912,
          54.5666722344428,
          null
         ],
         "yaxis": "y28"
        },
        {
         "hovertemplate": "Slovak Republic<br>%{x}<br>Import from China: %{y:,.2f}<extra></extra>",
         "line": {
          "dash": "solid"
         },
         "mode": "lines+markers",
         "type": "scatter",
         "x": [
          "2010",
          "2011",
          "2012",
          "2013",
          "2014",
          "2015",
          "2016",
          "2017",
          "2018",
          "2019",
          "2020",
          "2021",
          "2022",
          "2023"
         ],
         "xaxis": "x15",
         "y": [
          8068201925.268,
          9515351622.122,
          9762565899.442,
          12224399631.133,
          13355685131.945,
          12938020676.893,
          12692954332.058,
          12204313072.456,
          11093290728.218,
          11569210952.95,
          11465445816.322,
          15312075755.062,
          17445420202.462,
          17063802064.596
         ],
         "yaxis": "y29"
        },
        {
         "hovertemplate": "Slovak Republic<br>%{x}<br>Debt Ratio (% of GDP): %{y:,.2f}<extra></extra>",
         "line": {
          "dash": "dot"
         },
         "mode": "lines+markers",
         "type": "scatter",
         "x": [
          "2010",
          "2011",
          "2012",
          "2013",
          "2014",
          "2015",
          "2016",
          "2017",
          "2018",
          "2019",
          "2020",
          "2021",
          "2022",
          "2023"
         ],
         "xaxis": "x15",
         "y": [
          45.5854609215903,
          48.6865522353748,
          58.4255976190845,
          63.0838478435478,
          65.7022973447767,
          64.6326174204545,
          66.125877039885,
          64.1338449914943,
          63.5000460975992,
          63.0335112883596,
          77.6028833494382,
          77.5153959377722,
          64.3157885777548,
          null
         ],
         "yaxis": "y30"
        },
        {
         "hovertemplate": "Spain<br>%{x}<br>Import from China: %{y:,.2f}<extra></extra>",
         "line": {
          "dash": "solid"
         },
         "mode": "lines+markers",
         "type": "scatter",
         "x": [
          "2010",
          "2011",
          "2012",
          "2013",
          "2014",
          "2015",
          "2016",
          "2017",
          "2018",
          "2019",
          "2020",
          "2021",
          "2022",
          "2023"
         ],
         "xaxis": "x16",
         "y": [
          50142730981.153,
          52041127801.01,
          45796971467.975,
          46266777871.711,
          52971625587.906,
          52485766998.356,
          52757593558.974,
          58358138609.45,
          63594813126.837,
          65275451323.016,
          67020355926.633,
          82400696121.752,
          104401418354.515,
          95110792305.498
         ],
         "yaxis": "y31"
        },
        {
         "hovertemplate": "Spain<br>%{x}<br>Debt Ratio (% of GDP): %{y:,.2f}<extra></extra>",
         "line": {
          "dash": "dot"
         },
         "mode": "lines+markers",
         "type": "scatter",
         "x": [
          "2010",
          "2011",
          "2012",
          "2013",
          "2014",
          "2015",
          "2016",
          "2017",
          "2018",
          "2019",
          "2020",
          "2021",
          "2022",
          "2023"
         ],
         "xaxis": "x16",
         "y": [
          49.9611949485467,
          57.7899857640377,
          77.446159411603,
          91.8693310672975,
          104.927837414283,
          104.513601500945,
          105.968137016467,
          106.577780516625,
          107.203121919581,
          111.293101240882,
          138.955245532848,
          132.546759027224,
          109.217961229509,
          107.25996894973
         ],
         "yaxis": "y32"
        },
        {
         "hovertemplate": "Sweden<br>%{x}<br>Import from China: %{y:,.2f}<extra></extra>",
         "line": {
          "dash": "solid"
         },
         "mode": "lines+markers",
         "type": "scatter",
         "x": [
          "2010",
          "2011",
          "2012",
          "2013",
          "2014",
          "2015",
          "2016",
          "2017",
          "2018",
          "2019",
          "2020",
          "2021",
          "2022",
          "2023"
         ],
         "xaxis": "x17",
         "y": [
          7407657439,
          6845032635,
          8053266091.978,
          8197296165.93,
          8695062124.562,
          8216406647.392,
          7876689498.15,
          8401806026.269,
          9059114642.325,
          9665745204.406,
          9248034307.204,
          12908672793.53,
          14321195058.686,
          11054665018.998
         ],
         "yaxis": "y33"
        },
        {
         "hovertemplate": "Sweden<br>%{x}<br>Debt Ratio (% of GDP): %{y:,.2f}<extra></extra>",
         "line": {
          "dash": "dot"
         },
         "mode": "lines+markers",
         "type": "scatter",
         "x": [
          "2010",
          "2011",
          "2012",
          "2013",
          "2014",
          "2015",
          "2016",
          "2017",
          "2018",
          "2019",
          "2020",
          "2021",
          "2022",
          "2023"
         ],
         "xaxis": "x17",
         "y": [
          43.5707586390208,
          43.9567484111978,
          43.7272319165571,
          45.3793882460787,
          49.8169253192044,
          47.7563038415595,
          46.3170822116813,
          44.3525255912895,
          42.5823207006916,
          38.7948169871001,
          44.1780067548593,
          40.6550853120913,
          36.9103515627997,
          null
         ],
         "yaxis": "y34"
        },
        {
         "hovertemplate": "United Kingdom<br>%{x}<br>Import from China: %{y:,.2f}<extra></extra>",
         "line": {
          "dash": "solid"
         },
         "mode": "lines+markers",
         "type": "scatter",
         "x": [
          "2010",
          "2011",
          "2012",
          "2013",
          "2014",
          "2015",
          "2016",
          "2017",
          "2018",
          "2019",
          "2020",
          "2021",
          "2022",
          "2023"
         ],
         "xaxis": "x18",
         "y": [
          61733671529,
          66039713607,
          56267400219,
          57587864581,
          64147253698,
          62979613764,
          59575883133,
          59860984044.661,
          63391696591.004,
          65529528079.325,
          75478932256.567,
          91162191832.604,
          110328925110.132,
          99220998768.775
         ],
         "yaxis": "y35"
        },
        {
         "hovertemplate": "United Kingdom<br>%{x}<br>Debt Ratio (% of GDP): %{y:,.2f}<extra></extra>",
         "line": {
          "dash": "dot"
         },
         "mode": "lines+markers",
         "type": "scatter",
         "x": [
          "2010",
          "2011",
          "2012",
          "2013",
          "2014",
          "2015",
          "2016",
          "2017",
          "2018",
          "2019",
          "2020",
          "2021",
          "2022",
          "2023"
         ],
         "xaxis": "x18",
         "y": [
          131.087940527915,
          143.759014549588,
          147.053681621506,
          141.643327770171,
          150.591619713999,
          147.949412742616,
          156.604465153177,
          161.26972526053,
          158.16278741293,
          160.321918277325,
          196.640576642773,
          186.794915550888,
          141.244397228023,
          138.193489848821
         ],
         "yaxis": "y36"
        },
        {
         "hovertemplate": "United States<br>%{x}<br>Import from China: %{y:,.2f}<extra></extra>",
         "line": {
          "dash": "solid"
         },
         "mode": "lines+markers",
         "type": "scatter",
         "x": [
          "2010",
          "2011",
          "2012",
          "2013",
          "2014",
          "2015",
          "2016",
          "2017",
          "2018",
          "2019",
          "2020",
          "2021",
          "2022",
          "2023"
         ],
         "xaxis": "x19",
         "y": [
          382964820324,
          417340261542,
          444386003526,
          459107864232,
          486296238006,
          504028116963,
          481310447998,
          525764714470,
          563203119540,
          472464913744,
          457164215509,
          541531352242,
          575688091172,
          448017376384
         ],
         "yaxis": "y37"
        },
        {
         "hovertemplate": "United States<br>%{x}<br>Debt Ratio (% of GDP): %{y:,.2f}<extra></extra>",
         "line": {
          "dash": "dot"
         },
         "mode": "lines+markers",
         "type": "scatter",
         "x": [
          "2010",
          "2011",
          "2012",
          "2013",
          "2014",
          "2015",
          "2016",
          "2017",
          "2018",
          "2019",
          "2020",
          "2021",
          "2022",
          "2023"
         ],
         "xaxis": "x19",
         "y": [
          84.9643739761343,
          89.5467947782693,
          93.6492746079881,
          95.3225056118879,
          95.454198507531,
          95.9561561537597,
          97.9289348480368,
          97.021634906855,
          98.4497724592085,
          100.058217318845,
          124.514696354635,
          118.400948162572,
          112.817613391957,
          114.755553330184
         ],
         "yaxis": "y38"
        }
       ],
       "layout": {
        "annotations": [
         {
          "font": {
           "size": 16
          },
          "showarrow": false,
          "text": "Australia",
          "x": 0.07999999999999999,
          "xanchor": "center",
          "xref": "paper",
          "y": 0.9999999999999999,
          "yanchor": "bottom",
          "yref": "paper"
         },
         {
          "font": {
           "size": 16
          },
          "showarrow": false,
          "text": "Austria",
          "x": 0.33999999999999997,
          "xanchor": "center",
          "xref": "paper",
          "y": 0.9999999999999999,
          "yanchor": "bottom",
          "yref": "paper"
         },
         {
          "font": {
           "size": 16
          },
          "showarrow": false,
          "text": "Belgium",
          "x": 0.6,
          "xanchor": "center",
          "xref": "paper",
          "y": 0.9999999999999999,
          "yanchor": "bottom",
          "yref": "paper"
         },
         {
          "font": {
           "size": 16
          },
          "showarrow": false,
          "text": "Canada",
          "x": 0.86,
          "xanchor": "center",
          "xref": "paper",
          "y": 0.9999999999999999,
          "yanchor": "bottom",
          "yref": "paper"
         },
         {
          "font": {
           "size": 16
          },
          "showarrow": false,
          "text": "Denmark",
          "x": 0.07999999999999999,
          "xanchor": "center",
          "xref": "paper",
          "y": 0.7839999999999999,
          "yanchor": "bottom",
          "yref": "paper"
         },
         {
          "font": {
           "size": 16
          },
          "showarrow": false,
          "text": "Estonia",
          "x": 0.33999999999999997,
          "xanchor": "center",
          "xref": "paper",
          "y": 0.7839999999999999,
          "yanchor": "bottom",
          "yref": "paper"
         },
         {
          "font": {
           "size": 16
          },
          "showarrow": false,
          "text": "France",
          "x": 0.6,
          "xanchor": "center",
          "xref": "paper",
          "y": 0.7839999999999999,
          "yanchor": "bottom",
          "yref": "paper"
         },
         {
          "font": {
           "size": 16
          },
          "showarrow": false,
          "text": "Greece",
          "x": 0.86,
          "xanchor": "center",
          "xref": "paper",
          "y": 0.7839999999999999,
          "yanchor": "bottom",
          "yref": "paper"
         },
         {
          "font": {
           "size": 16
          },
          "showarrow": false,
          "text": "Hungary",
          "x": 0.07999999999999999,
          "xanchor": "center",
          "xref": "paper",
          "y": 0.568,
          "yanchor": "bottom",
          "yref": "paper"
         },
         {
          "font": {
           "size": 16
          },
          "showarrow": false,
          "text": "Iceland",
          "x": 0.33999999999999997,
          "xanchor": "center",
          "xref": "paper",
          "y": 0.568,
          "yanchor": "bottom",
          "yref": "paper"
         },
         {
          "font": {
           "size": 16
          },
          "showarrow": false,
          "text": "Ireland",
          "x": 0.6,
          "xanchor": "center",
          "xref": "paper",
          "y": 0.568,
          "yanchor": "bottom",
          "yref": "paper"
         },
         {
          "font": {
           "size": 16
          },
          "showarrow": false,
          "text": "Japan",
          "x": 0.86,
          "xanchor": "center",
          "xref": "paper",
          "y": 0.568,
          "yanchor": "bottom",
          "yref": "paper"
         },
         {
          "font": {
           "size": 16
          },
          "showarrow": false,
          "text": "Lithuania",
          "x": 0.07999999999999999,
          "xanchor": "center",
          "xref": "paper",
          "y": 0.352,
          "yanchor": "bottom",
          "yref": "paper"
         },
         {
          "font": {
           "size": 16
          },
          "showarrow": false,
          "text": "New Zealand",
          "x": 0.33999999999999997,
          "xanchor": "center",
          "xref": "paper",
          "y": 0.352,
          "yanchor": "bottom",
          "yref": "paper"
         },
         {
          "font": {
           "size": 16
          },
          "showarrow": false,
          "text": "Slovak Republic",
          "x": 0.6,
          "xanchor": "center",
          "xref": "paper",
          "y": 0.352,
          "yanchor": "bottom",
          "yref": "paper"
         },
         {
          "font": {
           "size": 16
          },
          "showarrow": false,
          "text": "Spain",
          "x": 0.86,
          "xanchor": "center",
          "xref": "paper",
          "y": 0.352,
          "yanchor": "bottom",
          "yref": "paper"
         },
         {
          "font": {
           "size": 16
          },
          "showarrow": false,
          "text": "Sweden",
          "x": 0.07999999999999999,
          "xanchor": "center",
          "xref": "paper",
          "y": 0.13599999999999998,
          "yanchor": "bottom",
          "yref": "paper"
         },
         {
          "font": {
           "size": 16
          },
          "showarrow": false,
          "text": "United Kingdom",
          "x": 0.33999999999999997,
          "xanchor": "center",
          "xref": "paper",
          "y": 0.13599999999999998,
          "yanchor": "bottom",
          "yref": "paper"
         },
         {
          "font": {
           "size": 16
          },
          "showarrow": false,
          "text": "United States",
          "x": 0.6,
          "xanchor": "center",
          "xref": "paper",
          "y": 0.13599999999999998,
          "yanchor": "bottom",
          "yref": "paper"
         }
        ],
        "height": 1500,
        "showlegend": false,
        "template": {
         "data": {
          "bar": [
           {
            "error_x": {
             "color": "#2a3f5f"
            },
            "error_y": {
             "color": "#2a3f5f"
            },
            "marker": {
             "line": {
              "color": "#E5ECF6",
              "width": 0.5
             },
             "pattern": {
              "fillmode": "overlay",
              "size": 10,
              "solidity": 0.2
             }
            },
            "type": "bar"
           }
          ],
          "barpolar": [
           {
            "marker": {
             "line": {
              "color": "#E5ECF6",
              "width": 0.5
             },
             "pattern": {
              "fillmode": "overlay",
              "size": 10,
              "solidity": 0.2
             }
            },
            "type": "barpolar"
           }
          ],
          "carpet": [
           {
            "aaxis": {
             "endlinecolor": "#2a3f5f",
             "gridcolor": "white",
             "linecolor": "white",
             "minorgridcolor": "white",
             "startlinecolor": "#2a3f5f"
            },
            "baxis": {
             "endlinecolor": "#2a3f5f",
             "gridcolor": "white",
             "linecolor": "white",
             "minorgridcolor": "white",
             "startlinecolor": "#2a3f5f"
            },
            "type": "carpet"
           }
          ],
          "choropleth": [
           {
            "colorbar": {
             "outlinewidth": 0,
             "ticks": ""
            },
            "type": "choropleth"
           }
          ],
          "contour": [
           {
            "colorbar": {
             "outlinewidth": 0,
             "ticks": ""
            },
            "colorscale": [
             [
              0,
              "#0d0887"
             ],
             [
              0.1111111111111111,
              "#46039f"
             ],
             [
              0.2222222222222222,
              "#7201a8"
             ],
             [
              0.3333333333333333,
              "#9c179e"
             ],
             [
              0.4444444444444444,
              "#bd3786"
             ],
             [
              0.5555555555555556,
              "#d8576b"
             ],
             [
              0.6666666666666666,
              "#ed7953"
             ],
             [
              0.7777777777777778,
              "#fb9f3a"
             ],
             [
              0.8888888888888888,
              "#fdca26"
             ],
             [
              1,
              "#f0f921"
             ]
            ],
            "type": "contour"
           }
          ],
          "contourcarpet": [
           {
            "colorbar": {
             "outlinewidth": 0,
             "ticks": ""
            },
            "type": "contourcarpet"
           }
          ],
          "heatmap": [
           {
            "colorbar": {
             "outlinewidth": 0,
             "ticks": ""
            },
            "colorscale": [
             [
              0,
              "#0d0887"
             ],
             [
              0.1111111111111111,
              "#46039f"
             ],
             [
              0.2222222222222222,
              "#7201a8"
             ],
             [
              0.3333333333333333,
              "#9c179e"
             ],
             [
              0.4444444444444444,
              "#bd3786"
             ],
             [
              0.5555555555555556,
              "#d8576b"
             ],
             [
              0.6666666666666666,
              "#ed7953"
             ],
             [
              0.7777777777777778,
              "#fb9f3a"
             ],
             [
              0.8888888888888888,
              "#fdca26"
             ],
             [
              1,
              "#f0f921"
             ]
            ],
            "type": "heatmap"
           }
          ],
          "heatmapgl": [
           {
            "colorbar": {
             "outlinewidth": 0,
             "ticks": ""
            },
            "colorscale": [
             [
              0,
              "#0d0887"
             ],
             [
              0.1111111111111111,
              "#46039f"
             ],
             [
              0.2222222222222222,
              "#7201a8"
             ],
             [
              0.3333333333333333,
              "#9c179e"
             ],
             [
              0.4444444444444444,
              "#bd3786"
             ],
             [
              0.5555555555555556,
              "#d8576b"
             ],
             [
              0.6666666666666666,
              "#ed7953"
             ],
             [
              0.7777777777777778,
              "#fb9f3a"
             ],
             [
              0.8888888888888888,
              "#fdca26"
             ],
             [
              1,
              "#f0f921"
             ]
            ],
            "type": "heatmapgl"
           }
          ],
          "histogram": [
           {
            "marker": {
             "pattern": {
              "fillmode": "overlay",
              "size": 10,
              "solidity": 0.2
             }
            },
            "type": "histogram"
           }
          ],
          "histogram2d": [
           {
            "colorbar": {
             "outlinewidth": 0,
             "ticks": ""
            },
            "colorscale": [
             [
              0,
              "#0d0887"
             ],
             [
              0.1111111111111111,
              "#46039f"
             ],
             [
              0.2222222222222222,
              "#7201a8"
             ],
             [
              0.3333333333333333,
              "#9c179e"
             ],
             [
              0.4444444444444444,
              "#bd3786"
             ],
             [
              0.5555555555555556,
              "#d8576b"
             ],
             [
              0.6666666666666666,
              "#ed7953"
             ],
             [
              0.7777777777777778,
              "#fb9f3a"
             ],
             [
              0.8888888888888888,
              "#fdca26"
             ],
             [
              1,
              "#f0f921"
             ]
            ],
            "type": "histogram2d"
           }
          ],
          "histogram2dcontour": [
           {
            "colorbar": {
             "outlinewidth": 0,
             "ticks": ""
            },
            "colorscale": [
             [
              0,
              "#0d0887"
             ],
             [
              0.1111111111111111,
              "#46039f"
             ],
             [
              0.2222222222222222,
              "#7201a8"
             ],
             [
              0.3333333333333333,
              "#9c179e"
             ],
             [
              0.4444444444444444,
              "#bd3786"
             ],
             [
              0.5555555555555556,
              "#d8576b"
             ],
             [
              0.6666666666666666,
              "#ed7953"
             ],
             [
              0.7777777777777778,
              "#fb9f3a"
             ],
             [
              0.8888888888888888,
              "#fdca26"
             ],
             [
              1,
              "#f0f921"
             ]
            ],
            "type": "histogram2dcontour"
           }
          ],
          "mesh3d": [
           {
            "colorbar": {
             "outlinewidth": 0,
             "ticks": ""
            },
            "type": "mesh3d"
           }
          ],
          "parcoords": [
           {
            "line": {
             "colorbar": {
              "outlinewidth": 0,
              "ticks": ""
             }
            },
            "type": "parcoords"
           }
          ],
          "pie": [
           {
            "automargin": true,
            "type": "pie"
           }
          ],
          "scatter": [
           {
            "fillpattern": {
             "fillmode": "overlay",
             "size": 10,
             "solidity": 0.2
            },
            "type": "scatter"
           }
          ],
          "scatter3d": [
           {
            "line": {
             "colorbar": {
              "outlinewidth": 0,
              "ticks": ""
             }
            },
            "marker": {
             "colorbar": {
              "outlinewidth": 0,
              "ticks": ""
             }
            },
            "type": "scatter3d"
           }
          ],
          "scattercarpet": [
           {
            "marker": {
             "colorbar": {
              "outlinewidth": 0,
              "ticks": ""
             }
            },
            "type": "scattercarpet"
           }
          ],
          "scattergeo": [
           {
            "marker": {
             "colorbar": {
              "outlinewidth": 0,
              "ticks": ""
             }
            },
            "type": "scattergeo"
           }
          ],
          "scattergl": [
           {
            "marker": {
             "colorbar": {
              "outlinewidth": 0,
              "ticks": ""
             }
            },
            "type": "scattergl"
           }
          ],
          "scattermapbox": [
           {
            "marker": {
             "colorbar": {
              "outlinewidth": 0,
              "ticks": ""
             }
            },
            "type": "scattermapbox"
           }
          ],
          "scatterpolar": [
           {
            "marker": {
             "colorbar": {
              "outlinewidth": 0,
              "ticks": ""
             }
            },
            "type": "scatterpolar"
           }
          ],
          "scatterpolargl": [
           {
            "marker": {
             "colorbar": {
              "outlinewidth": 0,
              "ticks": ""
             }
            },
            "type": "scatterpolargl"
           }
          ],
          "scatterternary": [
           {
            "marker": {
             "colorbar": {
              "outlinewidth": 0,
              "ticks": ""
             }
            },
            "type": "scatterternary"
           }
          ],
          "surface": [
           {
            "colorbar": {
             "outlinewidth": 0,
             "ticks": ""
            },
            "colorscale": [
             [
              0,
              "#0d0887"
             ],
             [
              0.1111111111111111,
              "#46039f"
             ],
             [
              0.2222222222222222,
              "#7201a8"
             ],
             [
              0.3333333333333333,
              "#9c179e"
             ],
             [
              0.4444444444444444,
              "#bd3786"
             ],
             [
              0.5555555555555556,
              "#d8576b"
             ],
             [
              0.6666666666666666,
              "#ed7953"
             ],
             [
              0.7777777777777778,
              "#fb9f3a"
             ],
             [
              0.8888888888888888,
              "#fdca26"
             ],
             [
              1,
              "#f0f921"
             ]
            ],
            "type": "surface"
           }
          ],
          "table": [
           {
            "cells": {
             "fill": {
              "color": "#EBF0F8"
             },
             "line": {
              "color": "white"
             }
            },
            "header": {
             "fill": {
              "color": "#C8D4E3"
             },
             "line": {
              "color": "white"
             }
            },
            "type": "table"
           }
          ]
         },
         "layout": {
          "annotationdefaults": {
           "arrowcolor": "#2a3f5f",
           "arrowhead": 0,
           "arrowwidth": 1
          },
          "autotypenumbers": "strict",
          "coloraxis": {
           "colorbar": {
            "outlinewidth": 0,
            "ticks": ""
           }
          },
          "colorscale": {
           "diverging": [
            [
             0,
             "#8e0152"
            ],
            [
             0.1,
             "#c51b7d"
            ],
            [
             0.2,
             "#de77ae"
            ],
            [
             0.3,
             "#f1b6da"
            ],
            [
             0.4,
             "#fde0ef"
            ],
            [
             0.5,
             "#f7f7f7"
            ],
            [
             0.6,
             "#e6f5d0"
            ],
            [
             0.7,
             "#b8e186"
            ],
            [
             0.8,
             "#7fbc41"
            ],
            [
             0.9,
             "#4d9221"
            ],
            [
             1,
             "#276419"
            ]
           ],
           "sequential": [
            [
             0,
             "#0d0887"
            ],
            [
             0.1111111111111111,
             "#46039f"
            ],
            [
             0.2222222222222222,
             "#7201a8"
            ],
            [
             0.3333333333333333,
             "#9c179e"
            ],
            [
             0.4444444444444444,
             "#bd3786"
            ],
            [
             0.5555555555555556,
             "#d8576b"
            ],
            [
             0.6666666666666666,
             "#ed7953"
            ],
            [
             0.7777777777777778,
             "#fb9f3a"
            ],
            [
             0.8888888888888888,
             "#fdca26"
            ],
            [
             1,
             "#f0f921"
            ]
           ],
           "sequentialminus": [
            [
             0,
             "#0d0887"
            ],
            [
             0.1111111111111111,
             "#46039f"
            ],
            [
             0.2222222222222222,
             "#7201a8"
            ],
            [
             0.3333333333333333,
             "#9c179e"
            ],
            [
             0.4444444444444444,
             "#bd3786"
            ],
            [
             0.5555555555555556,
             "#d8576b"
            ],
            [
             0.6666666666666666,
             "#ed7953"
            ],
            [
             0.7777777777777778,
             "#fb9f3a"
            ],
            [
             0.8888888888888888,
             "#fdca26"
            ],
            [
             1,
             "#f0f921"
            ]
           ]
          },
          "colorway": [
           "#636efa",
           "#EF553B",
           "#00cc96",
           "#ab63fa",
           "#FFA15A",
           "#19d3f3",
           "#FF6692",
           "#B6E880",
           "#FF97FF",
           "#FECB52"
          ],
          "font": {
           "color": "#2a3f5f"
          },
          "geo": {
           "bgcolor": "white",
           "lakecolor": "white",
           "landcolor": "#E5ECF6",
           "showlakes": true,
           "showland": true,
           "subunitcolor": "white"
          },
          "hoverlabel": {
           "align": "left"
          },
          "hovermode": "closest",
          "mapbox": {
           "style": "light"
          },
          "paper_bgcolor": "white",
          "plot_bgcolor": "#E5ECF6",
          "polar": {
           "angularaxis": {
            "gridcolor": "white",
            "linecolor": "white",
            "ticks": ""
           },
           "bgcolor": "#E5ECF6",
           "radialaxis": {
            "gridcolor": "white",
            "linecolor": "white",
            "ticks": ""
           }
          },
          "scene": {
           "xaxis": {
            "backgroundcolor": "#E5ECF6",
            "gridcolor": "white",
            "gridwidth": 2,
            "linecolor": "white",
            "showbackground": true,
            "ticks": "",
            "zerolinecolor": "white"
           },
           "yaxis": {
            "backgroundcolor": "#E5ECF6",
            "gridcolor": "white",
            "gridwidth": 2,
            "linecolor": "white",
            "showbackground": true,
            "ticks": "",
            "zerolinecolor": "white"
           },
           "zaxis": {
            "backgroundcolor": "#E5ECF6",
            "gridcolor": "white",
            "gridwidth": 2,
            "linecolor": "white",
            "showbackground": true,
            "ticks": "",
            "zerolinecolor": "white"
           }
          },
          "shapedefaults": {
           "line": {
            "color": "#2a3f5f"
           }
          },
          "ternary": {
           "aaxis": {
            "gridcolor": "white",
            "linecolor": "white",
            "ticks": ""
           },
           "baxis": {
            "gridcolor": "white",
            "linecolor": "white",
            "ticks": ""
           },
           "bgcolor": "#E5ECF6",
           "caxis": {
            "gridcolor": "white",
            "linecolor": "white",
            "ticks": ""
           }
          },
          "title": {
           "x": 0.05
          },
          "xaxis": {
           "automargin": true,
           "gridcolor": "white",
           "linecolor": "white",
           "ticks": "",
           "title": {
            "standoff": 15
           },
           "zerolinecolor": "white",
           "zerolinewidth": 2
          },
          "yaxis": {
           "automargin": true,
           "gridcolor": "white",
           "linecolor": "white",
           "ticks": "",
           "title": {
            "standoff": 15
           },
           "zerolinecolor": "white",
           "zerolinewidth": 2
          }
         }
        },
        "title": {
         "text": "Import from China, GDP per Capita, and Debt Ratio (2010–2023)<br><sup>Debt Ratio uses a separate y-axis</sup>"
        },
        "xaxis": {
         "anchor": "y",
         "domain": [
          0,
          0.15999999999999998
         ],
         "type": "category"
        },
        "xaxis10": {
         "anchor": "y19",
         "domain": [
          0.26,
          0.42
         ],
         "type": "category"
        },
        "xaxis11": {
         "anchor": "y21",
         "domain": [
          0.52,
          0.6799999999999999
         ],
         "type": "category"
        },
        "xaxis12": {
         "anchor": "y23",
         "domain": [
          0.78,
          0.94
         ],
         "type": "category"
        },
        "xaxis13": {
         "anchor": "y25",
         "domain": [
          0,
          0.15999999999999998
         ],
         "type": "category"
        },
        "xaxis14": {
         "anchor": "y27",
         "domain": [
          0.26,
          0.42
         ],
         "type": "category"
        },
        "xaxis15": {
         "anchor": "y29",
         "domain": [
          0.52,
          0.6799999999999999
         ],
         "type": "category"
        },
        "xaxis16": {
         "anchor": "y31",
         "domain": [
          0.78,
          0.94
         ],
         "type": "category"
        },
        "xaxis17": {
         "anchor": "y33",
         "domain": [
          0,
          0.15999999999999998
         ],
         "type": "category"
        },
        "xaxis18": {
         "anchor": "y35",
         "domain": [
          0.26,
          0.42
         ],
         "type": "category"
        },
        "xaxis19": {
         "anchor": "y37",
         "domain": [
          0.52,
          0.6799999999999999
         ],
         "type": "category"
        },
        "xaxis2": {
         "anchor": "y3",
         "domain": [
          0.26,
          0.42
         ],
         "type": "category"
        },
        "xaxis20": {
         "anchor": "y39",
         "domain": [
          0.78,
          0.94
         ],
         "type": "category"
        },
        "xaxis3": {
         "anchor": "y5",
         "domain": [
          0.52,
          0.6799999999999999
         ],
         "type": "category"
        },
        "xaxis4": {
         "anchor": "y7",
         "domain": [
          0.78,
          0.94
         ],
         "type": "category"
        },
        "xaxis5": {
         "anchor": "y9",
         "domain": [
          0,
          0.15999999999999998
         ],
         "type": "category"
        },
        "xaxis6": {
         "anchor": "y11",
         "domain": [
          0.26,
          0.42
         ],
         "type": "category"
        },
        "xaxis7": {
         "anchor": "y13",
         "domain": [
          0.52,
          0.6799999999999999
         ],
         "type": "category"
        },
        "xaxis8": {
         "anchor": "y15",
         "domain": [
          0.78,
          0.94
         ],
         "type": "category"
        },
        "xaxis9": {
         "anchor": "y17",
         "domain": [
          0,
          0.15999999999999998
         ],
         "type": "category"
        },
        "yaxis": {
         "anchor": "x",
         "domain": [
          0.8639999999999999,
          0.9999999999999999
         ]
        },
        "yaxis10": {
         "anchor": "x5",
         "overlaying": "y9",
         "side": "right"
        },
        "yaxis11": {
         "anchor": "x6",
         "domain": [
          0.6479999999999999,
          0.7839999999999999
         ]
        },
        "yaxis12": {
         "anchor": "x6",
         "overlaying": "y11",
         "side": "right"
        },
        "yaxis13": {
         "anchor": "x7",
         "domain": [
          0.6479999999999999,
          0.7839999999999999
         ]
        },
        "yaxis14": {
         "anchor": "x7",
         "overlaying": "y13",
         "side": "right"
        },
        "yaxis15": {
         "anchor": "x8",
         "domain": [
          0.6479999999999999,
          0.7839999999999999
         ]
        },
        "yaxis16": {
         "anchor": "x8",
         "overlaying": "y15",
         "side": "right"
        },
        "yaxis17": {
         "anchor": "x9",
         "domain": [
          0.43199999999999994,
          0.568
         ]
        },
        "yaxis18": {
         "anchor": "x9",
         "overlaying": "y17",
         "side": "right"
        },
        "yaxis19": {
         "anchor": "x10",
         "domain": [
          0.43199999999999994,
          0.568
         ]
        },
        "yaxis2": {
         "anchor": "x",
         "overlaying": "y",
         "side": "right"
        },
        "yaxis20": {
         "anchor": "x10",
         "overlaying": "y19",
         "side": "right"
        },
        "yaxis21": {
         "anchor": "x11",
         "domain": [
          0.43199999999999994,
          0.568
         ]
        },
        "yaxis22": {
         "anchor": "x11",
         "overlaying": "y21",
         "side": "right"
        },
        "yaxis23": {
         "anchor": "x12",
         "domain": [
          0.43199999999999994,
          0.568
         ]
        },
        "yaxis24": {
         "anchor": "x12",
         "overlaying": "y23",
         "side": "right"
        },
        "yaxis25": {
         "anchor": "x13",
         "domain": [
          0.21599999999999997,
          0.352
         ]
        },
        "yaxis26": {
         "anchor": "x13",
         "overlaying": "y25",
         "side": "right"
        },
        "yaxis27": {
         "anchor": "x14",
         "domain": [
          0.21599999999999997,
          0.352
         ]
        },
        "yaxis28": {
         "anchor": "x14",
         "overlaying": "y27",
         "side": "right"
        },
        "yaxis29": {
         "anchor": "x15",
         "domain": [
          0.21599999999999997,
          0.352
         ]
        },
        "yaxis3": {
         "anchor": "x2",
         "domain": [
          0.8639999999999999,
          0.9999999999999999
         ]
        },
        "yaxis30": {
         "anchor": "x15",
         "overlaying": "y29",
         "side": "right"
        },
        "yaxis31": {
         "anchor": "x16",
         "domain": [
          0.21599999999999997,
          0.352
         ]
        },
        "yaxis32": {
         "anchor": "x16",
         "overlaying": "y31",
         "side": "right"
        },
        "yaxis33": {
         "anchor": "x17",
         "domain": [
          0,
          0.13599999999999998
         ]
        },
        "yaxis34": {
         "anchor": "x17",
         "overlaying": "y33",
         "side": "right"
        },
        "yaxis35": {
         "anchor": "x18",
         "domain": [
          0,
          0.13599999999999998
         ]
        },
        "yaxis36": {
         "anchor": "x18",
         "overlaying": "y35",
         "side": "right"
        },
        "yaxis37": {
         "anchor": "x19",
         "domain": [
          0,
          0.13599999999999998
         ]
        },
        "yaxis38": {
         "anchor": "x19",
         "overlaying": "y37",
         "side": "right"
        },
        "yaxis39": {
         "anchor": "x20",
         "domain": [
          0,
          0.13599999999999998
         ]
        },
        "yaxis4": {
         "anchor": "x2",
         "overlaying": "y3",
         "side": "right"
        },
        "yaxis40": {
         "anchor": "x20",
         "overlaying": "y39",
         "side": "right"
        },
        "yaxis5": {
         "anchor": "x3",
         "domain": [
          0.8639999999999999,
          0.9999999999999999
         ]
        },
        "yaxis6": {
         "anchor": "x3",
         "overlaying": "y5",
         "side": "right"
        },
        "yaxis7": {
         "anchor": "x4",
         "domain": [
          0.8639999999999999,
          0.9999999999999999
         ]
        },
        "yaxis8": {
         "anchor": "x4",
         "overlaying": "y7",
         "side": "right"
        },
        "yaxis9": {
         "anchor": "x5",
         "domain": [
          0.6479999999999999,
          0.7839999999999999
         ]
        }
       }
      }
     },
     "metadata": {},
     "output_type": "display_data"
    }
   ],
   "source": [
    "# Load from CSV or download fresh data\n",
    "analyzer = TradeDebtAnalyzer(csv_path='df_final.csv')\n",
    "\n",
    "# Plot all country-level time series\n",
    "analyzer.plot()"
   ]
  },
  {
   "cell_type": "markdown",
   "id": "ac1c894a",
   "metadata": {},
   "source": [
    "For countries like US and UK, there seems to be a positive relation between debt to gdp ratio and import value from China."
   ]
  },
  {
   "cell_type": "markdown",
   "id": "d74e3bca",
   "metadata": {},
   "source": [
    "# 3 Regression\n",
    "I regress the debt as gdp ratio to import from China, controlling for the country's per capita gdp, time and country fixed effect."
   ]
  },
  {
   "cell_type": "code",
   "execution_count": 5,
   "id": "a00d9bab",
   "metadata": {},
   "outputs": [
    {
     "name": "stdout",
     "output_type": "stream",
     "text": [
      "                            PanelOLS Estimation Summary                            \n",
      "===================================================================================\n",
      "Dep. Variable:     Debt Ratio (% of GDP)   R-squared:                        0.3070\n",
      "Estimator:                      PanelOLS   R-squared (Between):             -1.7979\n",
      "No. Observations:                    244   R-squared (Within):               0.0676\n",
      "Date:                   Sun, Jun 01 2025   R-squared (Overall):             -1.7467\n",
      "Time:                           23:42:49   Log-likelihood                   -945.96\n",
      "Cov. Estimator:                Clustered                                           \n",
      "                                           F-statistic:                      46.727\n",
      "Entities:                             18   P-value                           0.0000\n",
      "Avg Obs:                          13.556   Distribution:                   F(2,211)\n",
      "Min Obs:                          13.000                                           \n",
      "Max Obs:                          14.000   F-statistic (robust):             11.213\n",
      "                                           P-value                           0.0000\n",
      "Time periods:                         14   Distribution:                   F(2,211)\n",
      "Avg Obs:                          17.429                                           \n",
      "Min Obs:                         10.0000                                           \n",
      "Max Obs:                          18.000                                           \n",
      "                                                                                   \n",
      "                                 Parameter Estimates                                 \n",
      "=====================================================================================\n",
      "                   Parameter  Std. Err.     T-stat    P-value    Lower CI    Upper CI\n",
      "-------------------------------------------------------------------------------------\n",
      "GDP per Capita       -0.0021     0.0004    -4.7022     0.0000     -0.0029     -0.0012\n",
      "Import from China  1.009e-10  7.564e-11     1.3334     0.1838  -4.825e-11     2.5e-10\n",
      "=====================================================================================\n",
      "\n",
      "F-test for Poolability: 116.75\n",
      "P-value: 0.0000\n",
      "Distribution: F(30,211)\n",
      "\n",
      "Included effects: Entity, Time\n"
     ]
    }
   ],
   "source": [
    "# Run regression\n",
    "result = analyzer.regress()\n",
    "print(result.summary)"
   ]
  },
  {
   "cell_type": "markdown",
   "id": "dc1dbfcf",
   "metadata": {},
   "source": [
    "Using OECD countries in general, the regression says on average, there's no relation between debt to gdp ratio and import from China, given insiginificant coefficient on Import from China."
   ]
  }
 ],
 "metadata": {
  "kernelspec": {
   "display_name": "condaforge",
   "language": "python",
   "name": "python3"
  },
  "language_info": {
   "codemirror_mode": {
    "name": "ipython",
    "version": 3
   },
   "file_extension": ".py",
   "mimetype": "text/x-python",
   "name": "python",
   "nbconvert_exporter": "python",
   "pygments_lexer": "ipython3",
   "version": "3.10.14"
  }
 },
 "nbformat": 4,
 "nbformat_minor": 5
}
