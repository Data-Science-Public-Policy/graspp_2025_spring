{
 "cells": [
  {
   "cell_type": "markdown",
   "id": "f3e8d35a",
   "metadata": {},
   "source": [
    "\n",
    "An analysis was conducted to explore the relationship between educational attainment level and income differences, comparing data from multiple nations with distinct educational frameworks."
   ]
  },
  {
   "cell_type": "code",
   "execution_count": null,
   "id": "23d3e471",
   "metadata": {},
   "outputs": [],
   "source": [
    "#data from OECD\n",
    "#https://data-explorer.oecd.org/vis?lc=en&df[ds]=dsDisseminateFinalDMZ&df[id]=DSD_EAG_LSO_EA%40DF_LSO_EARN_DISTR_MEDIAN&df[ag]=OECD.EDU.IMEP&dq=DEU%2BUSA.M%2BF%2B_T.Y25T64.ISCED11A_6T8%2BISCED11A_6%2BISCED11A_7_8%2B_T%2BISCED11A_35_45%2BISCED11A_34_44%2BISCED11A_5%2BISCED11A_3%2BISCED11A_4%2BISCED11A_0T2%2BISCED11A_3_4%2BISCED11A_5T8...MIGT_100%2BMILE_50%2BMIGT_50_LE100%2BMIGT_100_LE150%2BMIGT_150_LE200%2BMIGT_200....EMP...OBS...A&lom=LASTNOBSERVATIONS&lo=1&pd=2013%2C2022&to[TIME_PERIOD]=true&vw=tb\n",
    "#Earners distribution based on their level of earnings relative to the overall median, by age group, gender and educational attainment level\n",
    "#\n",
    "\n",
    "\n",
    "# Google Drive の共有リンクを指定\n",
    "url_usa = \"https://drive.google.com/open?id=1IEFfPQ0E-wmOw75mBaw2sy4Cbjcw08Fz&usp=drive_fs\"\n",
    "url_germany = \"https://drive.google.com/open?id=1IBOJEBXBcGqgLLuSQWYmdMQgpku2YOfr&usp=drive_fs\"\n"
   ]
  },
  {
   "cell_type": "code",
   "execution_count": 2,
   "id": "40e4e986",
   "metadata": {},
   "outputs": [],
   "source": [
    "# 保存先のファイル名\n",
    "usa_file = \"USA_edu.csv\"\n",
    "germany_file = \"germany_edu.csv\""
   ]
  },
  {
   "cell_type": "code",
   "execution_count": 3,
   "id": "a1124dfa",
   "metadata": {},
   "outputs": [],
   "source": [
    "# データの保存先パスを指定\n",
    "usa_file_path = \"C:/Users/Owner/Documents/GitHub/Grassp-25S-Education/graspp_2025_spring/notebooks/data/USA_edu.csv\"\n",
    "germany_file_path = \"C:/Users/Owner/Documents/GitHub/Grassp-25S-Education/graspp_2025_spring/notebooks/data/germany_edu.csv\""
   ]
  },
  {
   "cell_type": "code",
   "execution_count": 4,
   "id": "9e50a773",
   "metadata": {},
   "outputs": [],
   "source": [
    "# データの保存先パスを相対パスで指定\n",
    "usa_file_path = \"./notebooks/data/USA_edu.csv\"\n",
    "germany_file_path = \"./notebooks/data/germany_edu.csv\""
   ]
  },
  {
   "cell_type": "code",
   "execution_count": 5,
   "id": "5800d2b0",
   "metadata": {},
   "outputs": [
    {
     "name": "stdout",
     "output_type": "stream",
     "text": [
      "Requirement already satisfied: pandas in c:\\users\\owner\\appdata\\local\\packages\\pythonsoftwarefoundation.python.3.11_qbz5n2kfra8p0\\localcache\\local-packages\\python311\\site-packages (2.2.3)\n",
      "Requirement already satisfied: numpy>=1.23.2 in c:\\users\\owner\\appdata\\local\\packages\\pythonsoftwarefoundation.python.3.11_qbz5n2kfra8p0\\localcache\\local-packages\\python311\\site-packages (from pandas) (2.2.5)\n",
      "Requirement already satisfied: python-dateutil>=2.8.2 in c:\\users\\owner\\appdata\\local\\packages\\pythonsoftwarefoundation.python.3.11_qbz5n2kfra8p0\\localcache\\local-packages\\python311\\site-packages (from pandas) (2.9.0.post0)\n",
      "Requirement already satisfied: pytz>=2020.1 in c:\\users\\owner\\appdata\\local\\packages\\pythonsoftwarefoundation.python.3.11_qbz5n2kfra8p0\\localcache\\local-packages\\python311\\site-packages (from pandas) (2025.2)\n",
      "Requirement already satisfied: tzdata>=2022.7 in c:\\users\\owner\\appdata\\local\\packages\\pythonsoftwarefoundation.python.3.11_qbz5n2kfra8p0\\localcache\\local-packages\\python311\\site-packages (from pandas) (2025.2)\n",
      "Requirement already satisfied: six>=1.5 in c:\\users\\owner\\appdata\\local\\packages\\pythonsoftwarefoundation.python.3.11_qbz5n2kfra8p0\\localcache\\local-packages\\python311\\site-packages (from python-dateutil>=2.8.2->pandas) (1.17.0)\n",
      "Note: you may need to restart the kernel to use updated packages.\n"
     ]
    },
    {
     "name": "stderr",
     "output_type": "stream",
     "text": [
      "\n",
      "[notice] A new release of pip is available: 24.0 -> 25.1.1\n",
      "[notice] To update, run: C:\\Users\\Owner\\AppData\\Local\\Microsoft\\WindowsApps\\PythonSoftwareFoundation.Python.3.11_qbz5n2kfra8p0\\python.exe -m pip install --upgrade pip\n"
     ]
    }
   ],
   "source": [
    "pip install pandas"
   ]
  },
  {
   "cell_type": "code",
   "execution_count": 6,
   "id": "54f64da0",
   "metadata": {},
   "outputs": [
    {
     "name": "stdout",
     "output_type": "stream",
     "text": [
      "USA Data:\n",
      "  STRUCTURE                                       STRUCTURE_ID  \\\n",
      "0  DATAFLOW  OECD.EDU.IMEP:DSD_EAG_LSO_EA@DF_LSO_EARN_DISTR...   \n",
      "1  DATAFLOW  OECD.EDU.IMEP:DSD_EAG_LSO_EA@DF_LSO_EARN_DISTR...   \n",
      "2  DATAFLOW  OECD.EDU.IMEP:DSD_EAG_LSO_EA@DF_LSO_EARN_DISTR...   \n",
      "3  DATAFLOW  OECD.EDU.IMEP:DSD_EAG_LSO_EA@DF_LSO_EARN_DISTR...   \n",
      "4  DATAFLOW  OECD.EDU.IMEP:DSD_EAG_LSO_EA@DF_LSO_EARN_DISTR...   \n",
      "\n",
      "                                      STRUCTURE_NAME ACTION REF_AREA  \\\n",
      "0  Earners distribution based on their level of e...      I      USA   \n",
      "1  Earners distribution based on their level of e...      I      USA   \n",
      "2  Earners distribution based on their level of e...      I      USA   \n",
      "3  Earners distribution based on their level of e...      I      USA   \n",
      "4  Earners distribution based on their level of e...      I      USA   \n",
      "\n",
      "  Reference area SEX    Sex     AGE                  Age  ...  OBS_VALUE  \\\n",
      "0  United States  _T  Total  Y25T64  From 25 to 64 years  ...   6.161238   \n",
      "1  United States  _T  Total  Y25T64  From 25 to 64 years  ...  22.251337   \n",
      "2  United States  _T  Total  Y25T64  From 25 to 64 years  ...  17.033529   \n",
      "3  United States  _T  Total  Y25T64  From 25 to 64 years  ...   9.006441   \n",
      "4  United States  _T  Total  Y25T64  From 25 to 64 years  ...  13.650793   \n",
      "\n",
      "  Observation value OBS_STATUS Observation status CONF_STATUS  \\\n",
      "0               NaN          A       Normal value         NaN   \n",
      "1               NaN          A       Normal value         NaN   \n",
      "2               NaN          A       Normal value         NaN   \n",
      "3               NaN          A       Normal value         NaN   \n",
      "4               NaN          A       Normal value         NaN   \n",
      "\n",
      "  Confidentiality status UNIT_MULT Unit multiplier DECIMALS Decimals  \n",
      "0                    NaN         0           Units        1      One  \n",
      "1                    NaN         0           Units        1      One  \n",
      "2                    NaN         0           Units        1      One  \n",
      "3                    NaN         0           Units        1      One  \n",
      "4                    NaN         0           Units        1      One  \n",
      "\n",
      "[5 rows x 50 columns]\n",
      "Germany Data:\n",
      "  STRUCTURE                                       STRUCTURE_ID  \\\n",
      "0  DATAFLOW  OECD.EDU.IMEP:DSD_EAG_LSO_EA@DF_LSO_EARN_DISTR...   \n",
      "1  DATAFLOW  OECD.EDU.IMEP:DSD_EAG_LSO_EA@DF_LSO_EARN_DISTR...   \n",
      "2  DATAFLOW  OECD.EDU.IMEP:DSD_EAG_LSO_EA@DF_LSO_EARN_DISTR...   \n",
      "3  DATAFLOW  OECD.EDU.IMEP:DSD_EAG_LSO_EA@DF_LSO_EARN_DISTR...   \n",
      "4  DATAFLOW  OECD.EDU.IMEP:DSD_EAG_LSO_EA@DF_LSO_EARN_DISTR...   \n",
      "\n",
      "                                      STRUCTURE_NAME ACTION REF_AREA  \\\n",
      "0  Earners distribution based on their level of e...      I      DEU   \n",
      "1  Earners distribution based on their level of e...      I      DEU   \n",
      "2  Earners distribution based on their level of e...      I      DEU   \n",
      "3  Earners distribution based on their level of e...      I      DEU   \n",
      "4  Earners distribution based on their level of e...      I      DEU   \n",
      "\n",
      "  Reference area SEX    Sex     AGE                  Age  ...  OBS_VALUE  \\\n",
      "0        Germany  _T  Total  Y25T64  From 25 to 64 years  ...  39.634247   \n",
      "1        Germany  _T  Total  Y25T64  From 25 to 64 years  ...   8.416522   \n",
      "2        Germany  _T  Total  Y25T64  From 25 to 64 years  ...   9.132431   \n",
      "3        Germany  _T  Total  Y25T64  From 25 to 64 years  ...  44.826153   \n",
      "4        Germany  _T  Total  Y25T64  From 25 to 64 years  ...   8.021837   \n",
      "\n",
      "  Observation value OBS_STATUS Observation status CONF_STATUS  \\\n",
      "0               NaN          A       Normal value         NaN   \n",
      "1               NaN          A       Normal value         NaN   \n",
      "2               NaN          A       Normal value         NaN   \n",
      "3               NaN          A       Normal value         NaN   \n",
      "4               NaN          A       Normal value         NaN   \n",
      "\n",
      "  Confidentiality status UNIT_MULT Unit multiplier DECIMALS Decimals  \n",
      "0                    NaN         0           Units        1      One  \n",
      "1                    NaN         0           Units        1      One  \n",
      "2                    NaN         0           Units        1      One  \n",
      "3                    NaN         0           Units        1      One  \n",
      "4                    NaN         0           Units        1      One  \n",
      "\n",
      "[5 rows x 50 columns]\n"
     ]
    }
   ],
   "source": [
    "import pandas as pd\n",
    "\n",
    "# データの保存先パスを相対パスで指定\n",
    "usa_file_path = \"../../data/USA_edu.csv\"\n",
    "germany_file_path = \"../../data/germany_edu.csv\"\n",
    "\n",
    "# データを読み込む\n",
    "usa_data = pd.read_csv(usa_file_path)\n",
    "germany_data = pd.read_csv(germany_file_path)\n",
    "\n",
    "# データの先頭5行を表示\n",
    "print(\"USA Data:\")\n",
    "print(usa_data.head())\n",
    "\n",
    "print(\"Germany Data:\")\n",
    "print(germany_data.head())"
   ]
  },
  {
   "cell_type": "code",
   "execution_count": 7,
   "id": "96dfe55b",
   "metadata": {},
   "outputs": [
    {
     "name": "stdout",
     "output_type": "stream",
     "text": [
      "  ATTAINMENT_LEV  income_mean_USA  income_mean_Germany\n",
      "0   ISCED11A_0T2      6697.087365          6347.703565\n",
      "1     ISCED11A_3      8991.196334          9074.568915\n",
      "2   ISCED11A_3_4      8991.196334          9241.961741\n",
      "3     ISCED11A_5     10273.405004         12222.632360\n",
      "4   ISCED11A_5T8     13533.939123         13414.918184\n",
      "5     ISCED11A_6     13458.971238         12829.428697\n",
      "6   ISCED11A_6T8     14328.419852         13601.994300\n",
      "7   ISCED11A_7_8     15751.619232         15027.452672\n",
      "8             _T     11341.594315         10772.842598\n"
     ]
    }
   ],
   "source": [
    "# 収入カテゴリを変換する関数を定義\n",
    "def calculate_income_mean(df):\n",
    "    # 収入カテゴリと対応する値をマッピング\n",
    "    income_mapping = {\n",
    "        \"MILE_50\": 25,  # At or below 50% of median income\n",
    "        \"MIGT_50_LE100\": 75,  # Above 50% but at or below 100% of median income\n",
    "        \"MIGT_100_LE150\": 125,  # Above 100% but at or below 150% of median income\n",
    "        \"MIGT_150_LE200\": 175,  # Above 150% but at or below 200% of median income\n",
    "        \"MIGT_200\": 225  # Above 200% of median income\n",
    "    }\n",
    "\n",
    "    # マッピングを適用して新しい列を作成\n",
    "    df[\"Income_Value\"] = df[\"INCOME\"].map(income_mapping) * df[\"OBS_VALUE\"]\n",
    "\n",
    "    # 教育レベルごとに平均収入を計算\n",
    "    income_mean = df.groupby(\"ATTAINMENT_LEV\")[\"Income_Value\"].sum().reset_index()\n",
    "    income_mean.rename(columns={\"Income_Value\": \"income_mean\"}, inplace=True)\n",
    "\n",
    "    return income_mean\n",
    "\n",
    "# USA と Germany のデータをクリーニング\n",
    "usa_income_mean = calculate_income_mean(usa_data)\n",
    "germany_income_mean = calculate_income_mean(germany_data)\n",
    "\n",
    "# データをマージ\n",
    "merged_data = pd.merge(usa_income_mean, germany_income_mean, on=\"ATTAINMENT_LEV\", suffixes=(\"_USA\", \"_Germany\"))\n",
    "\n",
    "# 結果を表示\n",
    "print(merged_data)"
   ]
  },
  {
   "cell_type": "code",
   "execution_count": 24,
   "id": "f6f952a2",
   "metadata": {},
   "outputs": [
    {
     "name": "stdout",
     "output_type": "stream",
     "text": [
      "Collecting matplotlib\n",
      "  Downloading matplotlib-3.10.1-cp311-cp311-win_amd64.whl.metadata (11 kB)\n",
      "Collecting contourpy>=1.0.1 (from matplotlib)\n",
      "  Downloading contourpy-1.3.2-cp311-cp311-win_amd64.whl.metadata (5.5 kB)\n",
      "Collecting cycler>=0.10 (from matplotlib)\n",
      "  Downloading cycler-0.12.1-py3-none-any.whl.metadata (3.8 kB)\n",
      "Collecting fonttools>=4.22.0 (from matplotlib)\n",
      "  Downloading fonttools-4.57.0-cp311-cp311-win_amd64.whl.metadata (104 kB)\n",
      "     ---------------------------------------- 0.0/104.6 kB ? eta -:--:--\n",
      "     ---------------------------------------- 0.0/104.6 kB ? eta -:--:--\n",
      "     --- ------------------------------------ 10.2/104.6 kB ? eta -:--:--\n",
      "     ---------- -------------------------- 30.7/104.6 kB 262.6 kB/s eta 0:00:01\n",
      "     ------------------------- ----------- 71.7/104.6 kB 563.7 kB/s eta 0:00:01\n",
      "     ------------------------------------ 104.6/104.6 kB 674.0 kB/s eta 0:00:00\n",
      "Collecting kiwisolver>=1.3.1 (from matplotlib)\n",
      "  Downloading kiwisolver-1.4.8-cp311-cp311-win_amd64.whl.metadata (6.3 kB)\n",
      "Requirement already satisfied: numpy>=1.23 in c:\\users\\owner\\appdata\\local\\packages\\pythonsoftwarefoundation.python.3.11_qbz5n2kfra8p0\\localcache\\local-packages\\python311\\site-packages (from matplotlib) (2.2.5)\n",
      "Requirement already satisfied: packaging>=20.0 in c:\\users\\owner\\appdata\\local\\packages\\pythonsoftwarefoundation.python.3.11_qbz5n2kfra8p0\\localcache\\local-packages\\python311\\site-packages (from matplotlib) (25.0)\n",
      "Collecting pillow>=8 (from matplotlib)\n",
      "  Downloading pillow-11.2.1-cp311-cp311-win_amd64.whl.metadata (9.1 kB)\n",
      "Collecting pyparsing>=2.3.1 (from matplotlib)\n",
      "  Downloading pyparsing-3.2.3-py3-none-any.whl.metadata (5.0 kB)\n",
      "Requirement already satisfied: python-dateutil>=2.7 in c:\\users\\owner\\appdata\\local\\packages\\pythonsoftwarefoundation.python.3.11_qbz5n2kfra8p0\\localcache\\local-packages\\python311\\site-packages (from matplotlib) (2.9.0.post0)\n",
      "Requirement already satisfied: six>=1.5 in c:\\users\\owner\\appdata\\local\\packages\\pythonsoftwarefoundation.python.3.11_qbz5n2kfra8p0\\localcache\\local-packages\\python311\\site-packages (from python-dateutil>=2.7->matplotlib) (1.17.0)\n",
      "Downloading matplotlib-3.10.1-cp311-cp311-win_amd64.whl (8.1 MB)\n",
      "   ---------------------------------------- 0.0/8.1 MB ? eta -:--:--\n",
      "   - -------------------------------------- 0.2/8.1 MB 7.0 MB/s eta 0:00:02\n",
      "   -- ------------------------------------- 0.6/8.1 MB 7.6 MB/s eta 0:00:01\n",
      "   ----- ---------------------------------- 1.1/8.1 MB 7.8 MB/s eta 0:00:01\n",
      "   -------- ------------------------------- 1.7/8.1 MB 8.8 MB/s eta 0:00:01\n",
      "   ----------- ---------------------------- 2.2/8.1 MB 9.4 MB/s eta 0:00:01\n",
      "   ------------- -------------------------- 2.8/8.1 MB 10.4 MB/s eta 0:00:01\n",
      "   ---------------- ----------------------- 3.3/8.1 MB 10.6 MB/s eta 0:00:01\n",
      "   ------------------- -------------------- 3.9/8.1 MB 10.7 MB/s eta 0:00:01\n",
      "   ---------------------- ----------------- 4.4/8.1 MB 10.9 MB/s eta 0:00:01\n",
      "   ------------------------ --------------- 4.8/8.1 MB 10.7 MB/s eta 0:00:01\n",
      "   --------------------------- ------------ 5.5/8.1 MB 10.9 MB/s eta 0:00:01\n",
      "   ----------------------------- ---------- 6.0/8.1 MB 11.0 MB/s eta 0:00:01\n",
      "   -------------------------------- ------- 6.6/8.1 MB 11.0 MB/s eta 0:00:01\n",
      "   ----------------------------------- ---- 7.1/8.1 MB 11.1 MB/s eta 0:00:01\n",
      "   -------------------------------------- - 7.7/8.1 MB 11.2 MB/s eta 0:00:01\n",
      "   ---------------------------------------  8.1/8.1 MB 11.2 MB/s eta 0:00:01\n",
      "   ---------------------------------------- 8.1/8.1 MB 10.7 MB/s eta 0:00:00\n",
      "Downloading contourpy-1.3.2-cp311-cp311-win_amd64.whl (222 kB)\n",
      "   ---------------------------------------- 0.0/222.0 kB ? eta -:--:--\n",
      "   --------------------------------------- 222.0/222.0 kB 13.2 MB/s eta 0:00:00\n",
      "Downloading cycler-0.12.1-py3-none-any.whl (8.3 kB)\n",
      "Downloading fonttools-4.57.0-cp311-cp311-win_amd64.whl (2.2 MB)\n",
      "   ---------------------------------------- 0.0/2.2 MB ? eta -:--:--\n",
      "   ---------- ----------------------------- 0.6/2.2 MB 12.4 MB/s eta 0:00:01\n",
      "   -------------------- ------------------- 1.1/2.2 MB 11.9 MB/s eta 0:00:01\n",
      "   ------------------------------ --------- 1.7/2.2 MB 11.8 MB/s eta 0:00:01\n",
      "   ---------------------------------------  2.2/2.2 MB 11.7 MB/s eta 0:00:01\n",
      "   ---------------------------------------- 2.2/2.2 MB 10.8 MB/s eta 0:00:00\n",
      "Downloading kiwisolver-1.4.8-cp311-cp311-win_amd64.whl (71 kB)\n",
      "   ---------------------------------------- 0.0/72.0 kB ? eta -:--:--\n",
      "   ---------------------------------------- 72.0/72.0 kB ? eta 0:00:00\n",
      "Downloading pillow-11.2.1-cp311-cp311-win_amd64.whl (2.7 MB)\n",
      "   ---------------------------------------- 0.0/2.7 MB ? eta -:--:--\n",
      "   ------- -------------------------------- 0.5/2.7 MB 16.8 MB/s eta 0:00:01\n",
      "   --------------- ------------------------ 1.0/2.7 MB 13.1 MB/s eta 0:00:01\n",
      "   ----------------------- ---------------- 1.6/2.7 MB 12.5 MB/s eta 0:00:01\n",
      "   ------------------------------- -------- 2.1/2.7 MB 12.3 MB/s eta 0:00:01\n",
      "   ---------------------------------------  2.7/2.7 MB 12.2 MB/s eta 0:00:01\n",
      "   ---------------------------------------- 2.7/2.7 MB 12.2 MB/s eta 0:00:00\n",
      "Downloading pyparsing-3.2.3-py3-none-any.whl (111 kB)\n",
      "   ---------------------------------------- 0.0/111.1 kB ? eta -:--:--\n",
      "   ---------------------------------------- 111.1/111.1 kB 6.3 MB/s eta 0:00:00\n",
      "Installing collected packages: pyparsing, pillow, kiwisolver, fonttools, cycler, contourpy, matplotlib\n",
      "Successfully installed contourpy-1.3.2 cycler-0.12.1 fonttools-4.57.0 kiwisolver-1.4.8 matplotlib-3.10.1 pillow-11.2.1 pyparsing-3.2.3\n",
      "Note: you may need to restart the kernel to use updated packages.\n"
     ]
    },
    {
     "name": "stderr",
     "output_type": "stream",
     "text": [
      "\n",
      "[notice] A new release of pip is available: 24.0 -> 25.1.1\n",
      "[notice] To update, run: C:\\Users\\Owner\\AppData\\Local\\Microsoft\\WindowsApps\\PythonSoftwareFoundation.Python.3.11_qbz5n2kfra8p0\\python.exe -m pip install --upgrade pip\n"
     ]
    }
   ],
   "source": [
    "pip install matplotlib"
   ]
  },
  {
   "cell_type": "code",
   "execution_count": 8,
   "id": "1c9cfba6",
   "metadata": {},
   "outputs": [
    {
     "data": {
      "image/png": "[encoded data removed]",
      "text/plain": [
       "<Figure size 1000x600 with 1 Axes>"
      ]
     },
     "metadata": {},
     "output_type": "display_data"
    }
   ],
   "source": [
    "import matplotlib.pyplot as plt\n",
    "\n",
    "# グラフを作成\n",
    "plt.figure(figsize=(10, 6))\n",
    "bar_width = 0.35\n",
    "x = range(len(merged_data[\"ATTAINMENT_LEV\"]))\n",
    "\n",
    "# 棒グラフを描画\n",
    "plt.bar(x, merged_data[\"income_mean_USA\"], width=bar_width, label=\"USA\", color=\"blue\")\n",
    "plt.bar([i + bar_width for i in x], merged_data[\"income_mean_Germany\"], width=bar_width, label=\"Germany\", color=\"orange\")\n",
    "\n",
    "# グラフの装飾\n",
    "plt.xlabel(\"Attainment Level\")\n",
    "plt.ylabel(\"Income Mean\")\n",
    "plt.title(\"Income Mean by Educational Attainment Level\")\n",
    "plt.xticks([i + bar_width / 2 for i in x], merged_data[\"ATTAINMENT_LEV\"], rotation=45)\n",
    "plt.legend()\n",
    "\n",
    "# グラフを表示\n",
    "plt.tight_layout()\n",
    "plt.show()"
   ]
  }
 ],
 "metadata": {
  "kernelspec": {
   "display_name": "Python 3",
   "language": "python",
   "name": "python3"
  },
  "language_info": {
   "codemirror_mode": {
    "name": "ipython",
    "version": 3
   },
   "file_extension": ".py",
   "mimetype": "text/x-python",
   "name": "python",
   "nbconvert_exporter": "python",
   "pygments_lexer": "ipython3",
   "version": "3.11.9"
  }
 },
 "nbformat": 4,
 "nbformat_minor": 5
}
