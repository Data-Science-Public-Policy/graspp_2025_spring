{
 "cells": [
  {
   "cell_type": "markdown",
   "id": "fab84ecf",
   "metadata": {},
   "source": [
    "## 1.1 Download data"
   ]
  },
  {
   "cell_type": "code",
   "execution_count": 7,
   "id": "3792ce19",
   "metadata": {},
   "outputs": [],
   "source": [
    "# Data of \"Political Stability and Absence of Violence/Terrorism: Estimate\" and \"GDP growth (annual %)\"\n",
    "import requests\n",
    "import pandas as pd\n",
    "\n",
    "def fetch_world_bank_data(indicator_code):\n",
    "    url = f\"https://api.worldbank.org/v2/en/indicator/{indicator_code}?format=json&per_page=20000\"\n",
    "    response = requests.get(url)\n",
    "    data = response.json()[1] "
   ]
  },
  {
   "cell_type": "markdown",
   "id": "bfa3ddb4",
   "metadata": {},
   "source": [
    "## 1.2 Manipulate Data"
   ]
  },
  {
   "cell_type": "code",
   "execution_count": null,
   "id": "d0491000",
   "metadata": {},
   "outputs": [],
   "source": []
  },
  {
   "cell_type": "markdown",
   "id": "5ad1341a",
   "metadata": {},
   "source": [
    "## 1.3 Merge Data"
   ]
  },
  {
   "cell_type": "code",
   "execution_count": null,
   "id": "0eec057b",
   "metadata": {},
   "outputs": [],
   "source": []
  }
 ],
 "metadata": {
  "kernelspec": {
   "display_name": "Python 3",
   "language": "python",
   "name": "python3"
  },
  "language_info": {
   "codemirror_mode": {
    "name": "ipython",
    "version": 3
   },
   "file_extension": ".py",
   "mimetype": "text/x-python",
   "name": "python",
   "nbconvert_exporter": "python",
   "pygments_lexer": "ipython3",
   "version": "3.9.6"
  }
 },
 "nbformat": 4,
 "nbformat_minor": 5
}
