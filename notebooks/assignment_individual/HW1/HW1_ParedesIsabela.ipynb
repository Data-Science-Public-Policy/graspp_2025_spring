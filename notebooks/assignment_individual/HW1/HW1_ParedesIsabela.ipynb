{
 "cells": [
  {
   "cell_type": "code",
   "execution_count": null,
   "id": "f3608255",
   "metadata": {},
   "outputs": [],
   "source": [
    "#Individual Homework 1"
   ]
  }
 ],
 "metadata": {
  "language_info": {
   "name": "python"
  }
 },
 "nbformat": 4,
 "nbformat_minor": 5
}
