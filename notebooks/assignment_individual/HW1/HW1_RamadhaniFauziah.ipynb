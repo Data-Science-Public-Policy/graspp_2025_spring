{
 "cells": [
  {
   "cell_type": "code",
   "execution_count": null,
   "id": "b42b9835",
   "metadata": {},
   "outputs": [],
   "source": [
    "import pandas as pd\n",
    "\n",
    "def trade_tariffs(input_path, output_path):\n",
    "    # Import data\n",
    "    df = pd.read_csv(input_path)\n",
    "\n",
    "    # Filter for 'Trade - S1 - Tariffs'\n",
    "    df_trade_tariffs = df[df['Indicator Name'] == 'Trade - S1 - Tariffs']\n",
    "\n",
    "    # Filter for years 1990-2010\n",
    "    columns_to_keep = ['Country Name'] + [str(year) for year in range(1990, 2010)]\n",
    "    df_trade_tariffs = df_trade_tariffs[columns_to_keep]\n",
    "\n",
    "    # Cleaning: Drop countries with any missing data\n",
    "    df_trade_tariffs_clean = df_trade_tariffs.dropna()\n",
    "\n",
    "    # Save the cleaned data\n",
    "    df_trade_tariffs_clean.to_csv(output_path, index=False)\n",
    "\n",
    "    # Return the cleaned DataFrame\n",
    "    return df_trade_tariffs_clean\n",
    "\n",
    "# Create new cvs for cleaned data\n",
    "df_trade_tariffs = trade_tariffs(\n",
    "    '../../../data/raw/StructuralReform_IMF.csv', \n",
    "    '../../../data/clean/TradeTariffsClean_IMF.csv'\n",
    ")\n"
   ]
  },
  {
   "cell_type": "code",
   "execution_count": 31,
   "id": "9840f383",
   "metadata": {},
   "outputs": [],
   "source": [
    "import pandas as pd\n",
    "\n",
    "def external_finance(input_path, output_path):\n",
    "    # Import data\n",
    "    df = pd.read_csv(input_path)\n",
    "\n",
    "    # Filter for 'External finance - Overall'\n",
    "    df_external_finance = df[df['Indicator Name'] == 'External finance - Overall']\n",
    "\n",
    "    # Filter for years 1990-2010\n",
    "    columns_to_keep = ['Country Name'] + [str(year) for year in range(1990, 2011)]\n",
    "    df_external_finance = df_external_finance[columns_to_keep]\n",
    "\n",
    "    # Cleaning: Drop countries with any missing data\n",
    "    df_external_finance_clean = df_external_finance.dropna()\n",
    "\n",
    "    # Save the cleaned data\n",
    "    df_external_finance_clean.to_csv(output_path, index=False)\n",
    "\n",
    "    # Return the cleaned DataFrame\n",
    "    return df_external_finance_clean\n",
    "\n",
    "# Create new cvs for cleaned data\n",
    "df_external_finance = external_finance(\n",
    "    '../../../data/raw/StructuralReform_IMF.csv', \n",
    "    '../../../data/clean/ExternalFinanceClean_IMF.csv'\n",
    ")\n"
   ]
  }
 ],
 "metadata": {
  "kernelspec": {
   "display_name": ".venv",
   "language": "python",
   "name": "python3"
  },
  "language_info": {
   "codemirror_mode": {
    "name": "ipython",
    "version": 3
   },
   "file_extension": ".py",
   "mimetype": "text/x-python",
   "name": "python",
   "nbconvert_exporter": "python",
   "pygments_lexer": "ipython3",
   "version": "3.9.6"
  }
 },
 "nbformat": 4,
 "nbformat_minor": 5
}
