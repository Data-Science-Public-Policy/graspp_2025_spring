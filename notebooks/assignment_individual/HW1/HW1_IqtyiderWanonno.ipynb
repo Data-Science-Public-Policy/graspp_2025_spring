{
 "cells": [
  {
   "cell_type": "markdown",
   "id": "5cb3e536",
   "metadata": {},
   "source": [
    "# A. Assignment details\n",
    "\n",
    "- What: Download, manipulate and merge two or more datasets from below\n",
    "- How: Create functions in a python file to do this\n",
    "- Show: Show how to use these python files in a notebook"
   ]
  },
  {
   "cell_type": "markdown",
   "id": "17ecf054",
   "metadata": {},
   "source": [
    "More details here: reports/assignments/milestone_1/extracredit_explainer.md\n"
   ]
  },
  {
   "cell_type": "markdown",
   "id": "c74729de",
   "metadata": {},
   "source": [
    "## 1.1 Download data"
   ]
  },
  {
   "cell_type": "code",
   "execution_count": null,
   "id": "c837c4af",
   "metadata": {},
   "outputs": [
    {
     "name": "stdout",
     "output_type": "stream",
     "text": [
      "Defaulting to user installation because normal site-packages is not writeable\n",
      "Requirement already satisfied: pandas in /Users/wanonnoiqtyider/Library/Python/3.10/lib/python/site-packages (2.2.3)\n",
      "Requirement already satisfied: pytz>=2020.1 in /Users/wanonnoiqtyider/Library/Python/3.10/lib/python/site-packages (from pandas) (2025.2)\n",
      "Requirement already satisfied: tzdata>=2022.7 in /Users/wanonnoiqtyider/Library/Python/3.10/lib/python/site-packages (from pandas) (2025.2)\n",
      "Requirement already satisfied: numpy>=1.22.4 in /Users/wanonnoiqtyider/Library/Python/3.10/lib/python/site-packages (from pandas) (2.2.5)\n",
      "Requirement already satisfied: python-dateutil>=2.8.2 in /Users/wanonnoiqtyider/Library/Python/3.10/lib/python/site-packages (from pandas) (2.9.0.post0)\n",
      "Requirement already satisfied: six>=1.5 in /Users/wanonnoiqtyider/Library/Python/3.10/lib/python/site-packages (from python-dateutil>=2.8.2->pandas) (1.17.0)\n",
      "\u001b[33mWARNING: You are using pip version 21.2.3; however, version 25.1 is available.\n",
      "You should consider upgrading via the '/usr/local/bin/python3 -m pip install --upgrade pip' command.\u001b[0m\n",
      "  ISO code Country Variable code  \\\n",
      "0      ABW   Aruba        rgdpna   \n",
      "1      AGO  Angola        rgdpna   \n",
      "\n",
      "                                       Variable name  1950  1951  1952  1953  \\\n",
      "0  Real GDP at constant 2017 national prices (in ...   NaN   NaN   NaN   NaN   \n",
      "1  Real GDP at constant 2017 national prices (in ...   NaN   NaN   NaN   NaN   \n",
      "\n",
      "   1954  1955  ...           2010           2011           2012  \\\n",
      "0   NaN   NaN  ...    2691.888916    2701.084229    2664.083496   \n",
      "1   NaN   NaN  ...  189691.968750  196278.031250  213044.406250   \n",
      "\n",
      "            2013           2014           2015           2016           2017  \\\n",
      "0    2775.927490    2783.492920    2942.782227    3003.413574    3062.580566   \n",
      "1  223599.890625  234383.265625  236594.859375  230491.171875  230151.343750   \n",
      "\n",
      "            2018           2019  \n",
      "0    3090.404785    3068.758301  \n",
      "1  225540.046875  222151.062500  \n",
      "\n",
      "[2 rows x 74 columns]\n",
      "   Unnamed: 0  country_id country_text_id country_name  year  v2x_regime  \\\n",
      "0           1           3             MEX       Mexico  1900         0.0   \n",
      "1           2           3             MEX       Mexico  1901         0.0   \n",
      "\n",
      "   v2x_polyarchy  v2x_polyarchy_codelow  v2x_polyarchy_codehigh  \\\n",
      "0          0.124                  0.112                   0.134   \n",
      "1          0.108                  0.096                   0.119   \n",
      "\n",
      "   reg_start_year  ...  aut_ep_start_year aut_ep_end_year  aut_pre_ep_year  \\\n",
      "0          1900.0  ...                NaN             NaN                0   \n",
      "1          1900.0  ...                NaN             NaN                0   \n",
      "\n",
      "   aut_ep_termination  aut_ep_prch  aut_ep_pbr  aut_ep_subreg  aut_ep_outcome  \\\n",
      "0                 NaN          NaN         NaN            NaN               0   \n",
      "1                 NaN          NaN         NaN            NaN               0   \n",
      "\n",
      "   aut_ep_outcome_agg aut_ep_censored  \n",
      "0                   0               0  \n",
      "1                   0               0  \n",
      "\n",
      "[2 rows x 42 columns]\n"
     ]
    }
   ],
   "source": [
    "import sys\n",
    "!{sys.executable} -m pip install pandas\n",
    "\n",
    "import pandas as pd\n",
    "\n",
    "#  Reading CSV file\n",
    "dfGDP = pd.read_csv('/Users/wanonnoiqtyider/Documents/GitHub/graspp_2025_spring/data/raw/2025-04-27T13-04_export.csv')\n",
    "dfDEMO = pd.read_csv('/Users/wanonnoiqtyider/Documents/GitHub/graspp_2025_spring/data/raw/demoert.csv')\n",
    "\n",
    "# Show the first few rows to confirm it loaded correctly\n",
    "print(dfGDP.head(2))\n",
    "print(dfDEMO.head(2))\n",
    "\n"
   ]
  },
  {
   "cell_type": "code",
   "execution_count": 26,
   "id": "ad3f9c3b",
   "metadata": {},
   "outputs": [
    {
     "name": "stdout",
     "output_type": "stream",
     "text": [
      "Index(['ISO code', 'Country', 'Variable code', 'Variable name', '1950', '1951',\n",
      "       '1952', '1953', '1954', '1955', '1956', '1957', '1958', '1959', '1960',\n",
      "       '1961', '1962', '1963', '1964', '1965', '1966', '1967', '1968', '1969',\n",
      "       '1970', '1971', '1972', '1973', '1974', '1975', '1976', '1977', '1978',\n",
      "       '1979', '1980', '1981', '1982', '1983', '1984', '1985', '1986', '1987',\n",
      "       '1988', '1989', '1990', '1991', '1992', '1993', '1994', '1995', '1996',\n",
      "       '1997', '1998', '1999', '2000', '2001', '2002', '2003', '2004', '2005',\n",
      "       '2006', '2007', '2008', '2009', '2010', '2011', '2012', '2013', '2014',\n",
      "       '2015', '2016', '2017', '2018', '2019'],\n",
      "      dtype='object')\n",
      "Index(['Unnamed: 0', 'country_id', 'country_text_id', 'country_name', 'year',\n",
      "       'v2x_regime', 'v2x_polyarchy', 'v2x_polyarchy_codelow',\n",
      "       'v2x_polyarchy_codehigh', 'reg_start_year', 'reg_end_year', 'reg_id',\n",
      "       'reg_type', 'reg_trans', 'dem_founding_elec', 'aut_founding_elec',\n",
      "       'row_regch_event', 'row_regch_censored', 'dem_ep', 'dem_ep_id',\n",
      "       'dem_ep_start_year', 'dem_ep_end_year', 'dem_pre_ep_year',\n",
      "       'dem_ep_termination', 'dem_ep_prch', 'dem_ep_ptr', 'dem_ep_subdep',\n",
      "       'dem_ep_outcome', 'dem_ep_outcome_agg', 'dem_ep_censored', 'aut_ep',\n",
      "       'aut_ep_id', 'aut_ep_start_year', 'aut_ep_end_year', 'aut_pre_ep_year',\n",
      "       'aut_ep_termination', 'aut_ep_prch', 'aut_ep_pbr', 'aut_ep_subreg',\n",
      "       'aut_ep_outcome', 'aut_ep_outcome_agg', 'aut_ep_censored'],\n",
      "      dtype='object')\n"
     ]
    },
    {
     "data": {
      "text/plain": [
       "<bound method Series.unique of 0          Mexico\n",
       "1          Mexico\n",
       "2          Mexico\n",
       "3          Mexico\n",
       "4          Mexico\n",
       "           ...   \n",
       "19673    Zanzibar\n",
       "19674    Zanzibar\n",
       "19675    Zanzibar\n",
       "19676    Zanzibar\n",
       "19677    Zanzibar\n",
       "Name: country_name, Length: 19678, dtype: object>"
      ]
     },
     "execution_count": 26,
     "metadata": {},
     "output_type": "execute_result"
    }
   ],
   "source": [
    "print(dfGDP.columns)\n",
    "print(dfDEMO.columns)\n",
    "\n",
    "dfGDP.Country.unique\n",
    "dfDEMO.country_name.unique"
   ]
  },
  {
   "cell_type": "markdown",
   "id": "6c0dd899",
   "metadata": {},
   "source": [
    "## 1.2 Manipulate Data"
   ]
  },
  {
   "cell_type": "code",
   "execution_count": 32,
   "id": "7b13d726",
   "metadata": {},
   "outputs": [
    {
     "name": "stdout",
     "output_type": "stream",
     "text": [
      "  ISO code               Country  year  gdp_value\n",
      "0      ABW                 Aruba  1950        NaN\n",
      "1      AGO                Angola  1950        NaN\n",
      "2      AIA              Anguilla  1950        NaN\n",
      "3      ALB               Albania  1950        NaN\n",
      "4      ARE  United Arab Emirates  1950        NaN\n"
     ]
    }
   ],
   "source": [
    "columns_to_keep_gdp = ['ISO code', 'Country'] + [str(year) for year in range(1950, 2020)]\n",
    "dfGDP = dfGDP[columns_to_keep_gdp]\n",
    "dfGDP\n",
    "\n",
    "columns_to_keep_demo = ['country_name', 'year', 'v2x_regime', 'v2x_polyarchy']\n",
    "dfDEMO = dfDEMO[columns_to_keep_demo]\n",
    "dfDEMO\n",
    "\n",
    "# Melt dfGDP to long format\n",
    "dfGDP_long = dfGDP.melt(id_vars=['ISO code', 'Country'], var_name='year', value_name='gdp_value')\n",
    "\n",
    "# Check what it looks like\n",
    "print(dfGDP_long.head())\n",
    "\n"
   ]
  },
  {
   "cell_type": "markdown",
   "id": "18563568",
   "metadata": {},
   "source": [
    "## 1.3 Merge Data"
   ]
  },
  {
   "cell_type": "code",
   "execution_count": null,
   "id": "1e88b7f9",
   "metadata": {},
   "outputs": [
    {
     "name": "stdout",
     "output_type": "stream",
     "text": [
      "  country_name  year  v2x_regime  v2x_polyarchy ISO code Country  gdp_value\n",
      "0       Mexico  1900         0.0          0.124      NaN     NaN        NaN\n",
      "1       Mexico  1901         0.0          0.108      NaN     NaN        NaN\n",
      "2       Mexico  1902         0.0          0.108      NaN     NaN        NaN\n",
      "3       Mexico  1903         0.0          0.108      NaN     NaN        NaN\n",
      "4       Mexico  1904         0.0          0.108      NaN     NaN        NaN\n",
      "  Country  Year  Regime Type Score  Polyarchy Score ISO code  GDP Value\n",
      "0  Mexico  1900                0.0            0.124      NaN        NaN\n",
      "1  Mexico  1901                0.0            0.108      NaN        NaN\n",
      "2  Mexico  1902                0.0            0.108      NaN        NaN\n",
      "3  Mexico  1903                0.0            0.108      NaN        NaN\n",
      "4  Mexico  1904                0.0            0.108      NaN        NaN\n"
     ]
    }
   ],
   "source": [
    "# Convert 'year' in dfGDP_long to integer (because dfDEMO's year is probably int type)\n",
    "dfGDP_long['year'] = dfGDP_long['year'].astype(int)\n",
    "\n",
    "# Merge\n",
    "df_merged = pd.merge(dfDEMO, dfGDP_long, how='left', \n",
    "                     left_on=['country_name', 'year'], right_on=['Country', 'year'])\n",
    "\n",
    "# Check result\n",
    "print(df_merged.head())\n",
    "\n",
    "# Drop duplicate columns after merge\n",
    "df_merged = df_merged.drop(columns=['Country'])\n",
    "\n",
    "# Rename columns to more intuitive names\n",
    "df_merged = df_merged.rename(columns={\n",
    "    'country_name': 'Country',\n",
    "    'year': 'Year',\n",
    "    'v2x_regime': 'Regime Type Score',\n",
    "    'v2x_polyarchy': 'Polyarchy Score',\n",
    "    'gdp_value': 'GDP Value'})\n",
    "\n",
    "print(df_merged.head())\n",
    "\n",
    "\n"
   ]
  },
  {
   "cell_type": "code",
   "execution_count": 46,
   "id": "8ee00670",
   "metadata": {},
   "outputs": [
    {
     "name": "stdout",
     "output_type": "stream",
     "text": [
      "Defaulting to user installation because normal site-packages is not writeable\n",
      "Requirement already satisfied: seaborn in /Users/wanonnoiqtyider/Library/Python/3.10/lib/python/site-packages (0.13.2)\n",
      "Requirement already satisfied: pandas>=1.2 in /Users/wanonnoiqtyider/Library/Python/3.10/lib/python/site-packages (from seaborn) (2.2.3)\n",
      "Requirement already satisfied: matplotlib!=3.6.1,>=3.4 in /Users/wanonnoiqtyider/Library/Python/3.10/lib/python/site-packages (from seaborn) (3.10.1)\n",
      "Requirement already satisfied: numpy!=1.24.0,>=1.20 in /Users/wanonnoiqtyider/Library/Python/3.10/lib/python/site-packages (from seaborn) (2.2.5)\n",
      "Requirement already satisfied: pillow>=8 in /Users/wanonnoiqtyider/Library/Python/3.10/lib/python/site-packages (from matplotlib!=3.6.1,>=3.4->seaborn) (11.2.1)\n",
      "Requirement already satisfied: fonttools>=4.22.0 in /Users/wanonnoiqtyider/Library/Python/3.10/lib/python/site-packages (from matplotlib!=3.6.1,>=3.4->seaborn) (4.57.0)\n",
      "Requirement already satisfied: kiwisolver>=1.3.1 in /Users/wanonnoiqtyider/Library/Python/3.10/lib/python/site-packages (from matplotlib!=3.6.1,>=3.4->seaborn) (1.4.8)\n",
      "Requirement already satisfied: pyparsing>=2.3.1 in /Users/wanonnoiqtyider/Library/Python/3.10/lib/python/site-packages (from matplotlib!=3.6.1,>=3.4->seaborn) (3.2.3)\n",
      "Requirement already satisfied: cycler>=0.10 in /Users/wanonnoiqtyider/Library/Python/3.10/lib/python/site-packages (from matplotlib!=3.6.1,>=3.4->seaborn) (0.12.1)\n",
      "Requirement already satisfied: packaging>=20.0 in /Users/wanonnoiqtyider/Library/Python/3.10/lib/python/site-packages (from matplotlib!=3.6.1,>=3.4->seaborn) (25.0)\n",
      "Requirement already satisfied: python-dateutil>=2.7 in /Users/wanonnoiqtyider/Library/Python/3.10/lib/python/site-packages (from matplotlib!=3.6.1,>=3.4->seaborn) (2.9.0.post0)\n",
      "Requirement already satisfied: contourpy>=1.0.1 in /Users/wanonnoiqtyider/Library/Python/3.10/lib/python/site-packages (from matplotlib!=3.6.1,>=3.4->seaborn) (1.3.2)\n",
      "Requirement already satisfied: tzdata>=2022.7 in /Users/wanonnoiqtyider/Library/Python/3.10/lib/python/site-packages (from pandas>=1.2->seaborn) (2025.2)\n",
      "Requirement already satisfied: pytz>=2020.1 in /Users/wanonnoiqtyider/Library/Python/3.10/lib/python/site-packages (from pandas>=1.2->seaborn) (2025.2)\n",
      "Requirement already satisfied: six>=1.5 in /Users/wanonnoiqtyider/Library/Python/3.10/lib/python/site-packages (from python-dateutil>=2.7->matplotlib!=3.6.1,>=3.4->seaborn) (1.17.0)\n",
      "\u001b[33mWARNING: You are using pip version 21.2.3; however, version 25.1 is available.\n",
      "You should consider upgrading via the '/usr/local/bin/python3 -m pip install --upgrade pip' command.\u001b[0m\n"
     ]
    },
    {
     "data": {
      "image/png": "[encoded data removed]",
      "text/plain": [
       "<Figure size 800x600 with 1 Axes>"
      ]
     },
     "metadata": {},
     "output_type": "display_data"
    }
   ],
   "source": [
    "#Visualizing the Data\n",
    "import sys\n",
    "!{sys.executable} -m pip install seaborn\n",
    "\n",
    "import seaborn as sns\n",
    "import matplotlib.pyplot as plt  # <-- Don't forget this line!\n",
    "\n",
    "# Filter for 2010\n",
    "df_2010 = df_merged[df_merged['Year'] == 2010]\n",
    "\n",
    "# Regression plot\n",
    "plt.figure(figsize=(8,6))\n",
    "sns.regplot(x='Polyarchy Score', y='GDP Value', data=df_2010, scatter_kws={'alpha':0.7})\n",
    "plt.title('Relationship between Democracy and GDP (2010)')\n",
    "plt.xlabel('Polyarchy Score')\n",
    "plt.ylabel('GDP Value')\n",
    "plt.grid(True)\n",
    "plt.show()\n",
    "\n"
   ]
  },
  {
   "cell_type": "markdown",
   "id": "762388d3",
   "metadata": {},
   "source": [
    "## Global datasets\n",
    "\n",
    "- What: Download, manipulate and merge two or more datasets from below\n",
    "- How: Create functions in a python file to do this\n",
    "- Show: Show how to use these python files in a notebook\n",
    "\n",
    "* **Penn World Table (PWT):** Provides purchasing power parity and national income accounts data.\n",
    "    * **Link:** [http://www.ggdc.net/pwt](http://www.ggdc.net/pwt)\n",
    "\n",
    "* **UNCTADstat (UNCTAD):** Offers data on trade, investment, and development.\n",
    "    * **Link:** [https://unctadstat.unctad.org/](https://unctadstat.unctad.org/)\n",
    "\n",
    "* **FAOSTAT (FAO):** Provides data on food, agriculture, forestry, and related areas.\n",
    "    * **Link:** [http://www.fao.org/faostat/en/#data](http://www.fao.org/faostat/en/#data)\n",
    "\n",
    "* **ILOSTAT (ILO):** Offers labor statistics, including employment and wages.\n",
    "    * **Link:** [https://ilostat.ilo.org/](https://ilostat.ilo.org/)\n",
    "\n",
    "* **Federal Reserve Economic Data (FRED):** Economic and financial data from the Federal Reserve.\n",
    "    * **Link:** [https://fred.stlouisfed.org/](https://fred.stlouisfed.org/)\n",
    "\n",
    "* **Bank for International Settlements (BIS):** Data and statistics on banking, financial markets, and the global economy.\n",
    "    * **Link:** [https://www.bis.org/statistics/index.htm](https://www.bis.org/statistics/index.htm)\n",
    "\n",
    "* **International Monetary Fund (IMF) Data:** A variety of macroeconomic and financial data.\n",
    "    * **Link:** [https://www.imf.org/en/data](https://www.imf.org/en/data)\n",
    "\n",
    "* **Eurostat:** Provides a wide range of statistics on the European Union, including economic, social, and demographic data.\n",
    "    * **Link:** [https://ec.europa.eu/eurostat/](https://ec.europa.eu/eurostat/)\n",
    "\n",
    "* **World Bank Data:** Comprehensive data on development indicators across countries.\n",
    "    * **Link:** [https://data.worldbank.org/](https://data.worldbank.org/)\n",
    "\n",
    "* **Varieties of Democracy (V-Dem):** Datasets measuring various aspects of democracy across countries.\n",
    "    * **Link:** [https://v-dem.net/](https://v-dem.net/)\n",
    "\n",
    "* **OECD Data:** Statistics and indicators from the Organisation for Economic Co-operation and Development, covering a broad range of topics.\n",
    "    * **Link:** [https://data.oecd.org/](https://data.oecd.org/)\n",
    "\n",
    "* **Quality of Government (QoG):** Datasets on governance, institutions, and quality of government.\n",
    "    * **Link:** [https://qog.gu.se/](https://qog.gu.se/)\n",
    "\n",
    "* **IPCC Data:** Climate change data and scenarios from the Intergovernmental Panel on Climate Change.\n",
    "    * (Note: Access to data varies, often through specific reports or data portals linked within the IPCC website)\n",
    "    * **Link:** [https://www.ipcc.ch/](https://www.ipcc.ch/)\n",
    "\n",
    "* **Our World in Data:** Research and data on global development, poverty, health, and other topics.\n",
    "    * **Link:** [https://ourworldindata.org/](https://ourworldindata.org/)\n",
    "\n",
    "* **UN Comtrade:** United Nations Commodity Trade Statistics Database.\n",
    "    * **Link:** [https://comtrade.un.org/](https://comtrade.un.org/)\n",
    "\n",
    "\n",
    "## Academic datasets\n",
    "\n",
    "* **Dallas Fed Global Economic Indicators (DGEI):** [DGEI](https://www.dallasfed.org/research/international/dgei)\n",
    "* **Dallas Fed International House Price Database:** [House Price](https://www.dallasfed.org/research/international/houseprice#data)\n",
    "* **New York Fed r* (Natural Rate of Interest):** [r*](https://www.newyorkfed.org/research/policy/rstar)\n",
    "* **Chinn-Ito Index (KAOPEN):** [KAOPEN](https://web.pdx.edu/~ito/Chinn-Ito_website.htm)\n",
    "* **Metrick-Schmelzing Paper and Database (Long-Term Real Rates):** [Real Rates](https://som.yale.edu/centers/program-on-financial-stability/metrick-schmelzing-paper-and-database)\n",
    "* **Yale Program on Financial Stability COVID-19 Tracker:** [COVID-19 Tracker](https://som.yale.edu/centers/program-on-financial-stability/covid-19-tracker)\n",
    "* **IMF Financial Integration:** [Financial Integration](https://www.imf.org/en/Publications/WP/Issues/2017/05/10/International-Financial-Integration-in-the-Aftermath-of-the-Global-Financial-Crisis-44906)\n",
    "* **IMF Macroprudential Policy Survey:** [Macroprudential](https://www.elibrary-areaer.imf.org/Macroprudential/Pages/Home.aspx)\n",
    "* **Nancy Xu's Risk Aversion Index:** [Risk Aversion](https://www.nancyxu.net/risk-aversion-index)\n",
    "* **Jorda-Schularick-Taylor Macrohistory Database:** [Macrohistory](https://www.nber.org/research/data/jorda-schularick-taylor-macrohistory)\n",
    "* **Central Bank Independence (CBI) Data:** [CBI Data](https://sites.google.com/site/carogarriga/cbi-data-1)\n",
    "* **Global Inflation Data:** [Inflation Data](https://www.worldbank.org/en/research/brief/inflation-database)\n",
    "\n",
    "## U.S Datasets\n",
    "- https://www.sca.isr.umich.edu/tables.html\n",
    "- https://www.bea.gov/data\n",
    "- https://www.bls.gov/jlt/\n",
    "- https://adpemploymentreport.com/\n",
    "\n",
    "## Japan datasets\n",
    "\n",
    "* **Economy Watchers Survey (Cabinet Office):** [Watchers Survey](https://www5.cao.go.jp/keizai3/watcher.html)\n",
    "* **Consumption Trend Index (ESRI, Cabinet Office):** [Consumption Index](https://www.esri.cao.go.jp/en/stat/shouhi/shouhi-e.html)\n",
    "* **Prefectural Accounts (ESRI, Cabinet Office):** [Prefectural Accounts](https://www.esri.cao.go.jp/jp/sna/sonota/kenmin/kenmin_top.html)\n",
    "* **Insurance Statistics (General Insurance Association of Japan):** [Insurance Stats](https://www.sonpo.or.jp/en/statistics/index.html)\n",
    "* **FSA Policy Response (Financial Services Agency):** [FSA Response](https://www.fsa.go.jp/news/r1/20200313-2.html)\n",
    "* **Franchise Industry Data (Japan Franchise Association):** [Franchise Data](https://www.jfnet.or.jp/data/data_c.html)\n",
    "* **Trends Foreign Visitors (MLIT, Japan Tourism Agency):** [Visitor Spending](https://www.mlit.go.jp/kankocho/tokei_hakusyo/gaikokujinshohidoko.html)\n",
    "* **Tax and Stamp Revenues (Ministry of Finance):** [Tax Revenues](https://www.mof.go.jp/tax_policy/reference/taxes_and_stamp_revenues/data.htm)\n",
    "* **Life Insurance Statistics (Life Insurance Association of Japan):** [Life Insurance](https://www.seiho.or.jp/english/statistics/)\n",
    "* **Economic Growth (Tokyo Foundation for Policy Research):** [GDP](https://www.tkfd.or.jp/research/detail.php?id=2983)\n",
    "* **Consumer Price Index (Statistics Bureau of Japan):** [CPI](https://www.stat.go.jp/english/data/cpi/1588.html#his)\n",
    "* **Bank Financial Statements (Financial Services Agency):** [Bank Statements](https://www.fsa.go.jp/status/ginkou_kessan/index.html)\n",
    "* **Budget Revenue and Expenditure (Ministry of Finance):** [Budget Data](https://www.mof.go.jp/policy/budget/report/revenue_and_expenditure/index.htm)\n",
    "* **Trade Statistics (Japan Customs):** [Trade Stats](https://www.customs.go.jp/toukei/info/index_e.htm)\n",
    "* **Banking Statistics (Japanese Bankers Association):** [Banking Stats](https://www.zenginkyo.or.jp/stats/year2-02/)\n",
    "* **Household Expenditure Survey (Statistics Bureau):** [Household Spending](https://www.stat.go.jp/data/kakei/longtime/index.html#time)\n",
    "* **Economic Statistics (Federation of Economic Organizations):** [Econ Stats](https://www.zenkeijikyo.or.jp/statistics)\n",
    "* **Regional Banks:** [Regional Banks data](https://www.chiginkyo.or.jp/news_topics/)\n",
    "* **Japan Economic Policy Uncertainty Index:** [Policy Uncertainty](https://www.policyuncertainty.com/japan_monthly.html)"
   ]
  },
  {
   "cell_type": "markdown",
   "id": "e271cef6",
   "metadata": {},
   "source": []
  }
 ],
 "metadata": {
  "kernelspec": {
   "display_name": "Python 3",
   "language": "python",
   "name": "python3"
  },
  "language_info": {
   "codemirror_mode": {
    "name": "ipython",
    "version": 3
   },
   "file_extension": ".py",
   "mimetype": "text/x-python",
   "name": "python",
   "nbconvert_exporter": "python",
   "pygments_lexer": "ipython3",
   "version": "3.10.0"
  }
 },
 "nbformat": 4,
 "nbformat_minor": 5
}
