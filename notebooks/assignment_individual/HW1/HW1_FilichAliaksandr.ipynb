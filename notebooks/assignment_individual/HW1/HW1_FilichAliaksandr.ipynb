{
 "cells": [
  {
   "metadata": {},
   "cell_type": "markdown",
   "source": [
    "# Assignment 1\n",
    "*     Research: trace how two neighbouring countires - Belarus and Poland developed their main economic indicator -- GPD -- in relation to the development of democracy in same countries in XX century.\n",
    "*     Databases: VDem, Eurostat, World Bank\n"
   ],
   "id": "d97ea06db3f9008f"
  },
  {
   "metadata": {},
   "cell_type": "markdown",
   "source": "step 1: Filter VDem data (stored locally) of electoral and liberal democracies indexes for Poland and Belarus and export to repo; Filter historical GDP stat",
   "id": "7da20bd679355663"
  },
  {
   "metadata": {
    "ExecuteTime": {
     "end_time": "2025-04-25T10:34:34.146477Z",
     "start_time": "2025-04-25T10:34:24.476834Z"
    }
   },
   "cell_type": "code",
   "source": [
    "import pandas as pd\n",
    "\n",
    "# importing the data\n",
    "df = pd.read_csv('/Users/Ksardas/Documents/Vdem/V-Dem-CY-Full+Others-v15.csv', low_memory=False)\n",
    "\n",
    "# filter for Poland (17) and BY (107)\n",
    "filtered_df = df[df['country_id'].isin([107, 17])]\n",
    "\n",
    "# Filter for v2x_polyarchy and v2x_libdem tags and years >= 1945\n",
    "filtered_df = filtered_df[['country_id', 'year', 'v2x_polyarchy', 'v2x_libdem']]\n",
    "filtered_df = filtered_df[filtered_df['year'] >= 1945]\n",
    "\n",
    "# If 1945 is missing, include the closest available year <-- added just in case\n",
    "if 1945 not in filtered_df['year'].values:\n",
    "    closest_year = filtered_df['year'].min()\n",
    "    filtered_df = filtered_df[filtered_df['year'] == closest_year]\n",
    "\n",
    "\n",
    "# export to csv\n",
    "filtered_df.to_csv('../../../data/raw/vdem_poland_by2.csv', index=False)\n",
    "\n",
    "print(\"done\")"
   ],
   "id": "a1f18c95ad7927d7",
   "outputs": [
    {
     "name": "stdout",
     "output_type": "stream",
     "text": [
      "done\n"
     ]
    }
   ],
   "execution_count": 18
  },
  {
   "metadata": {
    "ExecuteTime": {
     "end_time": "2025-04-25T11:05:12.316336Z",
     "start_time": "2025-04-25T11:05:07.368777Z"
    }
   },
   "cell_type": "code",
   "source": [
    "# for historical GDP data I use the Maddison Project Database 2023. This dataset incorporates data on GDP per capita and population for 169 countries and aggregate regions from 1 AD up to 2022.\n",
    "import pandas as pd\n",
    "# have to use another panda bc its excel and define the sheet name from which to import\n",
    "df = pd.read_excel('/Users/Ksardas/Documents/mpd2023_web.xlsx', sheet_name='Full data', engine='openpyxl')\n",
    "#print(df.columns) <- used this to find out the names of the columns\n",
    "\n",
    "# Filter for Belarus (BLR) and Poland (POL)\n",
    "filtered_df = df[df['countrycode'].isin(['BLR', 'POL'])]\n",
    "\n",
    "# Find the first year where 'gdppc' is a number for BLR\n",
    "first_valid_year = filtered_df[(filtered_df['countrycode'] == 'BLR') & (filtered_df['gdppc'].notna())]['year'].min()\n",
    "\n",
    "# Filter data starting from the first valid year for BLR\n",
    "filtered_df = filtered_df[(filtered_df['year'] >= first_valid_year) | (filtered_df['countrycode'] == 'POL')]\n",
    "\n",
    "# drop the 'pop' column\n",
    "filtered_df = filtered_df.drop(columns=['pop', 'region', 'countrycode'])\n",
    "\n",
    "filtered_df.to_csv('../../../data/raw/mad_poland_by.csv', index=False)\n",
    "\n",
    "print(\"done\")\n",
    "\n",
    "# /Users/Ksardas/Documents/mpd2023_web.xlsx <- just not to forget where the file is"
   ],
   "id": "5e6f387463ec9a19",
   "outputs": [
    {
     "name": "stdout",
     "output_type": "stream",
     "text": [
      "done\n"
     ]
    }
   ],
   "execution_count": 31
  },
  {
   "metadata": {},
   "cell_type": "markdown",
   "source": "Preview what we got",
   "id": "ecf7d8af1f336919"
  },
  {
   "metadata": {
    "ExecuteTime": {
     "end_time": "2025-04-25T11:05:15.274807Z",
     "start_time": "2025-04-25T11:05:15.262536Z"
    }
   },
   "cell_type": "code",
   "source": [
    "import pandas as pd\n",
    "\n",
    "vdem_data = pd.read_csv('../../../data/raw/vdem_poland_by2.csv')\n",
    "print(vdem_data.head(3))\n",
    "\n",
    "gdp_data = pd.read_csv('../../../data/raw/mad_poland_by.csv')\n",
    "print(gdp_data.head(3))"
   ],
   "id": "3db733822325e069",
   "outputs": [
    {
     "name": "stdout",
     "output_type": "stream",
     "text": [
      "   country_id  year  v2x_polyarchy  v2x_libdem\n",
      "0          17  1945          0.160       0.104\n",
      "1          17  1946          0.164       0.104\n",
      "2          17  1947          0.180       0.108\n",
      "   country  year   gdppc\n",
      "0  Belarus  1973  8341.0\n",
      "1  Belarus  1974     NaN\n",
      "2  Belarus  1975     NaN\n"
     ]
    }
   ],
   "execution_count": 32
  },
  {
   "metadata": {},
   "cell_type": "markdown",
   "source": "Change the column names to be the same",
   "id": "8fb4b8b27813431f"
  },
  {
   "metadata": {},
   "cell_type": "code",
   "source": [
    "import pandas as pd\n",
    "\n",
    "#load data\n",
    "vdem_data = pd.read_csv('../../../data/raw/vdem_poland_by2.csv')\n",
    "\n",
    "#input naming\n",
    "country_naming = {17: 'Poland', 107: 'Belarus'}\n",
    "vdem_data['country'] = vdem_data['country_id'].map(country_naming)\n",
    "\n",
    "#delete not needed column\n",
    "vdem_data = vdem_data.drop(columns=['country_id'])\n",
    "\n",
    "#save\n",
    "vdem_data.to_csv('../../../data/raw/vdem_poland_by2.csv', index=False)\n",
    "\n",
    "print(\"done\")"
   ],
   "id": "827db63e61c06705",
   "outputs": [],
   "execution_count": null
  },
  {
   "metadata": {
    "ExecuteTime": {
     "end_time": "2025-04-25T11:31:14.145854Z",
     "start_time": "2025-04-25T11:31:14.120086Z"
    }
   },
   "cell_type": "code",
   "source": [
    "#preview just in case\n",
    "import pandas as pd\n",
    "\n",
    "vdem_data = pd.read_csv('../../../data/raw/vdem_poland_by2.csv')\n",
    "print(vdem_data.head(3))\n",
    "\n",
    "gdp_data = pd.read_csv('../../../data/raw/mad_poland_by.csv')\n",
    "print(gdp_data.head(3))"
   ],
   "id": "ab5dd9c6edf3388e",
   "outputs": [
    {
     "name": "stdout",
     "output_type": "stream",
     "text": [
      "   year  v2x_polyarchy  v2x_libdem country\n",
      "0  1945          0.160       0.104  Poland\n",
      "1  1946          0.164       0.104  Poland\n",
      "2  1947          0.180       0.108  Poland\n",
      "   country  year   gdppc\n",
      "0  Belarus  1973  8341.0\n",
      "1  Belarus  1974     NaN\n",
      "2  Belarus  1975     NaN\n"
     ]
    }
   ],
   "execution_count": 37
  },
  {
   "metadata": {},
   "cell_type": "markdown",
   "source": "okay now we can index",
   "id": "4f4c880109e4faa7"
  },
  {
   "metadata": {},
   "cell_type": "code",
   "source": [
    "#set the index\n",
    "vdem_data = vdem_data.set_index(['country', 'year', 'v2x_polyarchy', 'v2x_libdem'])\n",
    "print(vdem_data.head(3))\n",
    "#print was a bad idea\n",
    "gdp_data = gdp_data.set_index(['country', 'year', 'gdppc'])\n",
    "print(gdp_data.head(3))"
   ],
   "id": "ee40addbf561f1b8",
   "outputs": [],
   "execution_count": null
  },
  {
   "metadata": {
    "ExecuteTime": {
     "end_time": "2025-04-25T11:48:32.609405Z",
     "start_time": "2025-04-25T11:48:32.588531Z"
    }
   },
   "cell_type": "code",
   "source": [
    "vdem_data.tail(3)\n",
    "#check"
   ],
   "id": "7e30f558da0ce7a3",
   "outputs": [
    {
     "data": {
      "text/plain": [
       "Empty DataFrame\n",
       "Columns: []\n",
       "Index: [(Belarus, 2022, 0.172, 0.037), (Belarus, 2023, 0.157, 0.035), (Belarus, 2024, 0.161, 0.036)]"
      ],
      "text/html": [
       "<div>\n",
       "<style scoped>\n",
       "    .dataframe tbody tr th:only-of-type {\n",
       "        vertical-align: middle;\n",
       "    }\n",
       "\n",
       "    .dataframe tbody tr th {\n",
       "        vertical-align: top;\n",
       "    }\n",
       "\n",
       "    .dataframe thead th {\n",
       "        text-align: right;\n",
       "    }\n",
       "</style>\n",
       "<table border=\"1\" class=\"dataframe\">\n",
       "  <thead>\n",
       "    <tr style=\"text-align: right;\">\n",
       "      <th></th>\n",
       "      <th></th>\n",
       "      <th></th>\n",
       "      <th></th>\n",
       "    </tr>\n",
       "    <tr>\n",
       "      <th>country</th>\n",
       "      <th>year</th>\n",
       "      <th>v2x_polyarchy</th>\n",
       "      <th>v2x_libdem</th>\n",
       "    </tr>\n",
       "  </thead>\n",
       "  <tbody>\n",
       "    <tr>\n",
       "      <th rowspan=\"3\" valign=\"top\">Belarus</th>\n",
       "      <th>2022</th>\n",
       "      <th>0.172</th>\n",
       "      <th>0.037</th>\n",
       "    </tr>\n",
       "    <tr>\n",
       "      <th>2023</th>\n",
       "      <th>0.157</th>\n",
       "      <th>0.035</th>\n",
       "    </tr>\n",
       "    <tr>\n",
       "      <th>2024</th>\n",
       "      <th>0.161</th>\n",
       "      <th>0.036</th>\n",
       "    </tr>\n",
       "  </tbody>\n",
       "</table>\n",
       "</div>"
      ]
     },
     "execution_count": 44,
     "metadata": {},
     "output_type": "execute_result"
    }
   ],
   "execution_count": 44
  },
  {
   "metadata": {},
   "cell_type": "markdown",
   "source": "now we can merge",
   "id": "fe279775392b009"
  },
  {
   "metadata": {
    "ExecuteTime": {
     "end_time": "2025-04-25T11:56:14.573590Z",
     "start_time": "2025-04-25T11:56:14.540280Z"
    }
   },
   "cell_type": "code",
   "source": [
    "import pandas as pd\n",
    "\n",
    "#load\n",
    "vdem_data = pd.read_csv('../../../data/raw/vdem_poland_by2.csv')\n",
    "gdp_data = pd.read_csv('../../../data/raw/mad_poland_by.csv')\n",
    "\n",
    "merged_data = pd.merge(vdem_data, gdp_data, on=['country', 'year'], how='inner')\n",
    "\n",
    "#save\n",
    "merged_data.to_csv('../../../data/clean/merged_poland_by.csv', index=False)\n",
    "\n",
    "print(\"done\")"
   ],
   "id": "aeda132debea1fa1",
   "outputs": [
    {
     "name": "stdout",
     "output_type": "stream",
     "text": [
      "done\n"
     ]
    }
   ],
   "execution_count": 46
  },
  {
   "metadata": {
    "ExecuteTime": {
     "end_time": "2025-04-25T12:00:19.344758Z",
     "start_time": "2025-04-25T12:00:19.303736Z"
    }
   },
   "cell_type": "code",
   "source": [
    "merged_poland_by = pd.read_csv('../../../data/clean/merged_poland_by.csv')\n",
    "merged_poland_by.tail(3)"
   ],
   "id": "7a05cb5e6409e5d6",
   "outputs": [
    {
     "data": {
      "text/plain": [
       "     year  v2x_polyarchy  v2x_libdem  country         gdppc\n",
       "108  2020          0.211       0.046  Belarus  19053.157021\n",
       "109  2021          0.173       0.036  Belarus  19541.914363\n",
       "110  2022          0.172       0.037  Belarus  18699.798237"
      ],
      "text/html": [
       "<div>\n",
       "<style scoped>\n",
       "    .dataframe tbody tr th:only-of-type {\n",
       "        vertical-align: middle;\n",
       "    }\n",
       "\n",
       "    .dataframe tbody tr th {\n",
       "        vertical-align: top;\n",
       "    }\n",
       "\n",
       "    .dataframe thead th {\n",
       "        text-align: right;\n",
       "    }\n",
       "</style>\n",
       "<table border=\"1\" class=\"dataframe\">\n",
       "  <thead>\n",
       "    <tr style=\"text-align: right;\">\n",
       "      <th></th>\n",
       "      <th>year</th>\n",
       "      <th>v2x_polyarchy</th>\n",
       "      <th>v2x_libdem</th>\n",
       "      <th>country</th>\n",
       "      <th>gdppc</th>\n",
       "    </tr>\n",
       "  </thead>\n",
       "  <tbody>\n",
       "    <tr>\n",
       "      <th>108</th>\n",
       "      <td>2020</td>\n",
       "      <td>0.211</td>\n",
       "      <td>0.046</td>\n",
       "      <td>Belarus</td>\n",
       "      <td>19053.157021</td>\n",
       "    </tr>\n",
       "    <tr>\n",
       "      <th>109</th>\n",
       "      <td>2021</td>\n",
       "      <td>0.173</td>\n",
       "      <td>0.036</td>\n",
       "      <td>Belarus</td>\n",
       "      <td>19541.914363</td>\n",
       "    </tr>\n",
       "    <tr>\n",
       "      <th>110</th>\n",
       "      <td>2022</td>\n",
       "      <td>0.172</td>\n",
       "      <td>0.037</td>\n",
       "      <td>Belarus</td>\n",
       "      <td>18699.798237</td>\n",
       "    </tr>\n",
       "  </tbody>\n",
       "</table>\n",
       "</div>"
      ]
     },
     "execution_count": 52,
     "metadata": {},
     "output_type": "execute_result"
    }
   ],
   "execution_count": 52
  },
  {
   "metadata": {},
   "cell_type": "markdown",
   "source": "Now maybe make a graph?",
   "id": "32116829529f78f"
  },
  {
   "metadata": {},
   "cell_type": "code",
   "source": [
    "import pandas as pd\n",
    "import matplotlib.pyplot as plt\n",
    "\n",
    "data = pd.read_csv('../../../data/clean/merged_poland_by.csv')\n",
    "belarus_data = data[(data['country'] == 'Belarus') & (data['year'] >= 1990) & (data['year'] <= 2022)]\n",
    "poland_data = data[(data['country'] == 'Poland') & (data['year'] >= 1990) & (data['year'] <= 2022)]\n",
    "\n"
   ],
   "id": "2298a0cb388400b8",
   "outputs": [],
   "execution_count": null
  },
  {
   "metadata": {},
   "cell_type": "code",
   "outputs": [],
   "execution_count": null,
   "source": "",
   "id": "e0cd5b4d34e0ea3"
  }
 ],
 "metadata": {
  "kernelspec": {
   "display_name": "Python 3",
   "language": "python",
   "name": "python3"
  },
  "language_info": {
   "codemirror_mode": {
    "name": "ipython",
    "version": 2
   },
   "file_extension": ".py",
   "mimetype": "text/x-python",
   "name": "python",
   "nbconvert_exporter": "python",
   "pygments_lexer": "ipython2",
   "version": "2.7.6"
  }
 },
 "nbformat": 4,
 "nbformat_minor": 5
}
