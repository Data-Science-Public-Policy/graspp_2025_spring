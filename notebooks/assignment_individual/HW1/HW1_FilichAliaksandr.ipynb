{
 "cells": [
  {
   "metadata": {},
   "cell_type": "markdown",
   "source": [
    "# Assignment 1\n",
    "*     Research: trace how poland's economic stats grew together with its democracy indexes after WWII\n",
    "*     Databases: VDem, Eurostat, World Bank\n"
   ],
   "id": "d97ea06db3f9008f"
  },
  {
   "metadata": {
    "ExecuteTime": {
     "end_time": "2025-04-25T06:57:14.852835Z",
     "start_time": "2025-04-25T06:57:05.504150Z"
    }
   },
   "cell_type": "code",
   "source": [
    "# Filter VDem data (stored locally) for Poland and export to repo\n",
    "import pandas as pd\n",
    "\n",
    "# importing the data\n",
    "df = pd.read_csv('/Users/Ksardas/Documents/Vdem/V-Dem-CY-Full+Others-v15.csv', low_memory=False)\n",
    "\n",
    "# filter for Poland (17)\n",
    "filtered_df = df[df['country_id'].isin([17])]\n",
    "\n",
    "# export to csv\n",
    "filtered_df.to_csv('../../../data/raw/vdem_poland.csv', index=False)\n",
    "\n",
    "print(\"done\")"
   ],
   "id": "a1f18c95ad7927d7",
   "outputs": [
    {
     "name": "stdout",
     "output_type": "stream",
     "text": [
      "done\n"
     ]
    }
   ],
   "execution_count": 6
  }
 ],
 "metadata": {
  "kernelspec": {
   "display_name": "Python 3",
   "language": "python",
   "name": "python3"
  },
  "language_info": {
   "codemirror_mode": {
    "name": "ipython",
    "version": 2
   },
   "file_extension": ".py",
   "mimetype": "text/x-python",
   "name": "python",
   "nbconvert_exporter": "python",
   "pygments_lexer": "ipython2",
   "version": "2.7.6"
  }
 },
 "nbformat": 4,
 "nbformat_minor": 5
}
