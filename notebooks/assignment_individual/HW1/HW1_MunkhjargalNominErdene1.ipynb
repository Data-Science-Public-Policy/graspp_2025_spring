{
 "cells": [
  {
   "cell_type": "code",
   "execution_count": 54,
   "id": "c2644562",
   "metadata": {},
   "outputs": [
    {
     "ename": "ImportError",
     "evalue": "cannot import name 'GDP_percapita' from 'data_processing' (/Users/nomin-erdenemunkhjargal/Documents/GraSPP/S1/DataScience/graspp_2025_spring/src/data_processing.py)",
     "output_type": "error",
     "traceback": [
      "\u001b[31m---------------------------------------------------------------------------\u001b[39m",
      "\u001b[31mImportError\u001b[39m                               Traceback (most recent call last)",
      "\u001b[36mCell\u001b[39m\u001b[36m \u001b[39m\u001b[32mIn[54]\u001b[39m\u001b[32m, line 3\u001b[39m\n\u001b[32m      1\u001b[39m \u001b[38;5;28;01mimport\u001b[39;00m\u001b[38;5;250m \u001b[39m\u001b[34;01msys\u001b[39;00m\n\u001b[32m      2\u001b[39m sys.path.append(\u001b[33m'\u001b[39m\u001b[33m../../../src\u001b[39m\u001b[33m'\u001b[39m)\n\u001b[32m----> \u001b[39m\u001b[32m3\u001b[39m \u001b[38;5;28;01mfrom\u001b[39;00m\u001b[38;5;250m \u001b[39m\u001b[34;01mdata_processing\u001b[39;00m\u001b[38;5;250m \u001b[39m\u001b[38;5;28;01mimport\u001b[39;00m GDP_percapita, tax_revenue, merge_gdp_tax, describe_stats\n\u001b[32m      5\u001b[39m \u001b[38;5;66;03m# Paths\u001b[39;00m\n\u001b[32m      6\u001b[39m gdp_raw_path = \u001b[33m'\u001b[39m\u001b[33m../../../data/raw/GDP_raw.csv\u001b[39m\u001b[33m'\u001b[39m\n",
      "\u001b[31mImportError\u001b[39m: cannot import name 'GDP_percapita' from 'data_processing' (/Users/nomin-erdenemunkhjargal/Documents/GraSPP/S1/DataScience/graspp_2025_spring/src/data_processing.py)"
     ]
    }
   ],
   "source": [
    "import sys\n",
    "sys.path.append('../../../src')\n",
    "from data_processing import GDP_percapita, tax_revenue, merge_gdp_tax, describe_stats\n",
    "\n",
    "# Paths\n",
    "gdp_raw_path = '../../../data/raw/GDP_raw.csv'\n",
    "tax_raw_path = '../../../data/raw/taxrevenue_raw.csv'\n",
    "gdp_processed_path = '../../../data/processed/GDP_percapita.csv'\n",
    "tax_processed_path = '../../../data/processed/TaxRevenue.csv'\n",
    "\n",
    "# Process individual datasets\n",
    "gdp_df = GDP_percapita(gdp_raw_path, gdp_processed_path)\n",
    "tax_df = tax_revenue(tax_raw_path, tax_processed_path)\n",
    "\n",
    "# Merge\n",
    "merged_df = merge_gdp_tax(gdp_df, tax_df)\n",
    "\n",
    "# Descriptive stats\n",
    "print(describe_stats(merged_df))\n",
    "\n",
    "# Optional: Correlation\n",
    "print(merged_df[['GDP_percapita', 'TaxRevenue_percent_GDP']].corr())\n"
   ]
  },
  {
   "cell_type": "code",
   "execution_count": 59,
   "id": "7be37a31",
   "metadata": {},
   "outputs": [
    {
     "name": "stdout",
     "output_type": "stream",
     "text": [
      "True\n"
     ]
    }
   ],
   "source": [
    "import os\n",
    "\n",
    "# Check if the data_processing.py file exists at the path\n",
    "print(os.path.exists('../../../data/raw/GDP_raw.csv'))  # 👉 Should print True if the file exists\n"
   ]
  },
  {
   "cell_type": "code",
   "execution_count": 60,
   "id": "fcb81fb2",
   "metadata": {},
   "outputs": [
    {
     "name": "stdout",
     "output_type": "stream",
     "text": [
      "True\n"
     ]
    }
   ],
   "source": [
    "import os\n",
    "\n",
    "# Check if the data_processing.py file exists at the path\n",
    "print(os.path.exists('../../../data/raw/GDP_raw.csv'))  # 👉 Should print True if the file exists"
   ]
  },
  {
   "cell_type": "code",
   "execution_count": 61,
   "id": "4ccf142a",
   "metadata": {},
   "outputs": [
    {
     "name": "stdout",
     "output_type": "stream",
     "text": [
      "True\n"
     ]
    }
   ],
   "source": [
    "import os\n",
    "\n",
    "# Check if the data_processing.py file exists at the path\n",
    "print(os.path.exists('../../../data/raw/taxrevenue_raw.csv'))  # 👉 Should print True if the file exists"
   ]
  },
  {
   "cell_type": "code",
   "execution_count": 62,
   "id": "265a0be9",
   "metadata": {},
   "outputs": [
    {
     "name": "stdout",
     "output_type": "stream",
     "text": [
      "True\n"
     ]
    }
   ],
   "source": [
    "import os\n",
    "\n",
    "# Check if the data_processing.py file exists at the path\n",
    "print(os.path.exists('../../../src/data_processing.py'))  # 👉 Should print True if the file exists"
   ]
  },
  {
   "cell_type": "code",
   "execution_count": 58,
   "id": "fac83315",
   "metadata": {},
   "outputs": [
    {
     "ename": "ImportError",
     "evalue": "cannot import name 'GDP_percapita' from 'data_processing' (/Users/nomin-erdenemunkhjargal/Documents/GraSPP/S1/DataScience/graspp_2025_spring/src/data_processing.py)",
     "output_type": "error",
     "traceback": [
      "\u001b[31m---------------------------------------------------------------------------\u001b[39m",
      "\u001b[31mImportError\u001b[39m                               Traceback (most recent call last)",
      "\u001b[36mCell\u001b[39m\u001b[36m \u001b[39m\u001b[32mIn[58]\u001b[39m\u001b[32m, line 3\u001b[39m\n\u001b[32m      1\u001b[39m \u001b[38;5;28;01mimport\u001b[39;00m\u001b[38;5;250m \u001b[39m\u001b[34;01msys\u001b[39;00m\n\u001b[32m      2\u001b[39m sys.path.append(\u001b[33m'\u001b[39m\u001b[33m../../../src\u001b[39m\u001b[33m'\u001b[39m)\n\u001b[32m----> \u001b[39m\u001b[32m3\u001b[39m \u001b[38;5;28;01mfrom\u001b[39;00m\u001b[38;5;250m \u001b[39m\u001b[34;01mdata_processing\u001b[39;00m\u001b[38;5;250m \u001b[39m\u001b[38;5;28;01mimport\u001b[39;00m GDP_percapita, tax_revenue, merge_gdp_tax, describe_stats\n\u001b[32m      5\u001b[39m \u001b[38;5;66;03m# Paths\u001b[39;00m\n\u001b[32m      6\u001b[39m gdp_raw_path = \u001b[33m'\u001b[39m\u001b[33m../../../data/raw/GDP_raw.csv\u001b[39m\u001b[33m'\u001b[39m\n",
      "\u001b[31mImportError\u001b[39m: cannot import name 'GDP_percapita' from 'data_processing' (/Users/nomin-erdenemunkhjargal/Documents/GraSPP/S1/DataScience/graspp_2025_spring/src/data_processing.py)"
     ]
    }
   ],
   "source": [
    "import sys\n",
    "sys.path.append('../../../src')\n",
    "from data_processing import GDP_percapita, tax_revenue, merge_gdp_tax, describe_stats\n",
    "\n",
    "# Paths\n",
    "gdp_raw_path = '../../../data/raw/GDP_raw.csv'\n",
    "tax_raw_path = '../../../data/raw/taxrevenue_raw.csv'\n",
    "gdp_processed_path = '../../../data/processed/GDP_percapita.csv'\n",
    "tax_processed_path = '../../../data/processed/TaxRevenue.csv'\n",
    "\n",
    "# Process individual datasets\n",
    "gdp_df = GDP_percapita(gdp_raw_path, gdp_processed_path)\n",
    "tax_df = tax_revenue(tax_raw_path, tax_processed_path)\n",
    "\n",
    "# Merge\n",
    "merged_df = merge_gdp_tax(gdp_df, tax_df)\n",
    "\n",
    "# Descriptive stats\n",
    "print(describe_stats(merged_df))\n",
    "\n",
    "# Optional: Correlation\n",
    "print(merged_df[['GDP_percapita', 'TaxRevenue_percent_GDP']].corr())\n"
   ]
  }
 ],
 "metadata": {
  "kernelspec": {
   "display_name": ".venv",
   "language": "python",
   "name": "python3"
  },
  "language_info": {
   "codemirror_mode": {
    "name": "ipython",
    "version": 3
   },
   "file_extension": ".py",
   "mimetype": "text/x-python",
   "name": "python",
   "nbconvert_exporter": "python",
   "pygments_lexer": "ipython3",
   "version": "3.13.3"
  }
 },
 "nbformat": 4,
 "nbformat_minor": 5
}
