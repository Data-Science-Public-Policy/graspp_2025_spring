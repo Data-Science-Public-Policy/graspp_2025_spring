{
 "cells": [
  {
   "cell_type": "markdown",
   "id": "3ae14035",
   "metadata": {},
   "source": [
    "# homework 1: Shunichi Nakada"
   ]
  }
 ],
 "metadata": {
  "language_info": {
   "name": "python"
  }
 },
 "nbformat": 4,
 "nbformat_minor": 5
}
