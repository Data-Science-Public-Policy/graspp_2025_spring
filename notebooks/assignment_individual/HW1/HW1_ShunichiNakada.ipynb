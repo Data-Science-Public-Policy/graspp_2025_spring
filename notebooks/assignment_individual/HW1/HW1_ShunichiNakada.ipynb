{
 "cells": [
  {
   "cell_type": "markdown",
   "id": "3ae14035",
   "metadata": {},
   "source": [
    "# homework 1: Shunichi Nakada"
   ]
  },
  {
   "cell_type": "markdown",
   "id": "ffc3d0d6",
   "metadata": {},
   "source": [
    "## objective, hypothesys and dataset\n",
    "\n",
    "1. objective To understand impact of government policy to promote DX technologies to improve quality of life in selected country \n",
    "1. hypothesys: government policy to promote DX technologies improve quality of life\n",
    "1. candidate treatment indicator (independent variables) \n",
    "    - government policy to enhance access and utilization of DX technology by rural vulnerable population (e.g. introduction status of national ID system) \n",
    "    - indicators to represent status of mobile technology accessibility (e.g. digital network coverage, how many mobile devise each household have, experience of e-commerce)  \n",
    "1. candidate outcome indicator (dependent variables) \n",
    "    - improved access to credit (e.g. through online banking and efficient and effective credit judgement) \n",
    "    - improved financial management (e.g. through improved financial record using online tool) \n",
    "    - improved productivity through enhanced financial access (e.g. through better access to farm inputs) \n",
    "    - improved resilience in agriculture production (through early-warning system with technical guidance using digital tool and information network) \n",
    "1. candidate target country India (introduced support policy such as natinal ID system, public e-commerce platform since 2010)  \n",
    "1. possible analysis method \n",
    "    1. strategy-1: between-country assessment  - collect country level statistics through online database such as worldbank, UN-organization, etc. - create panel data of number of countries as data available - apply statistic measure to compare treatment country (India, plus countries with similar policy applied, if any) and control counties (rest of the countries)  \n",
    "    1. strategy-2: within-country assessment - collect sub-national dataset from national statistic authority - create panel data of states in target country (India) - apply statistic measure to compare different regions using available statistics - comparison could be time-series analysis(before and after support policy introduced), or state-by-state comparison assuming there are variability in timing and progress of policy enforcement\n",
    "1. Current status\n",
    "    - Our team first tried to collect required Indian statistics(sub-national). However, it is not easy to collect state level statistics, and many datasets provided by pdf, not online data. This is still ongoing work.\n",
    "    - So, for this assignment, i decided to use international dataset to compare India and other Asian countries."
   ]
  },
  {
   "cell_type": "markdown",
   "id": "c49b227d",
   "metadata": {},
   "source": [
    "## Function to download dataset"
   ]
  },
  {
   "cell_type": "code",
   "execution_count": 1,
   "id": "229f3e8a",
   "metadata": {},
   "outputs": [
    {
     "name": "stdout",
     "output_type": "stream",
     "text": [
      "  OBS_VALUE TIME_FORMAT  UNIT_MULT COMMENT_OBS OBS_STATUS OBS_CONF AGG_METHOD  \\\n",
      "0  0.925926         602          0        None          A       PU       MEAN   \n",
      "1   10.9568         602          0        None          A       PU       MEAN   \n",
      "2   4.32099         602          0        None          A       PU       MEAN   \n",
      "3   8.95062         602          0        None          A       PU       MEAN   \n",
      "4    3.7037         602          0        None          A       PU       MEAN   \n",
      "\n",
      "  DECIMALS COMMENT_TS DATA_SOURCE  ...  SEX AGE URBANISATION COMP_BREAKDOWN_1  \\\n",
      "0     None       None        None  ...   _T  _T           _T               _Z   \n",
      "1     None       None        None  ...   _T  _T           _T               _Z   \n",
      "2     None       None        None  ...   _T  _T           _T               _Z   \n",
      "3     None       None        None  ...   _T  _T           _T               _Z   \n",
      "4     None       None        None  ...   _T  _T           _T               _Z   \n",
      "\n",
      "  COMP_BREAKDOWN_2 COMP_BREAKDOWN_3 TIME_PERIOD FREQ UNIT_MEASURE UNIT_TYPE  \n",
      "0               _Z               _Z        2021    A     0_TO_100      None  \n",
      "1               _Z               _Z        2021    A     0_TO_100      None  \n",
      "2               _Z               _Z        2021    A     0_TO_100      None  \n",
      "3               _Z               _Z        2021    A     0_TO_100      None  \n",
      "4               _Z               _Z        2021    A     0_TO_100      None  \n",
      "\n",
      "[5 rows x 24 columns]\n"
     ]
    }
   ],
   "source": [
    "def importWB(database_id, indicator_id, year_from, year_to):\n",
    "    import requests\n",
    "    import pandas as pd\n",
    "\n",
    "    url = (\n",
    "        f\"https://data360api.worldbank.org/data360/data\"\n",
    "        f\"?DATABASE_ID={database_id}&INDICATOR={indicator_id}\"\n",
    "        f\"&timePeriodFrom={year_from}&timePeriodTo={year_to}&skip=0\"\n",
    "    )\n",
    "    headers = {\"accept\": \"application/json\"}\n",
    "\n",
    "    response = requests.get(url, headers=headers)\n",
    "    data = response.json()\n",
    "\n",
    "    # The data is under the \"value\" key\n",
    "    if \"value\" in data and data[\"value\"]:\n",
    "        df = pd.DataFrame(data[\"value\"])\n",
    "        return df\n",
    "    else:\n",
    "        print(\"No data available for the requested indicator and database.\")\n",
    "        return False\n",
    "\n",
    "mydf_ICTPolicy = importWB(\"ITU_ICT\", \"ITU_ICT_G5_DIG_ECON\", \"2000\", \"2025\")\n",
    "mydf_FarmCredit = importWB(\"FAO_IC\", \"FAO_IC_23068\", \"2000\", \"2025\")\n",
    "mydf_Value_AgProduction = importWB(\"FAO_MK\", \"FAO_MK_22016\", \"2000\", \"2025\")\n",
    "mydf_Value_AgProcessing = importWB(\"FAO_MK\", \"FAO_MK_22077\", \"2000\", \"2025\")\n",
    "mydf_Fertilizer = importWB(\"WB_WDI\", \"WB_WDI_AG_CON_FERT_ZS\", \"2000\", \"2025\")\n",
    "print(mydf_ICTPolicy.head())\n",
    "\n"
   ]
  },
  {
   "cell_type": "markdown",
   "id": "d13bfb07",
   "metadata": {},
   "source": [
    "## Function to filter dataset (focus on Asian countries including India)"
   ]
  },
  {
   "cell_type": "code",
   "execution_count": 2,
   "id": "9e1fc411",
   "metadata": {},
   "outputs": [
    {
     "name": "stdout",
     "output_type": "stream",
     "text": [
      "   areaCode  year ICTPolicy\n",
      "0       AFG  2021  0.925926\n",
      "7       ARM  2021   7.40741\n",
      "10      AZE  2021   8.02469\n",
      "12      BHR  2021   9.25926\n",
      "13      BGD  2021   6.79012\n",
      "19      BTN  2021   8.17901\n",
      "24      BRN  2021    9.5679\n",
      "29      KHM  2021   7.25309\n",
      "35      CHN  2021   14.8148\n",
      "63      GEO  2021   7.40741\n",
      "  areaCode  year FarmCredit\n",
      "0      AFG  2008   1.259477\n",
      "1      AFG  2010  11.894427\n",
      "2      AFG  2011  11.575633\n",
      "3      AFG  2012  14.524064\n",
      "4      AFG  2013  19.018687\n",
      "5      AFG  2014  17.388845\n",
      "6      AFG  2015  17.675774\n",
      "7      AFG  2016  20.133434\n",
      "8      AFG  2017  26.330719\n",
      "9      AFG  2018  25.250709\n"
     ]
    }
   ],
   "source": [
    "def filterDF(df, countries, colNames, newColNames):\n",
    "    filtered_df = df[df['REF_AREA'].isin(countries)][colNames]\n",
    "    filtered_df.columns = newColNames\n",
    "    return filtered_df\n",
    "\n",
    "asianCountries = ['AFG','ARM','AZE','BHR','BGD','BTN','BRN','KHM',\n",
    "                  'CHN','GEO','IND','IDN','IRN','IRQ','ISR','JPN','JOR','KAZ','PRK',\n",
    "                  'KOR','KWT','KGZ','LAO','LBN','MYS','MDV','MNG','MMR','NPL','OMN',\n",
    "                  'PAK','PSE','PHL','QAT','SAU','SGP','LKA','SYR','TJK','THA','TLS',\n",
    "                  'TUR','TKM','ARE','UZB','VNM','YEM']\n",
    "\n",
    "mydf_ICTPolicy_filtered = filterDF(mydf_ICTPolicy, asianCountries, [\"REF_AREA\", \"TIME_PERIOD\", \"OBS_VALUE\"], [\"areaCode\", \"year\", \"ICTPolicy\"])\n",
    "mydf_FarmCredit_filtered = filterDF(mydf_FarmCredit, asianCountries, [\"REF_AREA\", \"TIME_PERIOD\",\"OBS_VALUE\"], [\"areaCode\", \"year\", \"FarmCredit\"])\n",
    "mydf_Value_AgProduction_filtered = filterDF(mydf_Value_AgProduction, asianCountries, [\"REF_AREA\", \"TIME_PERIOD\",\"OBS_VALUE\"], [\"areaCode\", \"year\", \"ProductionValue\"])\n",
    "mydf_Value_AgProcessing_filtered = filterDF(mydf_Value_AgProcessing, asianCountries, [\"REF_AREA\", \"TIME_PERIOD\",\"OBS_VALUE\"], [\"areaCode\", \"year\", \"ProcessingValue\"])\n",
    "mydf_Fertilizer_filtered = filterDF(mydf_Fertilizer, asianCountries, [\"REF_AREA\", \"TIME_PERIOD\",\"OBS_VALUE\"], [\"areaCode\", \"year\", \"Fertilizer\"])\n",
    "print(mydf_ICTPolicy_filtered.head(10))\n",
    "print(mydf_FarmCredit_filtered.head(10))\n"
   ]
  },
  {
   "cell_type": "markdown",
   "id": "5d5c5c9e",
   "metadata": {},
   "source": [
    "## set index to merge (country and year)"
   ]
  },
  {
   "cell_type": "code",
   "execution_count": 3,
   "id": "07c27c7c",
   "metadata": {},
   "outputs": [],
   "source": [
    "def setIndex(df, key):\n",
    "    return df.set_index(key)\n",
    "\n",
    "mydf_ICTPolicy_indexed = setIndex(mydf_ICTPolicy_filtered, [\"areaCode\", \"year\"])\n",
    "mydf_FarmCredit_indexed = setIndex(mydf_FarmCredit_filtered, [\"areaCode\", \"year\"])\n",
    "mydf_Value_AgProduction_indexed = setIndex(mydf_Value_AgProduction_filtered, [\"areaCode\", \"year\"])\n",
    "mydf_Value_AgProcessing_indexed = setIndex(mydf_Value_AgProcessing_filtered, [\"areaCode\", \"year\"])\n",
    "mydf_Fertilizer_indexed = setIndex(mydf_Fertilizer_filtered, [\"areaCode\", \"year\"])"
   ]
  },
  {
   "cell_type": "code",
   "execution_count": null,
   "id": "d1fe35d9",
   "metadata": {},
   "outputs": [],
   "source": [
    "## merge dataset"
   ]
  },
  {
   "cell_type": "code",
   "execution_count": 4,
   "id": "b9568cfd",
   "metadata": {},
   "outputs": [
    {
     "name": "stdout",
     "output_type": "stream",
     "text": [
      "               FarmCredit  ICTPolicy  ProductionValue  ProcessingValue  \\\n",
      "areaCode year                                                            \n",
      "AFG      2000         NaN        NaN     95339.869625              NaN   \n",
      "         2001         NaN        NaN     91571.104917              NaN   \n",
      "         2002         NaN        NaN     87425.000000              NaN   \n",
      "         2003         NaN        NaN     98889.092629              NaN   \n",
      "         2004         NaN        NaN     89106.483084              NaN   \n",
      "         2005         NaN        NaN    112480.707772              NaN   \n",
      "         2006         NaN        NaN    122928.607685              NaN   \n",
      "         2007         NaN        NaN    175086.177885              NaN   \n",
      "         2008    1.259477        NaN    150901.299500              NaN   \n",
      "         2009         NaN        NaN    198018.725825              NaN   \n",
      "         2010   11.894427        NaN    208715.670762              NaN   \n",
      "         2011   11.575633        NaN    243601.036956              NaN   \n",
      "         2012   14.524064        NaN    278175.498101              NaN   \n",
      "         2013   19.018687        NaN    298046.130858              NaN   \n",
      "         2014   17.388845        NaN    297055.155311              NaN   \n",
      "         2015   17.675774        NaN    277151.282154              NaN   \n",
      "         2016   20.133434        NaN    320302.264167              NaN   \n",
      "         2017   26.330719        NaN    329185.780789              NaN   \n",
      "         2018   25.250709        NaN    311797.208953              NaN   \n",
      "         2019   21.509838        NaN    390899.324190              NaN   \n",
      "\n",
      "               Fertilizer  \n",
      "areaCode year              \n",
      "AFG      2000    0.650787  \n",
      "         2001    2.394900  \n",
      "         2002    3.194390  \n",
      "         2003    3.478550  \n",
      "         2004    4.243780  \n",
      "         2005         NaN  \n",
      "         2006         NaN  \n",
      "         2007         NaN  \n",
      "         2008         NaN  \n",
      "         2009         NaN  \n",
      "         2010         NaN  \n",
      "         2011         NaN  \n",
      "         2012         NaN  \n",
      "         2013         NaN  \n",
      "         2014         NaN  \n",
      "         2015         NaN  \n",
      "         2016         NaN  \n",
      "         2017         NaN  \n",
      "         2018         NaN  \n",
      "         2019         NaN  \n"
     ]
    }
   ],
   "source": [
    "from functools import reduce\n",
    "import pandas as pd\n",
    "\n",
    "def merge_dataframes(dfs, keys):\n",
    "    return reduce(\n",
    "        lambda left, right: pd.merge(left, right, on=keys, how='outer'),\n",
    "        dfs\n",
    "    )\n",
    "    \n",
    "mydf_MergedAll = merge_dataframes([mydf_FarmCredit_indexed, mydf_ICTPolicy_indexed, \n",
    "                       mydf_Value_AgProduction_indexed, mydf_Value_AgProcessing_indexed, \n",
    "                       mydf_Fertilizer_indexed], [\"areaCode\", \"year\"])\n",
    "\n",
    "cols_to_convert = [col for col in mydf_MergedAll.columns if col != 'areaCode']\n",
    "mydf_MergedAll[cols_to_convert] = mydf_MergedAll[cols_to_convert].apply(pd.to_numeric, errors='coerce')\n",
    "\n",
    "print(mydf_MergedAll.head(20))\n"
   ]
  },
  {
   "cell_type": "markdown",
   "id": "e27929e0",
   "metadata": {},
   "source": [
    "## show descriptive statistics"
   ]
  },
  {
   "cell_type": "code",
   "execution_count": 5,
   "id": "2b481039",
   "metadata": {},
   "outputs": [
    {
     "name": "stdout",
     "output_type": "stream",
     "text": [
      "        FarmCredit  ICTPolicy  ProductionValue  ProcessingValue  Fertilizer\n",
      "count    11.000000        0.0     1.000000e+01     2.000000e+01         0.0\n",
      "mean   1219.386194        NaN     3.353965e+06     1.193331e+06         NaN\n",
      "std    1896.487757        NaN     7.418211e+06     3.394908e+06         NaN\n",
      "min      19.864912        NaN     4.084884e+01     1.734888e+02         NaN\n",
      "25%     113.785883        NaN     1.081737e+04     3.640301e+03         NaN\n",
      "50%     364.529426        NaN     5.808745e+05     1.500443e+04         NaN\n",
      "75%    1270.931471        NaN     3.028756e+06     7.915578e+05         NaN\n",
      "max    4861.044882        NaN     2.403361e+07     1.520365e+07         NaN\n"
     ]
    }
   ],
   "source": [
    "def describeDF(df, year):\n",
    "    dfYear = df.xs(year, level='year')\n",
    "    desc_stats = dfYear.describe(include='all')\n",
    "    print(desc_stats)\n",
    "\n",
    "# print(mydf_MergedAll.head())\n",
    "describeDF(mydf_MergedAll, \"2020\")"
   ]
  },
  {
   "cell_type": "markdown",
   "id": "fc461f41",
   "metadata": {},
   "source": [
    "## export dataset"
   ]
  },
  {
   "cell_type": "code",
   "execution_count": null,
   "id": "b845ff5d",
   "metadata": {},
   "outputs": [
    {
     "ename": "OSError",
     "evalue": "Cannot save file into a non-existent directory: '../../data/HW1_nakada'",
     "output_type": "error",
     "traceback": [
      "\u001b[31m---------------------------------------------------------------------------\u001b[39m",
      "\u001b[31mOSError\u001b[39m                                   Traceback (most recent call last)",
      "\u001b[36mCell\u001b[39m\u001b[36m \u001b[39m\u001b[32mIn[6]\u001b[39m\u001b[32m, line 8\u001b[39m\n\u001b[32m      5\u001b[39m     df.to_csv(output)\n\u001b[32m      6\u001b[39m     \u001b[38;5;28;01mreturn\u001b[39;00m \u001b[38;5;28;01mTrue\u001b[39;00m\n\u001b[32m----> \u001b[39m\u001b[32m8\u001b[39m \u001b[43mexportCSV\u001b[49m\u001b[43m(\u001b[49m\u001b[43mmydf_ICTPolicy_indexed\u001b[49m\u001b[43m,\u001b[49m\u001b[43m \u001b[49m\u001b[33;43m'\u001b[39;49m\u001b[33;43mICTPolicy\u001b[39;49m\u001b[33;43m'\u001b[39;49m\u001b[43m)\u001b[49m\n\u001b[32m      9\u001b[39m exportCSV(mydf_FarmCredit_indexed, \u001b[33m'\u001b[39m\u001b[33mFarmCredit\u001b[39m\u001b[33m'\u001b[39m)\n\u001b[32m     10\u001b[39m exportCSV(mydf_Value_AgProduction_indexed, \u001b[33m'\u001b[39m\u001b[33mAgProduction\u001b[39m\u001b[33m'\u001b[39m)\n",
      "\u001b[36mCell\u001b[39m\u001b[36m \u001b[39m\u001b[32mIn[6]\u001b[39m\u001b[32m, line 5\u001b[39m, in \u001b[36mexportCSV\u001b[39m\u001b[34m(df, fileName)\u001b[39m\n\u001b[32m      3\u001b[39m \u001b[38;5;28;01mdef\u001b[39;00m\u001b[38;5;250m \u001b[39m\u001b[34mexportCSV\u001b[39m(df, fileName):\n\u001b[32m      4\u001b[39m     output = \u001b[33m'\u001b[39m\u001b[33m../../data/HW1_nakada/\u001b[39m\u001b[33m'\u001b[39m + fileName + \u001b[33m'\u001b[39m\u001b[33m.csv\u001b[39m\u001b[33m'\u001b[39m\n\u001b[32m----> \u001b[39m\u001b[32m5\u001b[39m     \u001b[43mdf\u001b[49m\u001b[43m.\u001b[49m\u001b[43mto_csv\u001b[49m\u001b[43m(\u001b[49m\u001b[43moutput\u001b[49m\u001b[43m)\u001b[49m\n\u001b[32m      6\u001b[39m     \u001b[38;5;28;01mreturn\u001b[39;00m \u001b[38;5;28;01mTrue\u001b[39;00m\n",
      "\u001b[36mFile \u001b[39m\u001b[32m~/Library/Python/3.12/lib/python/site-packages/pandas/util/_decorators.py:333\u001b[39m, in \u001b[36mdeprecate_nonkeyword_arguments.<locals>.decorate.<locals>.wrapper\u001b[39m\u001b[34m(*args, **kwargs)\u001b[39m\n\u001b[32m    327\u001b[39m \u001b[38;5;28;01mif\u001b[39;00m \u001b[38;5;28mlen\u001b[39m(args) > num_allow_args:\n\u001b[32m    328\u001b[39m     warnings.warn(\n\u001b[32m    329\u001b[39m         msg.format(arguments=_format_argument_list(allow_args)),\n\u001b[32m    330\u001b[39m         \u001b[38;5;167;01mFutureWarning\u001b[39;00m,\n\u001b[32m    331\u001b[39m         stacklevel=find_stack_level(),\n\u001b[32m    332\u001b[39m     )\n\u001b[32m--> \u001b[39m\u001b[32m333\u001b[39m \u001b[38;5;28;01mreturn\u001b[39;00m \u001b[43mfunc\u001b[49m\u001b[43m(\u001b[49m\u001b[43m*\u001b[49m\u001b[43margs\u001b[49m\u001b[43m,\u001b[49m\u001b[43m \u001b[49m\u001b[43m*\u001b[49m\u001b[43m*\u001b[49m\u001b[43mkwargs\u001b[49m\u001b[43m)\u001b[49m\n",
      "\u001b[36mFile \u001b[39m\u001b[32m~/Library/Python/3.12/lib/python/site-packages/pandas/core/generic.py:3967\u001b[39m, in \u001b[36mNDFrame.to_csv\u001b[39m\u001b[34m(self, path_or_buf, sep, na_rep, float_format, columns, header, index, index_label, mode, encoding, compression, quoting, quotechar, lineterminator, chunksize, date_format, doublequote, escapechar, decimal, errors, storage_options)\u001b[39m\n\u001b[32m   3956\u001b[39m df = \u001b[38;5;28mself\u001b[39m \u001b[38;5;28;01mif\u001b[39;00m \u001b[38;5;28misinstance\u001b[39m(\u001b[38;5;28mself\u001b[39m, ABCDataFrame) \u001b[38;5;28;01melse\u001b[39;00m \u001b[38;5;28mself\u001b[39m.to_frame()\n\u001b[32m   3958\u001b[39m formatter = DataFrameFormatter(\n\u001b[32m   3959\u001b[39m     frame=df,\n\u001b[32m   3960\u001b[39m     header=header,\n\u001b[32m   (...)\u001b[39m\u001b[32m   3964\u001b[39m     decimal=decimal,\n\u001b[32m   3965\u001b[39m )\n\u001b[32m-> \u001b[39m\u001b[32m3967\u001b[39m \u001b[38;5;28;01mreturn\u001b[39;00m \u001b[43mDataFrameRenderer\u001b[49m\u001b[43m(\u001b[49m\u001b[43mformatter\u001b[49m\u001b[43m)\u001b[49m\u001b[43m.\u001b[49m\u001b[43mto_csv\u001b[49m\u001b[43m(\u001b[49m\n\u001b[32m   3968\u001b[39m \u001b[43m    \u001b[49m\u001b[43mpath_or_buf\u001b[49m\u001b[43m,\u001b[49m\n\u001b[32m   3969\u001b[39m \u001b[43m    \u001b[49m\u001b[43mlineterminator\u001b[49m\u001b[43m=\u001b[49m\u001b[43mlineterminator\u001b[49m\u001b[43m,\u001b[49m\n\u001b[32m   3970\u001b[39m \u001b[43m    \u001b[49m\u001b[43msep\u001b[49m\u001b[43m=\u001b[49m\u001b[43msep\u001b[49m\u001b[43m,\u001b[49m\n\u001b[32m   3971\u001b[39m \u001b[43m    \u001b[49m\u001b[43mencoding\u001b[49m\u001b[43m=\u001b[49m\u001b[43mencoding\u001b[49m\u001b[43m,\u001b[49m\n\u001b[32m   3972\u001b[39m \u001b[43m    \u001b[49m\u001b[43merrors\u001b[49m\u001b[43m=\u001b[49m\u001b[43merrors\u001b[49m\u001b[43m,\u001b[49m\n\u001b[32m   3973\u001b[39m \u001b[43m    \u001b[49m\u001b[43mcompression\u001b[49m\u001b[43m=\u001b[49m\u001b[43mcompression\u001b[49m\u001b[43m,\u001b[49m\n\u001b[32m   3974\u001b[39m \u001b[43m    \u001b[49m\u001b[43mquoting\u001b[49m\u001b[43m=\u001b[49m\u001b[43mquoting\u001b[49m\u001b[43m,\u001b[49m\n\u001b[32m   3975\u001b[39m \u001b[43m    \u001b[49m\u001b[43mcolumns\u001b[49m\u001b[43m=\u001b[49m\u001b[43mcolumns\u001b[49m\u001b[43m,\u001b[49m\n\u001b[32m   3976\u001b[39m \u001b[43m    \u001b[49m\u001b[43mindex_label\u001b[49m\u001b[43m=\u001b[49m\u001b[43mindex_label\u001b[49m\u001b[43m,\u001b[49m\n\u001b[32m   3977\u001b[39m \u001b[43m    \u001b[49m\u001b[43mmode\u001b[49m\u001b[43m=\u001b[49m\u001b[43mmode\u001b[49m\u001b[43m,\u001b[49m\n\u001b[32m   3978\u001b[39m \u001b[43m    \u001b[49m\u001b[43mchunksize\u001b[49m\u001b[43m=\u001b[49m\u001b[43mchunksize\u001b[49m\u001b[43m,\u001b[49m\n\u001b[32m   3979\u001b[39m \u001b[43m    \u001b[49m\u001b[43mquotechar\u001b[49m\u001b[43m=\u001b[49m\u001b[43mquotechar\u001b[49m\u001b[43m,\u001b[49m\n\u001b[32m   3980\u001b[39m \u001b[43m    \u001b[49m\u001b[43mdate_format\u001b[49m\u001b[43m=\u001b[49m\u001b[43mdate_format\u001b[49m\u001b[43m,\u001b[49m\n\u001b[32m   3981\u001b[39m \u001b[43m    \u001b[49m\u001b[43mdoublequote\u001b[49m\u001b[43m=\u001b[49m\u001b[43mdoublequote\u001b[49m\u001b[43m,\u001b[49m\n\u001b[32m   3982\u001b[39m \u001b[43m    \u001b[49m\u001b[43mescapechar\u001b[49m\u001b[43m=\u001b[49m\u001b[43mescapechar\u001b[49m\u001b[43m,\u001b[49m\n\u001b[32m   3983\u001b[39m \u001b[43m    \u001b[49m\u001b[43mstorage_options\u001b[49m\u001b[43m=\u001b[49m\u001b[43mstorage_options\u001b[49m\u001b[43m,\u001b[49m\n\u001b[32m   3984\u001b[39m \u001b[43m\u001b[49m\u001b[43m)\u001b[49m\n",
      "\u001b[36mFile \u001b[39m\u001b[32m~/Library/Python/3.12/lib/python/site-packages/pandas/io/formats/format.py:1014\u001b[39m, in \u001b[36mDataFrameRenderer.to_csv\u001b[39m\u001b[34m(self, path_or_buf, encoding, sep, columns, index_label, mode, compression, quoting, quotechar, lineterminator, chunksize, date_format, doublequote, escapechar, errors, storage_options)\u001b[39m\n\u001b[32m    993\u001b[39m     created_buffer = \u001b[38;5;28;01mFalse\u001b[39;00m\n\u001b[32m    995\u001b[39m csv_formatter = CSVFormatter(\n\u001b[32m    996\u001b[39m     path_or_buf=path_or_buf,\n\u001b[32m    997\u001b[39m     lineterminator=lineterminator,\n\u001b[32m   (...)\u001b[39m\u001b[32m   1012\u001b[39m     formatter=\u001b[38;5;28mself\u001b[39m.fmt,\n\u001b[32m   1013\u001b[39m )\n\u001b[32m-> \u001b[39m\u001b[32m1014\u001b[39m \u001b[43mcsv_formatter\u001b[49m\u001b[43m.\u001b[49m\u001b[43msave\u001b[49m\u001b[43m(\u001b[49m\u001b[43m)\u001b[49m\n\u001b[32m   1016\u001b[39m \u001b[38;5;28;01mif\u001b[39;00m created_buffer:\n\u001b[32m   1017\u001b[39m     \u001b[38;5;28;01massert\u001b[39;00m \u001b[38;5;28misinstance\u001b[39m(path_or_buf, StringIO)\n",
      "\u001b[36mFile \u001b[39m\u001b[32m~/Library/Python/3.12/lib/python/site-packages/pandas/io/formats/csvs.py:251\u001b[39m, in \u001b[36mCSVFormatter.save\u001b[39m\u001b[34m(self)\u001b[39m\n\u001b[32m    247\u001b[39m \u001b[38;5;250m\u001b[39m\u001b[33;03m\"\"\"\u001b[39;00m\n\u001b[32m    248\u001b[39m \u001b[33;03mCreate the writer & save.\u001b[39;00m\n\u001b[32m    249\u001b[39m \u001b[33;03m\"\"\"\u001b[39;00m\n\u001b[32m    250\u001b[39m \u001b[38;5;66;03m# apply compression and byte/text conversion\u001b[39;00m\n\u001b[32m--> \u001b[39m\u001b[32m251\u001b[39m \u001b[38;5;28;01mwith\u001b[39;00m \u001b[43mget_handle\u001b[49m\u001b[43m(\u001b[49m\n\u001b[32m    252\u001b[39m \u001b[43m    \u001b[49m\u001b[38;5;28;43mself\u001b[39;49m\u001b[43m.\u001b[49m\u001b[43mfilepath_or_buffer\u001b[49m\u001b[43m,\u001b[49m\n\u001b[32m    253\u001b[39m \u001b[43m    \u001b[49m\u001b[38;5;28;43mself\u001b[39;49m\u001b[43m.\u001b[49m\u001b[43mmode\u001b[49m\u001b[43m,\u001b[49m\n\u001b[32m    254\u001b[39m \u001b[43m    \u001b[49m\u001b[43mencoding\u001b[49m\u001b[43m=\u001b[49m\u001b[38;5;28;43mself\u001b[39;49m\u001b[43m.\u001b[49m\u001b[43mencoding\u001b[49m\u001b[43m,\u001b[49m\n\u001b[32m    255\u001b[39m \u001b[43m    \u001b[49m\u001b[43merrors\u001b[49m\u001b[43m=\u001b[49m\u001b[38;5;28;43mself\u001b[39;49m\u001b[43m.\u001b[49m\u001b[43merrors\u001b[49m\u001b[43m,\u001b[49m\n\u001b[32m    256\u001b[39m \u001b[43m    \u001b[49m\u001b[43mcompression\u001b[49m\u001b[43m=\u001b[49m\u001b[38;5;28;43mself\u001b[39;49m\u001b[43m.\u001b[49m\u001b[43mcompression\u001b[49m\u001b[43m,\u001b[49m\n\u001b[32m    257\u001b[39m \u001b[43m    \u001b[49m\u001b[43mstorage_options\u001b[49m\u001b[43m=\u001b[49m\u001b[38;5;28;43mself\u001b[39;49m\u001b[43m.\u001b[49m\u001b[43mstorage_options\u001b[49m\u001b[43m,\u001b[49m\n\u001b[32m    258\u001b[39m \u001b[43m\u001b[49m\u001b[43m)\u001b[49m \u001b[38;5;28;01mas\u001b[39;00m handles:\n\u001b[32m    259\u001b[39m     \u001b[38;5;66;03m# Note: self.encoding is irrelevant here\u001b[39;00m\n\u001b[32m    260\u001b[39m     \u001b[38;5;28mself\u001b[39m.writer = csvlib.writer(\n\u001b[32m    261\u001b[39m         handles.handle,\n\u001b[32m    262\u001b[39m         lineterminator=\u001b[38;5;28mself\u001b[39m.lineterminator,\n\u001b[32m   (...)\u001b[39m\u001b[32m    267\u001b[39m         quotechar=\u001b[38;5;28mself\u001b[39m.quotechar,\n\u001b[32m    268\u001b[39m     )\n\u001b[32m    270\u001b[39m     \u001b[38;5;28mself\u001b[39m._save()\n",
      "\u001b[36mFile \u001b[39m\u001b[32m~/Library/Python/3.12/lib/python/site-packages/pandas/io/common.py:749\u001b[39m, in \u001b[36mget_handle\u001b[39m\u001b[34m(path_or_buf, mode, encoding, compression, memory_map, is_text, errors, storage_options)\u001b[39m\n\u001b[32m    747\u001b[39m \u001b[38;5;66;03m# Only for write methods\u001b[39;00m\n\u001b[32m    748\u001b[39m \u001b[38;5;28;01mif\u001b[39;00m \u001b[33m\"\u001b[39m\u001b[33mr\u001b[39m\u001b[33m\"\u001b[39m \u001b[38;5;129;01mnot\u001b[39;00m \u001b[38;5;129;01min\u001b[39;00m mode \u001b[38;5;129;01mand\u001b[39;00m is_path:\n\u001b[32m--> \u001b[39m\u001b[32m749\u001b[39m     \u001b[43mcheck_parent_directory\u001b[49m\u001b[43m(\u001b[49m\u001b[38;5;28;43mstr\u001b[39;49m\u001b[43m(\u001b[49m\u001b[43mhandle\u001b[49m\u001b[43m)\u001b[49m\u001b[43m)\u001b[49m\n\u001b[32m    751\u001b[39m \u001b[38;5;28;01mif\u001b[39;00m compression:\n\u001b[32m    752\u001b[39m     \u001b[38;5;28;01mif\u001b[39;00m compression != \u001b[33m\"\u001b[39m\u001b[33mzstd\u001b[39m\u001b[33m\"\u001b[39m:\n\u001b[32m    753\u001b[39m         \u001b[38;5;66;03m# compression libraries do not like an explicit text-mode\u001b[39;00m\n",
      "\u001b[36mFile \u001b[39m\u001b[32m~/Library/Python/3.12/lib/python/site-packages/pandas/io/common.py:616\u001b[39m, in \u001b[36mcheck_parent_directory\u001b[39m\u001b[34m(path)\u001b[39m\n\u001b[32m    614\u001b[39m parent = Path(path).parent\n\u001b[32m    615\u001b[39m \u001b[38;5;28;01mif\u001b[39;00m \u001b[38;5;129;01mnot\u001b[39;00m parent.is_dir():\n\u001b[32m--> \u001b[39m\u001b[32m616\u001b[39m     \u001b[38;5;28;01mraise\u001b[39;00m \u001b[38;5;167;01mOSError\u001b[39;00m(\u001b[33mrf\u001b[39m\u001b[33m\"\u001b[39m\u001b[33mCannot save file into a non-existent directory: \u001b[39m\u001b[33m'\u001b[39m\u001b[38;5;132;01m{\u001b[39;00mparent\u001b[38;5;132;01m}\u001b[39;00m\u001b[33m'\u001b[39m\u001b[33m\"\u001b[39m)\n",
      "\u001b[31mOSError\u001b[39m: Cannot save file into a non-existent directory: '../../data/HW1_nakada'"
     ]
    }
   ],
   "source": [
    "import os\n",
    "\n",
    "def exportCSV(df, fileName):\n",
    "    output = '../../../data/HW1_nakada/' + fileName + '.csv'\n",
    "    df.to_csv(output)\n",
    "    return True\n",
    "\n",
    "exportCSV(mydf_ICTPolicy_indexed, 'ICTPolicy')\n",
    "exportCSV(mydf_FarmCredit_indexed, 'FarmCredit')\n",
    "exportCSV(mydf_Value_AgProduction_indexed, 'AgProduction')\n",
    "exportCSV(mydf_Value_AgProcessing_indexed, 'AgProcessing')\n",
    "exportCSV(mydf_Fertilizer_indexed, 'Fertilizer')\n",
    "exportCSV(mydf_MergedAll, 'MergedAll')\n",
    "\n",
    "\n"
   ]
  }
 ],
 "metadata": {
  "kernelspec": {
   "display_name": "Python 3",
   "language": "python",
   "name": "python3"
  },
  "language_info": {
   "codemirror_mode": {
    "name": "ipython",
    "version": 3
   },
   "file_extension": ".py",
   "mimetype": "text/x-python",
   "name": "python",
   "nbconvert_exporter": "python",
   "pygments_lexer": "ipython3",
   "version": "3.12.8"
  }
 },
 "nbformat": 4,
 "nbformat_minor": 5
}
