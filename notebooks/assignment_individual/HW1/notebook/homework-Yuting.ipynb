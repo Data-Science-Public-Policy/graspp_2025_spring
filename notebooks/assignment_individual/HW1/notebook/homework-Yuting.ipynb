{
 "cells": [
  {
   "cell_type": "markdown",
   "id": "2378856c",
   "metadata": {},
   "source": [
    "# **0.Introduction**\n",
    "<span style=\"font-size:25px;\">**Name:** Yuting Deng<br><br>**Theme:** Analyzing Differences in Food Consumption Across Income Groups in Japan: An Application of Bennett's Law<br><br>**Goals:** To test Bennett's Law, a significant concept in Agricultural Economics that posits rising incomes lead to a decreased consumption of starchy staple foods and an increased demand for healthier, more diverse diets, this study analyzes cross-sectional data on staple and meat consumption. The relationship between consumption patterns and income levels is examined using descriptive statistics and visualizations.</span><span style=\"font-size:20px;\"><br><br>**Data Resource:** *Household Expenditure Survey (Statistics Bureau): Household Spending*<br>"
   ]
  },
  {
   "cell_type": "markdown",
   "id": "050bc397",
   "metadata": {},
   "source": [
    "## **1. Data Cleaning and Merging<br>**\n",
    "#### 1.1 I have downloaded two datasets from the *Statistics Bureau of Japan* and saved locally to the /raw_data directory, named **staple.xls** and **meat.xls** respectively.\n",
    "url : *https://www.e-stat.go.jp/stat-search/files?page=1&query=%EF%BC%91%E4%B8%96%E5%B8%AF%E5%BD%93%E3%81%9F%E3%82%8A%E5%B9%B4%E9%96%93%E3%81%AE%E5%93%81%E7%9B%AE%E5%88%A5%E6%94%AF%E5%87%BA%E9%87%91%E9%A1%8D%EF%BC%8C%E8%B3%BC%E5%85%A5%E6%95%B0%E9%87%8F%E5%8F%8A%E3%81%B3%E5%B9%B3%E5%9D%87%E4%BE%A1%E6%A0%BC%EF%BC%88%E4%BA%8C%E4%BA%BA%E4%BB%A5%E4%B8%8A%E3%81%AE%E4%B8%96%E5%B8%AF%EF%BC%89&layout=dataset&toukei=00200561&kikan=00200&tstat=000000330001&stat_infid=000040193331&metadata=1&data=1*"
   ]
  },
  {
   "cell_type": "markdown",
   "id": "ae6b3392",
   "metadata": {},
   "source": [
    "#### 1.2 Data Cleaning"
   ]
  },
  {
   "cell_type": "code",
   "execution_count": 65,
   "id": "bb4bcc4c",
   "metadata": {},
   "outputs": [
    {
     "data": {
      "text/html": [
       "<div>\n",
       "<style scoped>\n",
       "    .dataframe tbody tr th:only-of-type {\n",
       "        vertical-align: middle;\n",
       "    }\n",
       "\n",
       "    .dataframe tbody tr th {\n",
       "        vertical-align: top;\n",
       "    }\n",
       "\n",
       "    .dataframe thead th {\n",
       "        text-align: right;\n",
       "    }\n",
       "</style>\n",
       "<table border=\"1\" class=\"dataframe\">\n",
       "  <thead>\n",
       "    <tr style=\"text-align: right;\">\n",
       "      <th></th>\n",
       "      <th>Class</th>\n",
       "      <th>Income</th>\n",
       "      <th>Category</th>\n",
       "      <th>Value</th>\n",
       "    </tr>\n",
       "  </thead>\n",
       "  <tbody>\n",
       "    <tr>\n",
       "      <th>0</th>\n",
       "      <td>Ⅰ</td>\n",
       "      <td>(   0,000,000 ～ 3,330,000 )</td>\n",
       "      <td>Number_of_Household</td>\n",
       "      <td>1512.0</td>\n",
       "    </tr>\n",
       "    <tr>\n",
       "      <th>1</th>\n",
       "      <td>Ⅱ</td>\n",
       "      <td>(   3,330,000 ～ 4,700,000 )</td>\n",
       "      <td>Number_of_Household</td>\n",
       "      <td>1501.0</td>\n",
       "    </tr>\n",
       "    <tr>\n",
       "      <th>2</th>\n",
       "      <td>Ⅲ</td>\n",
       "      <td>(   4,700,000 ～ 6,390,000 )</td>\n",
       "      <td>Number_of_Household</td>\n",
       "      <td>1456.0</td>\n",
       "    </tr>\n",
       "    <tr>\n",
       "      <th>3</th>\n",
       "      <td>Ⅳ</td>\n",
       "      <td>(   6,390,000 ～ 8,640,000 )</td>\n",
       "      <td>Number_of_Household</td>\n",
       "      <td>1437.0</td>\n",
       "    </tr>\n",
       "    <tr>\n",
       "      <th>4</th>\n",
       "      <td>Ⅴ</td>\n",
       "      <td>(   8,640,000 ～ 0,000,000 )</td>\n",
       "      <td>Number_of_Household</td>\n",
       "      <td>1353.0</td>\n",
       "    </tr>\n",
       "    <tr>\n",
       "      <th>...</th>\n",
       "      <td>...</td>\n",
       "      <td>...</td>\n",
       "      <td>...</td>\n",
       "      <td>...</td>\n",
       "    </tr>\n",
       "    <tr>\n",
       "      <th>170</th>\n",
       "      <td>Ⅰ</td>\n",
       "      <td>(   0,000,000 ～ 3,330,000 )</td>\n",
       "      <td>Other_processed_meat</td>\n",
       "      <td>2707.0</td>\n",
       "    </tr>\n",
       "    <tr>\n",
       "      <th>171</th>\n",
       "      <td>Ⅱ</td>\n",
       "      <td>(   3,330,000 ～ 4,700,000 )</td>\n",
       "      <td>Other_processed_meat</td>\n",
       "      <td>2963.0</td>\n",
       "    </tr>\n",
       "    <tr>\n",
       "      <th>172</th>\n",
       "      <td>Ⅲ</td>\n",
       "      <td>(   4,700,000 ～ 6,390,000 )</td>\n",
       "      <td>Other_processed_meat</td>\n",
       "      <td>3473.0</td>\n",
       "    </tr>\n",
       "    <tr>\n",
       "      <th>173</th>\n",
       "      <td>Ⅳ</td>\n",
       "      <td>(   6,390,000 ～ 8,640,000 )</td>\n",
       "      <td>Other_processed_meat</td>\n",
       "      <td>4003.0</td>\n",
       "    </tr>\n",
       "    <tr>\n",
       "      <th>174</th>\n",
       "      <td>Ⅴ</td>\n",
       "      <td>(   8,640,000 ～ 0,000,000 )</td>\n",
       "      <td>Other_processed_meat</td>\n",
       "      <td>3999.0</td>\n",
       "    </tr>\n",
       "  </tbody>\n",
       "</table>\n",
       "<p>175 rows × 4 columns</p>\n",
       "</div>"
      ],
      "text/plain": [
       "    Class                       Income              Category   Value\n",
       "0       Ⅰ  (   0,000,000 ～ 3,330,000 )   Number_of_Household  1512.0\n",
       "1       Ⅱ  (   3,330,000 ～ 4,700,000 )   Number_of_Household  1501.0\n",
       "2       Ⅲ  (   4,700,000 ～ 6,390,000 )   Number_of_Household  1456.0\n",
       "3       Ⅳ  (   6,390,000 ～ 8,640,000 )   Number_of_Household  1437.0\n",
       "4       Ⅴ  (   8,640,000 ～ 0,000,000 )   Number_of_Household  1353.0\n",
       "..    ...                          ...                   ...     ...\n",
       "170     Ⅰ  (   0,000,000 ～ 3,330,000 )  Other_processed_meat  2707.0\n",
       "171     Ⅱ  (   3,330,000 ～ 4,700,000 )  Other_processed_meat  2963.0\n",
       "172     Ⅲ  (   4,700,000 ～ 6,390,000 )  Other_processed_meat  3473.0\n",
       "173     Ⅳ  (   6,390,000 ～ 8,640,000 )  Other_processed_meat  4003.0\n",
       "174     Ⅴ  (   8,640,000 ～ 0,000,000 )  Other_processed_meat  3999.0\n",
       "\n",
       "[175 rows x 4 columns]"
      ]
     },
     "execution_count": 65,
     "metadata": {},
     "output_type": "execute_result"
    }
   ],
   "source": [
    "# I have made the data processing function to do this cleaning process.\n",
    "from data_processing_function import *\n",
    "import pandas as pd\n",
    "# 1. Load meat and staple data\n",
    "meat_data = load_data('../raw_data/meat.xls')\n",
    "staple_data = load_data('../raw_data/staple.xls')\n",
    "\n",
    "# 2. Clean meat and staple data (dropping and cleaning NaN values)\n",
    "meat_columns_to_drop = [12, 13, 15, 16, 18, 19, 21, 22, 24, 25, 27, 28, 31, 32, 34, 35, 37, 38]\n",
    "meat_cleaned = clean_data(meat_data, meat_columns_to_drop)\n",
    "\n",
    "staple_columns_to_drop = [10, 19, 20, 22, 23, 25, 26, 28, 29, 31, 32, 34, 35, 37, 38, 40, 41, 43, 44, 46, 47, 49, 50, 52, 53, 55, 56, 58, 59, 61, 62, 64, 65]\n",
    "staple_cleaned = clean_data(staple_data, staple_columns_to_drop)\n",
    "\n",
    "# 4. Rename columns\n",
    "meat_renamed = rename_columns(meat_cleaned, [\n",
    "    'Class', 'Income', 'ALL_MEAT', 'RAW_MEAT', 'Beef', 'Pork', 'Chicken',\n",
    "    'Mixed_ground_meat', 'Other_meat', 'PROCESSED_MEAT', 'Ham', 'Sausage',\n",
    "    'Bacon', 'Other_processed_meat'\n",
    "])\n",
    "staple_renamed = rename_columns(staple_cleaned, [\n",
    "    'Class', 'Income', 'Number_of_Household', 'Number_of_People',\n",
    "    'Number_of_Labor', 'Age_of_Head', 'Total_Consumption', 'Total_Food_Consumption',\n",
    "    'CEREALS', 'Rice', 'Bread', 'WhiteBread', 'OtherBread', 'NOODLES',\n",
    "    'Non-dried_Udon$Soba', 'Dried_Udon&Soba', 'Pasta', 'Chinese noodles',\n",
    "    'Cup noodles', 'Instant noodles', 'Other noodles', 'OTHER_CEREALS',\n",
    "    'Wheat flour', 'Rice-cakes', 'OTHERS'\n",
    "])\n",
    "\n",
    "# 5. Merge the two datasets\n",
    "merged_data = merge_data(staple_renamed, meat_renamed)\n",
    "merged_data['Class'] = merged_data['Class'].astype(str)\n",
    "merged_data.to_csv('../processed_data/(wide)merged_data.csv',index=False)\n",
    "\n",
    "# 6. Reshape the merged data to long format(Not relevant for the following task, just for making the frame looks better))\n",
    "long_data = reshape_data(merged_data)\n",
    "\n",
    "# 7. Save the result to a CSV file\n",
    "save_to_csv(long_data, '../processed_data/(long)merged_data.csv')\n",
    "\n",
    "# 8. Display the first two rows of the final dataset\n",
    "long_data\n"
   ]
  },
  {
   "cell_type": "markdown",
   "id": "f329ffca",
   "metadata": {},
   "source": [
    "## **2. Data Description and Visualization**"
   ]
  },
  {
   "cell_type": "markdown",
   "id": "f52dc0ac",
   "metadata": {},
   "source": [
    "#### 2.1 Comparing Absolute Food Expenditure in Different Income Classes"
   ]
  },
  {
   "cell_type": "code",
   "execution_count": null,
   "id": "fffa73a5",
   "metadata": {},
   "outputs": [],
   "source": [
    "# I filtered only the income and food data for descriptive analysis in this section.\n",
    "staple_food_cols = ['Rice','WhiteBread','OtherBread','Non-dried_Udon$Soba', 'Dried_Udon&Soba', 'Pasta', 'Chinese noodles',\n",
    "    'Cup noodles', 'Instant noodles', 'Other noodles','Wheat flour', 'Rice-cakes', 'OTHERS']\n",
    "meat_cols = ['Beef', 'Pork', 'Chicken',\n",
    "    'Mixed_ground_meat', 'Other_meat', 'Ham', 'Sausage',\n",
    "    'Bacon', 'Other_processed_meat']\n",
    "all_food_cols = staple_food_cols + meat_cols\n",
    "food_data = merged_data[['Class'] + all_food_cols]"
   ]
  },
  {
   "cell_type": "code",
   "execution_count": 70,
   "id": "2de08f4c",
   "metadata": {},
   "outputs": [
    {
     "name": "stdout",
     "output_type": "stream",
     "text": [
      "Requirement already satisfied: matplotlib in /Library/Frameworks/Python.framework/Versions/3.13/lib/python3.13/site-packages (3.10.1)\n",
      "Requirement already satisfied: contourpy>=1.0.1 in /Library/Frameworks/Python.framework/Versions/3.13/lib/python3.13/site-packages (from matplotlib) (1.3.2)\n",
      "Requirement already satisfied: cycler>=0.10 in /Library/Frameworks/Python.framework/Versions/3.13/lib/python3.13/site-packages (from matplotlib) (0.12.1)\n",
      "Requirement already satisfied: fonttools>=4.22.0 in /Library/Frameworks/Python.framework/Versions/3.13/lib/python3.13/site-packages (from matplotlib) (4.57.0)\n",
      "Requirement already satisfied: kiwisolver>=1.3.1 in /Library/Frameworks/Python.framework/Versions/3.13/lib/python3.13/site-packages (from matplotlib) (1.4.8)\n",
      "Requirement already satisfied: numpy>=1.23 in /Library/Frameworks/Python.framework/Versions/3.13/lib/python3.13/site-packages (from matplotlib) (2.2.5)\n",
      "Requirement already satisfied: packaging>=20.0 in /Users/dyt/Library/Python/3.13/lib/python/site-packages (from matplotlib) (25.0)\n",
      "Requirement already satisfied: pillow>=8 in /Library/Frameworks/Python.framework/Versions/3.13/lib/python3.13/site-packages (from matplotlib) (11.2.1)\n",
      "Requirement already satisfied: pyparsing>=2.3.1 in /Library/Frameworks/Python.framework/Versions/3.13/lib/python3.13/site-packages (from matplotlib) (3.2.3)\n",
      "Requirement already satisfied: python-dateutil>=2.7 in /Library/Frameworks/Python.framework/Versions/3.13/lib/python3.13/site-packages (from matplotlib) (2.9.0.post0)\n",
      "Requirement already satisfied: six>=1.5 in /Library/Frameworks/Python.framework/Versions/3.13/lib/python3.13/site-packages (from python-dateutil>=2.7->matplotlib) (1.17.0)\n",
      "\n",
      "\u001b[1m[\u001b[0m\u001b[34;49mnotice\u001b[0m\u001b[1;39;49m]\u001b[0m\u001b[39;49m A new release of pip is available: \u001b[0m\u001b[31;49m25.0.1\u001b[0m\u001b[39;49m -> \u001b[0m\u001b[32;49m25.1\u001b[0m\n",
      "\u001b[1m[\u001b[0m\u001b[34;49mnotice\u001b[0m\u001b[1;39;49m]\u001b[0m\u001b[39;49m To update, run: \u001b[0m\u001b[32;49mpip3 install --upgrade pip\u001b[0m\n",
      "Note: you may need to restart the kernel to use updated packages.\n"
     ]
    },
    {
     "data": {
      "image/png": "[encoded data removed]",
      "text/plain": [
       "<Figure size 1200x700 with 1 Axes>"
      ]
     },
     "metadata": {},
     "output_type": "display_data"
    }
   ],
   "source": [
    "%pip install matplotlib\n",
    "import matplotlib.pyplot as plt\n",
    "# Draw the Bar figure\n",
    "food_data.plot(kind='bar', stacked=True, figsize=(12, 7), colormap='tab20')\n",
    "plt.title('Figure1: Absolute Food Consumption by Income Class')\n",
    "plt.xlabel('Income')\n",
    "plt.ylabel('Food Expenditure')\n",
    "plt.legend(bbox_to_anchor=(1.05, 1), loc='upper left')\n",
    "plt.tight_layout()\n",
    "plt.show()"
   ]
  },
  {
   "cell_type": "markdown",
   "id": "f529194e",
   "metadata": {},
   "source": [
    "#### 2.2 Comparing the differences using proportions"
   ]
  },
  {
   "cell_type": "code",
   "execution_count": 66,
   "id": "a2788014",
   "metadata": {},
   "outputs": [
    {
     "name": "stderr",
     "output_type": "stream",
     "text": [
      "/var/folders/dv/_5x4w0t95xb1flj112ms384r0000gn/T/ipykernel_12964/788170489.py:3: SettingWithCopyWarning: \n",
      "A value is trying to be set on a copy of a slice from a DataFrame.\n",
      "Try using .loc[row_indexer,col_indexer] = value instead\n",
      "\n",
      "See the caveats in the documentation: https://pandas.pydata.org/pandas-docs/stable/user_guide/indexing.html#returning-a-view-versus-a-copy\n",
      "  staple_meat_data['Staple_Food_Sum'] = merged_data[staple_food_cols].sum(axis=1)\n",
      "/var/folders/dv/_5x4w0t95xb1flj112ms384r0000gn/T/ipykernel_12964/788170489.py:4: SettingWithCopyWarning: \n",
      "A value is trying to be set on a copy of a slice from a DataFrame.\n",
      "Try using .loc[row_indexer,col_indexer] = value instead\n",
      "\n",
      "See the caveats in the documentation: https://pandas.pydata.org/pandas-docs/stable/user_guide/indexing.html#returning-a-view-versus-a-copy\n",
      "  staple_meat_data['Meat_Sum'] = merged_data[meat_cols].sum(axis=1)\n"
     ]
    },
    {
     "data": {
      "text/html": [
       "<div>\n",
       "<style scoped>\n",
       "    .dataframe tbody tr th:only-of-type {\n",
       "        vertical-align: middle;\n",
       "    }\n",
       "\n",
       "    .dataframe tbody tr th {\n",
       "        vertical-align: top;\n",
       "    }\n",
       "\n",
       "    .dataframe thead th {\n",
       "        text-align: right;\n",
       "    }\n",
       "</style>\n",
       "<table border=\"1\" class=\"dataframe\">\n",
       "  <thead>\n",
       "    <tr style=\"text-align: right;\">\n",
       "      <th></th>\n",
       "      <th>Staple_Food_Sum</th>\n",
       "      <th>Meat_Sum</th>\n",
       "    </tr>\n",
       "    <tr>\n",
       "      <th>Class</th>\n",
       "      <th></th>\n",
       "      <th></th>\n",
       "    </tr>\n",
       "  </thead>\n",
       "  <tbody>\n",
       "    <tr>\n",
       "      <th>Ⅰ</th>\n",
       "      <td>48.592400</td>\n",
       "      <td>51.407600</td>\n",
       "    </tr>\n",
       "    <tr>\n",
       "      <th>Ⅱ</th>\n",
       "      <td>46.436355</td>\n",
       "      <td>53.563645</td>\n",
       "    </tr>\n",
       "    <tr>\n",
       "      <th>Ⅲ</th>\n",
       "      <td>44.863685</td>\n",
       "      <td>55.136315</td>\n",
       "    </tr>\n",
       "    <tr>\n",
       "      <th>Ⅳ</th>\n",
       "      <td>44.104822</td>\n",
       "      <td>55.895178</td>\n",
       "    </tr>\n",
       "    <tr>\n",
       "      <th>Ⅴ</th>\n",
       "      <td>42.429794</td>\n",
       "      <td>57.570206</td>\n",
       "    </tr>\n",
       "  </tbody>\n",
       "</table>\n",
       "</div>"
      ],
      "text/plain": [
       "       Staple_Food_Sum   Meat_Sum\n",
       "Class                            \n",
       "Ⅰ            48.592400  51.407600\n",
       "Ⅱ            46.436355  53.563645\n",
       "Ⅲ            44.863685  55.136315\n",
       "Ⅳ            44.104822  55.895178\n",
       "Ⅴ            42.429794  57.570206"
      ]
     },
     "execution_count": 66,
     "metadata": {},
     "output_type": "execute_result"
    }
   ],
   "source": [
    "# Caculate the sum of staple food and meat\n",
    "staple_meat_data = merged_data[['Class']]\n",
    "staple_meat_data['Staple_Food_Sum'] = merged_data[staple_food_cols].sum(axis=1)\n",
    "staple_meat_data['Meat_Sum'] = merged_data[meat_cols].sum(axis=1)\n",
    "\n",
    "# Calculate the mean of staple food and meat by income class\n",
    "staple_meat_grouped = staple_meat_data.groupby('Class')[['Staple_Food_Sum', 'Meat_Sum']].mean()\n",
    "\n",
    "# Turn the mean into percentage\n",
    "staple_meat_percent = staple_meat_grouped.div(staple_meat_grouped.sum(axis=1), axis=0) * 100\n",
    "staple_meat_percent.to_csv('../processed_data/staple_meat_percent.csv')\n",
    "staple_meat_percent"
   ]
  },
  {
   "cell_type": "code",
   "execution_count": 61,
   "id": "4e07a6dd",
   "metadata": {},
   "outputs": [
    {
     "data": {
      "image/png": "[encoded data removed]",
      "text/plain": [
       "<Figure size 800x600 with 1 Axes>"
      ]
     },
     "metadata": {},
     "output_type": "display_data"
    }
   ],
   "source": [
    "# Plot percentage stacked bar chart\n",
    "staple_meat_percent.plot(kind='bar', stacked=True, figsize=(8, 6), colormap='Set2')\n",
    "plt.title('Figure2: Staple vs Meat Consumption Structure by Income Group')\n",
    "plt.xlabel('Income Group')\n",
    "plt.ylabel('Percentage (%)')\n",
    "plt.xticks(rotation=0)\n",
    "plt.legend([\"Staple Food\", \"Meat\"], bbox_to_anchor=(1.05, 1), loc='upper left')\n",
    "plt.tight_layout()\n",
    "plt.show()\n"
   ]
  },
  {
   "cell_type": "markdown",
   "id": "f6c779f1",
   "metadata": {},
   "source": [
    "## **3. Description of Demographic Characteristics**"
   ]
  },
  {
   "cell_type": "code",
   "execution_count": 62,
   "id": "8a60e17e",
   "metadata": {},
   "outputs": [
    {
     "data": {
      "text/html": [
       "<div>\n",
       "<style scoped>\n",
       "    .dataframe tbody tr th:only-of-type {\n",
       "        vertical-align: middle;\n",
       "    }\n",
       "\n",
       "    .dataframe tbody tr th {\n",
       "        vertical-align: top;\n",
       "    }\n",
       "\n",
       "    .dataframe thead th {\n",
       "        text-align: right;\n",
       "    }\n",
       "</style>\n",
       "<table border=\"1\" class=\"dataframe\">\n",
       "  <thead>\n",
       "    <tr style=\"text-align: right;\">\n",
       "      <th></th>\n",
       "      <th>Class</th>\n",
       "      <th>Income</th>\n",
       "      <th>Number_of_Household</th>\n",
       "      <th>Number_of_People</th>\n",
       "      <th>Number_of_Labor</th>\n",
       "      <th>Age_of_Head</th>\n",
       "    </tr>\n",
       "  </thead>\n",
       "  <tbody>\n",
       "    <tr>\n",
       "      <th>0</th>\n",
       "      <td>Ⅰ</td>\n",
       "      <td>(   0,000,000 ～ 3,330,000 )</td>\n",
       "      <td>1512</td>\n",
       "      <td>2.29</td>\n",
       "      <td>0.52</td>\n",
       "      <td>72.0</td>\n",
       "    </tr>\n",
       "    <tr>\n",
       "      <th>1</th>\n",
       "      <td>Ⅱ</td>\n",
       "      <td>(   3,330,000 ～ 4,700,000 )</td>\n",
       "      <td>1501</td>\n",
       "      <td>2.55</td>\n",
       "      <td>0.90</td>\n",
       "      <td>67.2</td>\n",
       "    </tr>\n",
       "    <tr>\n",
       "      <th>2</th>\n",
       "      <td>Ⅲ</td>\n",
       "      <td>(   4,700,000 ～ 6,390,000 )</td>\n",
       "      <td>1456</td>\n",
       "      <td>3.05</td>\n",
       "      <td>1.54</td>\n",
       "      <td>56.3</td>\n",
       "    </tr>\n",
       "    <tr>\n",
       "      <th>3</th>\n",
       "      <td>Ⅳ</td>\n",
       "      <td>(   6,390,000 ～ 8,640,000 )</td>\n",
       "      <td>1437</td>\n",
       "      <td>3.26</td>\n",
       "      <td>1.76</td>\n",
       "      <td>52.9</td>\n",
       "    </tr>\n",
       "    <tr>\n",
       "      <th>4</th>\n",
       "      <td>Ⅴ</td>\n",
       "      <td>(   8,640,000 ～ 0,000,000 )</td>\n",
       "      <td>1353</td>\n",
       "      <td>3.32</td>\n",
       "      <td>1.96</td>\n",
       "      <td>52.8</td>\n",
       "    </tr>\n",
       "  </tbody>\n",
       "</table>\n",
       "</div>"
      ],
      "text/plain": [
       "  Class                       Income  Number_of_Household  Number_of_People  \\\n",
       "0     Ⅰ  (   0,000,000 ～ 3,330,000 )                 1512              2.29   \n",
       "1     Ⅱ  (   3,330,000 ～ 4,700,000 )                 1501              2.55   \n",
       "2     Ⅲ  (   4,700,000 ～ 6,390,000 )                 1456              3.05   \n",
       "3     Ⅳ  (   6,390,000 ～ 8,640,000 )                 1437              3.26   \n",
       "4     Ⅴ  (   8,640,000 ～ 0,000,000 )                 1353              3.32   \n",
       "\n",
       "   Number_of_Labor  Age_of_Head  \n",
       "0             0.52         72.0  \n",
       "1             0.90         67.2  \n",
       "2             1.54         56.3  \n",
       "3             1.76         52.9  \n",
       "4             1.96         52.8  "
      ]
     },
     "execution_count": 62,
     "metadata": {},
     "output_type": "execute_result"
    }
   ],
   "source": [
    "# list the demographic data to see the potential influence on the food consumption\n",
    "demo_cols = ['Class', 'Income', 'Number_of_Household', 'Number_of_People', 'Number_of_Labor', 'Age_of_Head']\n",
    "demo_data = merged_data[demo_cols]\n",
    "demo_data"
   ]
  },
  {
   "cell_type": "markdown",
   "id": "af723b09",
   "metadata": {},
   "source": [
    "## **4. Conclusion**\n",
    "First, it can be concluded from Figure 1 that households in Japan increase their food consumption as their income rises. This is likely due to the additional income available in the household budget. However, it can also be observed that demographic characteristics in higher income classes change, indicating that other factors, such as household size, may also contribute to the increase in food expenditure.\n",
    "\n",
    "Second, from Figure 2, it can be seen that the proportion of staple food expenditure is relatively higher in upper income classes, while it is lower in lower income classes. This supports Bennett's Law, which suggests that as income increases, the proportion of income spent on staple foods decreases.\n"
   ]
  },
  {
   "cell_type": "code",
   "execution_count": null,
   "id": "a00e3334",
   "metadata": {},
   "outputs": [],
   "source": []
  }
 ],
 "metadata": {
  "kernelspec": {
   "display_name": "Python 3",
   "language": "python",
   "name": "python3"
  },
  "language_info": {
   "codemirror_mode": {
    "name": "ipython",
    "version": 3
   },
   "file_extension": ".py",
   "mimetype": "text/x-python",
   "name": "python",
   "nbconvert_exporter": "python",
   "pygments_lexer": "ipython3",
   "version": "3.13.3"
  }
 },
 "nbformat": 4,
 "nbformat_minor": 5
}
