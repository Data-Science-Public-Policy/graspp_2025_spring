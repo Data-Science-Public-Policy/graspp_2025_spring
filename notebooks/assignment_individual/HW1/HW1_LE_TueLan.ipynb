{
 "cells": [
  {
   "cell_type": "markdown",
   "id": "14e04d7b-d1fc-4317-9b55-b68ee8046a0f",
   "metadata": {},
   "source": [
    "# A. Assignment details\n",
    "\n",
    "- What: Download, manipulate and merge two or more datasets from below\n",
    "- How: Create functions in a python file to do this\n",
    "- Show: Show how to use these python files in a notebook"
   ]
  },
  {
   "cell_type": "markdown",
   "id": "05c97900",
   "metadata": {},
   "source": [
    "More details here: reports/assignments/milestone_1/extracredit_explainer.md\n"
   ]
  },
  {
   "cell_type": "code",
   "execution_count": 1,
   "id": "46286df8",
   "metadata": {},
   "outputs": [],
   "source": [
    "import requests\n",
    "import pandas as pd"
   ]
  },
  {
   "cell_type": "markdown",
   "id": "987c56ac",
   "metadata": {},
   "source": [
    "## 1.1 Download data\n",
    "\n",
    "### First dataset: World Bank"
   ]
  },
  {
   "cell_type": "code",
   "execution_count": 5,
   "id": "6da2adfb-8eac-4ad3-8810-3d5e6cc1ab42",
   "metadata": {},
   "outputs": [],
   "source": [
    "def download_worldbank(indicator, countries, date_start, date_end):\n",
    "    url_base = 'http://api.worldbank.org/v2/'  \n",
    "    country_codes = ';'.join(countries)  \n",
    "    url = url_base + f'country/{country_codes}/indicator/{indicator}?date={date_start}:{date_end}&per_page=30000' \n",
    "\n",
    "    response = requests.get(url)  \n",
    "    df = pd.read_xml(response.content)  \n",
    "    return df  "
   ]
  },
  {
   "cell_type": "code",
   "execution_count": 6,
   "id": "af2df288",
   "metadata": {},
   "outputs": [
    {
     "name": "stdout",
     "output_type": "stream",
     "text": [
      "<class 'pandas.core.frame.DataFrame'>\n",
      "RangeIndex: 41 entries, 0 to 40\n",
      "Data columns (total 8 columns):\n",
      " #   Column           Non-Null Count  Dtype  \n",
      "---  ------           --------------  -----  \n",
      " 0   indicator        41 non-null     object \n",
      " 1   country          41 non-null     object \n",
      " 2   countryiso3code  41 non-null     object \n",
      " 3   date             41 non-null     int64  \n",
      " 4   value            41 non-null     int64  \n",
      " 5   unit             0 non-null      float64\n",
      " 6   obs_status       0 non-null      float64\n",
      " 7   decimal          41 non-null     int64  \n",
      "dtypes: float64(2), int64(3), object(3)\n",
      "memory usage: 2.7+ KB\n"
     ]
    },
    {
     "data": {
      "text/html": [
       "<div>\n",
       "<style scoped>\n",
       "    .dataframe tbody tr th:only-of-type {\n",
       "        vertical-align: middle;\n",
       "    }\n",
       "\n",
       "    .dataframe tbody tr th {\n",
       "        vertical-align: top;\n",
       "    }\n",
       "\n",
       "    .dataframe thead th {\n",
       "        text-align: right;\n",
       "    }\n",
       "</style>\n",
       "<table border=\"1\" class=\"dataframe\">\n",
       "  <thead>\n",
       "    <tr style=\"text-align: right;\">\n",
       "      <th></th>\n",
       "      <th>indicator</th>\n",
       "      <th>country</th>\n",
       "      <th>countryiso3code</th>\n",
       "      <th>date</th>\n",
       "      <th>value</th>\n",
       "      <th>unit</th>\n",
       "      <th>obs_status</th>\n",
       "      <th>decimal</th>\n",
       "    </tr>\n",
       "  </thead>\n",
       "  <tbody>\n",
       "    <tr>\n",
       "      <th>0</th>\n",
       "      <td>Population, total</td>\n",
       "      <td>Germany</td>\n",
       "      <td>DEU</td>\n",
       "      <td>2000</td>\n",
       "      <td>82211508</td>\n",
       "      <td>NaN</td>\n",
       "      <td>NaN</td>\n",
       "      <td>0</td>\n",
       "    </tr>\n",
       "    <tr>\n",
       "      <th>1</th>\n",
       "      <td>Population, total</td>\n",
       "      <td>Germany</td>\n",
       "      <td>DEU</td>\n",
       "      <td>1999</td>\n",
       "      <td>82100243</td>\n",
       "      <td>NaN</td>\n",
       "      <td>NaN</td>\n",
       "      <td>0</td>\n",
       "    </tr>\n",
       "  </tbody>\n",
       "</table>\n",
       "</div>"
      ],
      "text/plain": [
       "           indicator  country countryiso3code  date     value  unit  \\\n",
       "0  Population, total  Germany             DEU  2000  82211508   NaN   \n",
       "1  Population, total  Germany             DEU  1999  82100243   NaN   \n",
       "\n",
       "   obs_status  decimal  \n",
       "0         NaN        0  \n",
       "1         NaN        0  "
      ]
     },
     "execution_count": 6,
     "metadata": {},
     "output_type": "execute_result"
    }
   ],
   "source": [
    "df = download_worldbank(\"SP.POP.TOTL\", [\"DE\"], 1960, 2000)\n",
    "df.info()\n",
    "df.head(2)"
   ]
  },
  {
   "cell_type": "markdown",
   "id": "8774aea6",
   "metadata": {},
   "source": [
    "### Second dataset: World Bank"
   ]
  },
  {
   "cell_type": "code",
   "execution_count": 7,
   "id": "4705e2f7",
   "metadata": {},
   "outputs": [
    {
     "name": "stdout",
     "output_type": "stream",
     "text": [
      "<class 'pandas.core.frame.DataFrame'>\n",
      "RangeIndex: 41 entries, 0 to 40\n",
      "Data columns (total 8 columns):\n",
      " #   Column           Non-Null Count  Dtype  \n",
      "---  ------           --------------  -----  \n",
      " 0   indicator        41 non-null     object \n",
      " 1   country          41 non-null     object \n",
      " 2   countryiso3code  41 non-null     object \n",
      " 3   date             41 non-null     int64  \n",
      " 4   value            41 non-null     int64  \n",
      " 5   unit             0 non-null      float64\n",
      " 6   obs_status       0 non-null      float64\n",
      " 7   decimal          41 non-null     int64  \n",
      "dtypes: float64(2), int64(3), object(3)\n",
      "memory usage: 2.7+ KB\n"
     ]
    },
    {
     "data": {
      "text/html": [
       "<div>\n",
       "<style scoped>\n",
       "    .dataframe tbody tr th:only-of-type {\n",
       "        vertical-align: middle;\n",
       "    }\n",
       "\n",
       "    .dataframe tbody tr th {\n",
       "        vertical-align: top;\n",
       "    }\n",
       "\n",
       "    .dataframe thead th {\n",
       "        text-align: right;\n",
       "    }\n",
       "</style>\n",
       "<table border=\"1\" class=\"dataframe\">\n",
       "  <thead>\n",
       "    <tr style=\"text-align: right;\">\n",
       "      <th></th>\n",
       "      <th>indicator</th>\n",
       "      <th>country</th>\n",
       "      <th>countryiso3code</th>\n",
       "      <th>date</th>\n",
       "      <th>value</th>\n",
       "      <th>unit</th>\n",
       "      <th>obs_status</th>\n",
       "      <th>decimal</th>\n",
       "    </tr>\n",
       "  </thead>\n",
       "  <tbody>\n",
       "    <tr>\n",
       "      <th>0</th>\n",
       "      <td>Net migration</td>\n",
       "      <td>Germany</td>\n",
       "      <td>DEU</td>\n",
       "      <td>2000</td>\n",
       "      <td>174594</td>\n",
       "      <td>NaN</td>\n",
       "      <td>NaN</td>\n",
       "      <td>0</td>\n",
       "    </tr>\n",
       "    <tr>\n",
       "      <th>1</th>\n",
       "      <td>Net migration</td>\n",
       "      <td>Germany</td>\n",
       "      <td>DEU</td>\n",
       "      <td>1999</td>\n",
       "      <td>219280</td>\n",
       "      <td>NaN</td>\n",
       "      <td>NaN</td>\n",
       "      <td>0</td>\n",
       "    </tr>\n",
       "  </tbody>\n",
       "</table>\n",
       "</div>"
      ],
      "text/plain": [
       "       indicator  country countryiso3code  date   value  unit  obs_status  \\\n",
       "0  Net migration  Germany             DEU  2000  174594   NaN         NaN   \n",
       "1  Net migration  Germany             DEU  1999  219280   NaN         NaN   \n",
       "\n",
       "   decimal  \n",
       "0        0  \n",
       "1        0  "
      ]
     },
     "execution_count": 7,
     "metadata": {},
     "output_type": "execute_result"
    }
   ],
   "source": [
    "df_1 = download_worldbank(\"SM.POP.NETM\", [\"DE\"], 1960, 2000)\n",
    "df_1.info()\n",
    "df_1.head(2)"
   ]
  },
  {
   "cell_type": "markdown",
   "id": "8cb3b866",
   "metadata": {},
   "source": [
    "## 1.2 Manipulate Data"
   ]
  },
  {
   "cell_type": "code",
   "execution_count": 8,
   "id": "4ad358d9",
   "metadata": {},
   "outputs": [
    {
     "data": {
      "text/html": [
       "<div>\n",
       "<style scoped>\n",
       "    .dataframe tbody tr th:only-of-type {\n",
       "        vertical-align: middle;\n",
       "    }\n",
       "\n",
       "    .dataframe tbody tr th {\n",
       "        vertical-align: top;\n",
       "    }\n",
       "\n",
       "    .dataframe thead th {\n",
       "        text-align: right;\n",
       "    }\n",
       "</style>\n",
       "<table border=\"1\" class=\"dataframe\">\n",
       "  <thead>\n",
       "    <tr style=\"text-align: right;\">\n",
       "      <th></th>\n",
       "      <th>countryiso3code</th>\n",
       "      <th>date</th>\n",
       "      <th>value</th>\n",
       "    </tr>\n",
       "  </thead>\n",
       "  <tbody>\n",
       "    <tr>\n",
       "      <th>39</th>\n",
       "      <td>DEU</td>\n",
       "      <td>1961</td>\n",
       "      <td>73377632</td>\n",
       "    </tr>\n",
       "    <tr>\n",
       "      <th>40</th>\n",
       "      <td>DEU</td>\n",
       "      <td>1960</td>\n",
       "      <td>72814900</td>\n",
       "    </tr>\n",
       "  </tbody>\n",
       "</table>\n",
       "</div>"
      ],
      "text/plain": [
       "   countryiso3code  date     value\n",
       "39             DEU  1961  73377632\n",
       "40             DEU  1960  72814900"
      ]
     },
     "execution_count": 8,
     "metadata": {},
     "output_type": "execute_result"
    }
   ],
   "source": [
    "df_extract = df.loc[df.date.isin(list(range(1960,1999))), ['countryiso3code','date','value']]\n",
    "df_extract.tail(2)"
   ]
  },
  {
   "cell_type": "code",
   "execution_count": 9,
   "id": "80826630",
   "metadata": {},
   "outputs": [
    {
     "data": {
      "text/html": [
       "<div>\n",
       "<style scoped>\n",
       "    .dataframe tbody tr th:only-of-type {\n",
       "        vertical-align: middle;\n",
       "    }\n",
       "\n",
       "    .dataframe tbody tr th {\n",
       "        vertical-align: top;\n",
       "    }\n",
       "\n",
       "    .dataframe thead th {\n",
       "        text-align: right;\n",
       "    }\n",
       "</style>\n",
       "<table border=\"1\" class=\"dataframe\">\n",
       "  <thead>\n",
       "    <tr style=\"text-align: right;\">\n",
       "      <th></th>\n",
       "      <th>countryiso3code</th>\n",
       "      <th>date</th>\n",
       "      <th>value</th>\n",
       "    </tr>\n",
       "  </thead>\n",
       "  <tbody>\n",
       "    <tr>\n",
       "      <th>39</th>\n",
       "      <td>DEU</td>\n",
       "      <td>1961</td>\n",
       "      <td>27534</td>\n",
       "    </tr>\n",
       "    <tr>\n",
       "      <th>40</th>\n",
       "      <td>DEU</td>\n",
       "      <td>1960</td>\n",
       "      <td>212666</td>\n",
       "    </tr>\n",
       "  </tbody>\n",
       "</table>\n",
       "</div>"
      ],
      "text/plain": [
       "   countryiso3code  date   value\n",
       "39             DEU  1961   27534\n",
       "40             DEU  1960  212666"
      ]
     },
     "execution_count": 9,
     "metadata": {},
     "output_type": "execute_result"
    }
   ],
   "source": [
    "df_1_extract = df_1.loc[df_1.date.isin(list(range(1960,1999))), ['countryiso3code','date','value']]\n",
    "df_1_extract.tail(2)"
   ]
  },
  {
   "cell_type": "code",
   "execution_count": 10,
   "id": "9b1b79c1",
   "metadata": {},
   "outputs": [
    {
     "data": {
      "text/html": [
       "<div>\n",
       "<style scoped>\n",
       "    .dataframe tbody tr th:only-of-type {\n",
       "        vertical-align: middle;\n",
       "    }\n",
       "\n",
       "    .dataframe tbody tr th {\n",
       "        vertical-align: top;\n",
       "    }\n",
       "\n",
       "    .dataframe thead th {\n",
       "        text-align: right;\n",
       "    }\n",
       "</style>\n",
       "<table border=\"1\" class=\"dataframe\">\n",
       "  <thead>\n",
       "    <tr style=\"text-align: right;\">\n",
       "      <th></th>\n",
       "      <th>country</th>\n",
       "      <th>date</th>\n",
       "      <th>population</th>\n",
       "    </tr>\n",
       "  </thead>\n",
       "  <tbody>\n",
       "    <tr>\n",
       "      <th>39</th>\n",
       "      <td>DEU</td>\n",
       "      <td>1961</td>\n",
       "      <td>73377632</td>\n",
       "    </tr>\n",
       "    <tr>\n",
       "      <th>40</th>\n",
       "      <td>DEU</td>\n",
       "      <td>1960</td>\n",
       "      <td>72814900</td>\n",
       "    </tr>\n",
       "  </tbody>\n",
       "</table>\n",
       "</div>"
      ],
      "text/plain": [
       "   country  date  population\n",
       "39     DEU  1961    73377632\n",
       "40     DEU  1960    72814900"
      ]
     },
     "execution_count": 10,
     "metadata": {},
     "output_type": "execute_result"
    }
   ],
   "source": [
    "df_extract = df_extract.rename({\"countryiso3code\":'country', \"value\":'population'},axis=1)\n",
    "df_extract.tail(2)"
   ]
  },
  {
   "cell_type": "code",
   "execution_count": 11,
   "id": "c22c8f98",
   "metadata": {},
   "outputs": [
    {
     "data": {
      "text/html": [
       "<div>\n",
       "<style scoped>\n",
       "    .dataframe tbody tr th:only-of-type {\n",
       "        vertical-align: middle;\n",
       "    }\n",
       "\n",
       "    .dataframe tbody tr th {\n",
       "        vertical-align: top;\n",
       "    }\n",
       "\n",
       "    .dataframe thead th {\n",
       "        text-align: right;\n",
       "    }\n",
       "</style>\n",
       "<table border=\"1\" class=\"dataframe\">\n",
       "  <thead>\n",
       "    <tr style=\"text-align: right;\">\n",
       "      <th></th>\n",
       "      <th>country</th>\n",
       "      <th>date</th>\n",
       "      <th>migration</th>\n",
       "    </tr>\n",
       "  </thead>\n",
       "  <tbody>\n",
       "    <tr>\n",
       "      <th>39</th>\n",
       "      <td>DEU</td>\n",
       "      <td>1961</td>\n",
       "      <td>27534</td>\n",
       "    </tr>\n",
       "    <tr>\n",
       "      <th>40</th>\n",
       "      <td>DEU</td>\n",
       "      <td>1960</td>\n",
       "      <td>212666</td>\n",
       "    </tr>\n",
       "  </tbody>\n",
       "</table>\n",
       "</div>"
      ],
      "text/plain": [
       "   country  date  migration\n",
       "39     DEU  1961      27534\n",
       "40     DEU  1960     212666"
      ]
     },
     "execution_count": 11,
     "metadata": {},
     "output_type": "execute_result"
    }
   ],
   "source": [
    "df_1_extract = df_1_extract.rename({\"countryiso3code\":'country', \"value\":'migration'},axis=1)\n",
    "df_1_extract.tail(2)"
   ]
  },
  {
   "cell_type": "code",
   "execution_count": 12,
   "id": "e6fa1200",
   "metadata": {},
   "outputs": [
    {
     "data": {
      "text/html": [
       "<div>\n",
       "<style scoped>\n",
       "    .dataframe tbody tr th:only-of-type {\n",
       "        vertical-align: middle;\n",
       "    }\n",
       "\n",
       "    .dataframe tbody tr th {\n",
       "        vertical-align: top;\n",
       "    }\n",
       "\n",
       "    .dataframe thead th {\n",
       "        text-align: right;\n",
       "    }\n",
       "</style>\n",
       "<table border=\"1\" class=\"dataframe\">\n",
       "  <thead>\n",
       "    <tr style=\"text-align: right;\">\n",
       "      <th></th>\n",
       "      <th></th>\n",
       "      <th>population</th>\n",
       "    </tr>\n",
       "    <tr>\n",
       "      <th>country</th>\n",
       "      <th>date</th>\n",
       "      <th></th>\n",
       "    </tr>\n",
       "  </thead>\n",
       "  <tbody>\n",
       "    <tr>\n",
       "      <th rowspan=\"2\" valign=\"top\">DEU</th>\n",
       "      <th>1961</th>\n",
       "      <td>73377632</td>\n",
       "    </tr>\n",
       "    <tr>\n",
       "      <th>1960</th>\n",
       "      <td>72814900</td>\n",
       "    </tr>\n",
       "  </tbody>\n",
       "</table>\n",
       "</div>"
      ],
      "text/plain": [
       "              population\n",
       "country date            \n",
       "DEU     1961    73377632\n",
       "        1960    72814900"
      ]
     },
     "execution_count": 12,
     "metadata": {},
     "output_type": "execute_result"
    }
   ],
   "source": [
    "df_extract = df_extract.set_index(['country','date'])\n",
    "df_extract.tail(2)"
   ]
  },
  {
   "cell_type": "code",
   "execution_count": 13,
   "id": "54611c11",
   "metadata": {},
   "outputs": [
    {
     "data": {
      "text/html": [
       "<div>\n",
       "<style scoped>\n",
       "    .dataframe tbody tr th:only-of-type {\n",
       "        vertical-align: middle;\n",
       "    }\n",
       "\n",
       "    .dataframe tbody tr th {\n",
       "        vertical-align: top;\n",
       "    }\n",
       "\n",
       "    .dataframe thead th {\n",
       "        text-align: right;\n",
       "    }\n",
       "</style>\n",
       "<table border=\"1\" class=\"dataframe\">\n",
       "  <thead>\n",
       "    <tr style=\"text-align: right;\">\n",
       "      <th></th>\n",
       "      <th></th>\n",
       "      <th>migration</th>\n",
       "    </tr>\n",
       "    <tr>\n",
       "      <th>country</th>\n",
       "      <th>date</th>\n",
       "      <th></th>\n",
       "    </tr>\n",
       "  </thead>\n",
       "  <tbody>\n",
       "    <tr>\n",
       "      <th rowspan=\"2\" valign=\"top\">DEU</th>\n",
       "      <th>1961</th>\n",
       "      <td>27534</td>\n",
       "    </tr>\n",
       "    <tr>\n",
       "      <th>1960</th>\n",
       "      <td>212666</td>\n",
       "    </tr>\n",
       "  </tbody>\n",
       "</table>\n",
       "</div>"
      ],
      "text/plain": [
       "              migration\n",
       "country date           \n",
       "DEU     1961      27534\n",
       "        1960     212666"
      ]
     },
     "execution_count": 13,
     "metadata": {},
     "output_type": "execute_result"
    }
   ],
   "source": [
    "df_1_extract = df_1_extract.set_index(['country','date'])\n",
    "df_1_extract.tail(2)"
   ]
  },
  {
   "cell_type": "markdown",
   "id": "ec9b1098",
   "metadata": {},
   "source": [
    "## 1.3 Merge Data"
   ]
  },
  {
   "cell_type": "code",
   "execution_count": 14,
   "id": "6fc7b0ca",
   "metadata": {},
   "outputs": [
    {
     "data": {
      "text/html": [
       "<div>\n",
       "<style scoped>\n",
       "    .dataframe tbody tr th:only-of-type {\n",
       "        vertical-align: middle;\n",
       "    }\n",
       "\n",
       "    .dataframe tbody tr th {\n",
       "        vertical-align: top;\n",
       "    }\n",
       "\n",
       "    .dataframe thead th {\n",
       "        text-align: right;\n",
       "    }\n",
       "</style>\n",
       "<table border=\"1\" class=\"dataframe\">\n",
       "  <thead>\n",
       "    <tr style=\"text-align: right;\">\n",
       "      <th></th>\n",
       "      <th></th>\n",
       "      <th>population</th>\n",
       "      <th>migration</th>\n",
       "    </tr>\n",
       "    <tr>\n",
       "      <th>country</th>\n",
       "      <th>date</th>\n",
       "      <th></th>\n",
       "      <th></th>\n",
       "    </tr>\n",
       "  </thead>\n",
       "  <tbody>\n",
       "    <tr>\n",
       "      <th rowspan=\"2\" valign=\"top\">DEU</th>\n",
       "      <th>1961</th>\n",
       "      <td>73377632</td>\n",
       "      <td>27534</td>\n",
       "    </tr>\n",
       "    <tr>\n",
       "      <th>1960</th>\n",
       "      <td>72814900</td>\n",
       "      <td>212666</td>\n",
       "    </tr>\n",
       "  </tbody>\n",
       "</table>\n",
       "</div>"
      ],
      "text/plain": [
       "              population  migration\n",
       "country date                       \n",
       "DEU     1961    73377632      27534\n",
       "        1960    72814900     212666"
      ]
     },
     "execution_count": 14,
     "metadata": {},
     "output_type": "execute_result"
    }
   ],
   "source": [
    "df_merge = pd.merge(\n",
    "    df_extract,\n",
    "    df_1_extract,\n",
    "    right_index=True,\n",
    "    left_index=True,\n",
    "    how='inner'\n",
    ")\n",
    "\n",
    "df_merge.tail(2)"
   ]
  },
  {
   "cell_type": "code",
   "execution_count": null,
   "id": "4785a4f5",
   "metadata": {},
   "outputs": [],
   "source": []
  },
  {
   "cell_type": "markdown",
   "id": "ea9bb389",
   "metadata": {},
   "source": [
    "## Global datasets\n",
    "\n",
    "- What: Download, manipulate and merge two or more datasets from below\n",
    "- How: Create functions in a python file to do this\n",
    "- Show: Show how to use these python files in a notebook\n",
    "\n",
    "* **Penn World Table (PWT):** Provides purchasing power parity and national income accounts data.\n",
    "    * **Link:** [http://www.ggdc.net/pwt](http://www.ggdc.net/pwt)\n",
    "\n",
    "* **UNCTADstat (UNCTAD):** Offers data on trade, investment, and development.\n",
    "    * **Link:** [https://unctadstat.unctad.org/](https://unctadstat.unctad.org/)\n",
    "\n",
    "* **FAOSTAT (FAO):** Provides data on food, agriculture, forestry, and related areas.\n",
    "    * **Link:** [http://www.fao.org/faostat/en/#data](http://www.fao.org/faostat/en/#data)\n",
    "\n",
    "* **ILOSTAT (ILO):** Offers labor statistics, including employment and wages.\n",
    "    * **Link:** [https://ilostat.ilo.org/](https://ilostat.ilo.org/)\n",
    "\n",
    "* **Federal Reserve Economic Data (FRED):** Economic and financial data from the Federal Reserve.\n",
    "    * **Link:** [https://fred.stlouisfed.org/](https://fred.stlouisfed.org/)\n",
    "\n",
    "* **Bank for International Settlements (BIS):** Data and statistics on banking, financial markets, and the global economy.\n",
    "    * **Link:** [https://www.bis.org/statistics/index.htm](https://www.bis.org/statistics/index.htm)\n",
    "\n",
    "* **International Monetary Fund (IMF) Data:** A variety of macroeconomic and financial data.\n",
    "    * **Link:** [https://www.imf.org/en/data](https://www.imf.org/en/data)\n",
    "\n",
    "* **Eurostat:** Provides a wide range of statistics on the European Union, including economic, social, and demographic data.\n",
    "    * **Link:** [https://ec.europa.eu/eurostat/](https://ec.europa.eu/eurostat/)\n",
    "\n",
    "* **World Bank Data:** Comprehensive data on development indicators across countries.\n",
    "    * **Link:** [https://data.worldbank.org/](https://data.worldbank.org/)\n",
    "\n",
    "* **Varieties of Democracy (V-Dem):** Datasets measuring various aspects of democracy across countries.\n",
    "    * **Link:** [https://v-dem.net/](https://v-dem.net/)\n",
    "\n",
    "* **OECD Data:** Statistics and indicators from the Organisation for Economic Co-operation and Development, covering a broad range of topics.\n",
    "    * **Link:** [https://data.oecd.org/](https://data.oecd.org/)\n",
    "\n",
    "* **Quality of Government (QoG):** Datasets on governance, institutions, and quality of government.\n",
    "    * **Link:** [https://qog.gu.se/](https://qog.gu.se/)\n",
    "\n",
    "* **IPCC Data:** Climate change data and scenarios from the Intergovernmental Panel on Climate Change.\n",
    "    * (Note: Access to data varies, often through specific reports or data portals linked within the IPCC website)\n",
    "    * **Link:** [https://www.ipcc.ch/](https://www.ipcc.ch/)\n",
    "\n",
    "* **Our World in Data:** Research and data on global development, poverty, health, and other topics.\n",
    "    * **Link:** [https://ourworldindata.org/](https://ourworldindata.org/)\n",
    "\n",
    "* **UN Comtrade:** United Nations Commodity Trade Statistics Database.\n",
    "    * **Link:** [https://comtrade.un.org/](https://comtrade.un.org/)\n",
    "\n",
    "\n",
    "## Academic datasets\n",
    "\n",
    "* **Dallas Fed Global Economic Indicators (DGEI):** [DGEI](https://www.dallasfed.org/research/international/dgei)\n",
    "* **Dallas Fed International House Price Database:** [House Price](https://www.dallasfed.org/research/international/houseprice#data)\n",
    "* **New York Fed r* (Natural Rate of Interest):** [r*](https://www.newyorkfed.org/research/policy/rstar)\n",
    "* **Chinn-Ito Index (KAOPEN):** [KAOPEN](https://web.pdx.edu/~ito/Chinn-Ito_website.htm)\n",
    "* **Metrick-Schmelzing Paper and Database (Long-Term Real Rates):** [Real Rates](https://som.yale.edu/centers/program-on-financial-stability/metrick-schmelzing-paper-and-database)\n",
    "* **Yale Program on Financial Stability COVID-19 Tracker:** [COVID-19 Tracker](https://som.yale.edu/centers/program-on-financial-stability/covid-19-tracker)\n",
    "* **IMF Financial Integration:** [Financial Integration](https://www.imf.org/en/Publications/WP/Issues/2017/05/10/International-Financial-Integration-in-the-Aftermath-of-the-Global-Financial-Crisis-44906)\n",
    "* **IMF Macroprudential Policy Survey:** [Macroprudential](https://www.elibrary-areaer.imf.org/Macroprudential/Pages/Home.aspx)\n",
    "* **Nancy Xu's Risk Aversion Index:** [Risk Aversion](https://www.nancyxu.net/risk-aversion-index)\n",
    "* **Jorda-Schularick-Taylor Macrohistory Database:** [Macrohistory](https://www.nber.org/research/data/jorda-schularick-taylor-macrohistory)\n",
    "* **Central Bank Independence (CBI) Data:** [CBI Data](https://sites.google.com/site/carogarriga/cbi-data-1)\n",
    "* **Global Inflation Data:** [Inflation Data](https://www.worldbank.org/en/research/brief/inflation-database)\n",
    "\n",
    "## U.S Datasets\n",
    "- https://www.sca.isr.umich.edu/tables.html\n",
    "- https://www.bea.gov/data\n",
    "- https://www.bls.gov/jlt/\n",
    "- https://adpemploymentreport.com/\n",
    "\n",
    "## Japan datasets\n",
    "\n",
    "* **Economy Watchers Survey (Cabinet Office):** [Watchers Survey](https://www5.cao.go.jp/keizai3/watcher.html)\n",
    "* **Consumption Trend Index (ESRI, Cabinet Office):** [Consumption Index](https://www.esri.cao.go.jp/en/stat/shouhi/shouhi-e.html)\n",
    "* **Prefectural Accounts (ESRI, Cabinet Office):** [Prefectural Accounts](https://www.esri.cao.go.jp/jp/sna/sonota/kenmin/kenmin_top.html)\n",
    "* **Insurance Statistics (General Insurance Association of Japan):** [Insurance Stats](https://www.sonpo.or.jp/en/statistics/index.html)\n",
    "* **FSA Policy Response (Financial Services Agency):** [FSA Response](https://www.fsa.go.jp/news/r1/20200313-2.html)\n",
    "* **Franchise Industry Data (Japan Franchise Association):** [Franchise Data](https://www.jfnet.or.jp/data/data_c.html)\n",
    "* **Trends Foreign Visitors (MLIT, Japan Tourism Agency):** [Visitor Spending](https://www.mlit.go.jp/kankocho/tokei_hakusyo/gaikokujinshohidoko.html)\n",
    "* **Tax and Stamp Revenues (Ministry of Finance):** [Tax Revenues](https://www.mof.go.jp/tax_policy/reference/taxes_and_stamp_revenues/data.htm)\n",
    "* **Life Insurance Statistics (Life Insurance Association of Japan):** [Life Insurance](https://www.seiho.or.jp/english/statistics/)\n",
    "* **Economic Growth (Tokyo Foundation for Policy Research):** [GDP](https://www.tkfd.or.jp/research/detail.php?id=2983)\n",
    "* **Consumer Price Index (Statistics Bureau of Japan):** [CPI](https://www.stat.go.jp/english/data/cpi/1588.html#his)\n",
    "* **Bank Financial Statements (Financial Services Agency):** [Bank Statements](https://www.fsa.go.jp/status/ginkou_kessan/index.html)\n",
    "* **Budget Revenue and Expenditure (Ministry of Finance):** [Budget Data](https://www.mof.go.jp/policy/budget/report/revenue_and_expenditure/index.htm)\n",
    "* **Trade Statistics (Japan Customs):** [Trade Stats](https://www.customs.go.jp/toukei/info/index_e.htm)\n",
    "* **Banking Statistics (Japanese Bankers Association):** [Banking Stats](https://www.zenginkyo.or.jp/stats/year2-02/)\n",
    "* **Household Expenditure Survey (Statistics Bureau):** [Household Spending](https://www.stat.go.jp/data/kakei/longtime/index.html#time)\n",
    "* **Economic Statistics (Federation of Economic Organizations):** [Econ Stats](https://www.zenkeijikyo.or.jp/statistics)\n",
    "* **Regional Banks:** [Regional Banks data](https://www.chiginkyo.or.jp/news_topics/)\n",
    "* **Japan Economic Policy Uncertainty Index:** [Policy Uncertainty](https://www.policyuncertainty.com/japan_monthly.html)"
   ]
  },
  {
   "cell_type": "markdown",
   "id": "f8acbce1",
   "metadata": {},
   "source": []
  }
 ],
 "metadata": {
  "kernelspec": {
   "display_name": ".venv",
   "language": "python",
   "name": "python3"
  },
  "language_info": {
   "codemirror_mode": {
    "name": "ipython",
    "version": 3
   },
   "file_extension": ".py",
   "mimetype": "text/x-python",
   "name": "python",
   "nbconvert_exporter": "python",
   "pygments_lexer": "ipython3",
   "version": "3.13.3"
  }
 },
 "nbformat": 4,
 "nbformat_minor": 5
}
