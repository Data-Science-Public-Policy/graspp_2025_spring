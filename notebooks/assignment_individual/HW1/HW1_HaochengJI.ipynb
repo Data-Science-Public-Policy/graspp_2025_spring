{
 "cells": [
  {
   "metadata": {},
   "cell_type": "markdown",
   "source": [
    "# Assignment for extra credits\n",
    "## 1.1 Download data\n"
   ],
   "id": "79f4531e6cc3df70"
  },
  {
   "metadata": {
    "ExecuteTime": {
     "end_time": "2025-04-27T07:49:36.687891Z",
     "start_time": "2025-04-27T07:49:36.635290Z"
    }
   },
   "cell_type": "code",
   "source": [
    "import pandas as pd\n",
    "import requests\n",
    "import io\n",
    "import os"
   ],
   "id": "7fa57227be456557",
   "outputs": [],
   "execution_count": 1
  },
  {
   "metadata": {
    "ExecuteTime": {
     "end_time": "2025-04-27T07:49:39.226500Z",
     "start_time": "2025-04-27T07:49:36.757516Z"
    }
   },
   "cell_type": "code",
   "source": [
    "# The Bayesian Corruption Index\n",
    "url_bci = 'https://users.ugent.be/~sastanda/BCI/BCI2023.csv'\n",
    "def download_bci(url_bci):\n",
    "    df = pd.read_csv(url_bci)\n",
    "    return df\n",
    "# The Bayesian Corruption Index Data\n",
    "bci_raw = download_bci(url_bci)"
   ],
   "id": "1c6f63aa3b9aab0f",
   "outputs": [],
   "execution_count": 2
  },
  {
   "metadata": {
    "ExecuteTime": {
     "end_time": "2025-04-27T07:52:03.744801Z",
     "start_time": "2025-04-27T07:52:03.735141Z"
    }
   },
   "cell_type": "code",
   "source": [
    "# Global Militarisation Index\n",
    "url_gmi = '/Users/haocheng/Developer/Github/graspp_2025_spring/notebooks/assignment_individual/HW1/Global Militarisation Index.csv'\n",
    "def download_gmi(url_gmi):\n",
    "    df = pd.read_csv(url_gmi)\n",
    "    return df\n",
    "# The Global Militarisation Index Data\n",
    "gmi_raw = download_gmi(url_gmi)"
   ],
   "id": "41e6471116eae073",
   "outputs": [],
   "execution_count": 4
  },
  {
   "metadata": {},
   "cell_type": "markdown",
   "source": [
    "## 1.2 Manipulate Data\n",
    "I want to find out if corruption is related to militarisation. I will use the Bayesian Corruption Index and the Global Militarisation Index to find out."
   ],
   "id": "43b47b0168495af1"
  },
  {
   "metadata": {
    "ExecuteTime": {
     "end_time": "2025-04-27T07:52:08.446311Z",
     "start_time": "2025-04-27T07:52:08.438741Z"
    }
   },
   "cell_type": "code",
   "source": [
    "# Filter out the columns we need\n",
    "bci = bci_raw[['iso', 'name', 'year', 'BCI']]\n",
    "gmi = gmi_raw[['iso3_code', 'country', 'year', 'gmi_score']]\n",
    "\n",
    "# raname the columns\n",
    "bci = bci.rename(columns={'name': 'country'})\n",
    "gmi = gmi.rename(columns={'iso3_code': 'iso','gmi_score': 'GMI'})\n"
   ],
   "id": "c463893768a6067e",
   "outputs": [],
   "execution_count": 5
  },
  {
   "metadata": {},
   "cell_type": "markdown",
   "source": "## 1.3 Merge Data",
   "id": "137d28c9f8d57365"
  },
  {
   "metadata": {
    "ExecuteTime": {
     "end_time": "2025-04-27T07:52:10.505473Z",
     "start_time": "2025-04-27T07:52:10.488522Z"
    }
   },
   "cell_type": "code",
   "source": [
    "# Merge the two dataframes on iso and year\n",
    "bci_gmi = pd.merge(bci, gmi, left_on=['iso', 'year'], right_on=['iso', 'year'], how='inner')\n",
    "\n",
    "# Drop the columns we don't need\n",
    "bci_gmi = bci_gmi.drop(columns=['country_x', 'country_y'])\n",
    "\n",
    "# Export the data to csv file\n",
    "# bci_gmi.to_csv('/Users/haocheng/Developer/Github/graspp-25S-democracy/data/bci_gmi.csv', index=False)\n",
    "\n",
    "bci_gmi.head(5000)\n"
   ],
   "id": "55a84f780b3ca510",
   "outputs": [
    {
     "data": {
      "text/plain": [
       "      iso  year        BCI         GMI\n",
       "0     AFG  2004  62.011883   87.308188\n",
       "1     AFG  2005  62.305722   69.253157\n",
       "2     AFG  2006  62.590421   74.122118\n",
       "3     AFG  2007  62.694177   83.033760\n",
       "4     AFG  2008  62.882996   80.312289\n",
       "...   ...   ...        ...         ...\n",
       "4561  ZWE  2017  61.883434  102.252382\n",
       "4562  ZWE  2018  61.908972   92.198359\n",
       "4563  ZWE  2019  61.790524   82.418339\n",
       "4564  ZWE  2020  61.983279   66.605714\n",
       "4565  ZWE  2021  62.169869   84.655512\n",
       "\n",
       "[4566 rows x 4 columns]"
      ],
      "text/html": [
       "<div>\n",
       "<style scoped>\n",
       "    .dataframe tbody tr th:only-of-type {\n",
       "        vertical-align: middle;\n",
       "    }\n",
       "\n",
       "    .dataframe tbody tr th {\n",
       "        vertical-align: top;\n",
       "    }\n",
       "\n",
       "    .dataframe thead th {\n",
       "        text-align: right;\n",
       "    }\n",
       "</style>\n",
       "<table border=\"1\" class=\"dataframe\">\n",
       "  <thead>\n",
       "    <tr style=\"text-align: right;\">\n",
       "      <th></th>\n",
       "      <th>iso</th>\n",
       "      <th>year</th>\n",
       "      <th>BCI</th>\n",
       "      <th>GMI</th>\n",
       "    </tr>\n",
       "  </thead>\n",
       "  <tbody>\n",
       "    <tr>\n",
       "      <th>0</th>\n",
       "      <td>AFG</td>\n",
       "      <td>2004</td>\n",
       "      <td>62.011883</td>\n",
       "      <td>87.308188</td>\n",
       "    </tr>\n",
       "    <tr>\n",
       "      <th>1</th>\n",
       "      <td>AFG</td>\n",
       "      <td>2005</td>\n",
       "      <td>62.305722</td>\n",
       "      <td>69.253157</td>\n",
       "    </tr>\n",
       "    <tr>\n",
       "      <th>2</th>\n",
       "      <td>AFG</td>\n",
       "      <td>2006</td>\n",
       "      <td>62.590421</td>\n",
       "      <td>74.122118</td>\n",
       "    </tr>\n",
       "    <tr>\n",
       "      <th>3</th>\n",
       "      <td>AFG</td>\n",
       "      <td>2007</td>\n",
       "      <td>62.694177</td>\n",
       "      <td>83.033760</td>\n",
       "    </tr>\n",
       "    <tr>\n",
       "      <th>4</th>\n",
       "      <td>AFG</td>\n",
       "      <td>2008</td>\n",
       "      <td>62.882996</td>\n",
       "      <td>80.312289</td>\n",
       "    </tr>\n",
       "    <tr>\n",
       "      <th>...</th>\n",
       "      <td>...</td>\n",
       "      <td>...</td>\n",
       "      <td>...</td>\n",
       "      <td>...</td>\n",
       "    </tr>\n",
       "    <tr>\n",
       "      <th>4561</th>\n",
       "      <td>ZWE</td>\n",
       "      <td>2017</td>\n",
       "      <td>61.883434</td>\n",
       "      <td>102.252382</td>\n",
       "    </tr>\n",
       "    <tr>\n",
       "      <th>4562</th>\n",
       "      <td>ZWE</td>\n",
       "      <td>2018</td>\n",
       "      <td>61.908972</td>\n",
       "      <td>92.198359</td>\n",
       "    </tr>\n",
       "    <tr>\n",
       "      <th>4563</th>\n",
       "      <td>ZWE</td>\n",
       "      <td>2019</td>\n",
       "      <td>61.790524</td>\n",
       "      <td>82.418339</td>\n",
       "    </tr>\n",
       "    <tr>\n",
       "      <th>4564</th>\n",
       "      <td>ZWE</td>\n",
       "      <td>2020</td>\n",
       "      <td>61.983279</td>\n",
       "      <td>66.605714</td>\n",
       "    </tr>\n",
       "    <tr>\n",
       "      <th>4565</th>\n",
       "      <td>ZWE</td>\n",
       "      <td>2021</td>\n",
       "      <td>62.169869</td>\n",
       "      <td>84.655512</td>\n",
       "    </tr>\n",
       "  </tbody>\n",
       "</table>\n",
       "<p>4566 rows × 4 columns</p>\n",
       "</div>"
      ]
     },
     "execution_count": 6,
     "metadata": {},
     "output_type": "execute_result"
    }
   ],
   "execution_count": 6
  }
 ],
 "metadata": {
  "kernelspec": {
   "display_name": "Python 3",
   "language": "python",
   "name": "python3"
  },
  "language_info": {
   "codemirror_mode": {
    "name": "ipython",
    "version": 2
   },
   "file_extension": ".py",
   "mimetype": "text/x-python",
   "name": "python",
   "nbconvert_exporter": "python",
   "pygments_lexer": "ipython2",
   "version": "2.7.6"
  }
 },
 "nbformat": 4,
 "nbformat_minor": 5
}
