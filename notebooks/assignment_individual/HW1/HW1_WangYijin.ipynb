{
 "cells": [
  {
   "cell_type": "code",
   "execution_count": 1,
   "id": "905cdc79",
   "metadata": {},
   "outputs": [],
   "source": [
    "import pandas as pd\n",
    "import matplotlib.pyplot as plt"
   ]
  },
  {
   "cell_type": "markdown",
   "id": "5db26596",
   "metadata": {},
   "source": [
    " We import pandas for data manipulation and matplotlib.pyplot for creating visualizations."
   ]
  },
  {
   "cell_type": "code",
   "execution_count": null,
   "id": "959cafee",
   "metadata": {},
   "outputs": [],
   "source": [
    "\n",
    "def import_data(file_path):\n",
    "    data = pd.read_csv(file_path)\n",
    "    return data"
   ]
  },
  {
   "cell_type": "markdown",
   "id": "cb62e0f8",
   "metadata": {},
   "source": [
    "We define a simple function import_data that takes a file path as input and reads a CSV file into a pandas DataFrame."
   ]
  },
  {
   "cell_type": "code",
   "execution_count": null,
   "id": "85f16ba0",
   "metadata": {},
   "outputs": [],
   "source": [
    "gdp_data = import_data('GDP.csv')   \n",
    "pop_data = import_data('POP.csv')  "
   ]
  },
  {
   "cell_type": "markdown",
   "id": "a64827e2",
   "metadata": {},
   "source": [
    "We use the import_data function to load two datasets: one for GDP (GDP.csv) and one for Population (POP.csv)."
   ]
  },
  {
   "cell_type": "code",
   "execution_count": null,
   "id": "f3f33b37",
   "metadata": {},
   "outputs": [],
   "source": [
    "print(\"GDP数据列名：\")\n",
    "print(gdp_data.columns)\n",
    "\n",
    "print(\"\\n人口数据列名：\")\n",
    "print(pop_data.columns)"
   ]
  },
  {
   "cell_type": "markdown",
   "id": "f797a4f4",
   "metadata": {},
   "source": [
    "We print the column names of both datasets to check the structure and identify the relevant columns for analysis."
   ]
  },
  {
   "cell_type": "code",
   "execution_count": null,
   "id": "c99fa1ff",
   "metadata": {},
   "outputs": [],
   "source": [
    "gdp_data = gdp_data[gdp_data['Gross domestic product 2022'].apply(pd.to_numeric, errors='coerce').notna()]\n",
    "pop_data = pop_data[pop_data['Population 2022'].apply(pd.to_numeric, errors='coerce').notna()]"
   ]
  },
  {
   "cell_type": "markdown",
   "id": "340f97b6",
   "metadata": {},
   "source": [
    "We remove any rows where the GDP or Population values are missing or non-numeric, ensuring our analysis is based on valid numbers."
   ]
  },
  {
   "cell_type": "code",
   "execution_count": null,
   "id": "7fce02f9",
   "metadata": {},
   "outputs": [],
   "source": [
    "gdp_selected = gdp_data[['Unnamed: 0', 'Gross domestic product 2022']]\n",
    "pop_selected = pop_data[['Unnamed: 0', 'Population 2022']]"
   ]
  },
  {
   "cell_type": "markdown",
   "id": "6947710d",
   "metadata": {},
   "source": [
    "We select only the columns containing country names and the 2022 GDP or Population data for further analysis."
   ]
  },
  {
   "cell_type": "code",
   "execution_count": null,
   "id": "481e4b21",
   "metadata": {},
   "outputs": [],
   "source": [
    "gdp_selected = gdp_selected.rename(columns={'Unnamed: 0': 'Country Name', 'Gross domestic product 2022': 'GDP_2022'})\n",
    "pop_selected = pop_selected.rename(columns={'Unnamed: 0': 'Country Name', 'Population 2022': 'Population_2022'})"
   ]
  },
  {
   "cell_type": "markdown",
   "id": "929ab967",
   "metadata": {},
   "source": [
    "We rename the columns to make them more understandable and easier to reference in the next steps."
   ]
  },
  {
   "cell_type": "code",
   "execution_count": null,
   "id": "67b965dc",
   "metadata": {},
   "outputs": [],
   "source": [
    "merged_data = pd.merge(gdp_selected, pop_selected, on='Country Name')"
   ]
  },
  {
   "cell_type": "markdown",
   "id": "48b02f07",
   "metadata": {},
   "source": [
    "We merge the two datasets on the Country Name column to create a combined dataset containing both GDP and Population information for each country."
   ]
  },
  {
   "cell_type": "code",
   "execution_count": null,
   "id": "b9ee2c99",
   "metadata": {},
   "outputs": [],
   "source": [
    "print(\"\\n合并后的数据预览：\")\n",
    "print(merged_data.head())"
   ]
  },
  {
   "cell_type": "markdown",
   "id": "d31b1ac5",
   "metadata": {},
   "source": [
    "We print the first few rows of the merged dataset to verify that the merge was successful."
   ]
  },
  {
   "cell_type": "code",
   "execution_count": null,
   "id": "a41c5e43",
   "metadata": {},
   "outputs": [],
   "source": [
    "print(\"\\n描述性统计：\")\n",
    "print(merged_data.describe())"
   ]
  },
  {
   "cell_type": "markdown",
   "id": "e6e3247b",
   "metadata": {},
   "source": [
    "We use describe() to get basic descriptive statistics (count, mean, std, min, max, etc.) for the merged dataset."
   ]
  },
  {
   "cell_type": "code",
   "execution_count": null,
   "id": "4fb0fe20",
   "metadata": {},
   "outputs": [],
   "source": [
    "top10_gdp = merged_data.sort_values(by='GDP_2022', ascending=False).head(10)"
   ]
  },
  {
   "cell_type": "markdown",
   "id": "0496d0bd",
   "metadata": {},
   "source": [
    "We sort the dataset by GDP_2022 in descending order and select the top 10 countries with the highest GDP values."
   ]
  },
  {
   "cell_type": "code",
   "execution_count": null,
   "id": "ba4f2651",
   "metadata": {},
   "outputs": [],
   "source": [
    "plt.figure(figsize=(10,6))\n",
    "plt.bar(top10_gdp['Country Name'], top10_gdp['GDP_2022'])\n",
    "plt.xticks(rotation=45, ha='right', fontsize=10)\n",
    "plt.title('Top 10 GDP Countries in 2022')\n",
    "plt.xlabel('Country')\n",
    "plt.ylabel('GDP (Current US$)')\n",
    "plt.tight_layout()\n",
    "plt.show()"
   ]
  },
  {
   "cell_type": "markdown",
   "id": "0bda0181",
   "metadata": {},
   "source": [
    "We create a bar chart to visualize the top 10 countries by GDP in 2022. The x-axis shows the country names and the y-axis shows the GDP values."
   ]
  }
 ],
 "metadata": {
  "kernelspec": {
   "display_name": ".venv",
   "language": "python",
   "name": "python3"
  },
  "language_info": {
   "codemirror_mode": {
    "name": "ipython",
    "version": 3
   },
   "file_extension": ".py",
   "mimetype": "text/x-python",
   "name": "python",
   "nbconvert_exporter": "python",
   "pygments_lexer": "ipython3",
   "version": "3.9.6"
  }
 },
 "nbformat": 4,
 "nbformat_minor": 5
}
