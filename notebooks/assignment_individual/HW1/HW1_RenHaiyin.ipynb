{
 "cells": [
  {
   "cell_type": "markdown",
   "id": "4a9d57f7",
   "metadata": {},
   "source": [
    "Topic: rGDP and compensation of employees"
   ]
  },
  {
   "cell_type": "markdown",
   "id": "e6baca29",
   "metadata": {},
   "source": [
    "1. First of all, import libraries."
   ]
  },
  {
   "cell_type": "code",
   "execution_count": null,
   "id": "38745814",
   "metadata": {
    "vscode": {
     "languageId": "plaintext"
    }
   },
   "outputs": [],
   "source": [
    "import pandas as pd\n",
    "import requests\n",
    "import io\n",
    "import os"
   ]
  },
  {
   "cell_type": "markdown",
   "id": "90f3ebcf",
   "metadata": {},
   "source": [
    "2. Start to download data from internet."
   ]
  },
  {
   "cell_type": "code",
   "execution_count": null,
   "id": "ff414789",
   "metadata": {},
   "outputs": [],
   "source": [
    "# Define URL for macroeconomic data\n",
    "url_macro = 'https://github.com/KMueller-Lab/Global-Macro-Database/raw/refs/heads/main/data/final/chainlinked_rGDP.dta'\n",
    "# Read Stata file into a pandas DataFrame\n",
    "df_macro = pd.read_stata(url_macro)\n",
    "\n",
    "# Define URL for OECD data\n",
    "url_oecd = \"https://sdmx.oecd.org/public/rest/data/OECD.SDD.NAD,DSD_NAMAIN10@DF_TABLE1_INCOME,2.0/A.JPN........V..?dimensionAtObservation=AllDimensions&format=csv\"\n",
    "# Fetch data from the URL\n",
    "response = requests.get(url_oecd)\n",
    "response.raise_for_status()  # Raise an exception for HTTP errors\n",
    "# Read the text data into an in-memory text buffer\n",
    "data = io.StringIO(response.text)\n",
    "# Read CSV data into a pandas DataFrame\n",
    "df_oecd = pd.read_csv(data)"
   ]
  },
  {
   "cell_type": "markdown",
   "id": "81806ff3",
   "metadata": {},
   "source": [
    "for the first line, set the URL for macroeconomic data, and then using pandas to read the web stata file, meanwhile save the things that we read from pandas."
   ]
  },
  {
   "cell_type": "markdown",
   "id": "a6d0e3e2",
   "metadata": {},
   "source": [
    "for the second line, I collect the API from OECD database, and using OECD data explorer to filter the compensation of employees in the JPN, and also transforming the APIurl to csv form which can help us to read in pandas command. Then I used request to request the data from url, to avoid some internet error, the program will stop automatically when it occur some internet mistakes. And like before, use pandas to read and save the data."
   ]
  },
  {
   "cell_type": "markdown",
   "id": "84c13708",
   "metadata": {},
   "source": [
    "3. Filter and Rename Columns"
   ]
  },
  {
   "cell_type": "code",
   "execution_count": null,
   "id": "abf5a7c8",
   "metadata": {},
   "outputs": [],
   "source": [
    "# Filter macroeconomic data for Japan, select columns, and drop missing values\n",
    "df_macro_jp = df_macro.query(\"ISO3 == 'JPN'\")[['ISO3', 'year', 'UN_rGDP', 'WDI_rGDP']].dropna()\n",
    "# Filter OECD data for Japan\n",
    "df_oecd_jp = df_oecd[['REF_AREA', 'TIME_PERIOD', 'OBS_VALUE', 'TRANSACTION', 'UNIT_MEASURE']].query(\"REF_AREA == 'JPN'\")\n",
    "\n",
    "# Rename columns in the Japan macroeconomic DataFrame\n",
    "df_macro_jp = df_macro_jp.rename({\"ISO3\": 'country', \"year\": 'date'}, axis=1)\n",
    "\n",
    "# Rename columns and drop unnecessary columns in the Japan OECD DataFrame\n",
    "df_oecd_jp = df_oecd_jp.rename({\"REF_AREA\": 'country', \"TIME_PERIOD\": 'date', 'OBS_VALUE': 'COM'}, axis=1).drop([\"TRANSACTION\", \"UNIT_MEASURE\"], axis=1)\n",
    "\n",
    "# Print debug information before index conversion\n",
    "print(\"Dataset shapes:\")\n",
    "print(f\"Macro data: {df_macro_jp.shape}\")\n",
    "print(f\"OECD data: {df_oecd_jp.shape}\")\n",
    "\n",
    "print(\"\\nMacro data sample:\")\n",
    "print(df_macro_jp.head())\n",
    "print(\"\\nOECD data sample:\")\n",
    "print(df_oecd_jp.head())"
   ]
  },
  {
   "cell_type": "markdown",
   "id": "f33dd8d1",
   "metadata": {},
   "source": [
    "4. Index Types Match"
   ]
  },
  {
   "cell_type": "code",
   "execution_count": null,
   "id": "2f9c9d6a",
   "metadata": {},
   "outputs": [],
   "source": [
    "# Convert date column in macro data to integer type\n",
    "df_macro_jp['date'] = df_macro_jp['date'].astype(int)\n",
    "\n",
    "print(\"\\nMacro data sample after type conversion:\")\n",
    "print(df_macro_jp.head())"
   ]
  },
  {
   "cell_type": "markdown",
   "id": "32acb936",
   "metadata": {},
   "source": [
    "because the date in macroeconomics database are come with float, I fail to merge many times because of this, in order to solve this, we are going to make it to int."
   ]
  },
  {
   "cell_type": "markdown",
   "id": "eb548b10",
   "metadata": {},
   "source": [
    "5. Set Index"
   ]
  },
  {
   "cell_type": "code",
   "execution_count": null,
   "id": "85ae99e5",
   "metadata": {},
   "outputs": [],
   "source": [
    "# Set 'country' and 'date' as the index for both DataFrames\n",
    "df_macro_jp = df_macro_jp.set_index(['country', 'date'])\n",
    "df_oecd_jp = df_oecd_jp.set_index(['country', 'date'])\n",
    "\n",
    "print(\"\\nData after setting indices:\")\n",
    "print(\"Macro data:\")\n",
    "print(df_macro_jp.head())\n",
    "print(\"\\nOECD data:\")\n",
    "print(df_oecd_jp.head())"
   ]
  },
  {
   "cell_type": "markdown",
   "id": "9c3bba02",
   "metadata": {},
   "source": [
    "Preparing for merging 2 database, so we set country and date as the index."
   ]
  },
  {
   "cell_type": "markdown",
   "id": "96598ada",
   "metadata": {},
   "source": [
    "6. Merge DataFrames"
   ]
  },
  {
   "cell_type": "code",
   "execution_count": null,
   "id": "2c43924f",
   "metadata": {},
   "outputs": [],
   "source": [
    "# Merge the two DataFrames based on the common index ('country', 'date') using an inner join\n",
    "df_merge = pd.merge(\n",
    "    df_macro_jp,\n",
    "    df_oecd_jp,\n",
    "    right_index=True,\n",
    "    left_index=True,\n",
    "    how='inner'\n",
    ")\n",
    "\n",
    "# Print merging result\n",
    "print(\"\\nMerge results:\")\n",
    "print(f\"Merged data shape: {df_merge.shape}\")\n",
    "print(df_merge.head())"
   ]
  },
  {
   "cell_type": "markdown",
   "id": "79e2a862",
   "metadata": {},
   "source": [
    "7. Export Data"
   ]
  },
  {
   "cell_type": "code",
   "execution_count": null,
   "id": "0538bd8c",
   "metadata": {},
   "outputs": [],
   "source": [
    "# Ensure the 'data/intermediate/' directory exists\n",
    "os.makedirs(\"data/homework1/\", exist_ok=True)\n",
    "# Export the merged DataFrame to a CSV file in the 'data/intermediate/' directory\n",
    "df_merge.to_csv(\"data/homework1/merged_data_jp.csv\")\n",
    "\n",
    "# Ensure the 'data/raw/' directory exists\n",
    "os.makedirs(\"data/homework1/\", exist_ok=True)\n",
    "# Export the raw OECD DataFrame to a CSV file in the 'data/raw/' directory\n",
    "df_oecd.to_csv(\"data/homework1/oecd_jp.csv\")\n",
    "\n",
    "print(\"\\nFiles saved successfully!\")"
   ]
  },
  {
   "cell_type": "markdown",
   "id": "ae9a635b",
   "metadata": {},
   "source": [
    "8. Data Preview and Summary"
   ]
  },
  {
   "cell_type": "code",
   "execution_count": null,
   "id": "efe3feb7",
   "metadata": {},
   "outputs": [],
   "source": [
    "# Make it looks fancy\n",
    "print(\"\\n\" + \"=\"*50)\n",
    "print(\"DETAILED DATA PREVIEW AND SUMMARY\")\n",
    "print(\"=\"*50)\n",
    "\n",
    "\n",
    "# Show merged data with original indices\n",
    "print(\"\\nComplete Merged Dataset:\")\n",
    "df_merge_display = df_merge.reset_index()\n",
    "print(df_merge_display)"
   ]
  }
 ],
 "metadata": {
  "language_info": {
   "name": "python"
  }
 },
 "nbformat": 4,
 "nbformat_minor": 5
}
