{
 "cells": [
  {
   "cell_type": "markdown",
   "id": "9ae788aa",
   "metadata": {},
   "source": [
    "## Download Data"
   ]
  },
  {
   "cell_type": "markdown",
   "id": "5595166a",
   "metadata": {},
   "source": [
    "### Datasets that I would like to merge: \n",
    "World Bank: Current health expenditure, GDP per capita, diabetes prevalence, urban population\n",
    "OECD: self-reported body weight\n",
    "\n",
    "Time: 2000-2023\n",
    "Country: OECD countries\n",
    "\n"
   ]
  },
  {
   "cell_type": "code",
   "execution_count": 4,
   "id": "4356cf9d",
   "metadata": {},
   "outputs": [],
   "source": [
    "import requests\n",
    "import pandas as pd\n",
    "import sys\n",
    "sys.path.append('../src')\n",
    "\n",
    "from worldbank import download_worldbank\n"
   ]
  },
  {
   "cell_type": "markdown",
   "id": "b15374b7",
   "metadata": {},
   "source": []
  },
  {
   "cell_type": "code",
   "execution_count": 5,
   "id": "25ae951b",
   "metadata": {},
   "outputs": [],
   "source": [
    "# I will be using oecd countries\n",
    "oecd_countries = [\n",
    "    'AUS', 'AUT', 'BEL', 'CAN', 'CHL', 'COL', 'CZE', 'DNK', 'EST', 'FIN', 'FRA', 'DEU',\n",
    "    'GRC', 'HUN', 'ISL', 'IRL', 'ISR', 'ITA', 'JPN', 'KOR', 'LVA', 'LTU', 'LUX', 'MEX',\n",
    "    'NLD', 'NZL', 'NOR', 'POL', 'PRT', 'SVK', 'SVN', 'ESP', 'SWE', 'CHE', 'TUR', 'GBR', 'USA'\n",
    "]"
   ]
  },
  {
   "cell_type": "code",
   "execution_count": 6,
   "id": "c1785982",
   "metadata": {},
   "outputs": [
    {
     "data": {
      "text/html": [
       "<div>\n",
       "<style scoped>\n",
       "    .dataframe tbody tr th:only-of-type {\n",
       "        vertical-align: middle;\n",
       "    }\n",
       "\n",
       "    .dataframe tbody tr th {\n",
       "        vertical-align: top;\n",
       "    }\n",
       "\n",
       "    .dataframe thead th {\n",
       "        text-align: right;\n",
       "    }\n",
       "</style>\n",
       "<table border=\"1\" class=\"dataframe\">\n",
       "  <thead>\n",
       "    <tr style=\"text-align: right;\">\n",
       "      <th></th>\n",
       "      <th>indicator</th>\n",
       "      <th>country</th>\n",
       "      <th>countryiso3code</th>\n",
       "      <th>date</th>\n",
       "      <th>value</th>\n",
       "      <th>unit</th>\n",
       "      <th>obs_status</th>\n",
       "      <th>decimal</th>\n",
       "      <th>indicator_code</th>\n",
       "    </tr>\n",
       "  </thead>\n",
       "  <tbody>\n",
       "    <tr>\n",
       "      <th>0</th>\n",
       "      <td>Current health expenditure (% of GDP)</td>\n",
       "      <td>Australia</td>\n",
       "      <td>AUS</td>\n",
       "      <td>2023</td>\n",
       "      <td>NaN</td>\n",
       "      <td>NaN</td>\n",
       "      <td>NaN</td>\n",
       "      <td>2</td>\n",
       "      <td>SH.XPD.CHEX.GD.ZS</td>\n",
       "    </tr>\n",
       "    <tr>\n",
       "      <th>1</th>\n",
       "      <td>Current health expenditure (% of GDP)</td>\n",
       "      <td>Australia</td>\n",
       "      <td>AUS</td>\n",
       "      <td>2022</td>\n",
       "      <td>9.926879</td>\n",
       "      <td>NaN</td>\n",
       "      <td>NaN</td>\n",
       "      <td>2</td>\n",
       "      <td>SH.XPD.CHEX.GD.ZS</td>\n",
       "    </tr>\n",
       "    <tr>\n",
       "      <th>2</th>\n",
       "      <td>Current health expenditure (% of GDP)</td>\n",
       "      <td>Australia</td>\n",
       "      <td>AUS</td>\n",
       "      <td>2021</td>\n",
       "      <td>10.425253</td>\n",
       "      <td>NaN</td>\n",
       "      <td>NaN</td>\n",
       "      <td>2</td>\n",
       "      <td>SH.XPD.CHEX.GD.ZS</td>\n",
       "    </tr>\n",
       "    <tr>\n",
       "      <th>3</th>\n",
       "      <td>Current health expenditure (% of GDP)</td>\n",
       "      <td>Australia</td>\n",
       "      <td>AUS</td>\n",
       "      <td>2020</td>\n",
       "      <td>10.660401</td>\n",
       "      <td>NaN</td>\n",
       "      <td>NaN</td>\n",
       "      <td>2</td>\n",
       "      <td>SH.XPD.CHEX.GD.ZS</td>\n",
       "    </tr>\n",
       "    <tr>\n",
       "      <th>4</th>\n",
       "      <td>Current health expenditure (% of GDP)</td>\n",
       "      <td>Australia</td>\n",
       "      <td>AUS</td>\n",
       "      <td>2019</td>\n",
       "      <td>10.212851</td>\n",
       "      <td>NaN</td>\n",
       "      <td>NaN</td>\n",
       "      <td>2</td>\n",
       "      <td>SH.XPD.CHEX.GD.ZS</td>\n",
       "    </tr>\n",
       "  </tbody>\n",
       "</table>\n",
       "</div>"
      ],
      "text/plain": [
       "                               indicator    country countryiso3code  date  \\\n",
       "0  Current health expenditure (% of GDP)  Australia             AUS  2023   \n",
       "1  Current health expenditure (% of GDP)  Australia             AUS  2022   \n",
       "2  Current health expenditure (% of GDP)  Australia             AUS  2021   \n",
       "3  Current health expenditure (% of GDP)  Australia             AUS  2020   \n",
       "4  Current health expenditure (% of GDP)  Australia             AUS  2019   \n",
       "\n",
       "       value  unit  obs_status  decimal     indicator_code  \n",
       "0        NaN   NaN         NaN        2  SH.XPD.CHEX.GD.ZS  \n",
       "1   9.926879   NaN         NaN        2  SH.XPD.CHEX.GD.ZS  \n",
       "2  10.425253   NaN         NaN        2  SH.XPD.CHEX.GD.ZS  \n",
       "3  10.660401   NaN         NaN        2  SH.XPD.CHEX.GD.ZS  \n",
       "4  10.212851   NaN         NaN        2  SH.XPD.CHEX.GD.ZS  "
      ]
     },
     "execution_count": 6,
     "metadata": {},
     "output_type": "execute_result"
    }
   ],
   "source": [
    "# I realize that this function only fetch the first indicator, not the entire set of indicators, I don't know how to fix'''\n",
    "world= download_worldbank(\n",
    "    indicators = ['SH.XPD.CHEX.GD.ZS','SH.STA.DIAB.ZS','SP.URB.TOTL.IN.ZS','NY.GDP.PCAP.KD'],\n",
    "    countries = oecd_countries,\n",
    "    date_start = '2000',\n",
    "    date_end = '2023'\n",
    ")\n",
    "world.head(5)"
   ]
  },
  {
   "cell_type": "code",
   "execution_count": 7,
   "id": "9082b2e4",
   "metadata": {},
   "outputs": [
    {
     "data": {
      "text/html": [
       "<div>\n",
       "<style scoped>\n",
       "    .dataframe tbody tr th:only-of-type {\n",
       "        vertical-align: middle;\n",
       "    }\n",
       "\n",
       "    .dataframe tbody tr th {\n",
       "        vertical-align: top;\n",
       "    }\n",
       "\n",
       "    .dataframe thead th {\n",
       "        text-align: right;\n",
       "    }\n",
       "</style>\n",
       "<table border=\"1\" class=\"dataframe\">\n",
       "  <thead>\n",
       "    <tr style=\"text-align: right;\">\n",
       "      <th></th>\n",
       "      <th>STRUCTURE</th>\n",
       "      <th>STRUCTURE_ID</th>\n",
       "      <th>STRUCTURE_NAME</th>\n",
       "      <th>ACTION</th>\n",
       "      <th>REF_AREA</th>\n",
       "      <th>Reference area</th>\n",
       "      <th>FREQ</th>\n",
       "      <th>Frequency of observation</th>\n",
       "      <th>MEASURE</th>\n",
       "      <th>Measure</th>\n",
       "      <th>...</th>\n",
       "      <th>TIME_PERIOD</th>\n",
       "      <th>Time period</th>\n",
       "      <th>OBS_VALUE</th>\n",
       "      <th>Observation value</th>\n",
       "      <th>OBS_STATUS</th>\n",
       "      <th>Observation status</th>\n",
       "      <th>UNIT_MULT</th>\n",
       "      <th>Unit multiplier</th>\n",
       "      <th>DECIMALS</th>\n",
       "      <th>Decimals</th>\n",
       "    </tr>\n",
       "  </thead>\n",
       "  <tbody>\n",
       "    <tr>\n",
       "      <th>0</th>\n",
       "      <td>DATAFLOW</td>\n",
       "      <td>OECD.ELS.HD:DSD_HEALTH_LVNG@DF_HEALTH_LVNG_BW(...</td>\n",
       "      <td>Body weight</td>\n",
       "      <td>I</td>\n",
       "      <td>ISR</td>\n",
       "      <td>Israel</td>\n",
       "      <td>A</td>\n",
       "      <td>Annual</td>\n",
       "      <td>SP_OVRGHT_OBS</td>\n",
       "      <td>Share of population who are overweight or obese</td>\n",
       "      <td>...</td>\n",
       "      <td>2015</td>\n",
       "      <td>NaN</td>\n",
       "      <td>50.9</td>\n",
       "      <td>NaN</td>\n",
       "      <td>A</td>\n",
       "      <td>Normal value</td>\n",
       "      <td>0</td>\n",
       "      <td>Units</td>\n",
       "      <td>NaN</td>\n",
       "      <td>NaN</td>\n",
       "    </tr>\n",
       "    <tr>\n",
       "      <th>1</th>\n",
       "      <td>DATAFLOW</td>\n",
       "      <td>OECD.ELS.HD:DSD_HEALTH_LVNG@DF_HEALTH_LVNG_BW(...</td>\n",
       "      <td>Body weight</td>\n",
       "      <td>I</td>\n",
       "      <td>ESP</td>\n",
       "      <td>Spain</td>\n",
       "      <td>A</td>\n",
       "      <td>Annual</td>\n",
       "      <td>SP_OVRGHT_OBS</td>\n",
       "      <td>Share of population who are overweight or obese</td>\n",
       "      <td>...</td>\n",
       "      <td>2001</td>\n",
       "      <td>NaN</td>\n",
       "      <td>48.3</td>\n",
       "      <td>NaN</td>\n",
       "      <td>A</td>\n",
       "      <td>Normal value</td>\n",
       "      <td>0</td>\n",
       "      <td>Units</td>\n",
       "      <td>NaN</td>\n",
       "      <td>NaN</td>\n",
       "    </tr>\n",
       "    <tr>\n",
       "      <th>2</th>\n",
       "      <td>DATAFLOW</td>\n",
       "      <td>OECD.ELS.HD:DSD_HEALTH_LVNG@DF_HEALTH_LVNG_BW(...</td>\n",
       "      <td>Body weight</td>\n",
       "      <td>I</td>\n",
       "      <td>ESP</td>\n",
       "      <td>Spain</td>\n",
       "      <td>A</td>\n",
       "      <td>Annual</td>\n",
       "      <td>SP_OVRGHT_OBS</td>\n",
       "      <td>Share of population who are overweight or obese</td>\n",
       "      <td>...</td>\n",
       "      <td>2003</td>\n",
       "      <td>NaN</td>\n",
       "      <td>48.4</td>\n",
       "      <td>NaN</td>\n",
       "      <td>A</td>\n",
       "      <td>Normal value</td>\n",
       "      <td>0</td>\n",
       "      <td>Units</td>\n",
       "      <td>NaN</td>\n",
       "      <td>NaN</td>\n",
       "    </tr>\n",
       "    <tr>\n",
       "      <th>3</th>\n",
       "      <td>DATAFLOW</td>\n",
       "      <td>OECD.ELS.HD:DSD_HEALTH_LVNG@DF_HEALTH_LVNG_BW(...</td>\n",
       "      <td>Body weight</td>\n",
       "      <td>I</td>\n",
       "      <td>ESP</td>\n",
       "      <td>Spain</td>\n",
       "      <td>A</td>\n",
       "      <td>Annual</td>\n",
       "      <td>SP_OVRGHT_OBS</td>\n",
       "      <td>Share of population who are overweight or obese</td>\n",
       "      <td>...</td>\n",
       "      <td>2006</td>\n",
       "      <td>NaN</td>\n",
       "      <td>51.1</td>\n",
       "      <td>NaN</td>\n",
       "      <td>A</td>\n",
       "      <td>Normal value</td>\n",
       "      <td>0</td>\n",
       "      <td>Units</td>\n",
       "      <td>NaN</td>\n",
       "      <td>NaN</td>\n",
       "    </tr>\n",
       "    <tr>\n",
       "      <th>4</th>\n",
       "      <td>DATAFLOW</td>\n",
       "      <td>OECD.ELS.HD:DSD_HEALTH_LVNG@DF_HEALTH_LVNG_BW(...</td>\n",
       "      <td>Body weight</td>\n",
       "      <td>I</td>\n",
       "      <td>ESP</td>\n",
       "      <td>Spain</td>\n",
       "      <td>A</td>\n",
       "      <td>Annual</td>\n",
       "      <td>SP_OVRGHT_OBS</td>\n",
       "      <td>Share of population who are overweight or obese</td>\n",
       "      <td>...</td>\n",
       "      <td>2009</td>\n",
       "      <td>NaN</td>\n",
       "      <td>52.8</td>\n",
       "      <td>NaN</td>\n",
       "      <td>A</td>\n",
       "      <td>Normal value</td>\n",
       "      <td>0</td>\n",
       "      <td>Units</td>\n",
       "      <td>NaN</td>\n",
       "      <td>NaN</td>\n",
       "    </tr>\n",
       "  </tbody>\n",
       "</table>\n",
       "<p>5 rows × 28 columns</p>\n",
       "</div>"
      ],
      "text/plain": [
       "  STRUCTURE                                       STRUCTURE_ID STRUCTURE_NAME  \\\n",
       "0  DATAFLOW  OECD.ELS.HD:DSD_HEALTH_LVNG@DF_HEALTH_LVNG_BW(...    Body weight   \n",
       "1  DATAFLOW  OECD.ELS.HD:DSD_HEALTH_LVNG@DF_HEALTH_LVNG_BW(...    Body weight   \n",
       "2  DATAFLOW  OECD.ELS.HD:DSD_HEALTH_LVNG@DF_HEALTH_LVNG_BW(...    Body weight   \n",
       "3  DATAFLOW  OECD.ELS.HD:DSD_HEALTH_LVNG@DF_HEALTH_LVNG_BW(...    Body weight   \n",
       "4  DATAFLOW  OECD.ELS.HD:DSD_HEALTH_LVNG@DF_HEALTH_LVNG_BW(...    Body weight   \n",
       "\n",
       "  ACTION REF_AREA Reference area FREQ Frequency of observation        MEASURE  \\\n",
       "0      I      ISR         Israel    A                   Annual  SP_OVRGHT_OBS   \n",
       "1      I      ESP          Spain    A                   Annual  SP_OVRGHT_OBS   \n",
       "2      I      ESP          Spain    A                   Annual  SP_OVRGHT_OBS   \n",
       "3      I      ESP          Spain    A                   Annual  SP_OVRGHT_OBS   \n",
       "4      I      ESP          Spain    A                   Annual  SP_OVRGHT_OBS   \n",
       "\n",
       "                                           Measure  ... TIME_PERIOD  \\\n",
       "0  Share of population who are overweight or obese  ...        2015   \n",
       "1  Share of population who are overweight or obese  ...        2001   \n",
       "2  Share of population who are overweight or obese  ...        2003   \n",
       "3  Share of population who are overweight or obese  ...        2006   \n",
       "4  Share of population who are overweight or obese  ...        2009   \n",
       "\n",
       "  Time period OBS_VALUE Observation value OBS_STATUS Observation status  \\\n",
       "0         NaN      50.9               NaN          A       Normal value   \n",
       "1         NaN      48.3               NaN          A       Normal value   \n",
       "2         NaN      48.4               NaN          A       Normal value   \n",
       "3         NaN      51.1               NaN          A       Normal value   \n",
       "4         NaN      52.8               NaN          A       Normal value   \n",
       "\n",
       "  UNIT_MULT Unit multiplier  DECIMALS  Decimals  \n",
       "0         0           Units       NaN       NaN  \n",
       "1         0           Units       NaN       NaN  \n",
       "2         0           Units       NaN       NaN  \n",
       "3         0           Units       NaN       NaN  \n",
       "4         0           Units       NaN       NaN  \n",
       "\n",
       "[5 rows x 28 columns]"
      ]
     },
     "execution_count": 7,
     "metadata": {},
     "output_type": "execute_result"
    }
   ],
   "source": [
    "# get OECD data on body weight (failed to fetch data from website, so i just use the csv\n",
    "bw = pd.read_csv(\"../data/data_raw/body_weight.csv\")\n",
    "bw.head(5)"
   ]
  },
  {
   "cell_type": "markdown",
   "id": "24228b36",
   "metadata": {},
   "source": [
    "## Trim the data"
   ]
  },
  {
   "cell_type": "code",
   "execution_count": 8,
   "id": "5ab83500",
   "metadata": {},
   "outputs": [
    {
     "data": {
      "text/plain": [
       "<bound method NDFrame.head of      REF_AREA Reference area  OBS_VALUE  TIME_PERIOD\n",
       "0         ISR         Israel       50.9         2015\n",
       "1         ESP          Spain       48.3         2001\n",
       "2         ESP          Spain       48.4         2003\n",
       "3         ESP          Spain       51.1         2006\n",
       "4         ESP          Spain       52.8         2009\n",
       "...       ...            ...        ...          ...\n",
       "1589      BGR       Bulgaria       54.0         2014\n",
       "1590      BGR       Bulgaria       54.8         2019\n",
       "1591      BGR       Bulgaria       11.5         2008\n",
       "1592      BGR       Bulgaria       14.8         2014\n",
       "1593      BGR       Bulgaria       13.6         2019\n",
       "\n",
       "[1594 rows x 4 columns]>"
      ]
     },
     "execution_count": 8,
     "metadata": {},
     "output_type": "execute_result"
    }
   ],
   "source": [
    "bw_selected = bw[['REF_AREA','Reference area','OBS_VALUE','TIME_PERIOD']]\n",
    "bw_selected.head"
   ]
  },
  {
   "cell_type": "code",
   "execution_count": 9,
   "id": "033ea494",
   "metadata": {},
   "outputs": [
    {
     "data": {
      "text/plain": [
       "<bound method NDFrame.head of      countryiso3code        country         value  date\n",
       "0                AUS      Australia           NaN  2023\n",
       "1                AUS      Australia      9.926879  2022\n",
       "2                AUS      Australia     10.425253  2021\n",
       "3                AUS      Australia     10.660401  2020\n",
       "4                AUS      Australia     10.212851  2019\n",
       "...              ...            ...           ...   ...\n",
       "3547             USA  United States  51348.347338  2004\n",
       "3548             USA  United States  49905.523307  2003\n",
       "3549             USA  United States  48967.366120  2002\n",
       "3550             USA  United States  48597.424614  2001\n",
       "3551             USA  United States  48616.254626  2000\n",
       "\n",
       "[3552 rows x 4 columns]>"
      ]
     },
     "execution_count": 9,
     "metadata": {},
     "output_type": "execute_result"
    }
   ],
   "source": [
    "world_selected = world[['countryiso3code','country', 'value','date']]\n",
    "world_selected.head"
   ]
  },
  {
   "cell_type": "markdown",
   "id": "b1f2cee9",
   "metadata": {},
   "source": [
    "## Rename and set index "
   ]
  },
  {
   "cell_type": "code",
   "execution_count": 10,
   "id": "591b749a",
   "metadata": {},
   "outputs": [
    {
     "data": {
      "text/html": [
       "<div>\n",
       "<style scoped>\n",
       "    .dataframe tbody tr th:only-of-type {\n",
       "        vertical-align: middle;\n",
       "    }\n",
       "\n",
       "    .dataframe tbody tr th {\n",
       "        vertical-align: top;\n",
       "    }\n",
       "\n",
       "    .dataframe thead th {\n",
       "        text-align: right;\n",
       "    }\n",
       "</style>\n",
       "<table border=\"1\" class=\"dataframe\">\n",
       "  <thead>\n",
       "    <tr style=\"text-align: right;\">\n",
       "      <th></th>\n",
       "      <th>code</th>\n",
       "      <th>country</th>\n",
       "      <th>value</th>\n",
       "      <th>year</th>\n",
       "    </tr>\n",
       "  </thead>\n",
       "  <tbody>\n",
       "    <tr>\n",
       "      <th>0</th>\n",
       "      <td>ISR</td>\n",
       "      <td>Israel</td>\n",
       "      <td>50.9</td>\n",
       "      <td>2015</td>\n",
       "    </tr>\n",
       "    <tr>\n",
       "      <th>1</th>\n",
       "      <td>ESP</td>\n",
       "      <td>Spain</td>\n",
       "      <td>48.3</td>\n",
       "      <td>2001</td>\n",
       "    </tr>\n",
       "  </tbody>\n",
       "</table>\n",
       "</div>"
      ],
      "text/plain": [
       "  code country  value  year\n",
       "0  ISR  Israel   50.9  2015\n",
       "1  ESP   Spain   48.3  2001"
      ]
     },
     "execution_count": 10,
     "metadata": {},
     "output_type": "execute_result"
    }
   ],
   "source": [
    "# rename oecd columns\n",
    "bw_selected_rename = bw_selected.rename({\"REF_AREA\":'code', \"Reference area\":'country',\"OBS_VALUE\":'value',\"TIME_PERIOD\":'year'}, axis=1)\n",
    "bw_selected_rename.head(2)"
   ]
  },
  {
   "cell_type": "code",
   "execution_count": 11,
   "id": "f66b7a82",
   "metadata": {},
   "outputs": [
    {
     "data": {
      "text/html": [
       "<div>\n",
       "<style scoped>\n",
       "    .dataframe tbody tr th:only-of-type {\n",
       "        vertical-align: middle;\n",
       "    }\n",
       "\n",
       "    .dataframe tbody tr th {\n",
       "        vertical-align: top;\n",
       "    }\n",
       "\n",
       "    .dataframe thead th {\n",
       "        text-align: right;\n",
       "    }\n",
       "</style>\n",
       "<table border=\"1\" class=\"dataframe\">\n",
       "  <thead>\n",
       "    <tr style=\"text-align: right;\">\n",
       "      <th></th>\n",
       "      <th>code</th>\n",
       "      <th>country</th>\n",
       "      <th>value</th>\n",
       "      <th>year</th>\n",
       "    </tr>\n",
       "  </thead>\n",
       "  <tbody>\n",
       "    <tr>\n",
       "      <th>0</th>\n",
       "      <td>AUS</td>\n",
       "      <td>Australia</td>\n",
       "      <td>NaN</td>\n",
       "      <td>2023</td>\n",
       "    </tr>\n",
       "    <tr>\n",
       "      <th>1</th>\n",
       "      <td>AUS</td>\n",
       "      <td>Australia</td>\n",
       "      <td>9.926879</td>\n",
       "      <td>2022</td>\n",
       "    </tr>\n",
       "  </tbody>\n",
       "</table>\n",
       "</div>"
      ],
      "text/plain": [
       "  code    country     value  year\n",
       "0  AUS  Australia       NaN  2023\n",
       "1  AUS  Australia  9.926879  2022"
      ]
     },
     "execution_count": 11,
     "metadata": {},
     "output_type": "execute_result"
    }
   ],
   "source": [
    "# rename world bank columns\n",
    "world_selected_rename = world_selected.rename({\"countryiso3code\":'code',\"date\":'year'}, axis=1)\n",
    "world_selected_rename.head(2)"
   ]
  },
  {
   "cell_type": "code",
   "execution_count": 12,
   "id": "a5942d6c",
   "metadata": {},
   "outputs": [
    {
     "data": {
      "text/html": [
       "<div>\n",
       "<style scoped>\n",
       "    .dataframe tbody tr th:only-of-type {\n",
       "        vertical-align: middle;\n",
       "    }\n",
       "\n",
       "    .dataframe tbody tr th {\n",
       "        vertical-align: top;\n",
       "    }\n",
       "\n",
       "    .dataframe thead th {\n",
       "        text-align: right;\n",
       "    }\n",
       "</style>\n",
       "<table border=\"1\" class=\"dataframe\">\n",
       "  <thead>\n",
       "    <tr style=\"text-align: right;\">\n",
       "      <th></th>\n",
       "      <th></th>\n",
       "      <th></th>\n",
       "      <th>value</th>\n",
       "    </tr>\n",
       "    <tr>\n",
       "      <th>country</th>\n",
       "      <th>year</th>\n",
       "      <th>code</th>\n",
       "      <th></th>\n",
       "    </tr>\n",
       "  </thead>\n",
       "  <tbody>\n",
       "    <tr>\n",
       "      <th>Israel</th>\n",
       "      <th>2015</th>\n",
       "      <th>ISR</th>\n",
       "      <td>50.9</td>\n",
       "    </tr>\n",
       "    <tr>\n",
       "      <th>Spain</th>\n",
       "      <th>2001</th>\n",
       "      <th>ESP</th>\n",
       "      <td>48.3</td>\n",
       "    </tr>\n",
       "  </tbody>\n",
       "</table>\n",
       "</div>"
      ],
      "text/plain": [
       "                   value\n",
       "country year code       \n",
       "Israel  2015 ISR    50.9\n",
       "Spain   2001 ESP    48.3"
      ]
     },
     "execution_count": 12,
     "metadata": {},
     "output_type": "execute_result"
    }
   ],
   "source": [
    "# set index \n",
    "# Set index for World Bank\n",
    "world = world_selected_rename.set_index(['country', 'year', 'code'])\n",
    "\n",
    "# Set index for Body Weight\n",
    "bw = bw_selected_rename.set_index(['country', 'year', 'code'])\n",
    "\n",
    "world.head(2)\n",
    "bw.head(2)\n"
   ]
  },
  {
   "cell_type": "code",
   "execution_count": 13,
   "id": "3589f7ee",
   "metadata": {},
   "outputs": [],
   "source": [
    "# Merge the two datasets\n",
    "merged = world.join(bw, lsuffix='_world', rsuffix='_bw', how='inner')\n",
    "\n",
    "merged.head(20)\n",
    "\n",
    "# Save the merged dataset to a CSV file\n",
    "merged.to_csv('../data/processed/merged_wb_oecd.csv')"
   ]
  },
  {
   "cell_type": "markdown",
   "id": "56093da0",
   "metadata": {},
   "source": [
    "## Descriptive statistics and visualizations"
   ]
  },
  {
   "cell_type": "code",
   "execution_count": 14,
   "id": "fcf5ec06",
   "metadata": {},
   "outputs": [
    {
     "data": {
      "text/html": [
       "<div>\n",
       "<style scoped>\n",
       "    .dataframe tbody tr th:only-of-type {\n",
       "        vertical-align: middle;\n",
       "    }\n",
       "\n",
       "    .dataframe tbody tr th {\n",
       "        vertical-align: top;\n",
       "    }\n",
       "\n",
       "    .dataframe thead th {\n",
       "        text-align: right;\n",
       "    }\n",
       "</style>\n",
       "<table border=\"1\" class=\"dataframe\">\n",
       "  <thead>\n",
       "    <tr style=\"text-align: right;\">\n",
       "      <th></th>\n",
       "      <th>value_world</th>\n",
       "      <th>value_bw</th>\n",
       "    </tr>\n",
       "  </thead>\n",
       "  <tbody>\n",
       "    <tr>\n",
       "      <th>count</th>\n",
       "      <td>3684.000000</td>\n",
       "      <td>4824.000000</td>\n",
       "    </tr>\n",
       "    <tr>\n",
       "      <th>mean</th>\n",
       "      <td>12553.986361</td>\n",
       "      <td>34.558624</td>\n",
       "    </tr>\n",
       "    <tr>\n",
       "      <th>std</th>\n",
       "      <td>20506.796162</td>\n",
       "      <td>15.918262</td>\n",
       "    </tr>\n",
       "    <tr>\n",
       "      <th>min</th>\n",
       "      <td>4.200000</td>\n",
       "      <td>2.500000</td>\n",
       "    </tr>\n",
       "    <tr>\n",
       "      <th>25%</th>\n",
       "      <td>10.272341</td>\n",
       "      <td>21.500000</td>\n",
       "    </tr>\n",
       "    <tr>\n",
       "      <th>50%</th>\n",
       "      <td>80.606000</td>\n",
       "      <td>34.400000</td>\n",
       "    </tr>\n",
       "    <tr>\n",
       "      <th>75%</th>\n",
       "      <td>25073.720975</td>\n",
       "      <td>46.100000</td>\n",
       "    </tr>\n",
       "    <tr>\n",
       "      <th>max</th>\n",
       "      <td>107350.626687</td>\n",
       "      <td>75.200000</td>\n",
       "    </tr>\n",
       "  </tbody>\n",
       "</table>\n",
       "</div>"
      ],
      "text/plain": [
       "         value_world     value_bw\n",
       "count    3684.000000  4824.000000\n",
       "mean    12553.986361    34.558624\n",
       "std     20506.796162    15.918262\n",
       "min         4.200000     2.500000\n",
       "25%        10.272341    21.500000\n",
       "50%        80.606000    34.400000\n",
       "75%     25073.720975    46.100000\n",
       "max    107350.626687    75.200000"
      ]
     },
     "execution_count": 14,
     "metadata": {},
     "output_type": "execute_result"
    }
   ],
   "source": [
    "# descriptive statistics\n",
    "merged.describe()\n"
   ]
  },
  {
   "cell_type": "code",
   "execution_count": 18,
   "id": "e74680b2",
   "metadata": {},
   "outputs": [
    {
     "data": {
      "image/png": "[encoded data removed]",
      "text/plain": [
       "<Figure size 720x432 with 1 Axes>"
      ]
     },
     "metadata": {
      "needs_background": "light"
     },
     "output_type": "display_data"
    }
   ],
   "source": [
    "import matplotlib.pyplot as plt\n",
    "\n",
    "# Group by year\n",
    "yearly_mean = merged.groupby('year')[['value_world', 'value_bw']].mean()\n",
    "\n",
    "# First plot: World Bank Indicator\n",
    "plt.figure(figsize=(10, 6))\n",
    "plt.plot(yearly_mean.index, yearly_mean['value_world'], marker='o')\n",
    "plt.title('Average health expenditure (% of GDP) Over Time')\n",
    "plt.xlabel('Year')\n",
    "plt.ylabel('Current health expenditure (% of GDP)')\n",
    "plt.grid(False)\n",
    "plt.show()\n"
   ]
  },
  {
   "cell_type": "code",
   "execution_count": 19,
   "id": "e903fc28",
   "metadata": {},
   "outputs": [
    {
     "data": {
      "image/png": "[encoded data removed]",
      "text/plain": [
       "<Figure size 720x432 with 1 Axes>"
      ]
     },
     "metadata": {
      "needs_background": "light"
     },
     "output_type": "display_data"
    }
   ],
   "source": [
    "# Second plot: Body Weight\n",
    "plt.figure(figsize=(10, 6))\n",
    "plt.plot(yearly_mean.index, yearly_mean['value_bw'], marker='s', color='green')\n",
    "plt.title('Average Body Weight Value Over Time')\n",
    "plt.xlabel('Year')\n",
    "plt.ylabel('Body Weight Value')\n",
    "plt.grid(False)\n",
    "plt.show()\n"
   ]
  },
  {
   "cell_type": "code",
   "execution_count": 20,
   "id": "114cdb11",
   "metadata": {},
   "outputs": [
    {
     "data": {
      "image/png": "[encoded data removed]",
      "text/plain": [
       "<Figure size 720x432 with 2 Axes>"
      ]
     },
     "metadata": {
      "needs_background": "light"
     },
     "output_type": "display_data"
    }
   ],
   "source": [
    "import matplotlib.pyplot as plt\n",
    "\n",
    "\n",
    "# Group by year\n",
    "yearly_mean = merged.groupby('year')[['value_world', 'value_bw']].mean()\n",
    "\n",
    "# Create figure and twin axis\n",
    "fig, ax1 = plt.subplots(figsize=(10, 6))\n",
    "\n",
    "# First axis for World Bank indicator\n",
    "color = 'tab:blue'\n",
    "ax1.set_xlabel('Year')\n",
    "ax1.set_ylabel('Current health expenditure (% of GDP)', color=color)\n",
    "ax1.plot(yearly_mean.index, yearly_mean['value_world'], marker='o', color=color)\n",
    "ax1.tick_params(axis='y', labelcolor=color)\n",
    "\n",
    "# Second axis for Body Weight\n",
    "ax2 = ax1.twinx()  # instantiate a second axes that shares the same x-axis\n",
    "\n",
    "color = 'tab:green'\n",
    "ax2.set_ylabel('Body Weight Value', color=color)\n",
    "ax2.plot(yearly_mean.index, yearly_mean['value_bw'], marker='s', color=color)\n",
    "ax2.tick_params(axis='y', labelcolor=color)\n",
    "\n",
    "# Title and grid\n",
    "plt.title('Health Expenditure and Body Weight Over Time')\n",
    "fig.tight_layout()  # to make sure nothing is cut off\n",
    "plt.grid(False)\n",
    "plt.show()\n"
   ]
  },
  {
   "cell_type": "markdown",
   "id": "37547234",
   "metadata": {},
   "source": [
    "#### Based on this time series figure, we can see that body weight and health expenditure move oppositely for most of time periods"
   ]
  }
 ],
 "metadata": {
  "kernelspec": {
   "display_name": "base",
   "language": "python",
   "name": "python3"
  },
  "language_info": {
   "codemirror_mode": {
    "name": "ipython",
    "version": 3
   },
   "file_extension": ".py",
   "mimetype": "text/x-python",
   "name": "python",
   "nbconvert_exporter": "python",
   "pygments_lexer": "ipython3",
   "version": "3.9.7"
  }
 },
 "nbformat": 4,
 "nbformat_minor": 5
}
