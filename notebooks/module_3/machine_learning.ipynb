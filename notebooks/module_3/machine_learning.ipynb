{
 "cells": [
  {
   "cell_type": "markdown",
   "id": "25ff36ed-dfbc-4fbd-b491-849a34bd6fd8",
   "metadata": {},
   "source": [
    "# A. Cleaning data:\n",
    "\n",
    "## A.1 Wide to Long"
   ]
  },
  {
   "cell_type": "markdown",
   "id": "a8de2709-1a81-422e-8638-87bb690c86d4",
   "metadata": {},
   "source": [
    "### A.1.1 Import"
   ]
  },
  {
   "cell_type": "code",
   "execution_count": 20,
   "id": "709d713e-9aaa-4430-b838-c264faa2194b",
   "metadata": {},
   "outputs": [
    {
     "data": {
      "text/plain": [
       "['gini.csv', 'pisa.csv']"
      ]
     },
     "execution_count": 20,
     "metadata": {},
     "output_type": "execute_result"
    }
   ],
   "source": [
    "import pandas as pd\n",
    "import os\n",
    "data_folder = '../../data/examples/module_3'\n",
    "os.listdir(data_folder)"
   ]
  },
  {
   "cell_type": "code",
   "execution_count": 21,
   "id": "f77a9679-8c25-451d-893b-172899f3c356",
   "metadata": {},
   "outputs": [
    {
     "data": {
      "text/html": [
       "<div>\n",
       "<style scoped>\n",
       "    .dataframe tbody tr th:only-of-type {\n",
       "        vertical-align: middle;\n",
       "    }\n",
       "\n",
       "    .dataframe tbody tr th {\n",
       "        vertical-align: top;\n",
       "    }\n",
       "\n",
       "    .dataframe thead th {\n",
       "        text-align: right;\n",
       "    }\n",
       "</style>\n",
       "<table border=\"1\" class=\"dataframe\">\n",
       "  <thead>\n",
       "    <tr style=\"text-align: right;\">\n",
       "      <th></th>\n",
       "      <th>country</th>\n",
       "      <th>2000</th>\n",
       "      <th>2001</th>\n",
       "      <th>2002</th>\n",
       "      <th>2003</th>\n",
       "      <th>2004</th>\n",
       "      <th>2005</th>\n",
       "      <th>2006</th>\n",
       "      <th>2007</th>\n",
       "      <th>2008</th>\n",
       "      <th>...</th>\n",
       "      <th>2013</th>\n",
       "      <th>2014</th>\n",
       "      <th>2015</th>\n",
       "      <th>2016</th>\n",
       "      <th>2017</th>\n",
       "      <th>2018</th>\n",
       "      <th>2019</th>\n",
       "      <th>2020</th>\n",
       "      <th>2021</th>\n",
       "      <th>2022</th>\n",
       "    </tr>\n",
       "  </thead>\n",
       "  <tbody>\n",
       "    <tr>\n",
       "      <th>0</th>\n",
       "      <td>Australia</td>\n",
       "      <td>..</td>\n",
       "      <td>33.5</td>\n",
       "      <td>..</td>\n",
       "      <td>33.5</td>\n",
       "      <td>33.1</td>\n",
       "      <td>..</td>\n",
       "      <td>..</td>\n",
       "      <td>..</td>\n",
       "      <td>35.4</td>\n",
       "      <td>...</td>\n",
       "      <td>..</td>\n",
       "      <td>34.4</td>\n",
       "      <td>..</td>\n",
       "      <td>33.7</td>\n",
       "      <td>..</td>\n",
       "      <td>34.3</td>\n",
       "      <td>..</td>\n",
       "      <td>..</td>\n",
       "      <td>..</td>\n",
       "      <td>..</td>\n",
       "    </tr>\n",
       "    <tr>\n",
       "      <th>1</th>\n",
       "      <td>Austria</td>\n",
       "      <td>29</td>\n",
       "      <td>..</td>\n",
       "      <td>..</td>\n",
       "      <td>29.5</td>\n",
       "      <td>29.8</td>\n",
       "      <td>28.7</td>\n",
       "      <td>29.6</td>\n",
       "      <td>30.6</td>\n",
       "      <td>30.4</td>\n",
       "      <td>...</td>\n",
       "      <td>30.8</td>\n",
       "      <td>30.5</td>\n",
       "      <td>30.5</td>\n",
       "      <td>30.8</td>\n",
       "      <td>29.7</td>\n",
       "      <td>30.8</td>\n",
       "      <td>30.2</td>\n",
       "      <td>29.8</td>\n",
       "      <td>30.7</td>\n",
       "      <td>..</td>\n",
       "    </tr>\n",
       "  </tbody>\n",
       "</table>\n",
       "<p>2 rows × 24 columns</p>\n",
       "</div>"
      ],
      "text/plain": [
       "     country 2000  2001 2002  2003  2004  2005  2006  2007  2008  ...  2013  \\\n",
       "0  Australia   ..  33.5   ..  33.5  33.1    ..    ..    ..  35.4  ...    ..   \n",
       "1    Austria   29    ..   ..  29.5  29.8  28.7  29.6  30.6  30.4  ...  30.8   \n",
       "\n",
       "   2014  2015  2016  2017  2018  2019  2020  2021 2022  \n",
       "0  34.4    ..  33.7    ..  34.3    ..    ..    ..   ..  \n",
       "1  30.5  30.5  30.8  29.7  30.8  30.2  29.8  30.7   ..  \n",
       "\n",
       "[2 rows x 24 columns]"
      ]
     },
     "execution_count": 21,
     "metadata": {},
     "output_type": "execute_result"
    }
   ],
   "source": [
    "df_gini = pd.read_csv(f\"{data_folder}/gini.csv\")\n",
    "df_gini_clean = df_gini.drop(['Unnamed: 0'], axis = 'columns')\n",
    "df_gini_clean = df_gini_clean.rename(columns = {\"Country Name\": 'country'})\n",
    "df_gini_clean.head(2)"
   ]
  },
  {
   "cell_type": "code",
   "execution_count": 22,
   "id": "f3392046-99d0-4c29-b408-5f5270c50e6e",
   "metadata": {},
   "outputs": [
    {
     "data": {
      "text/html": [
       "<div>\n",
       "<style scoped>\n",
       "    .dataframe tbody tr th:only-of-type {\n",
       "        vertical-align: middle;\n",
       "    }\n",
       "\n",
       "    .dataframe tbody tr th {\n",
       "        vertical-align: top;\n",
       "    }\n",
       "\n",
       "    .dataframe thead th {\n",
       "        text-align: right;\n",
       "    }\n",
       "</style>\n",
       "<table border=\"1\" class=\"dataframe\">\n",
       "  <thead>\n",
       "    <tr style=\"text-align: right;\">\n",
       "      <th></th>\n",
       "      <th>country</th>\n",
       "      <th>2000</th>\n",
       "      <th>2003</th>\n",
       "      <th>2006</th>\n",
       "      <th>2009</th>\n",
       "      <th>2012</th>\n",
       "      <th>2015</th>\n",
       "      <th>2018</th>\n",
       "      <th>2022</th>\n",
       "      <th>region</th>\n",
       "      <th>subregion</th>\n",
       "    </tr>\n",
       "  </thead>\n",
       "  <tbody>\n",
       "    <tr>\n",
       "      <th>0</th>\n",
       "      <td>Australia</td>\n",
       "      <td>528.0</td>\n",
       "      <td>525.0</td>\n",
       "      <td>513.0</td>\n",
       "      <td>515.0</td>\n",
       "      <td>512.0</td>\n",
       "      <td>503.0</td>\n",
       "      <td>503.0</td>\n",
       "      <td>498.0</td>\n",
       "      <td>Oceania</td>\n",
       "      <td>Australia and New Zealand</td>\n",
       "    </tr>\n",
       "    <tr>\n",
       "      <th>1</th>\n",
       "      <td>Austria</td>\n",
       "      <td>492.0</td>\n",
       "      <td>491.0</td>\n",
       "      <td>490.0</td>\n",
       "      <td>470.0</td>\n",
       "      <td>490.0</td>\n",
       "      <td>485.0</td>\n",
       "      <td>484.0</td>\n",
       "      <td>480.0</td>\n",
       "      <td>Europe</td>\n",
       "      <td>Western Europe</td>\n",
       "    </tr>\n",
       "  </tbody>\n",
       "</table>\n",
       "</div>"
      ],
      "text/plain": [
       "     country   2000   2003   2006   2009   2012   2015   2018   2022   region  \\\n",
       "0  Australia  528.0  525.0  513.0  515.0  512.0  503.0  503.0  498.0  Oceania   \n",
       "1    Austria  492.0  491.0  490.0  470.0  490.0  485.0  484.0  480.0   Europe   \n",
       "\n",
       "                   subregion  \n",
       "0  Australia and New Zealand  \n",
       "1             Western Europe  "
      ]
     },
     "execution_count": 22,
     "metadata": {},
     "output_type": "execute_result"
    }
   ],
   "source": [
    "df_pisa = pd.read_csv(f\"{data_folder}/pisa.csv\")\n",
    "df_pisa_clean = df_pisa.copy().drop(['Unnamed: 0'], axis = 'columns')\n",
    "df_pisa_clean.head(2)"
   ]
  },
  {
   "cell_type": "markdown",
   "id": "82939bd1-cb11-404d-9001-f8c41b3f20b4",
   "metadata": {},
   "source": [
    "### A.1.2 Drop or set index all non-year columns"
   ]
  },
  {
   "cell_type": "code",
   "execution_count": 23,
   "id": "69346b5b-725f-4782-afe3-b7c1e66f8ef8",
   "metadata": {},
   "outputs": [
    {
     "data": {
      "text/html": [
       "<div>\n",
       "<style scoped>\n",
       "    .dataframe tbody tr th:only-of-type {\n",
       "        vertical-align: middle;\n",
       "    }\n",
       "\n",
       "    .dataframe tbody tr th {\n",
       "        vertical-align: top;\n",
       "    }\n",
       "\n",
       "    .dataframe thead th {\n",
       "        text-align: right;\n",
       "    }\n",
       "</style>\n",
       "<table border=\"1\" class=\"dataframe\">\n",
       "  <thead>\n",
       "    <tr style=\"text-align: right;\">\n",
       "      <th></th>\n",
       "      <th></th>\n",
       "      <th></th>\n",
       "      <th>2000</th>\n",
       "      <th>2003</th>\n",
       "      <th>2006</th>\n",
       "      <th>2009</th>\n",
       "      <th>2012</th>\n",
       "      <th>2015</th>\n",
       "      <th>2018</th>\n",
       "      <th>2022</th>\n",
       "    </tr>\n",
       "    <tr>\n",
       "      <th>country</th>\n",
       "      <th>subregion</th>\n",
       "      <th>region</th>\n",
       "      <th></th>\n",
       "      <th></th>\n",
       "      <th></th>\n",
       "      <th></th>\n",
       "      <th></th>\n",
       "      <th></th>\n",
       "      <th></th>\n",
       "      <th></th>\n",
       "    </tr>\n",
       "  </thead>\n",
       "  <tbody>\n",
       "    <tr>\n",
       "      <th>Australia</th>\n",
       "      <th>Australia and New Zealand</th>\n",
       "      <th>Oceania</th>\n",
       "      <td>528.0</td>\n",
       "      <td>525.0</td>\n",
       "      <td>513.0</td>\n",
       "      <td>515.0</td>\n",
       "      <td>512.0</td>\n",
       "      <td>503.0</td>\n",
       "      <td>503.0</td>\n",
       "      <td>498.0</td>\n",
       "    </tr>\n",
       "    <tr>\n",
       "      <th>Austria</th>\n",
       "      <th>Western Europe</th>\n",
       "      <th>Europe</th>\n",
       "      <td>492.0</td>\n",
       "      <td>491.0</td>\n",
       "      <td>490.0</td>\n",
       "      <td>470.0</td>\n",
       "      <td>490.0</td>\n",
       "      <td>485.0</td>\n",
       "      <td>484.0</td>\n",
       "      <td>480.0</td>\n",
       "    </tr>\n",
       "  </tbody>\n",
       "</table>\n",
       "</div>"
      ],
      "text/plain": [
       "                                              2000   2003   2006   2009  \\\n",
       "country   subregion                 region                                \n",
       "Australia Australia and New Zealand Oceania  528.0  525.0  513.0  515.0   \n",
       "Austria   Western Europe            Europe   492.0  491.0  490.0  470.0   \n",
       "\n",
       "                                              2012   2015   2018   2022  \n",
       "country   subregion                 region                               \n",
       "Australia Australia and New Zealand Oceania  512.0  503.0  503.0  498.0  \n",
       "Austria   Western Europe            Europe   490.0  485.0  484.0  480.0  "
      ]
     },
     "execution_count": 23,
     "metadata": {},
     "output_type": "execute_result"
    }
   ],
   "source": [
    "df_pisa_clean = df_pisa_clean.set_index(['country', 'subregion', 'region'])\n",
    "df_pisa_clean.head(2)"
   ]
  },
  {
   "cell_type": "code",
   "execution_count": 24,
   "id": "d917e69e-40e3-4b05-945a-c449bd94ff48",
   "metadata": {},
   "outputs": [
    {
     "data": {
      "text/html": [
       "<div>\n",
       "<style scoped>\n",
       "    .dataframe tbody tr th:only-of-type {\n",
       "        vertical-align: middle;\n",
       "    }\n",
       "\n",
       "    .dataframe tbody tr th {\n",
       "        vertical-align: top;\n",
       "    }\n",
       "\n",
       "    .dataframe thead th {\n",
       "        text-align: right;\n",
       "    }\n",
       "</style>\n",
       "<table border=\"1\" class=\"dataframe\">\n",
       "  <thead>\n",
       "    <tr style=\"text-align: right;\">\n",
       "      <th></th>\n",
       "      <th>2000</th>\n",
       "      <th>2001</th>\n",
       "      <th>2002</th>\n",
       "      <th>2003</th>\n",
       "      <th>2004</th>\n",
       "      <th>2005</th>\n",
       "      <th>2006</th>\n",
       "      <th>2007</th>\n",
       "      <th>2008</th>\n",
       "      <th>2009</th>\n",
       "      <th>...</th>\n",
       "      <th>2013</th>\n",
       "      <th>2014</th>\n",
       "      <th>2015</th>\n",
       "      <th>2016</th>\n",
       "      <th>2017</th>\n",
       "      <th>2018</th>\n",
       "      <th>2019</th>\n",
       "      <th>2020</th>\n",
       "      <th>2021</th>\n",
       "      <th>2022</th>\n",
       "    </tr>\n",
       "    <tr>\n",
       "      <th>country</th>\n",
       "      <th></th>\n",
       "      <th></th>\n",
       "      <th></th>\n",
       "      <th></th>\n",
       "      <th></th>\n",
       "      <th></th>\n",
       "      <th></th>\n",
       "      <th></th>\n",
       "      <th></th>\n",
       "      <th></th>\n",
       "      <th></th>\n",
       "      <th></th>\n",
       "      <th></th>\n",
       "      <th></th>\n",
       "      <th></th>\n",
       "      <th></th>\n",
       "      <th></th>\n",
       "      <th></th>\n",
       "      <th></th>\n",
       "      <th></th>\n",
       "      <th></th>\n",
       "    </tr>\n",
       "  </thead>\n",
       "  <tbody>\n",
       "    <tr>\n",
       "      <th>Australia</th>\n",
       "      <td>..</td>\n",
       "      <td>33.5</td>\n",
       "      <td>..</td>\n",
       "      <td>33.5</td>\n",
       "      <td>33.1</td>\n",
       "      <td>..</td>\n",
       "      <td>..</td>\n",
       "      <td>..</td>\n",
       "      <td>35.4</td>\n",
       "      <td>..</td>\n",
       "      <td>...</td>\n",
       "      <td>..</td>\n",
       "      <td>34.4</td>\n",
       "      <td>..</td>\n",
       "      <td>33.7</td>\n",
       "      <td>..</td>\n",
       "      <td>34.3</td>\n",
       "      <td>..</td>\n",
       "      <td>..</td>\n",
       "      <td>..</td>\n",
       "      <td>..</td>\n",
       "    </tr>\n",
       "    <tr>\n",
       "      <th>Austria</th>\n",
       "      <td>29</td>\n",
       "      <td>..</td>\n",
       "      <td>..</td>\n",
       "      <td>29.5</td>\n",
       "      <td>29.8</td>\n",
       "      <td>28.7</td>\n",
       "      <td>29.6</td>\n",
       "      <td>30.6</td>\n",
       "      <td>30.4</td>\n",
       "      <td>31.5</td>\n",
       "      <td>...</td>\n",
       "      <td>30.8</td>\n",
       "      <td>30.5</td>\n",
       "      <td>30.5</td>\n",
       "      <td>30.8</td>\n",
       "      <td>29.7</td>\n",
       "      <td>30.8</td>\n",
       "      <td>30.2</td>\n",
       "      <td>29.8</td>\n",
       "      <td>30.7</td>\n",
       "      <td>..</td>\n",
       "    </tr>\n",
       "  </tbody>\n",
       "</table>\n",
       "<p>2 rows × 23 columns</p>\n",
       "</div>"
      ],
      "text/plain": [
       "          2000  2001 2002  2003  2004  2005  2006  2007  2008  2009  ...  \\\n",
       "country                                                              ...   \n",
       "Australia   ..  33.5   ..  33.5  33.1    ..    ..    ..  35.4    ..  ...   \n",
       "Austria     29    ..   ..  29.5  29.8  28.7  29.6  30.6  30.4  31.5  ...   \n",
       "\n",
       "           2013  2014  2015  2016  2017  2018  2019  2020  2021 2022  \n",
       "country                                                               \n",
       "Australia    ..  34.4    ..  33.7    ..  34.3    ..    ..    ..   ..  \n",
       "Austria    30.8  30.5  30.5  30.8  29.7  30.8  30.2  29.8  30.7   ..  \n",
       "\n",
       "[2 rows x 23 columns]"
      ]
     },
     "execution_count": 24,
     "metadata": {},
     "output_type": "execute_result"
    }
   ],
   "source": [
    "df_gini_clean = df_gini_clean.set_index('country')\n",
    "df_gini_clean.head(2)"
   ]
  },
  {
   "cell_type": "markdown",
   "id": "60c574bd-6241-46d4-aa1b-f67500694a1d",
   "metadata": {},
   "source": [
    "### A.1.3 Wide to long: stack"
   ]
  },
  {
   "cell_type": "code",
   "execution_count": 29,
   "id": "31da34a8-16ce-4a1a-a267-3d02e99e4b0c",
   "metadata": {},
   "outputs": [
    {
     "data": {
      "text/html": [
       "<div>\n",
       "<style scoped>\n",
       "    .dataframe tbody tr th:only-of-type {\n",
       "        vertical-align: middle;\n",
       "    }\n",
       "\n",
       "    .dataframe tbody tr th {\n",
       "        vertical-align: top;\n",
       "    }\n",
       "\n",
       "    .dataframe thead th {\n",
       "        text-align: right;\n",
       "    }\n",
       "</style>\n",
       "<table border=\"1\" class=\"dataframe\">\n",
       "  <thead>\n",
       "    <tr style=\"text-align: right;\">\n",
       "      <th></th>\n",
       "      <th>country</th>\n",
       "      <th>date</th>\n",
       "      <th>gini</th>\n",
       "    </tr>\n",
       "  </thead>\n",
       "  <tbody>\n",
       "    <tr>\n",
       "      <th>0</th>\n",
       "      <td>Australia</td>\n",
       "      <td>2000</td>\n",
       "      <td>..</td>\n",
       "    </tr>\n",
       "    <tr>\n",
       "      <th>1</th>\n",
       "      <td>Australia</td>\n",
       "      <td>2001</td>\n",
       "      <td>33.5</td>\n",
       "    </tr>\n",
       "  </tbody>\n",
       "</table>\n",
       "</div>"
      ],
      "text/plain": [
       "     country  date  gini\n",
       "0  Australia  2000    ..\n",
       "1  Australia  2001  33.5"
      ]
     },
     "execution_count": 29,
     "metadata": {},
     "output_type": "execute_result"
    }
   ],
   "source": [
    "df_gini_long = df_gini_clean.stack().reset_index().rename(columns = {\"level_1\": 'date', 0:'gini'})\n",
    "df_gini_long.head(2)"
   ]
  },
  {
   "cell_type": "code",
   "execution_count": 36,
   "id": "8d37a6ed-354d-4a06-aeb9-acef604e107c",
   "metadata": {},
   "outputs": [
    {
     "data": {
      "text/html": [
       "<div>\n",
       "<style scoped>\n",
       "    .dataframe tbody tr th:only-of-type {\n",
       "        vertical-align: middle;\n",
       "    }\n",
       "\n",
       "    .dataframe tbody tr th {\n",
       "        vertical-align: top;\n",
       "    }\n",
       "\n",
       "    .dataframe thead th {\n",
       "        text-align: right;\n",
       "    }\n",
       "</style>\n",
       "<table border=\"1\" class=\"dataframe\">\n",
       "  <thead>\n",
       "    <tr style=\"text-align: right;\">\n",
       "      <th></th>\n",
       "      <th>country</th>\n",
       "      <th>subregion</th>\n",
       "      <th>region</th>\n",
       "      <th>date</th>\n",
       "      <th>pisa</th>\n",
       "    </tr>\n",
       "  </thead>\n",
       "  <tbody>\n",
       "    <tr>\n",
       "      <th>0</th>\n",
       "      <td>Australia</td>\n",
       "      <td>Australia and New Zealand</td>\n",
       "      <td>Oceania</td>\n",
       "      <td>2000</td>\n",
       "      <td>528.0</td>\n",
       "    </tr>\n",
       "    <tr>\n",
       "      <th>1</th>\n",
       "      <td>Australia</td>\n",
       "      <td>Australia and New Zealand</td>\n",
       "      <td>Oceania</td>\n",
       "      <td>2003</td>\n",
       "      <td>525.0</td>\n",
       "    </tr>\n",
       "  </tbody>\n",
       "</table>\n",
       "</div>"
      ],
      "text/plain": [
       "     country                  subregion   region  date   pisa\n",
       "0  Australia  Australia and New Zealand  Oceania  2000  528.0\n",
       "1  Australia  Australia and New Zealand  Oceania  2003  525.0"
      ]
     },
     "execution_count": 36,
     "metadata": {},
     "output_type": "execute_result"
    }
   ],
   "source": [
    "df_pisa_long = df_pisa_clean.stack().reset_index().rename(columns = {\"level_3\": 'date', 0:'pisa'})\n",
    "df_pisa_long.head(2)"
   ]
  },
  {
   "cell_type": "markdown",
   "id": "a2ae340b-751e-470e-8925-e0e99e42bd18",
   "metadata": {},
   "source": [
    "### A.1.M Merge"
   ]
  },
  {
   "cell_type": "code",
   "execution_count": 37,
   "id": "e938c32d-d44e-4836-a005-1834d444ada4",
   "metadata": {},
   "outputs": [
    {
     "data": {
      "text/html": [
       "<div>\n",
       "<style scoped>\n",
       "    .dataframe tbody tr th:only-of-type {\n",
       "        vertical-align: middle;\n",
       "    }\n",
       "\n",
       "    .dataframe tbody tr th {\n",
       "        vertical-align: top;\n",
       "    }\n",
       "\n",
       "    .dataframe thead th {\n",
       "        text-align: right;\n",
       "    }\n",
       "</style>\n",
       "<table border=\"1\" class=\"dataframe\">\n",
       "  <thead>\n",
       "    <tr style=\"text-align: right;\">\n",
       "      <th></th>\n",
       "      <th>country</th>\n",
       "      <th>subregion</th>\n",
       "      <th>region</th>\n",
       "      <th>date</th>\n",
       "      <th>pisa</th>\n",
       "      <th>gini</th>\n",
       "    </tr>\n",
       "  </thead>\n",
       "  <tbody>\n",
       "    <tr>\n",
       "      <th>0</th>\n",
       "      <td>Australia</td>\n",
       "      <td>Australia and New Zealand</td>\n",
       "      <td>Oceania</td>\n",
       "      <td>2000</td>\n",
       "      <td>528.0</td>\n",
       "      <td>..</td>\n",
       "    </tr>\n",
       "    <tr>\n",
       "      <th>1</th>\n",
       "      <td>Australia</td>\n",
       "      <td>Australia and New Zealand</td>\n",
       "      <td>Oceania</td>\n",
       "      <td>2003</td>\n",
       "      <td>525.0</td>\n",
       "      <td>33.5</td>\n",
       "    </tr>\n",
       "  </tbody>\n",
       "</table>\n",
       "</div>"
      ],
      "text/plain": [
       "     country                  subregion   region  date   pisa  gini\n",
       "0  Australia  Australia and New Zealand  Oceania  2000  528.0    ..\n",
       "1  Australia  Australia and New Zealand  Oceania  2003  525.0  33.5"
      ]
     },
     "execution_count": 37,
     "metadata": {},
     "output_type": "execute_result"
    }
   ],
   "source": [
    "df_merge = pd.merge(df_pisa_long, df_gini_long, on = ['country','date'])\n",
    "df_merge.head(2)"
   ]
  },
  {
   "cell_type": "code",
   "execution_count": 38,
   "id": "c6c75d6f-0f4c-4954-a263-9e0673e5c160",
   "metadata": {},
   "outputs": [
    {
     "data": {
      "text/html": [
       "<div>\n",
       "<style scoped>\n",
       "    .dataframe tbody tr th:only-of-type {\n",
       "        vertical-align: middle;\n",
       "    }\n",
       "\n",
       "    .dataframe tbody tr th {\n",
       "        vertical-align: top;\n",
       "    }\n",
       "\n",
       "    .dataframe thead th {\n",
       "        text-align: right;\n",
       "    }\n",
       "</style>\n",
       "<table border=\"1\" class=\"dataframe\">\n",
       "  <thead>\n",
       "    <tr style=\"text-align: right;\">\n",
       "      <th></th>\n",
       "      <th></th>\n",
       "      <th>subregion</th>\n",
       "      <th>region</th>\n",
       "      <th>pisa</th>\n",
       "      <th>gini</th>\n",
       "    </tr>\n",
       "    <tr>\n",
       "      <th>country</th>\n",
       "      <th>date</th>\n",
       "      <th></th>\n",
       "      <th></th>\n",
       "      <th></th>\n",
       "      <th></th>\n",
       "    </tr>\n",
       "  </thead>\n",
       "  <tbody>\n",
       "    <tr>\n",
       "      <th rowspan=\"2\" valign=\"top\">Australia</th>\n",
       "      <th>2000</th>\n",
       "      <td>Australia and New Zealand</td>\n",
       "      <td>Oceania</td>\n",
       "      <td>528.0</td>\n",
       "      <td>..</td>\n",
       "    </tr>\n",
       "    <tr>\n",
       "      <th>2003</th>\n",
       "      <td>Australia and New Zealand</td>\n",
       "      <td>Oceania</td>\n",
       "      <td>525.0</td>\n",
       "      <td>33.5</td>\n",
       "    </tr>\n",
       "  </tbody>\n",
       "</table>\n",
       "</div>"
      ],
      "text/plain": [
       "                                subregion   region   pisa  gini\n",
       "country   date                                                 \n",
       "Australia 2000  Australia and New Zealand  Oceania  528.0    ..\n",
       "          2003  Australia and New Zealand  Oceania  525.0  33.5"
      ]
     },
     "execution_count": 38,
     "metadata": {},
     "output_type": "execute_result"
    }
   ],
   "source": [
    "df_merge = pd.merge(\n",
    "    df_pisa_long.set_index(['country','date']), \n",
    "    df_gini_long.set_index(['country','date']), \n",
    "    right_index = True,\n",
    "    left_index = True\n",
    ")\n",
    "df_merge.head(2)"
   ]
  },
  {
   "cell_type": "markdown",
   "id": "33d44665-6a15-4598-acb1-69d600fec97f",
   "metadata": {},
   "source": [
    "## A.2 Fill na"
   ]
  },
  {
   "cell_type": "markdown",
   "id": "86645c25-dfbd-4f5e-9685-062af113200b",
   "metadata": {},
   "source": [
    "### A.2.1 Wide to long: Melt"
   ]
  },
  {
   "cell_type": "code",
   "execution_count": 106,
   "id": "2dfe0277-ae0d-4095-91d3-06017eb78a1e",
   "metadata": {},
   "outputs": [
    {
     "data": {
      "text/html": [
       "<div>\n",
       "<style scoped>\n",
       "    .dataframe tbody tr th:only-of-type {\n",
       "        vertical-align: middle;\n",
       "    }\n",
       "\n",
       "    .dataframe tbody tr th {\n",
       "        vertical-align: top;\n",
       "    }\n",
       "\n",
       "    .dataframe thead th {\n",
       "        text-align: right;\n",
       "    }\n",
       "</style>\n",
       "<table border=\"1\" class=\"dataframe\">\n",
       "  <thead>\n",
       "    <tr style=\"text-align: right;\">\n",
       "      <th></th>\n",
       "      <th>Country Code</th>\n",
       "      <th>Indicator Name</th>\n",
       "      <th>1960</th>\n",
       "      <th>1961</th>\n",
       "      <th>1962</th>\n",
       "      <th>1963</th>\n",
       "      <th>1964</th>\n",
       "      <th>1965</th>\n",
       "      <th>1966</th>\n",
       "      <th>1967</th>\n",
       "      <th>...</th>\n",
       "      <th>2016</th>\n",
       "      <th>2017</th>\n",
       "      <th>2018</th>\n",
       "      <th>2019</th>\n",
       "      <th>2020</th>\n",
       "      <th>2021</th>\n",
       "      <th>2022</th>\n",
       "      <th>2023</th>\n",
       "      <th>2024</th>\n",
       "      <th>Unnamed: 69</th>\n",
       "    </tr>\n",
       "  </thead>\n",
       "  <tbody>\n",
       "    <tr>\n",
       "      <th>0</th>\n",
       "      <td>ABW</td>\n",
       "      <td>Current health expenditure (% of GDP)</td>\n",
       "      <td>NaN</td>\n",
       "      <td>NaN</td>\n",
       "      <td>NaN</td>\n",
       "      <td>NaN</td>\n",
       "      <td>NaN</td>\n",
       "      <td>NaN</td>\n",
       "      <td>NaN</td>\n",
       "      <td>NaN</td>\n",
       "      <td>...</td>\n",
       "      <td>NaN</td>\n",
       "      <td>NaN</td>\n",
       "      <td>NaN</td>\n",
       "      <td>NaN</td>\n",
       "      <td>NaN</td>\n",
       "      <td>NaN</td>\n",
       "      <td>NaN</td>\n",
       "      <td>NaN</td>\n",
       "      <td>NaN</td>\n",
       "      <td>NaN</td>\n",
       "    </tr>\n",
       "    <tr>\n",
       "      <th>1</th>\n",
       "      <td>AFE</td>\n",
       "      <td>Current health expenditure (% of GDP)</td>\n",
       "      <td>NaN</td>\n",
       "      <td>NaN</td>\n",
       "      <td>NaN</td>\n",
       "      <td>NaN</td>\n",
       "      <td>NaN</td>\n",
       "      <td>NaN</td>\n",
       "      <td>NaN</td>\n",
       "      <td>NaN</td>\n",
       "      <td>...</td>\n",
       "      <td>6.06777</td>\n",
       "      <td>5.928989</td>\n",
       "      <td>5.789177</td>\n",
       "      <td>5.812624</td>\n",
       "      <td>6.035792</td>\n",
       "      <td>6.043925</td>\n",
       "      <td>5.728123</td>\n",
       "      <td>NaN</td>\n",
       "      <td>NaN</td>\n",
       "      <td>NaN</td>\n",
       "    </tr>\n",
       "  </tbody>\n",
       "</table>\n",
       "<p>2 rows × 68 columns</p>\n",
       "</div>"
      ],
      "text/plain": [
       "  Country Code                         Indicator Name  1960  1961  1962  1963  \\\n",
       "0          ABW  Current health expenditure (% of GDP)   NaN   NaN   NaN   NaN   \n",
       "1          AFE  Current health expenditure (% of GDP)   NaN   NaN   NaN   NaN   \n",
       "\n",
       "   1964  1965  1966  1967  ...     2016      2017      2018      2019  \\\n",
       "0   NaN   NaN   NaN   NaN  ...      NaN       NaN       NaN       NaN   \n",
       "1   NaN   NaN   NaN   NaN  ...  6.06777  5.928989  5.789177  5.812624   \n",
       "\n",
       "       2020      2021      2022  2023  2024  Unnamed: 69  \n",
       "0       NaN       NaN       NaN   NaN   NaN          NaN  \n",
       "1  6.035792  6.043925  5.728123   NaN   NaN          NaN  \n",
       "\n",
       "[2 rows x 68 columns]"
      ]
     },
     "execution_count": 106,
     "metadata": {},
     "output_type": "execute_result"
    }
   ],
   "source": [
    "df_health = pd.read_csv(f\"{data_folder}/health_expenditure_raw.csv\", skiprows=4)\n",
    "df_health = df_health.drop(['Country Name', 'Indicator Code'], axis='columns')\n",
    "df_health.head(2)"
   ]
  },
  {
   "cell_type": "code",
   "execution_count": 109,
   "id": "0d78d56b-33fb-47fa-b9ed-f6f16b451d8c",
   "metadata": {},
   "outputs": [
    {
     "data": {
      "text/html": [
       "<div>\n",
       "<style scoped>\n",
       "    .dataframe tbody tr th:only-of-type {\n",
       "        vertical-align: middle;\n",
       "    }\n",
       "\n",
       "    .dataframe tbody tr th {\n",
       "        vertical-align: top;\n",
       "    }\n",
       "\n",
       "    .dataframe thead th {\n",
       "        text-align: right;\n",
       "    }\n",
       "</style>\n",
       "<table border=\"1\" class=\"dataframe\">\n",
       "  <thead>\n",
       "    <tr style=\"text-align: right;\">\n",
       "      <th></th>\n",
       "      <th>Country Code</th>\n",
       "      <th>Indicator Name</th>\n",
       "      <th>date</th>\n",
       "      <th>healthexp_gdp</th>\n",
       "    </tr>\n",
       "  </thead>\n",
       "  <tbody>\n",
       "    <tr>\n",
       "      <th>0</th>\n",
       "      <td>ABW</td>\n",
       "      <td>Current health expenditure (% of GDP)</td>\n",
       "      <td>1960</td>\n",
       "      <td>NaN</td>\n",
       "    </tr>\n",
       "    <tr>\n",
       "      <th>1</th>\n",
       "      <td>AFE</td>\n",
       "      <td>Current health expenditure (% of GDP)</td>\n",
       "      <td>1960</td>\n",
       "      <td>NaN</td>\n",
       "    </tr>\n",
       "  </tbody>\n",
       "</table>\n",
       "</div>"
      ],
      "text/plain": [
       "  Country Code                         Indicator Name  date  healthexp_gdp\n",
       "0          ABW  Current health expenditure (% of GDP)  1960            NaN\n",
       "1          AFE  Current health expenditure (% of GDP)  1960            NaN"
      ]
     },
     "execution_count": 109,
     "metadata": {},
     "output_type": "execute_result"
    }
   ],
   "source": [
    "df_health_long = df_health.melt(id_vars = ['Country Code', 'Indicator Name'], value_name = 'healthexp_gdp', var_name = 'date')\n",
    "df_health_long.head(2)"
   ]
  },
  {
   "cell_type": "code",
   "execution_count": 113,
   "id": "9133117f-eba8-49a0-a78a-964efc9fdec0",
   "metadata": {},
   "outputs": [
    {
     "data": {
      "text/html": [
       "<div>\n",
       "<style scoped>\n",
       "    .dataframe tbody tr th:only-of-type {\n",
       "        vertical-align: middle;\n",
       "    }\n",
       "\n",
       "    .dataframe tbody tr th {\n",
       "        vertical-align: top;\n",
       "    }\n",
       "\n",
       "    .dataframe thead th {\n",
       "        text-align: right;\n",
       "    }\n",
       "</style>\n",
       "<table border=\"1\" class=\"dataframe\">\n",
       "  <thead>\n",
       "    <tr style=\"text-align: right;\">\n",
       "      <th></th>\n",
       "      <th>Country Code</th>\n",
       "      <th>Indicator Name</th>\n",
       "      <th>date</th>\n",
       "      <th>healthexp_gdp</th>\n",
       "    </tr>\n",
       "  </thead>\n",
       "  <tbody>\n",
       "    <tr>\n",
       "      <th>0</th>\n",
       "      <td>ABW</td>\n",
       "      <td>Current health expenditure (% of GDP)</td>\n",
       "      <td>1960</td>\n",
       "      <td>NaN</td>\n",
       "    </tr>\n",
       "    <tr>\n",
       "      <th>1</th>\n",
       "      <td>AFE</td>\n",
       "      <td>Current health expenditure (% of GDP)</td>\n",
       "      <td>1960</td>\n",
       "      <td>NaN</td>\n",
       "    </tr>\n",
       "  </tbody>\n",
       "</table>\n",
       "</div>"
      ],
      "text/plain": [
       "  Country Code                         Indicator Name  date  healthexp_gdp\n",
       "0          ABW  Current health expenditure (% of GDP)  1960            NaN\n",
       "1          AFE  Current health expenditure (% of GDP)  1960            NaN"
      ]
     },
     "execution_count": 113,
     "metadata": {},
     "output_type": "execute_result"
    }
   ],
   "source": [
    "df_health_long = df_health_long.query(\"date !='Unnamed: 69'\")\n",
    "df_health_long.head(2)"
   ]
  },
  {
   "cell_type": "code",
   "execution_count": 114,
   "id": "d9632c1b-1c60-45c4-8b16-247f852bfe99",
   "metadata": {},
   "outputs": [
    {
     "data": {
      "text/html": [
       "<div>\n",
       "<style scoped>\n",
       "    .dataframe tbody tr th:only-of-type {\n",
       "        vertical-align: middle;\n",
       "    }\n",
       "\n",
       "    .dataframe tbody tr th {\n",
       "        vertical-align: top;\n",
       "    }\n",
       "\n",
       "    .dataframe thead th {\n",
       "        text-align: right;\n",
       "    }\n",
       "</style>\n",
       "<table border=\"1\" class=\"dataframe\">\n",
       "  <thead>\n",
       "    <tr style=\"text-align: right;\">\n",
       "      <th></th>\n",
       "      <th>Country Code</th>\n",
       "      <th>Indicator Name</th>\n",
       "      <th>date</th>\n",
       "      <th>healthexp_gdp</th>\n",
       "    </tr>\n",
       "  </thead>\n",
       "  <tbody>\n",
       "    <tr>\n",
       "      <th>0</th>\n",
       "      <td>ABW</td>\n",
       "      <td>Current health expenditure (% of GDP)</td>\n",
       "      <td>1960</td>\n",
       "      <td>NaN</td>\n",
       "    </tr>\n",
       "    <tr>\n",
       "      <th>1</th>\n",
       "      <td>AFE</td>\n",
       "      <td>Current health expenditure (% of GDP)</td>\n",
       "      <td>1960</td>\n",
       "      <td>NaN</td>\n",
       "    </tr>\n",
       "  </tbody>\n",
       "</table>\n",
       "</div>"
      ],
      "text/plain": [
       "  Country Code                         Indicator Name  date  healthexp_gdp\n",
       "0          ABW  Current health expenditure (% of GDP)  1960            NaN\n",
       "1          AFE  Current health expenditure (% of GDP)  1960            NaN"
      ]
     },
     "execution_count": 114,
     "metadata": {},
     "output_type": "execute_result"
    }
   ],
   "source": [
    "df_health_long['date'] = df_health_long['date'].astype(int)\n",
    "df_health_long.head(2)"
   ]
  },
  {
   "cell_type": "code",
   "execution_count": 115,
   "id": "2bafdab3-66f7-4092-b057-2a2278249faa",
   "metadata": {},
   "outputs": [
    {
     "data": {
      "text/html": [
       "<div>\n",
       "<style scoped>\n",
       "    .dataframe tbody tr th:only-of-type {\n",
       "        vertical-align: middle;\n",
       "    }\n",
       "\n",
       "    .dataframe tbody tr th {\n",
       "        vertical-align: top;\n",
       "    }\n",
       "\n",
       "    .dataframe thead th {\n",
       "        text-align: right;\n",
       "    }\n",
       "</style>\n",
       "<table border=\"1\" class=\"dataframe\">\n",
       "  <thead>\n",
       "    <tr style=\"text-align: right;\">\n",
       "      <th></th>\n",
       "      <th></th>\n",
       "      <th>healthexp_gdp</th>\n",
       "    </tr>\n",
       "    <tr>\n",
       "      <th>Country Code</th>\n",
       "      <th>date</th>\n",
       "      <th></th>\n",
       "    </tr>\n",
       "  </thead>\n",
       "  <tbody>\n",
       "    <tr>\n",
       "      <th>ABW</th>\n",
       "      <th>1960</th>\n",
       "      <td>NaN</td>\n",
       "    </tr>\n",
       "    <tr>\n",
       "      <th>AFE</th>\n",
       "      <th>1960</th>\n",
       "      <td>NaN</td>\n",
       "    </tr>\n",
       "  </tbody>\n",
       "</table>\n",
       "</div>"
      ],
      "text/plain": [
       "                   healthexp_gdp\n",
       "Country Code date               \n",
       "ABW          1960            NaN\n",
       "AFE          1960            NaN"
      ]
     },
     "execution_count": 115,
     "metadata": {},
     "output_type": "execute_result"
    }
   ],
   "source": [
    "df_health_long = df_health_long.set_index(['Country Code', 'date']).drop(['Indicator Name'], axis='columns')\n",
    "df_health_long.head(2)"
   ]
  },
  {
   "cell_type": "code",
   "execution_count": 116,
   "id": "248d1603-9f32-43d0-841a-9da6e8f7fb3d",
   "metadata": {},
   "outputs": [
    {
     "data": {
      "text/html": [
       "<div>\n",
       "<style scoped>\n",
       "    .dataframe tbody tr th:only-of-type {\n",
       "        vertical-align: middle;\n",
       "    }\n",
       "\n",
       "    .dataframe tbody tr th {\n",
       "        vertical-align: top;\n",
       "    }\n",
       "\n",
       "    .dataframe thead th {\n",
       "        text-align: right;\n",
       "    }\n",
       "</style>\n",
       "<table border=\"1\" class=\"dataframe\">\n",
       "  <thead>\n",
       "    <tr style=\"text-align: right;\">\n",
       "      <th></th>\n",
       "      <th></th>\n",
       "      <th>healthexp_gdp</th>\n",
       "    </tr>\n",
       "    <tr>\n",
       "      <th>Country Code</th>\n",
       "      <th>date</th>\n",
       "      <th></th>\n",
       "    </tr>\n",
       "  </thead>\n",
       "  <tbody>\n",
       "    <tr>\n",
       "      <th rowspan=\"2\" valign=\"top\">ABW</th>\n",
       "      <th>1960</th>\n",
       "      <td>NaN</td>\n",
       "    </tr>\n",
       "    <tr>\n",
       "      <th>1961</th>\n",
       "      <td>NaN</td>\n",
       "    </tr>\n",
       "  </tbody>\n",
       "</table>\n",
       "</div>"
      ],
      "text/plain": [
       "                   healthexp_gdp\n",
       "Country Code date               \n",
       "ABW          1960            NaN\n",
       "             1961            NaN"
      ]
     },
     "execution_count": 116,
     "metadata": {},
     "output_type": "execute_result"
    }
   ],
   "source": [
    "df_health_long = df_health_long.sort_index()\n",
    "df_health_long.head(2)"
   ]
  },
  {
   "cell_type": "code",
   "execution_count": 117,
   "id": "f8c10d02-ab05-4b6b-bf28-573d0d6a8526",
   "metadata": {},
   "outputs": [
    {
     "data": {
      "text/plain": [
       "np.int64(11827)"
      ]
     },
     "execution_count": 117,
     "metadata": {},
     "output_type": "execute_result"
    }
   ],
   "source": [
    "df_health_long['healthexp_gdp'].isna().sum()"
   ]
  },
  {
   "cell_type": "markdown",
   "id": "177d36b3-d90a-442f-8872-05d583be0269",
   "metadata": {},
   "source": [
    "### A.2.2 forward fill"
   ]
  },
  {
   "cell_type": "code",
   "execution_count": 144,
   "id": "8975c349-17cf-4234-a09b-7e139bb8992a",
   "metadata": {},
   "outputs": [
    {
     "data": {
      "text/html": [
       "<div>\n",
       "<style scoped>\n",
       "    .dataframe tbody tr th:only-of-type {\n",
       "        vertical-align: middle;\n",
       "    }\n",
       "\n",
       "    .dataframe tbody tr th {\n",
       "        vertical-align: top;\n",
       "    }\n",
       "\n",
       "    .dataframe thead th {\n",
       "        text-align: right;\n",
       "    }\n",
       "</style>\n",
       "<table border=\"1\" class=\"dataframe\">\n",
       "  <thead>\n",
       "    <tr style=\"text-align: right;\">\n",
       "      <th></th>\n",
       "      <th>country</th>\n",
       "      <th>date</th>\n",
       "      <th>healthexp_gdp</th>\n",
       "    </tr>\n",
       "  </thead>\n",
       "  <tbody>\n",
       "    <tr>\n",
       "      <th>0</th>\n",
       "      <td>ABW</td>\n",
       "      <td>1960</td>\n",
       "      <td>NaN</td>\n",
       "    </tr>\n",
       "    <tr>\n",
       "      <th>1</th>\n",
       "      <td>ABW</td>\n",
       "      <td>1961</td>\n",
       "      <td>NaN</td>\n",
       "    </tr>\n",
       "  </tbody>\n",
       "</table>\n",
       "</div>"
      ],
      "text/plain": [
       "  country  date  healthexp_gdp\n",
       "0     ABW  1960            NaN\n",
       "1     ABW  1961            NaN"
      ]
     },
     "execution_count": 144,
     "metadata": {},
     "output_type": "execute_result"
    }
   ],
   "source": [
    "df_heal = df_health_long.reset_index().rename({\"Country Code\" : 'country'}, axis='columns')\n",
    "df_heal.head(2)"
   ]
  },
  {
   "cell_type": "markdown",
   "id": "a0839834-20b5-474b-96ee-8223614b1ad9",
   "metadata": {},
   "source": [
    "### One country: easy"
   ]
  },
  {
   "cell_type": "code",
   "execution_count": 145,
   "id": "13a6abf1-4ae6-4ceb-abb4-1a77c76fb5dd",
   "metadata": {},
   "outputs": [
    {
     "data": {
      "text/html": [
       "<div>\n",
       "<style scoped>\n",
       "    .dataframe tbody tr th:only-of-type {\n",
       "        vertical-align: middle;\n",
       "    }\n",
       "\n",
       "    .dataframe tbody tr th {\n",
       "        vertical-align: top;\n",
       "    }\n",
       "\n",
       "    .dataframe thead th {\n",
       "        text-align: right;\n",
       "    }\n",
       "</style>\n",
       "<table border=\"1\" class=\"dataframe\">\n",
       "  <thead>\n",
       "    <tr style=\"text-align: right;\">\n",
       "      <th></th>\n",
       "      <th>country</th>\n",
       "      <th>date</th>\n",
       "      <th>healthexp_gdp</th>\n",
       "    </tr>\n",
       "  </thead>\n",
       "  <tbody>\n",
       "    <tr>\n",
       "      <th>17221</th>\n",
       "      <td>ZMB</td>\n",
       "      <td>2021</td>\n",
       "      <td>6.639514</td>\n",
       "    </tr>\n",
       "    <tr>\n",
       "      <th>17222</th>\n",
       "      <td>ZMB</td>\n",
       "      <td>2022</td>\n",
       "      <td>5.255923</td>\n",
       "    </tr>\n",
       "    <tr>\n",
       "      <th>17223</th>\n",
       "      <td>ZMB</td>\n",
       "      <td>2023</td>\n",
       "      <td>NaN</td>\n",
       "    </tr>\n",
       "    <tr>\n",
       "      <th>17224</th>\n",
       "      <td>ZMB</td>\n",
       "      <td>2024</td>\n",
       "      <td>NaN</td>\n",
       "    </tr>\n",
       "  </tbody>\n",
       "</table>\n",
       "</div>"
      ],
      "text/plain": [
       "      country  date  healthexp_gdp\n",
       "17221     ZMB  2021       6.639514\n",
       "17222     ZMB  2022       5.255923\n",
       "17223     ZMB  2023            NaN\n",
       "17224     ZMB  2024            NaN"
      ]
     },
     "execution_count": 145,
     "metadata": {},
     "output_type": "execute_result"
    }
   ],
   "source": [
    "df_zmb = df_heal.query(\"country == 'ZMB'\").tail(4)\n",
    "df_zmb"
   ]
  },
  {
   "cell_type": "code",
   "execution_count": 146,
   "id": "31fb2802-3593-4a8e-bb56-9ced39513ad5",
   "metadata": {},
   "outputs": [
    {
     "data": {
      "text/html": [
       "<div>\n",
       "<style scoped>\n",
       "    .dataframe tbody tr th:only-of-type {\n",
       "        vertical-align: middle;\n",
       "    }\n",
       "\n",
       "    .dataframe tbody tr th {\n",
       "        vertical-align: top;\n",
       "    }\n",
       "\n",
       "    .dataframe thead th {\n",
       "        text-align: right;\n",
       "    }\n",
       "</style>\n",
       "<table border=\"1\" class=\"dataframe\">\n",
       "  <thead>\n",
       "    <tr style=\"text-align: right;\">\n",
       "      <th></th>\n",
       "      <th>country</th>\n",
       "      <th>date</th>\n",
       "      <th>healthexp_gdp</th>\n",
       "    </tr>\n",
       "  </thead>\n",
       "  <tbody>\n",
       "    <tr>\n",
       "      <th>17221</th>\n",
       "      <td>ZMB</td>\n",
       "      <td>2021</td>\n",
       "      <td>6.639514</td>\n",
       "    </tr>\n",
       "    <tr>\n",
       "      <th>17222</th>\n",
       "      <td>ZMB</td>\n",
       "      <td>2022</td>\n",
       "      <td>5.255923</td>\n",
       "    </tr>\n",
       "    <tr>\n",
       "      <th>17223</th>\n",
       "      <td>ZMB</td>\n",
       "      <td>2023</td>\n",
       "      <td>5.255923</td>\n",
       "    </tr>\n",
       "    <tr>\n",
       "      <th>17224</th>\n",
       "      <td>ZMB</td>\n",
       "      <td>2024</td>\n",
       "      <td>5.255923</td>\n",
       "    </tr>\n",
       "  </tbody>\n",
       "</table>\n",
       "</div>"
      ],
      "text/plain": [
       "      country  date  healthexp_gdp\n",
       "17221     ZMB  2021       6.639514\n",
       "17222     ZMB  2022       5.255923\n",
       "17223     ZMB  2023       5.255923\n",
       "17224     ZMB  2024       5.255923"
      ]
     },
     "execution_count": 146,
     "metadata": {},
     "output_type": "execute_result"
    }
   ],
   "source": [
    "df_zmb['healthexp_gdp'] = df_zmb['healthexp_gdp'].ffill()\n",
    "df_zmb"
   ]
  },
  {
   "cell_type": "markdown",
   "id": "b79d121a-5ca1-431b-b3a6-1537cf9e0c70",
   "metadata": {},
   "source": [
    "### Multiple countries: group by"
   ]
  },
  {
   "cell_type": "code",
   "execution_count": 140,
   "id": "b734def8-d01b-4d8c-826e-04f9a7539efc",
   "metadata": {},
   "outputs": [
    {
     "data": {
      "text/plain": [
       "np.int64(11827)"
      ]
     },
     "execution_count": 140,
     "metadata": {},
     "output_type": "execute_result"
    }
   ],
   "source": [
    "df_heal['healthexp_gdp'].isna().sum()"
   ]
  },
  {
   "cell_type": "code",
   "execution_count": 143,
   "id": "510932cd-dd0f-4e40-aa09-b5d5052c875c",
   "metadata": {},
   "outputs": [
    {
     "data": {
      "text/plain": [
       "np.int64(0)"
      ]
     },
     "execution_count": 143,
     "metadata": {},
     "output_type": "execute_result"
    }
   ],
   "source": [
    "df_heal['healthexp_gdp'] = df_heal.groupby(['country'])['healthexp_gdp'].ffill()\n",
    "df_heal['healthexp_gdp'].isna().sum()"
   ]
  },
  {
   "cell_type": "code",
   "execution_count": null,
   "id": "7761541c-9eff-4086-b4b3-9d596fb78459",
   "metadata": {},
   "outputs": [],
   "source": []
  }
 ],
 "metadata": {
  "kernelspec": {
   "display_name": "Python 3 (ipykernel)",
   "language": "python",
   "name": "python3"
  },
  "language_info": {
   "codemirror_mode": {
    "name": "ipython",
    "version": 3
   },
   "file_extension": ".py",
   "mimetype": "text/x-python",
   "name": "python",
   "nbconvert_exporter": "python",
   "pygments_lexer": "ipython3",
   "version": "3.12.7"
  }
 },
 "nbformat": 4,
 "nbformat_minor": 5
}
