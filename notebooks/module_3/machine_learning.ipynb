{
 "cells": [
  {
   "cell_type": "markdown",
   "id": "25ff36ed-dfbc-4fbd-b491-849a34bd6fd8",
   "metadata": {},
   "source": [
    "# A. Cleaning data:\n",
    "\n",
    "## A.1 Wide to Long"
   ]
  },
  {
   "cell_type": "markdown",
   "id": "a8de2709-1a81-422e-8638-87bb690c86d4",
   "metadata": {},
   "source": [
    "### A.1.1 Import"
   ]
  },
  {
   "cell_type": "code",
   "execution_count": 1,
   "id": "709d713e-9aaa-4430-b838-c264faa2194b",
   "metadata": {},
   "outputs": [
    {
     "data": {
      "text/plain": [
       "['health_expenditure_raw.csv',\n",
       " 'education.csv',\n",
       " 'gini.csv',\n",
       " 'democracy_gdp.csv',\n",
       " '.ipynb_checkpoints',\n",
       " 'pisa.csv']"
      ]
     },
     "execution_count": 1,
     "metadata": {},
     "output_type": "execute_result"
    }
   ],
   "source": [
    "import pandas as pd\n",
    "import os\n",
    "data_folder = '../../data/examples/module_3'\n",
    "os.listdir(data_folder)"
   ]
  },
  {
   "cell_type": "code",
   "execution_count": 2,
   "id": "f77a9679-8c25-451d-893b-172899f3c356",
   "metadata": {},
   "outputs": [
    {
     "data": {
      "text/html": [
       "<div>\n",
       "<style scoped>\n",
       "    .dataframe tbody tr th:only-of-type {\n",
       "        vertical-align: middle;\n",
       "    }\n",
       "\n",
       "    .dataframe tbody tr th {\n",
       "        vertical-align: top;\n",
       "    }\n",
       "\n",
       "    .dataframe thead th {\n",
       "        text-align: right;\n",
       "    }\n",
       "</style>\n",
       "<table border=\"1\" class=\"dataframe\">\n",
       "  <thead>\n",
       "    <tr style=\"text-align: right;\">\n",
       "      <th></th>\n",
       "      <th>country</th>\n",
       "      <th>2000</th>\n",
       "      <th>2001</th>\n",
       "      <th>2002</th>\n",
       "      <th>2003</th>\n",
       "      <th>2004</th>\n",
       "      <th>2005</th>\n",
       "      <th>2006</th>\n",
       "      <th>2007</th>\n",
       "      <th>2008</th>\n",
       "      <th>...</th>\n",
       "      <th>2013</th>\n",
       "      <th>2014</th>\n",
       "      <th>2015</th>\n",
       "      <th>2016</th>\n",
       "      <th>2017</th>\n",
       "      <th>2018</th>\n",
       "      <th>2019</th>\n",
       "      <th>2020</th>\n",
       "      <th>2021</th>\n",
       "      <th>2022</th>\n",
       "    </tr>\n",
       "  </thead>\n",
       "  <tbody>\n",
       "    <tr>\n",
       "      <th>0</th>\n",
       "      <td>Australia</td>\n",
       "      <td>..</td>\n",
       "      <td>33.5</td>\n",
       "      <td>..</td>\n",
       "      <td>33.5</td>\n",
       "      <td>33.1</td>\n",
       "      <td>..</td>\n",
       "      <td>..</td>\n",
       "      <td>..</td>\n",
       "      <td>35.4</td>\n",
       "      <td>...</td>\n",
       "      <td>..</td>\n",
       "      <td>34.4</td>\n",
       "      <td>..</td>\n",
       "      <td>33.7</td>\n",
       "      <td>..</td>\n",
       "      <td>34.3</td>\n",
       "      <td>..</td>\n",
       "      <td>..</td>\n",
       "      <td>..</td>\n",
       "      <td>..</td>\n",
       "    </tr>\n",
       "    <tr>\n",
       "      <th>1</th>\n",
       "      <td>Austria</td>\n",
       "      <td>29</td>\n",
       "      <td>..</td>\n",
       "      <td>..</td>\n",
       "      <td>29.5</td>\n",
       "      <td>29.8</td>\n",
       "      <td>28.7</td>\n",
       "      <td>29.6</td>\n",
       "      <td>30.6</td>\n",
       "      <td>30.4</td>\n",
       "      <td>...</td>\n",
       "      <td>30.8</td>\n",
       "      <td>30.5</td>\n",
       "      <td>30.5</td>\n",
       "      <td>30.8</td>\n",
       "      <td>29.7</td>\n",
       "      <td>30.8</td>\n",
       "      <td>30.2</td>\n",
       "      <td>29.8</td>\n",
       "      <td>30.7</td>\n",
       "      <td>..</td>\n",
       "    </tr>\n",
       "  </tbody>\n",
       "</table>\n",
       "<p>2 rows × 24 columns</p>\n",
       "</div>"
      ],
      "text/plain": [
       "     country 2000  2001 2002  2003  2004  2005  2006  2007  2008  ...  2013  \\\n",
       "0  Australia   ..  33.5   ..  33.5  33.1    ..    ..    ..  35.4  ...    ..   \n",
       "1    Austria   29    ..   ..  29.5  29.8  28.7  29.6  30.6  30.4  ...  30.8   \n",
       "\n",
       "   2014  2015  2016  2017  2018  2019  2020  2021 2022  \n",
       "0  34.4    ..  33.7    ..  34.3    ..    ..    ..   ..  \n",
       "1  30.5  30.5  30.8  29.7  30.8  30.2  29.8  30.7   ..  \n",
       "\n",
       "[2 rows x 24 columns]"
      ]
     },
     "execution_count": 2,
     "metadata": {},
     "output_type": "execute_result"
    }
   ],
   "source": [
    "df_gini = pd.read_csv(f\"{data_folder}/gini.csv\")\n",
    "df_gini_clean = df_gini.drop(['Unnamed: 0'], axis = 'columns')\n",
    "df_gini_clean = df_gini_clean.rename(columns = {\"Country Name\": 'country'})\n",
    "df_gini_clean.head(2)"
   ]
  },
  {
   "cell_type": "code",
   "execution_count": 3,
   "id": "f3392046-99d0-4c29-b408-5f5270c50e6e",
   "metadata": {},
   "outputs": [
    {
     "data": {
      "text/html": [
       "<div>\n",
       "<style scoped>\n",
       "    .dataframe tbody tr th:only-of-type {\n",
       "        vertical-align: middle;\n",
       "    }\n",
       "\n",
       "    .dataframe tbody tr th {\n",
       "        vertical-align: top;\n",
       "    }\n",
       "\n",
       "    .dataframe thead th {\n",
       "        text-align: right;\n",
       "    }\n",
       "</style>\n",
       "<table border=\"1\" class=\"dataframe\">\n",
       "  <thead>\n",
       "    <tr style=\"text-align: right;\">\n",
       "      <th></th>\n",
       "      <th>country</th>\n",
       "      <th>2000</th>\n",
       "      <th>2003</th>\n",
       "      <th>2006</th>\n",
       "      <th>2009</th>\n",
       "      <th>2012</th>\n",
       "      <th>2015</th>\n",
       "      <th>2018</th>\n",
       "      <th>2022</th>\n",
       "      <th>region</th>\n",
       "      <th>subregion</th>\n",
       "    </tr>\n",
       "  </thead>\n",
       "  <tbody>\n",
       "    <tr>\n",
       "      <th>0</th>\n",
       "      <td>Australia</td>\n",
       "      <td>528.0</td>\n",
       "      <td>525.0</td>\n",
       "      <td>513.0</td>\n",
       "      <td>515.0</td>\n",
       "      <td>512.0</td>\n",
       "      <td>503.0</td>\n",
       "      <td>503.0</td>\n",
       "      <td>498.0</td>\n",
       "      <td>Oceania</td>\n",
       "      <td>Australia and New Zealand</td>\n",
       "    </tr>\n",
       "    <tr>\n",
       "      <th>1</th>\n",
       "      <td>Austria</td>\n",
       "      <td>492.0</td>\n",
       "      <td>491.0</td>\n",
       "      <td>490.0</td>\n",
       "      <td>470.0</td>\n",
       "      <td>490.0</td>\n",
       "      <td>485.0</td>\n",
       "      <td>484.0</td>\n",
       "      <td>480.0</td>\n",
       "      <td>Europe</td>\n",
       "      <td>Western Europe</td>\n",
       "    </tr>\n",
       "  </tbody>\n",
       "</table>\n",
       "</div>"
      ],
      "text/plain": [
       "     country   2000   2003   2006   2009   2012   2015   2018   2022   region  \\\n",
       "0  Australia  528.0  525.0  513.0  515.0  512.0  503.0  503.0  498.0  Oceania   \n",
       "1    Austria  492.0  491.0  490.0  470.0  490.0  485.0  484.0  480.0   Europe   \n",
       "\n",
       "                   subregion  \n",
       "0  Australia and New Zealand  \n",
       "1             Western Europe  "
      ]
     },
     "execution_count": 3,
     "metadata": {},
     "output_type": "execute_result"
    }
   ],
   "source": [
    "df_pisa = pd.read_csv(f\"{data_folder}/pisa.csv\")\n",
    "df_pisa_clean = df_pisa.copy().drop(['Unnamed: 0'], axis = 'columns')\n",
    "df_pisa_clean.head(2)"
   ]
  },
  {
   "cell_type": "markdown",
   "id": "82939bd1-cb11-404d-9001-f8c41b3f20b4",
   "metadata": {},
   "source": [
    "### A.1.2 Drop or set index all non-year columns"
   ]
  },
  {
   "cell_type": "code",
   "execution_count": 4,
   "id": "69346b5b-725f-4782-afe3-b7c1e66f8ef8",
   "metadata": {},
   "outputs": [
    {
     "data": {
      "text/html": [
       "<div>\n",
       "<style scoped>\n",
       "    .dataframe tbody tr th:only-of-type {\n",
       "        vertical-align: middle;\n",
       "    }\n",
       "\n",
       "    .dataframe tbody tr th {\n",
       "        vertical-align: top;\n",
       "    }\n",
       "\n",
       "    .dataframe thead th {\n",
       "        text-align: right;\n",
       "    }\n",
       "</style>\n",
       "<table border=\"1\" class=\"dataframe\">\n",
       "  <thead>\n",
       "    <tr style=\"text-align: right;\">\n",
       "      <th></th>\n",
       "      <th></th>\n",
       "      <th></th>\n",
       "      <th>2000</th>\n",
       "      <th>2003</th>\n",
       "      <th>2006</th>\n",
       "      <th>2009</th>\n",
       "      <th>2012</th>\n",
       "      <th>2015</th>\n",
       "      <th>2018</th>\n",
       "      <th>2022</th>\n",
       "    </tr>\n",
       "    <tr>\n",
       "      <th>country</th>\n",
       "      <th>subregion</th>\n",
       "      <th>region</th>\n",
       "      <th></th>\n",
       "      <th></th>\n",
       "      <th></th>\n",
       "      <th></th>\n",
       "      <th></th>\n",
       "      <th></th>\n",
       "      <th></th>\n",
       "      <th></th>\n",
       "    </tr>\n",
       "  </thead>\n",
       "  <tbody>\n",
       "    <tr>\n",
       "      <th>Australia</th>\n",
       "      <th>Australia and New Zealand</th>\n",
       "      <th>Oceania</th>\n",
       "      <td>528.0</td>\n",
       "      <td>525.0</td>\n",
       "      <td>513.0</td>\n",
       "      <td>515.0</td>\n",
       "      <td>512.0</td>\n",
       "      <td>503.0</td>\n",
       "      <td>503.0</td>\n",
       "      <td>498.0</td>\n",
       "    </tr>\n",
       "    <tr>\n",
       "      <th>Austria</th>\n",
       "      <th>Western Europe</th>\n",
       "      <th>Europe</th>\n",
       "      <td>492.0</td>\n",
       "      <td>491.0</td>\n",
       "      <td>490.0</td>\n",
       "      <td>470.0</td>\n",
       "      <td>490.0</td>\n",
       "      <td>485.0</td>\n",
       "      <td>484.0</td>\n",
       "      <td>480.0</td>\n",
       "    </tr>\n",
       "  </tbody>\n",
       "</table>\n",
       "</div>"
      ],
      "text/plain": [
       "                                              2000   2003   2006   2009  \\\n",
       "country   subregion                 region                                \n",
       "Australia Australia and New Zealand Oceania  528.0  525.0  513.0  515.0   \n",
       "Austria   Western Europe            Europe   492.0  491.0  490.0  470.0   \n",
       "\n",
       "                                              2012   2015   2018   2022  \n",
       "country   subregion                 region                               \n",
       "Australia Australia and New Zealand Oceania  512.0  503.0  503.0  498.0  \n",
       "Austria   Western Europe            Europe   490.0  485.0  484.0  480.0  "
      ]
     },
     "execution_count": 4,
     "metadata": {},
     "output_type": "execute_result"
    }
   ],
   "source": [
    "df_pisa_clean = df_pisa_clean.set_index(['country', 'subregion', 'region'])\n",
    "df_pisa_clean.head(2)"
   ]
  },
  {
   "cell_type": "code",
   "execution_count": 5,
   "id": "d917e69e-40e3-4b05-945a-c449bd94ff48",
   "metadata": {},
   "outputs": [
    {
     "data": {
      "text/html": [
       "<div>\n",
       "<style scoped>\n",
       "    .dataframe tbody tr th:only-of-type {\n",
       "        vertical-align: middle;\n",
       "    }\n",
       "\n",
       "    .dataframe tbody tr th {\n",
       "        vertical-align: top;\n",
       "    }\n",
       "\n",
       "    .dataframe thead th {\n",
       "        text-align: right;\n",
       "    }\n",
       "</style>\n",
       "<table border=\"1\" class=\"dataframe\">\n",
       "  <thead>\n",
       "    <tr style=\"text-align: right;\">\n",
       "      <th></th>\n",
       "      <th>2000</th>\n",
       "      <th>2001</th>\n",
       "      <th>2002</th>\n",
       "      <th>2003</th>\n",
       "      <th>2004</th>\n",
       "      <th>2005</th>\n",
       "      <th>2006</th>\n",
       "      <th>2007</th>\n",
       "      <th>2008</th>\n",
       "      <th>2009</th>\n",
       "      <th>...</th>\n",
       "      <th>2013</th>\n",
       "      <th>2014</th>\n",
       "      <th>2015</th>\n",
       "      <th>2016</th>\n",
       "      <th>2017</th>\n",
       "      <th>2018</th>\n",
       "      <th>2019</th>\n",
       "      <th>2020</th>\n",
       "      <th>2021</th>\n",
       "      <th>2022</th>\n",
       "    </tr>\n",
       "    <tr>\n",
       "      <th>country</th>\n",
       "      <th></th>\n",
       "      <th></th>\n",
       "      <th></th>\n",
       "      <th></th>\n",
       "      <th></th>\n",
       "      <th></th>\n",
       "      <th></th>\n",
       "      <th></th>\n",
       "      <th></th>\n",
       "      <th></th>\n",
       "      <th></th>\n",
       "      <th></th>\n",
       "      <th></th>\n",
       "      <th></th>\n",
       "      <th></th>\n",
       "      <th></th>\n",
       "      <th></th>\n",
       "      <th></th>\n",
       "      <th></th>\n",
       "      <th></th>\n",
       "      <th></th>\n",
       "    </tr>\n",
       "  </thead>\n",
       "  <tbody>\n",
       "    <tr>\n",
       "      <th>Australia</th>\n",
       "      <td>..</td>\n",
       "      <td>33.5</td>\n",
       "      <td>..</td>\n",
       "      <td>33.5</td>\n",
       "      <td>33.1</td>\n",
       "      <td>..</td>\n",
       "      <td>..</td>\n",
       "      <td>..</td>\n",
       "      <td>35.4</td>\n",
       "      <td>..</td>\n",
       "      <td>...</td>\n",
       "      <td>..</td>\n",
       "      <td>34.4</td>\n",
       "      <td>..</td>\n",
       "      <td>33.7</td>\n",
       "      <td>..</td>\n",
       "      <td>34.3</td>\n",
       "      <td>..</td>\n",
       "      <td>..</td>\n",
       "      <td>..</td>\n",
       "      <td>..</td>\n",
       "    </tr>\n",
       "    <tr>\n",
       "      <th>Austria</th>\n",
       "      <td>29</td>\n",
       "      <td>..</td>\n",
       "      <td>..</td>\n",
       "      <td>29.5</td>\n",
       "      <td>29.8</td>\n",
       "      <td>28.7</td>\n",
       "      <td>29.6</td>\n",
       "      <td>30.6</td>\n",
       "      <td>30.4</td>\n",
       "      <td>31.5</td>\n",
       "      <td>...</td>\n",
       "      <td>30.8</td>\n",
       "      <td>30.5</td>\n",
       "      <td>30.5</td>\n",
       "      <td>30.8</td>\n",
       "      <td>29.7</td>\n",
       "      <td>30.8</td>\n",
       "      <td>30.2</td>\n",
       "      <td>29.8</td>\n",
       "      <td>30.7</td>\n",
       "      <td>..</td>\n",
       "    </tr>\n",
       "  </tbody>\n",
       "</table>\n",
       "<p>2 rows × 23 columns</p>\n",
       "</div>"
      ],
      "text/plain": [
       "          2000  2001 2002  2003  2004  2005  2006  2007  2008  2009  ...  \\\n",
       "country                                                              ...   \n",
       "Australia   ..  33.5   ..  33.5  33.1    ..    ..    ..  35.4    ..  ...   \n",
       "Austria     29    ..   ..  29.5  29.8  28.7  29.6  30.6  30.4  31.5  ...   \n",
       "\n",
       "           2013  2014  2015  2016  2017  2018  2019  2020  2021 2022  \n",
       "country                                                               \n",
       "Australia    ..  34.4    ..  33.7    ..  34.3    ..    ..    ..   ..  \n",
       "Austria    30.8  30.5  30.5  30.8  29.7  30.8  30.2  29.8  30.7   ..  \n",
       "\n",
       "[2 rows x 23 columns]"
      ]
     },
     "execution_count": 5,
     "metadata": {},
     "output_type": "execute_result"
    }
   ],
   "source": [
    "df_gini_clean = df_gini_clean.set_index('country')\n",
    "df_gini_clean.head(2)"
   ]
  },
  {
   "cell_type": "markdown",
   "id": "60c574bd-6241-46d4-aa1b-f67500694a1d",
   "metadata": {},
   "source": [
    "### A.1.3 Wide to long: stack"
   ]
  },
  {
   "cell_type": "code",
   "execution_count": 6,
   "id": "31da34a8-16ce-4a1a-a267-3d02e99e4b0c",
   "metadata": {},
   "outputs": [
    {
     "data": {
      "text/html": [
       "<div>\n",
       "<style scoped>\n",
       "    .dataframe tbody tr th:only-of-type {\n",
       "        vertical-align: middle;\n",
       "    }\n",
       "\n",
       "    .dataframe tbody tr th {\n",
       "        vertical-align: top;\n",
       "    }\n",
       "\n",
       "    .dataframe thead th {\n",
       "        text-align: right;\n",
       "    }\n",
       "</style>\n",
       "<table border=\"1\" class=\"dataframe\">\n",
       "  <thead>\n",
       "    <tr style=\"text-align: right;\">\n",
       "      <th></th>\n",
       "      <th>country</th>\n",
       "      <th>date</th>\n",
       "      <th>gini</th>\n",
       "    </tr>\n",
       "  </thead>\n",
       "  <tbody>\n",
       "    <tr>\n",
       "      <th>0</th>\n",
       "      <td>Australia</td>\n",
       "      <td>2000</td>\n",
       "      <td>..</td>\n",
       "    </tr>\n",
       "    <tr>\n",
       "      <th>1</th>\n",
       "      <td>Australia</td>\n",
       "      <td>2001</td>\n",
       "      <td>33.5</td>\n",
       "    </tr>\n",
       "  </tbody>\n",
       "</table>\n",
       "</div>"
      ],
      "text/plain": [
       "     country  date  gini\n",
       "0  Australia  2000    ..\n",
       "1  Australia  2001  33.5"
      ]
     },
     "execution_count": 6,
     "metadata": {},
     "output_type": "execute_result"
    }
   ],
   "source": [
    "df_gini_long = df_gini_clean.stack().reset_index().rename(columns = {\"level_1\": 'date', 0:'gini'})\n",
    "df_gini_long.head(2)"
   ]
  },
  {
   "cell_type": "code",
   "execution_count": 7,
   "id": "8d37a6ed-354d-4a06-aeb9-acef604e107c",
   "metadata": {},
   "outputs": [
    {
     "data": {
      "text/html": [
       "<div>\n",
       "<style scoped>\n",
       "    .dataframe tbody tr th:only-of-type {\n",
       "        vertical-align: middle;\n",
       "    }\n",
       "\n",
       "    .dataframe tbody tr th {\n",
       "        vertical-align: top;\n",
       "    }\n",
       "\n",
       "    .dataframe thead th {\n",
       "        text-align: right;\n",
       "    }\n",
       "</style>\n",
       "<table border=\"1\" class=\"dataframe\">\n",
       "  <thead>\n",
       "    <tr style=\"text-align: right;\">\n",
       "      <th></th>\n",
       "      <th>country</th>\n",
       "      <th>subregion</th>\n",
       "      <th>region</th>\n",
       "      <th>date</th>\n",
       "      <th>pisa</th>\n",
       "    </tr>\n",
       "  </thead>\n",
       "  <tbody>\n",
       "    <tr>\n",
       "      <th>0</th>\n",
       "      <td>Australia</td>\n",
       "      <td>Australia and New Zealand</td>\n",
       "      <td>Oceania</td>\n",
       "      <td>2000</td>\n",
       "      <td>528.0</td>\n",
       "    </tr>\n",
       "    <tr>\n",
       "      <th>1</th>\n",
       "      <td>Australia</td>\n",
       "      <td>Australia and New Zealand</td>\n",
       "      <td>Oceania</td>\n",
       "      <td>2003</td>\n",
       "      <td>525.0</td>\n",
       "    </tr>\n",
       "  </tbody>\n",
       "</table>\n",
       "</div>"
      ],
      "text/plain": [
       "     country                  subregion   region  date   pisa\n",
       "0  Australia  Australia and New Zealand  Oceania  2000  528.0\n",
       "1  Australia  Australia and New Zealand  Oceania  2003  525.0"
      ]
     },
     "execution_count": 7,
     "metadata": {},
     "output_type": "execute_result"
    }
   ],
   "source": [
    "df_pisa_long = df_pisa_clean.stack().reset_index().rename(columns = {\"level_3\": 'date', 0:'pisa'})\n",
    "df_pisa_long.head(2)"
   ]
  },
  {
   "cell_type": "markdown",
   "id": "a2ae340b-751e-470e-8925-e0e99e42bd18",
   "metadata": {},
   "source": [
    "### A.1.M Merge"
   ]
  },
  {
   "cell_type": "code",
   "execution_count": 8,
   "id": "e938c32d-d44e-4836-a005-1834d444ada4",
   "metadata": {},
   "outputs": [
    {
     "data": {
      "text/html": [
       "<div>\n",
       "<style scoped>\n",
       "    .dataframe tbody tr th:only-of-type {\n",
       "        vertical-align: middle;\n",
       "    }\n",
       "\n",
       "    .dataframe tbody tr th {\n",
       "        vertical-align: top;\n",
       "    }\n",
       "\n",
       "    .dataframe thead th {\n",
       "        text-align: right;\n",
       "    }\n",
       "</style>\n",
       "<table border=\"1\" class=\"dataframe\">\n",
       "  <thead>\n",
       "    <tr style=\"text-align: right;\">\n",
       "      <th></th>\n",
       "      <th>country</th>\n",
       "      <th>subregion</th>\n",
       "      <th>region</th>\n",
       "      <th>date</th>\n",
       "      <th>pisa</th>\n",
       "      <th>gini</th>\n",
       "    </tr>\n",
       "  </thead>\n",
       "  <tbody>\n",
       "    <tr>\n",
       "      <th>0</th>\n",
       "      <td>Australia</td>\n",
       "      <td>Australia and New Zealand</td>\n",
       "      <td>Oceania</td>\n",
       "      <td>2000</td>\n",
       "      <td>528.0</td>\n",
       "      <td>..</td>\n",
       "    </tr>\n",
       "    <tr>\n",
       "      <th>1</th>\n",
       "      <td>Australia</td>\n",
       "      <td>Australia and New Zealand</td>\n",
       "      <td>Oceania</td>\n",
       "      <td>2003</td>\n",
       "      <td>525.0</td>\n",
       "      <td>33.5</td>\n",
       "    </tr>\n",
       "  </tbody>\n",
       "</table>\n",
       "</div>"
      ],
      "text/plain": [
       "     country                  subregion   region  date   pisa  gini\n",
       "0  Australia  Australia and New Zealand  Oceania  2000  528.0    ..\n",
       "1  Australia  Australia and New Zealand  Oceania  2003  525.0  33.5"
      ]
     },
     "execution_count": 8,
     "metadata": {},
     "output_type": "execute_result"
    }
   ],
   "source": [
    "df_merge = pd.merge(df_pisa_long, df_gini_long, on = ['country','date'])\n",
    "df_merge.head(2)"
   ]
  },
  {
   "cell_type": "code",
   "execution_count": 9,
   "id": "c6c75d6f-0f4c-4954-a263-9e0673e5c160",
   "metadata": {},
   "outputs": [
    {
     "data": {
      "text/html": [
       "<div>\n",
       "<style scoped>\n",
       "    .dataframe tbody tr th:only-of-type {\n",
       "        vertical-align: middle;\n",
       "    }\n",
       "\n",
       "    .dataframe tbody tr th {\n",
       "        vertical-align: top;\n",
       "    }\n",
       "\n",
       "    .dataframe thead th {\n",
       "        text-align: right;\n",
       "    }\n",
       "</style>\n",
       "<table border=\"1\" class=\"dataframe\">\n",
       "  <thead>\n",
       "    <tr style=\"text-align: right;\">\n",
       "      <th></th>\n",
       "      <th></th>\n",
       "      <th>subregion</th>\n",
       "      <th>region</th>\n",
       "      <th>pisa</th>\n",
       "      <th>gini</th>\n",
       "    </tr>\n",
       "    <tr>\n",
       "      <th>country</th>\n",
       "      <th>date</th>\n",
       "      <th></th>\n",
       "      <th></th>\n",
       "      <th></th>\n",
       "      <th></th>\n",
       "    </tr>\n",
       "  </thead>\n",
       "  <tbody>\n",
       "    <tr>\n",
       "      <th rowspan=\"2\" valign=\"top\">Australia</th>\n",
       "      <th>2000</th>\n",
       "      <td>Australia and New Zealand</td>\n",
       "      <td>Oceania</td>\n",
       "      <td>528.0</td>\n",
       "      <td>..</td>\n",
       "    </tr>\n",
       "    <tr>\n",
       "      <th>2003</th>\n",
       "      <td>Australia and New Zealand</td>\n",
       "      <td>Oceania</td>\n",
       "      <td>525.0</td>\n",
       "      <td>33.5</td>\n",
       "    </tr>\n",
       "  </tbody>\n",
       "</table>\n",
       "</div>"
      ],
      "text/plain": [
       "                                subregion   region   pisa  gini\n",
       "country   date                                                 \n",
       "Australia 2000  Australia and New Zealand  Oceania  528.0    ..\n",
       "          2003  Australia and New Zealand  Oceania  525.0  33.5"
      ]
     },
     "execution_count": 9,
     "metadata": {},
     "output_type": "execute_result"
    }
   ],
   "source": [
    "df_merge = pd.merge(\n",
    "    df_pisa_long.set_index(['country','date']), \n",
    "    df_gini_long.set_index(['country','date']), \n",
    "    right_index = True,\n",
    "    left_index = True\n",
    ")\n",
    "df_merge.head(2)"
   ]
  },
  {
   "cell_type": "markdown",
   "id": "33d44665-6a15-4598-acb1-69d600fec97f",
   "metadata": {},
   "source": [
    "## A.2 Fill na"
   ]
  },
  {
   "cell_type": "markdown",
   "id": "86645c25-dfbd-4f5e-9685-062af113200b",
   "metadata": {},
   "source": [
    "### A.2.1 Wide to long: Melt"
   ]
  },
  {
   "cell_type": "code",
   "execution_count": 10,
   "id": "2dfe0277-ae0d-4095-91d3-06017eb78a1e",
   "metadata": {},
   "outputs": [
    {
     "data": {
      "text/html": [
       "<div>\n",
       "<style scoped>\n",
       "    .dataframe tbody tr th:only-of-type {\n",
       "        vertical-align: middle;\n",
       "    }\n",
       "\n",
       "    .dataframe tbody tr th {\n",
       "        vertical-align: top;\n",
       "    }\n",
       "\n",
       "    .dataframe thead th {\n",
       "        text-align: right;\n",
       "    }\n",
       "</style>\n",
       "<table border=\"1\" class=\"dataframe\">\n",
       "  <thead>\n",
       "    <tr style=\"text-align: right;\">\n",
       "      <th></th>\n",
       "      <th>Country Code</th>\n",
       "      <th>Indicator Name</th>\n",
       "      <th>1960</th>\n",
       "      <th>1961</th>\n",
       "      <th>1962</th>\n",
       "      <th>1963</th>\n",
       "      <th>1964</th>\n",
       "      <th>1965</th>\n",
       "      <th>1966</th>\n",
       "      <th>1967</th>\n",
       "      <th>...</th>\n",
       "      <th>2016</th>\n",
       "      <th>2017</th>\n",
       "      <th>2018</th>\n",
       "      <th>2019</th>\n",
       "      <th>2020</th>\n",
       "      <th>2021</th>\n",
       "      <th>2022</th>\n",
       "      <th>2023</th>\n",
       "      <th>2024</th>\n",
       "      <th>Unnamed: 69</th>\n",
       "    </tr>\n",
       "  </thead>\n",
       "  <tbody>\n",
       "    <tr>\n",
       "      <th>0</th>\n",
       "      <td>ABW</td>\n",
       "      <td>Current health expenditure (% of GDP)</td>\n",
       "      <td>NaN</td>\n",
       "      <td>NaN</td>\n",
       "      <td>NaN</td>\n",
       "      <td>NaN</td>\n",
       "      <td>NaN</td>\n",
       "      <td>NaN</td>\n",
       "      <td>NaN</td>\n",
       "      <td>NaN</td>\n",
       "      <td>...</td>\n",
       "      <td>NaN</td>\n",
       "      <td>NaN</td>\n",
       "      <td>NaN</td>\n",
       "      <td>NaN</td>\n",
       "      <td>NaN</td>\n",
       "      <td>NaN</td>\n",
       "      <td>NaN</td>\n",
       "      <td>NaN</td>\n",
       "      <td>NaN</td>\n",
       "      <td>NaN</td>\n",
       "    </tr>\n",
       "    <tr>\n",
       "      <th>1</th>\n",
       "      <td>AFE</td>\n",
       "      <td>Current health expenditure (% of GDP)</td>\n",
       "      <td>NaN</td>\n",
       "      <td>NaN</td>\n",
       "      <td>NaN</td>\n",
       "      <td>NaN</td>\n",
       "      <td>NaN</td>\n",
       "      <td>NaN</td>\n",
       "      <td>NaN</td>\n",
       "      <td>NaN</td>\n",
       "      <td>...</td>\n",
       "      <td>6.06777</td>\n",
       "      <td>5.928989</td>\n",
       "      <td>5.789177</td>\n",
       "      <td>5.812624</td>\n",
       "      <td>6.035792</td>\n",
       "      <td>6.043925</td>\n",
       "      <td>5.728123</td>\n",
       "      <td>NaN</td>\n",
       "      <td>NaN</td>\n",
       "      <td>NaN</td>\n",
       "    </tr>\n",
       "  </tbody>\n",
       "</table>\n",
       "<p>2 rows × 68 columns</p>\n",
       "</div>"
      ],
      "text/plain": [
       "  Country Code                         Indicator Name  1960  1961  1962  1963  \\\n",
       "0          ABW  Current health expenditure (% of GDP)   NaN   NaN   NaN   NaN   \n",
       "1          AFE  Current health expenditure (% of GDP)   NaN   NaN   NaN   NaN   \n",
       "\n",
       "   1964  1965  1966  1967  ...     2016      2017      2018      2019  \\\n",
       "0   NaN   NaN   NaN   NaN  ...      NaN       NaN       NaN       NaN   \n",
       "1   NaN   NaN   NaN   NaN  ...  6.06777  5.928989  5.789177  5.812624   \n",
       "\n",
       "       2020      2021      2022  2023  2024  Unnamed: 69  \n",
       "0       NaN       NaN       NaN   NaN   NaN          NaN  \n",
       "1  6.035792  6.043925  5.728123   NaN   NaN          NaN  \n",
       "\n",
       "[2 rows x 68 columns]"
      ]
     },
     "execution_count": 10,
     "metadata": {},
     "output_type": "execute_result"
    }
   ],
   "source": [
    "df_health = pd.read_csv(f\"{data_folder}/health_expenditure_raw.csv\", skiprows=4)\n",
    "df_health = df_health.drop(['Country Name', 'Indicator Code'], axis='columns')\n",
    "df_health.head(2)"
   ]
  },
  {
   "cell_type": "code",
   "execution_count": 11,
   "id": "0d78d56b-33fb-47fa-b9ed-f6f16b451d8c",
   "metadata": {},
   "outputs": [
    {
     "data": {
      "text/html": [
       "<div>\n",
       "<style scoped>\n",
       "    .dataframe tbody tr th:only-of-type {\n",
       "        vertical-align: middle;\n",
       "    }\n",
       "\n",
       "    .dataframe tbody tr th {\n",
       "        vertical-align: top;\n",
       "    }\n",
       "\n",
       "    .dataframe thead th {\n",
       "        text-align: right;\n",
       "    }\n",
       "</style>\n",
       "<table border=\"1\" class=\"dataframe\">\n",
       "  <thead>\n",
       "    <tr style=\"text-align: right;\">\n",
       "      <th></th>\n",
       "      <th>Country Code</th>\n",
       "      <th>Indicator Name</th>\n",
       "      <th>date</th>\n",
       "      <th>healthexp_gdp</th>\n",
       "    </tr>\n",
       "  </thead>\n",
       "  <tbody>\n",
       "    <tr>\n",
       "      <th>0</th>\n",
       "      <td>ABW</td>\n",
       "      <td>Current health expenditure (% of GDP)</td>\n",
       "      <td>1960</td>\n",
       "      <td>NaN</td>\n",
       "    </tr>\n",
       "    <tr>\n",
       "      <th>1</th>\n",
       "      <td>AFE</td>\n",
       "      <td>Current health expenditure (% of GDP)</td>\n",
       "      <td>1960</td>\n",
       "      <td>NaN</td>\n",
       "    </tr>\n",
       "  </tbody>\n",
       "</table>\n",
       "</div>"
      ],
      "text/plain": [
       "  Country Code                         Indicator Name  date  healthexp_gdp\n",
       "0          ABW  Current health expenditure (% of GDP)  1960            NaN\n",
       "1          AFE  Current health expenditure (% of GDP)  1960            NaN"
      ]
     },
     "execution_count": 11,
     "metadata": {},
     "output_type": "execute_result"
    }
   ],
   "source": [
    "df_health_long = df_health.melt(id_vars = ['Country Code', 'Indicator Name'], value_name = 'healthexp_gdp', var_name = 'date')\n",
    "df_health_long.head(2)"
   ]
  },
  {
   "cell_type": "code",
   "execution_count": 12,
   "id": "9133117f-eba8-49a0-a78a-964efc9fdec0",
   "metadata": {},
   "outputs": [
    {
     "data": {
      "text/html": [
       "<div>\n",
       "<style scoped>\n",
       "    .dataframe tbody tr th:only-of-type {\n",
       "        vertical-align: middle;\n",
       "    }\n",
       "\n",
       "    .dataframe tbody tr th {\n",
       "        vertical-align: top;\n",
       "    }\n",
       "\n",
       "    .dataframe thead th {\n",
       "        text-align: right;\n",
       "    }\n",
       "</style>\n",
       "<table border=\"1\" class=\"dataframe\">\n",
       "  <thead>\n",
       "    <tr style=\"text-align: right;\">\n",
       "      <th></th>\n",
       "      <th>Country Code</th>\n",
       "      <th>Indicator Name</th>\n",
       "      <th>date</th>\n",
       "      <th>healthexp_gdp</th>\n",
       "    </tr>\n",
       "  </thead>\n",
       "  <tbody>\n",
       "    <tr>\n",
       "      <th>0</th>\n",
       "      <td>ABW</td>\n",
       "      <td>Current health expenditure (% of GDP)</td>\n",
       "      <td>1960</td>\n",
       "      <td>NaN</td>\n",
       "    </tr>\n",
       "    <tr>\n",
       "      <th>1</th>\n",
       "      <td>AFE</td>\n",
       "      <td>Current health expenditure (% of GDP)</td>\n",
       "      <td>1960</td>\n",
       "      <td>NaN</td>\n",
       "    </tr>\n",
       "  </tbody>\n",
       "</table>\n",
       "</div>"
      ],
      "text/plain": [
       "  Country Code                         Indicator Name  date  healthexp_gdp\n",
       "0          ABW  Current health expenditure (% of GDP)  1960            NaN\n",
       "1          AFE  Current health expenditure (% of GDP)  1960            NaN"
      ]
     },
     "execution_count": 12,
     "metadata": {},
     "output_type": "execute_result"
    }
   ],
   "source": [
    "df_health_long = df_health_long.query(\"date !='Unnamed: 69'\")\n",
    "df_health_long.head(2)"
   ]
  },
  {
   "cell_type": "code",
   "execution_count": 13,
   "id": "d9632c1b-1c60-45c4-8b16-247f852bfe99",
   "metadata": {},
   "outputs": [
    {
     "data": {
      "text/html": [
       "<div>\n",
       "<style scoped>\n",
       "    .dataframe tbody tr th:only-of-type {\n",
       "        vertical-align: middle;\n",
       "    }\n",
       "\n",
       "    .dataframe tbody tr th {\n",
       "        vertical-align: top;\n",
       "    }\n",
       "\n",
       "    .dataframe thead th {\n",
       "        text-align: right;\n",
       "    }\n",
       "</style>\n",
       "<table border=\"1\" class=\"dataframe\">\n",
       "  <thead>\n",
       "    <tr style=\"text-align: right;\">\n",
       "      <th></th>\n",
       "      <th>Country Code</th>\n",
       "      <th>Indicator Name</th>\n",
       "      <th>date</th>\n",
       "      <th>healthexp_gdp</th>\n",
       "    </tr>\n",
       "  </thead>\n",
       "  <tbody>\n",
       "    <tr>\n",
       "      <th>0</th>\n",
       "      <td>ABW</td>\n",
       "      <td>Current health expenditure (% of GDP)</td>\n",
       "      <td>1960</td>\n",
       "      <td>NaN</td>\n",
       "    </tr>\n",
       "    <tr>\n",
       "      <th>1</th>\n",
       "      <td>AFE</td>\n",
       "      <td>Current health expenditure (% of GDP)</td>\n",
       "      <td>1960</td>\n",
       "      <td>NaN</td>\n",
       "    </tr>\n",
       "  </tbody>\n",
       "</table>\n",
       "</div>"
      ],
      "text/plain": [
       "  Country Code                         Indicator Name  date  healthexp_gdp\n",
       "0          ABW  Current health expenditure (% of GDP)  1960            NaN\n",
       "1          AFE  Current health expenditure (% of GDP)  1960            NaN"
      ]
     },
     "execution_count": 13,
     "metadata": {},
     "output_type": "execute_result"
    }
   ],
   "source": [
    "df_health_long['date'] = df_health_long['date'].astype(int)\n",
    "df_health_long.head(2)"
   ]
  },
  {
   "cell_type": "code",
   "execution_count": 14,
   "id": "2bafdab3-66f7-4092-b057-2a2278249faa",
   "metadata": {},
   "outputs": [
    {
     "data": {
      "text/html": [
       "<div>\n",
       "<style scoped>\n",
       "    .dataframe tbody tr th:only-of-type {\n",
       "        vertical-align: middle;\n",
       "    }\n",
       "\n",
       "    .dataframe tbody tr th {\n",
       "        vertical-align: top;\n",
       "    }\n",
       "\n",
       "    .dataframe thead th {\n",
       "        text-align: right;\n",
       "    }\n",
       "</style>\n",
       "<table border=\"1\" class=\"dataframe\">\n",
       "  <thead>\n",
       "    <tr style=\"text-align: right;\">\n",
       "      <th></th>\n",
       "      <th></th>\n",
       "      <th>healthexp_gdp</th>\n",
       "    </tr>\n",
       "    <tr>\n",
       "      <th>Country Code</th>\n",
       "      <th>date</th>\n",
       "      <th></th>\n",
       "    </tr>\n",
       "  </thead>\n",
       "  <tbody>\n",
       "    <tr>\n",
       "      <th>ABW</th>\n",
       "      <th>1960</th>\n",
       "      <td>NaN</td>\n",
       "    </tr>\n",
       "    <tr>\n",
       "      <th>AFE</th>\n",
       "      <th>1960</th>\n",
       "      <td>NaN</td>\n",
       "    </tr>\n",
       "  </tbody>\n",
       "</table>\n",
       "</div>"
      ],
      "text/plain": [
       "                   healthexp_gdp\n",
       "Country Code date               \n",
       "ABW          1960            NaN\n",
       "AFE          1960            NaN"
      ]
     },
     "execution_count": 14,
     "metadata": {},
     "output_type": "execute_result"
    }
   ],
   "source": [
    "df_health_long = df_health_long.set_index(['Country Code', 'date']).drop(['Indicator Name'], axis='columns')\n",
    "df_health_long.head(2)"
   ]
  },
  {
   "cell_type": "code",
   "execution_count": 15,
   "id": "248d1603-9f32-43d0-841a-9da6e8f7fb3d",
   "metadata": {},
   "outputs": [
    {
     "data": {
      "text/html": [
       "<div>\n",
       "<style scoped>\n",
       "    .dataframe tbody tr th:only-of-type {\n",
       "        vertical-align: middle;\n",
       "    }\n",
       "\n",
       "    .dataframe tbody tr th {\n",
       "        vertical-align: top;\n",
       "    }\n",
       "\n",
       "    .dataframe thead th {\n",
       "        text-align: right;\n",
       "    }\n",
       "</style>\n",
       "<table border=\"1\" class=\"dataframe\">\n",
       "  <thead>\n",
       "    <tr style=\"text-align: right;\">\n",
       "      <th></th>\n",
       "      <th></th>\n",
       "      <th>healthexp_gdp</th>\n",
       "    </tr>\n",
       "    <tr>\n",
       "      <th>Country Code</th>\n",
       "      <th>date</th>\n",
       "      <th></th>\n",
       "    </tr>\n",
       "  </thead>\n",
       "  <tbody>\n",
       "    <tr>\n",
       "      <th rowspan=\"2\" valign=\"top\">ABW</th>\n",
       "      <th>1960</th>\n",
       "      <td>NaN</td>\n",
       "    </tr>\n",
       "    <tr>\n",
       "      <th>1961</th>\n",
       "      <td>NaN</td>\n",
       "    </tr>\n",
       "  </tbody>\n",
       "</table>\n",
       "</div>"
      ],
      "text/plain": [
       "                   healthexp_gdp\n",
       "Country Code date               \n",
       "ABW          1960            NaN\n",
       "             1961            NaN"
      ]
     },
     "execution_count": 15,
     "metadata": {},
     "output_type": "execute_result"
    }
   ],
   "source": [
    "df_health_long = df_health_long.sort_index()\n",
    "df_health_long.head(2)"
   ]
  },
  {
   "cell_type": "code",
   "execution_count": 16,
   "id": "f8c10d02-ab05-4b6b-bf28-573d0d6a8526",
   "metadata": {},
   "outputs": [
    {
     "data": {
      "text/plain": [
       "np.int64(11827)"
      ]
     },
     "execution_count": 16,
     "metadata": {},
     "output_type": "execute_result"
    }
   ],
   "source": [
    "df_health_long['healthexp_gdp'].isna().sum()"
   ]
  },
  {
   "cell_type": "markdown",
   "id": "177d36b3-d90a-442f-8872-05d583be0269",
   "metadata": {},
   "source": [
    "### A.2.2 forward fill"
   ]
  },
  {
   "cell_type": "code",
   "execution_count": 17,
   "id": "8975c349-17cf-4234-a09b-7e139bb8992a",
   "metadata": {},
   "outputs": [
    {
     "data": {
      "text/html": [
       "<div>\n",
       "<style scoped>\n",
       "    .dataframe tbody tr th:only-of-type {\n",
       "        vertical-align: middle;\n",
       "    }\n",
       "\n",
       "    .dataframe tbody tr th {\n",
       "        vertical-align: top;\n",
       "    }\n",
       "\n",
       "    .dataframe thead th {\n",
       "        text-align: right;\n",
       "    }\n",
       "</style>\n",
       "<table border=\"1\" class=\"dataframe\">\n",
       "  <thead>\n",
       "    <tr style=\"text-align: right;\">\n",
       "      <th></th>\n",
       "      <th>country</th>\n",
       "      <th>date</th>\n",
       "      <th>healthexp_gdp</th>\n",
       "    </tr>\n",
       "  </thead>\n",
       "  <tbody>\n",
       "    <tr>\n",
       "      <th>0</th>\n",
       "      <td>ABW</td>\n",
       "      <td>1960</td>\n",
       "      <td>NaN</td>\n",
       "    </tr>\n",
       "    <tr>\n",
       "      <th>1</th>\n",
       "      <td>ABW</td>\n",
       "      <td>1961</td>\n",
       "      <td>NaN</td>\n",
       "    </tr>\n",
       "  </tbody>\n",
       "</table>\n",
       "</div>"
      ],
      "text/plain": [
       "  country  date  healthexp_gdp\n",
       "0     ABW  1960            NaN\n",
       "1     ABW  1961            NaN"
      ]
     },
     "execution_count": 17,
     "metadata": {},
     "output_type": "execute_result"
    }
   ],
   "source": [
    "df_heal = df_health_long.reset_index().rename({\"Country Code\" : 'country'}, axis='columns')\n",
    "df_heal.head(2)"
   ]
  },
  {
   "cell_type": "markdown",
   "id": "a0839834-20b5-474b-96ee-8223614b1ad9",
   "metadata": {},
   "source": [
    "### One country: easy"
   ]
  },
  {
   "cell_type": "code",
   "execution_count": 18,
   "id": "13a6abf1-4ae6-4ceb-abb4-1a77c76fb5dd",
   "metadata": {},
   "outputs": [
    {
     "data": {
      "text/html": [
       "<div>\n",
       "<style scoped>\n",
       "    .dataframe tbody tr th:only-of-type {\n",
       "        vertical-align: middle;\n",
       "    }\n",
       "\n",
       "    .dataframe tbody tr th {\n",
       "        vertical-align: top;\n",
       "    }\n",
       "\n",
       "    .dataframe thead th {\n",
       "        text-align: right;\n",
       "    }\n",
       "</style>\n",
       "<table border=\"1\" class=\"dataframe\">\n",
       "  <thead>\n",
       "    <tr style=\"text-align: right;\">\n",
       "      <th></th>\n",
       "      <th>country</th>\n",
       "      <th>date</th>\n",
       "      <th>healthexp_gdp</th>\n",
       "    </tr>\n",
       "  </thead>\n",
       "  <tbody>\n",
       "    <tr>\n",
       "      <th>17221</th>\n",
       "      <td>ZMB</td>\n",
       "      <td>2021</td>\n",
       "      <td>6.639514</td>\n",
       "    </tr>\n",
       "    <tr>\n",
       "      <th>17222</th>\n",
       "      <td>ZMB</td>\n",
       "      <td>2022</td>\n",
       "      <td>5.255923</td>\n",
       "    </tr>\n",
       "    <tr>\n",
       "      <th>17223</th>\n",
       "      <td>ZMB</td>\n",
       "      <td>2023</td>\n",
       "      <td>NaN</td>\n",
       "    </tr>\n",
       "    <tr>\n",
       "      <th>17224</th>\n",
       "      <td>ZMB</td>\n",
       "      <td>2024</td>\n",
       "      <td>NaN</td>\n",
       "    </tr>\n",
       "  </tbody>\n",
       "</table>\n",
       "</div>"
      ],
      "text/plain": [
       "      country  date  healthexp_gdp\n",
       "17221     ZMB  2021       6.639514\n",
       "17222     ZMB  2022       5.255923\n",
       "17223     ZMB  2023            NaN\n",
       "17224     ZMB  2024            NaN"
      ]
     },
     "execution_count": 18,
     "metadata": {},
     "output_type": "execute_result"
    }
   ],
   "source": [
    "df_zmb = df_heal.query(\"country == 'ZMB'\").tail(4)\n",
    "df_zmb"
   ]
  },
  {
   "cell_type": "code",
   "execution_count": 19,
   "id": "31fb2802-3593-4a8e-bb56-9ced39513ad5",
   "metadata": {},
   "outputs": [
    {
     "data": {
      "text/html": [
       "<div>\n",
       "<style scoped>\n",
       "    .dataframe tbody tr th:only-of-type {\n",
       "        vertical-align: middle;\n",
       "    }\n",
       "\n",
       "    .dataframe tbody tr th {\n",
       "        vertical-align: top;\n",
       "    }\n",
       "\n",
       "    .dataframe thead th {\n",
       "        text-align: right;\n",
       "    }\n",
       "</style>\n",
       "<table border=\"1\" class=\"dataframe\">\n",
       "  <thead>\n",
       "    <tr style=\"text-align: right;\">\n",
       "      <th></th>\n",
       "      <th>country</th>\n",
       "      <th>date</th>\n",
       "      <th>healthexp_gdp</th>\n",
       "    </tr>\n",
       "  </thead>\n",
       "  <tbody>\n",
       "    <tr>\n",
       "      <th>17221</th>\n",
       "      <td>ZMB</td>\n",
       "      <td>2021</td>\n",
       "      <td>6.639514</td>\n",
       "    </tr>\n",
       "    <tr>\n",
       "      <th>17222</th>\n",
       "      <td>ZMB</td>\n",
       "      <td>2022</td>\n",
       "      <td>5.255923</td>\n",
       "    </tr>\n",
       "    <tr>\n",
       "      <th>17223</th>\n",
       "      <td>ZMB</td>\n",
       "      <td>2023</td>\n",
       "      <td>5.255923</td>\n",
       "    </tr>\n",
       "    <tr>\n",
       "      <th>17224</th>\n",
       "      <td>ZMB</td>\n",
       "      <td>2024</td>\n",
       "      <td>5.255923</td>\n",
       "    </tr>\n",
       "  </tbody>\n",
       "</table>\n",
       "</div>"
      ],
      "text/plain": [
       "      country  date  healthexp_gdp\n",
       "17221     ZMB  2021       6.639514\n",
       "17222     ZMB  2022       5.255923\n",
       "17223     ZMB  2023       5.255923\n",
       "17224     ZMB  2024       5.255923"
      ]
     },
     "execution_count": 19,
     "metadata": {},
     "output_type": "execute_result"
    }
   ],
   "source": [
    "df_zmb['healthexp_gdp'] = df_zmb['healthexp_gdp'].ffill()\n",
    "df_zmb"
   ]
  },
  {
   "cell_type": "markdown",
   "id": "b79d121a-5ca1-431b-b3a6-1537cf9e0c70",
   "metadata": {},
   "source": [
    "### Multiple countries: group by"
   ]
  },
  {
   "cell_type": "code",
   "execution_count": 20,
   "id": "b734def8-d01b-4d8c-826e-04f9a7539efc",
   "metadata": {},
   "outputs": [
    {
     "data": {
      "text/plain": [
       "np.int64(11827)"
      ]
     },
     "execution_count": 20,
     "metadata": {},
     "output_type": "execute_result"
    }
   ],
   "source": [
    "df_heal['healthexp_gdp'].isna().sum()"
   ]
  },
  {
   "cell_type": "code",
   "execution_count": 21,
   "id": "510932cd-dd0f-4e40-aa09-b5d5052c875c",
   "metadata": {},
   "outputs": [
    {
     "data": {
      "text/plain": [
       "np.int64(11367)"
      ]
     },
     "execution_count": 21,
     "metadata": {},
     "output_type": "execute_result"
    }
   ],
   "source": [
    "df_heal['healthexp_gdp'] = df_heal.groupby(['country'])['healthexp_gdp'].ffill()\n",
    "df_heal['healthexp_gdp'].isna().sum()"
   ]
  },
  {
   "cell_type": "markdown",
   "id": "8068ae19-79f2-4a47-9e9c-711a80a8caec",
   "metadata": {},
   "source": [
    "# 1. Regression"
   ]
  },
  {
   "cell_type": "code",
   "execution_count": 22,
   "id": "8b697278-1467-4cf5-9355-4bc35fbe8da0",
   "metadata": {},
   "outputs": [
    {
     "data": {
      "text/html": [
       "<div>\n",
       "<style scoped>\n",
       "    .dataframe tbody tr th:only-of-type {\n",
       "        vertical-align: middle;\n",
       "    }\n",
       "\n",
       "    .dataframe tbody tr th {\n",
       "        vertical-align: top;\n",
       "    }\n",
       "\n",
       "    .dataframe thead th {\n",
       "        text-align: right;\n",
       "    }\n",
       "</style>\n",
       "<table border=\"1\" class=\"dataframe\">\n",
       "  <thead>\n",
       "    <tr style=\"text-align: right;\">\n",
       "      <th></th>\n",
       "      <th>country</th>\n",
       "      <th>year</th>\n",
       "      <th>v2x_frassoc_thick</th>\n",
       "      <th>NGDPDPC</th>\n",
       "      <th>NGDP_RPCH</th>\n",
       "      <th>v2x_pubcorr</th>\n",
       "      <th>v2xnp_regcorr</th>\n",
       "      <th>v2xel_frefair</th>\n",
       "      <th>v2x_freexp</th>\n",
       "      <th>v2elembcap</th>\n",
       "    </tr>\n",
       "  </thead>\n",
       "  <tbody>\n",
       "    <tr>\n",
       "      <th>0</th>\n",
       "      <td>AFG</td>\n",
       "      <td>1990</td>\n",
       "      <td>0.063</td>\n",
       "      <td>NaN</td>\n",
       "      <td>NaN</td>\n",
       "      <td>0.556</td>\n",
       "      <td>0.538</td>\n",
       "      <td>0.069</td>\n",
       "      <td>0.085</td>\n",
       "      <td>-1.65</td>\n",
       "    </tr>\n",
       "    <tr>\n",
       "      <th>1</th>\n",
       "      <td>AFG</td>\n",
       "      <td>1991</td>\n",
       "      <td>0.068</td>\n",
       "      <td>NaN</td>\n",
       "      <td>NaN</td>\n",
       "      <td>0.556</td>\n",
       "      <td>0.538</td>\n",
       "      <td>0.069</td>\n",
       "      <td>0.074</td>\n",
       "      <td>-1.65</td>\n",
       "    </tr>\n",
       "  </tbody>\n",
       "</table>\n",
       "</div>"
      ],
      "text/plain": [
       "  country  year  v2x_frassoc_thick  NGDPDPC  NGDP_RPCH  v2x_pubcorr  \\\n",
       "0     AFG  1990              0.063      NaN        NaN        0.556   \n",
       "1     AFG  1991              0.068      NaN        NaN        0.556   \n",
       "\n",
       "   v2xnp_regcorr  v2xel_frefair  v2x_freexp  v2elembcap  \n",
       "0          0.538          0.069       0.085       -1.65  \n",
       "1          0.538          0.069       0.074       -1.65  "
      ]
     },
     "execution_count": 22,
     "metadata": {},
     "output_type": "execute_result"
    }
   ],
   "source": [
    "data_folder = '../../data/examples/module_3'\n",
    "os.listdir(data_folder)\n",
    "df = pd.read_csv(f\"{data_folder}/democracy_gdp.csv\")\n",
    "df.head(2)"
   ]
  },
  {
   "cell_type": "markdown",
   "id": "44e66e0a-7fd0-45f9-8a5a-537fcd7eb9fb",
   "metadata": {},
   "source": [
    "## 1.1 Basic regression"
   ]
  },
  {
   "cell_type": "code",
   "execution_count": 23,
   "id": "3267bba5-36c2-4339-8314-a045b6de5ed2",
   "metadata": {},
   "outputs": [
    {
     "data": {
      "text/html": [
       "<div>\n",
       "<style scoped>\n",
       "    .dataframe tbody tr th:only-of-type {\n",
       "        vertical-align: middle;\n",
       "    }\n",
       "\n",
       "    .dataframe tbody tr th {\n",
       "        vertical-align: top;\n",
       "    }\n",
       "\n",
       "    .dataframe thead th {\n",
       "        text-align: right;\n",
       "    }\n",
       "</style>\n",
       "<table border=\"1\" class=\"dataframe\">\n",
       "  <thead>\n",
       "    <tr style=\"text-align: right;\">\n",
       "      <th></th>\n",
       "      <th>country</th>\n",
       "      <th>year</th>\n",
       "      <th>NGDPDPC</th>\n",
       "      <th>v2x_freexp</th>\n",
       "    </tr>\n",
       "  </thead>\n",
       "  <tbody>\n",
       "    <tr>\n",
       "      <th>105</th>\n",
       "      <td>Asia (avg)</td>\n",
       "      <td>1990</td>\n",
       "      <td>3749.756571</td>\n",
       "      <td>0.424697</td>\n",
       "    </tr>\n",
       "    <tr>\n",
       "      <th>106</th>\n",
       "      <td>Asia (avg)</td>\n",
       "      <td>1991</td>\n",
       "      <td>4234.663571</td>\n",
       "      <td>0.444273</td>\n",
       "    </tr>\n",
       "  </tbody>\n",
       "</table>\n",
       "</div>"
      ],
      "text/plain": [
       "        country  year      NGDPDPC  v2x_freexp\n",
       "105  Asia (avg)  1990  3749.756571    0.424697\n",
       "106  Asia (avg)  1991  4234.663571    0.444273"
      ]
     },
     "execution_count": 23,
     "metadata": {},
     "output_type": "execute_result"
    }
   ],
   "source": [
    "df_regression = df[['country', 'year','NGDPDPC', 'v2x_freexp']].dropna()\n",
    "df_regression.head(2)"
   ]
  },
  {
   "cell_type": "markdown",
   "id": "9fa1e3f8-80a3-4681-b920-78290864a4f7",
   "metadata": {},
   "source": [
    "### 1.1.1 Always scatter"
   ]
  },
  {
   "cell_type": "code",
   "execution_count": 24,
   "id": "9b022c28-88a4-49a9-9a1d-fdb9098e5e08",
   "metadata": {},
   "outputs": [
    {
     "data": {
      "text/plain": [
       "<Axes: xlabel='v2x_freexp', ylabel='NGDPDPC'>"
      ]
     },
     "execution_count": 24,
     "metadata": {},
     "output_type": "execute_result"
    },
    {
     "data": {
      "image/png": "[encoded data removed]",
      "text/plain": [
       "<Figure size 640x480 with 1 Axes>"
      ]
     },
     "metadata": {},
     "output_type": "display_data"
    }
   ],
   "source": [
    "import seaborn as sns\n",
    "sns.scatterplot(\n",
    "    data = df_regression,\n",
    "    y = 'NGDPDPC',\n",
    "    x = 'v2x_freexp',\n",
    "    hue = 'country'\n",
    ")"
   ]
  },
  {
   "cell_type": "markdown",
   "id": "edcc2d75-5702-406b-8df7-377bc251320b",
   "metadata": {},
   "source": [
    "### 1.1.2 Scatter"
   ]
  },
  {
   "cell_type": "code",
   "execution_count": 25,
   "id": "8a550070-b596-400e-8af3-8b4b3d51d98a",
   "metadata": {},
   "outputs": [],
   "source": [
    "y_col = 'NGDPDPC'\n",
    "x_col = 'v2x_freexp'\n",
    "x = df_regression[x_col]\n",
    "y = df_regression[y_col]"
   ]
  },
  {
   "cell_type": "code",
   "execution_count": 26,
   "id": "009819bf-48ea-42b0-ba8a-3da36c02334f",
   "metadata": {},
   "outputs": [
    {
     "data": {
      "text/html": [
       "<table class=\"simpletable\">\n",
       "<caption>OLS Regression Results</caption>\n",
       "<tr>\n",
       "  <th>Dep. Variable:</th>         <td>NGDPDPC</td>     <th>  R-squared (uncentered):</th>      <td>   0.848</td> \n",
       "</tr>\n",
       "<tr>\n",
       "  <th>Model:</th>                   <td>OLS</td>       <th>  Adj. R-squared (uncentered):</th> <td>   0.848</td> \n",
       "</tr>\n",
       "<tr>\n",
       "  <th>Method:</th>             <td>Least Squares</td>  <th>  F-statistic:       </th>          <td>2.525e+04</td>\n",
       "</tr>\n",
       "<tr>\n",
       "  <th>Date:</th>             <td>Mon, 26 May 2025</td> <th>  Prob (F-statistic):</th>           <td>  0.00</td>  \n",
       "</tr>\n",
       "<tr>\n",
       "  <th>Time:</th>                 <td>07:48:26</td>     <th>  Log-Likelihood:    </th>          <td> -47310.</td> \n",
       "</tr>\n",
       "<tr>\n",
       "  <th>No. Observations:</th>      <td>  4515</td>      <th>  AIC:               </th>          <td>9.462e+04</td>\n",
       "</tr>\n",
       "<tr>\n",
       "  <th>Df Residuals:</th>          <td>  4514</td>      <th>  BIC:               </th>          <td>9.463e+04</td>\n",
       "</tr>\n",
       "<tr>\n",
       "  <th>Df Model:</th>              <td>     1</td>      <th>                     </th>              <td> </td>    \n",
       "</tr>\n",
       "<tr>\n",
       "  <th>Covariance Type:</th>      <td>nonrobust</td>    <th>                     </th>              <td> </td>    \n",
       "</tr>\n",
       "</table>\n",
       "<table class=\"simpletable\">\n",
       "<tr>\n",
       "       <td></td>         <th>coef</th>     <th>std err</th>      <th>t</th>      <th>P>|t|</th>  <th>[0.025</th>    <th>0.975]</th>  \n",
       "</tr>\n",
       "<tr>\n",
       "  <th>v2x_freexp</th> <td> 2.353e+04</td> <td>  148.063</td> <td>  158.899</td> <td> 0.000</td> <td> 2.32e+04</td> <td> 2.38e+04</td>\n",
       "</tr>\n",
       "</table>\n",
       "<table class=\"simpletable\">\n",
       "<tr>\n",
       "  <th>Omnibus:</th>       <td>1140.004</td> <th>  Durbin-Watson:     </th> <td>   0.003</td>\n",
       "</tr>\n",
       "<tr>\n",
       "  <th>Prob(Omnibus):</th>  <td> 0.000</td>  <th>  Jarque-Bera (JB):  </th> <td> 362.912</td>\n",
       "</tr>\n",
       "<tr>\n",
       "  <th>Skew:</th>           <td> 0.486</td>  <th>  Prob(JB):          </th> <td>1.57e-79</td>\n",
       "</tr>\n",
       "<tr>\n",
       "  <th>Kurtosis:</th>       <td> 2.008</td>  <th>  Cond. No.          </th> <td>    1.00</td>\n",
       "</tr>\n",
       "</table><br/><br/>Notes:<br/>[1] R² is computed without centering (uncentered) since the model does not contain a constant.<br/>[2] Standard Errors assume that the covariance matrix of the errors is correctly specified."
      ],
      "text/latex": [
       "\\begin{center}\n",
       "\\begin{tabular}{lclc}\n",
       "\\toprule\n",
       "\\textbf{Dep. Variable:}    &     NGDPDPC      & \\textbf{  R-squared (uncentered):}      &     0.848   \\\\\n",
       "\\textbf{Model:}            &       OLS        & \\textbf{  Adj. R-squared (uncentered):} &     0.848   \\\\\n",
       "\\textbf{Method:}           &  Least Squares   & \\textbf{  F-statistic:       }          & 2.525e+04   \\\\\n",
       "\\textbf{Date:}             & Mon, 26 May 2025 & \\textbf{  Prob (F-statistic):}          &     0.00    \\\\\n",
       "\\textbf{Time:}             &     07:48:26     & \\textbf{  Log-Likelihood:    }          &   -47310.   \\\\\n",
       "\\textbf{No. Observations:} &        4515      & \\textbf{  AIC:               }          & 9.462e+04   \\\\\n",
       "\\textbf{Df Residuals:}     &        4514      & \\textbf{  BIC:               }          & 9.463e+04   \\\\\n",
       "\\textbf{Df Model:}         &           1      & \\textbf{                     }          &             \\\\\n",
       "\\textbf{Covariance Type:}  &    nonrobust     & \\textbf{                     }          &             \\\\\n",
       "\\bottomrule\n",
       "\\end{tabular}\n",
       "\\begin{tabular}{lcccccc}\n",
       "                     & \\textbf{coef} & \\textbf{std err} & \\textbf{t} & \\textbf{P$> |$t$|$} & \\textbf{[0.025} & \\textbf{0.975]}  \\\\\n",
       "\\midrule\n",
       "\\textbf{v2x\\_freexp} &    2.353e+04  &      148.063     &   158.899  &         0.000        &     2.32e+04    &     2.38e+04     \\\\\n",
       "\\bottomrule\n",
       "\\end{tabular}\n",
       "\\begin{tabular}{lclc}\n",
       "\\textbf{Omnibus:}       & 1140.004 & \\textbf{  Durbin-Watson:     } &    0.003  \\\\\n",
       "\\textbf{Prob(Omnibus):} &   0.000  & \\textbf{  Jarque-Bera (JB):  } &  362.912  \\\\\n",
       "\\textbf{Skew:}          &   0.486  & \\textbf{  Prob(JB):          } & 1.57e-79  \\\\\n",
       "\\textbf{Kurtosis:}      &   2.008  & \\textbf{  Cond. No.          } &     1.00  \\\\\n",
       "\\bottomrule\n",
       "\\end{tabular}\n",
       "%\\caption{OLS Regression Results}\n",
       "\\end{center}\n",
       "\n",
       "Notes: \\newline\n",
       " [1] R² is computed without centering (uncentered) since the model does not contain a constant. \\newline\n",
       " [2] Standard Errors assume that the covariance matrix of the errors is correctly specified."
      ],
      "text/plain": [
       "<class 'statsmodels.iolib.summary.Summary'>\n",
       "\"\"\"\n",
       "                                 OLS Regression Results                                \n",
       "=======================================================================================\n",
       "Dep. Variable:                NGDPDPC   R-squared (uncentered):                   0.848\n",
       "Model:                            OLS   Adj. R-squared (uncentered):              0.848\n",
       "Method:                 Least Squares   F-statistic:                          2.525e+04\n",
       "Date:                Mon, 26 May 2025   Prob (F-statistic):                        0.00\n",
       "Time:                        07:48:26   Log-Likelihood:                         -47310.\n",
       "No. Observations:                4515   AIC:                                  9.462e+04\n",
       "Df Residuals:                    4514   BIC:                                  9.463e+04\n",
       "Df Model:                           1                                                  \n",
       "Covariance Type:            nonrobust                                                  \n",
       "==============================================================================\n",
       "                 coef    std err          t      P>|t|      [0.025      0.975]\n",
       "------------------------------------------------------------------------------\n",
       "v2x_freexp  2.353e+04    148.063    158.899      0.000    2.32e+04    2.38e+04\n",
       "==============================================================================\n",
       "Omnibus:                     1140.004   Durbin-Watson:                   0.003\n",
       "Prob(Omnibus):                  0.000   Jarque-Bera (JB):              362.912\n",
       "Skew:                           0.486   Prob(JB):                     1.57e-79\n",
       "Kurtosis:                       2.008   Cond. No.                         1.00\n",
       "==============================================================================\n",
       "\n",
       "Notes:\n",
       "[1] R² is computed without centering (uncentered) since the model does not contain a constant.\n",
       "[2] Standard Errors assume that the covariance matrix of the errors is correctly specified.\n",
       "\"\"\""
      ]
     },
     "execution_count": 26,
     "metadata": {},
     "output_type": "execute_result"
    }
   ],
   "source": [
    "import statsmodels.api as sm\n",
    "reg = sm.OLS(y, x).fit()\n",
    "reg.summary()"
   ]
  },
  {
   "cell_type": "markdown",
   "id": "6e09fa46-c48e-4cf2-aafa-868d9d203540",
   "metadata": {},
   "source": [
    "### 1.1.3 Add log then regress"
   ]
  },
  {
   "cell_type": "code",
   "execution_count": 27,
   "id": "2157bdaa-85a2-448a-96ff-0e8e39f12feb",
   "metadata": {},
   "outputs": [
    {
     "data": {
      "text/html": [
       "<div>\n",
       "<style scoped>\n",
       "    .dataframe tbody tr th:only-of-type {\n",
       "        vertical-align: middle;\n",
       "    }\n",
       "\n",
       "    .dataframe tbody tr th {\n",
       "        vertical-align: top;\n",
       "    }\n",
       "\n",
       "    .dataframe thead th {\n",
       "        text-align: right;\n",
       "    }\n",
       "</style>\n",
       "<table border=\"1\" class=\"dataframe\">\n",
       "  <thead>\n",
       "    <tr style=\"text-align: right;\">\n",
       "      <th></th>\n",
       "      <th>country</th>\n",
       "      <th>year</th>\n",
       "      <th>NGDPDPC</th>\n",
       "      <th>v2x_freexp</th>\n",
       "      <th>NGDPDPC_log</th>\n",
       "      <th>v2x_freexp_scale</th>\n",
       "    </tr>\n",
       "  </thead>\n",
       "  <tbody>\n",
       "    <tr>\n",
       "      <th>105</th>\n",
       "      <td>Asia (avg)</td>\n",
       "      <td>1990</td>\n",
       "      <td>3749.756571</td>\n",
       "      <td>0.424697</td>\n",
       "      <td>8.229446</td>\n",
       "      <td>42.469697</td>\n",
       "    </tr>\n",
       "    <tr>\n",
       "      <th>106</th>\n",
       "      <td>Asia (avg)</td>\n",
       "      <td>1991</td>\n",
       "      <td>4234.663571</td>\n",
       "      <td>0.444273</td>\n",
       "      <td>8.351059</td>\n",
       "      <td>44.427273</td>\n",
       "    </tr>\n",
       "  </tbody>\n",
       "</table>\n",
       "</div>"
      ],
      "text/plain": [
       "        country  year      NGDPDPC  v2x_freexp  NGDPDPC_log  v2x_freexp_scale\n",
       "105  Asia (avg)  1990  3749.756571    0.424697     8.229446         42.469697\n",
       "106  Asia (avg)  1991  4234.663571    0.444273     8.351059         44.427273"
      ]
     },
     "execution_count": 27,
     "metadata": {},
     "output_type": "execute_result"
    }
   ],
   "source": [
    "import numpy as np\n",
    "df_regression = df[['country', 'year','NGDPDPC', 'v2x_freexp']].dropna()\n",
    "df_regression['NGDPDPC_log'] = df_regression['NGDPDPC'].apply(np.log)\n",
    "df_regression['v2x_freexp_scale'] = df_regression['v2x_freexp'].multiply(100)\n",
    "df_regression.head(2)"
   ]
  },
  {
   "cell_type": "code",
   "execution_count": 28,
   "id": "806996ed-84c8-4221-977d-39aad2cdf899",
   "metadata": {},
   "outputs": [
    {
     "data": {
      "text/plain": [
       "<Axes: xlabel='v2x_freexp_scale', ylabel='NGDPDPC_log'>"
      ]
     },
     "execution_count": 28,
     "metadata": {},
     "output_type": "execute_result"
    },
    {
     "data": {
      "image/png": "[encoded data removed]",
      "text/plain": [
       "<Figure size 640x480 with 1 Axes>"
      ]
     },
     "metadata": {},
     "output_type": "display_data"
    }
   ],
   "source": [
    "import seaborn as sns\n",
    "sns.scatterplot(\n",
    "    data = df_regression,\n",
    "    y = 'NGDPDPC_log',\n",
    "    x = 'v2x_freexp_scale',\n",
    "    hue = 'country'\n",
    ")"
   ]
  },
  {
   "cell_type": "markdown",
   "id": "bc0212e7-4053-4a2a-8fae-4fe06dfa6011",
   "metadata": {},
   "source": [
    "### 1 pt increase in feedom in expression associated with 1.3% higher GDP"
   ]
  },
  {
   "cell_type": "code",
   "execution_count": 29,
   "id": "309fa1f1-a578-4e4b-86cf-926f4f695962",
   "metadata": {},
   "outputs": [
    {
     "data": {
      "text/html": [
       "<table class=\"simpletable\">\n",
       "<caption>OLS Regression Results</caption>\n",
       "<tr>\n",
       "  <th>Dep. Variable:</th>       <td>NGDPDPC_log</td>   <th>  R-squared:         </th> <td>   0.086</td>\n",
       "</tr>\n",
       "<tr>\n",
       "  <th>Model:</th>                   <td>OLS</td>       <th>  Adj. R-squared:    </th> <td>   0.086</td>\n",
       "</tr>\n",
       "<tr>\n",
       "  <th>Method:</th>             <td>Least Squares</td>  <th>  F-statistic:       </th> <td>   424.4</td>\n",
       "</tr>\n",
       "<tr>\n",
       "  <th>Date:</th>             <td>Mon, 26 May 2025</td> <th>  Prob (F-statistic):</th> <td>3.35e-90</td>\n",
       "</tr>\n",
       "<tr>\n",
       "  <th>Time:</th>                 <td>07:48:27</td>     <th>  Log-Likelihood:    </th> <td> -2715.4</td>\n",
       "</tr>\n",
       "<tr>\n",
       "  <th>No. Observations:</th>      <td>  4515</td>      <th>  AIC:               </th> <td>   5435.</td>\n",
       "</tr>\n",
       "<tr>\n",
       "  <th>Df Residuals:</th>          <td>  4513</td>      <th>  BIC:               </th> <td>   5448.</td>\n",
       "</tr>\n",
       "<tr>\n",
       "  <th>Df Model:</th>              <td>     1</td>      <th>                     </th>     <td> </td>   \n",
       "</tr>\n",
       "<tr>\n",
       "  <th>Covariance Type:</th>      <td>nonrobust</td>    <th>                     </th>     <td> </td>   \n",
       "</tr>\n",
       "</table>\n",
       "<table class=\"simpletable\">\n",
       "<tr>\n",
       "       <td></td>         <th>coef</th>     <th>std err</th>      <th>t</th>      <th>P>|t|</th>  <th>[0.025</th>    <th>0.975]</th>  \n",
       "</tr>\n",
       "<tr>\n",
       "  <th>const</th>      <td>    8.6312</td> <td>    0.058</td> <td>  149.198</td> <td> 0.000</td> <td>    8.518</td> <td>    8.745</td>\n",
       "</tr>\n",
       "<tr>\n",
       "  <th>v2x_freexp</th> <td>    1.3788</td> <td>    0.067</td> <td>   20.601</td> <td> 0.000</td> <td>    1.248</td> <td>    1.510</td>\n",
       "</tr>\n",
       "</table>\n",
       "<table class=\"simpletable\">\n",
       "<tr>\n",
       "  <th>Omnibus:</th>       <td>707.005</td> <th>  Durbin-Watson:     </th> <td>   0.004</td>\n",
       "</tr>\n",
       "<tr>\n",
       "  <th>Prob(Omnibus):</th> <td> 0.000</td>  <th>  Jarque-Bera (JB):  </th> <td> 162.269</td>\n",
       "</tr>\n",
       "<tr>\n",
       "  <th>Skew:</th>          <td>-0.005</td>  <th>  Prob(JB):          </th> <td>5.80e-36</td>\n",
       "</tr>\n",
       "<tr>\n",
       "  <th>Kurtosis:</th>      <td> 2.071</td>  <th>  Cond. No.          </th> <td>    17.7</td>\n",
       "</tr>\n",
       "</table><br/><br/>Notes:<br/>[1] Standard Errors assume that the covariance matrix of the errors is correctly specified."
      ],
      "text/latex": [
       "\\begin{center}\n",
       "\\begin{tabular}{lclc}\n",
       "\\toprule\n",
       "\\textbf{Dep. Variable:}    &   NGDPDPC\\_log   & \\textbf{  R-squared:         } &     0.086   \\\\\n",
       "\\textbf{Model:}            &       OLS        & \\textbf{  Adj. R-squared:    } &     0.086   \\\\\n",
       "\\textbf{Method:}           &  Least Squares   & \\textbf{  F-statistic:       } &     424.4   \\\\\n",
       "\\textbf{Date:}             & Mon, 26 May 2025 & \\textbf{  Prob (F-statistic):} &  3.35e-90   \\\\\n",
       "\\textbf{Time:}             &     07:48:27     & \\textbf{  Log-Likelihood:    } &   -2715.4   \\\\\n",
       "\\textbf{No. Observations:} &        4515      & \\textbf{  AIC:               } &     5435.   \\\\\n",
       "\\textbf{Df Residuals:}     &        4513      & \\textbf{  BIC:               } &     5448.   \\\\\n",
       "\\textbf{Df Model:}         &           1      & \\textbf{                     } &             \\\\\n",
       "\\textbf{Covariance Type:}  &    nonrobust     & \\textbf{                     } &             \\\\\n",
       "\\bottomrule\n",
       "\\end{tabular}\n",
       "\\begin{tabular}{lcccccc}\n",
       "                     & \\textbf{coef} & \\textbf{std err} & \\textbf{t} & \\textbf{P$> |$t$|$} & \\textbf{[0.025} & \\textbf{0.975]}  \\\\\n",
       "\\midrule\n",
       "\\textbf{const}       &       8.6312  &        0.058     &   149.198  &         0.000        &        8.518    &        8.745     \\\\\n",
       "\\textbf{v2x\\_freexp} &       1.3788  &        0.067     &    20.601  &         0.000        &        1.248    &        1.510     \\\\\n",
       "\\bottomrule\n",
       "\\end{tabular}\n",
       "\\begin{tabular}{lclc}\n",
       "\\textbf{Omnibus:}       & 707.005 & \\textbf{  Durbin-Watson:     } &    0.004  \\\\\n",
       "\\textbf{Prob(Omnibus):} &   0.000 & \\textbf{  Jarque-Bera (JB):  } &  162.269  \\\\\n",
       "\\textbf{Skew:}          &  -0.005 & \\textbf{  Prob(JB):          } & 5.80e-36  \\\\\n",
       "\\textbf{Kurtosis:}      &   2.071 & \\textbf{  Cond. No.          } &     17.7  \\\\\n",
       "\\bottomrule\n",
       "\\end{tabular}\n",
       "%\\caption{OLS Regression Results}\n",
       "\\end{center}\n",
       "\n",
       "Notes: \\newline\n",
       " [1] Standard Errors assume that the covariance matrix of the errors is correctly specified."
      ],
      "text/plain": [
       "<class 'statsmodels.iolib.summary.Summary'>\n",
       "\"\"\"\n",
       "                            OLS Regression Results                            \n",
       "==============================================================================\n",
       "Dep. Variable:            NGDPDPC_log   R-squared:                       0.086\n",
       "Model:                            OLS   Adj. R-squared:                  0.086\n",
       "Method:                 Least Squares   F-statistic:                     424.4\n",
       "Date:                Mon, 26 May 2025   Prob (F-statistic):           3.35e-90\n",
       "Time:                        07:48:27   Log-Likelihood:                -2715.4\n",
       "No. Observations:                4515   AIC:                             5435.\n",
       "Df Residuals:                    4513   BIC:                             5448.\n",
       "Df Model:                           1                                         \n",
       "Covariance Type:            nonrobust                                         \n",
       "==============================================================================\n",
       "                 coef    std err          t      P>|t|      [0.025      0.975]\n",
       "------------------------------------------------------------------------------\n",
       "const          8.6312      0.058    149.198      0.000       8.518       8.745\n",
       "v2x_freexp     1.3788      0.067     20.601      0.000       1.248       1.510\n",
       "==============================================================================\n",
       "Omnibus:                      707.005   Durbin-Watson:                   0.004\n",
       "Prob(Omnibus):                  0.000   Jarque-Bera (JB):              162.269\n",
       "Skew:                          -0.005   Prob(JB):                     5.80e-36\n",
       "Kurtosis:                       2.071   Cond. No.                         17.7\n",
       "==============================================================================\n",
       "\n",
       "Notes:\n",
       "[1] Standard Errors assume that the covariance matrix of the errors is correctly specified.\n",
       "\"\"\""
      ]
     },
     "execution_count": 29,
     "metadata": {},
     "output_type": "execute_result"
    }
   ],
   "source": [
    "def regression(data, y, x):\n",
    "    x = data[x]\n",
    "    y = data[y]\n",
    "    x = sm.add_constant(x)\n",
    "    reg = sm.OLS(y, x).fit()\n",
    "    return reg.summary()\n",
    "\n",
    "regression(\n",
    "    data = df_regression,\n",
    "    y =  'NGDPDPC_log',\n",
    "    x = 'v2x_freexp'\n",
    ")"
   ]
  },
  {
   "cell_type": "markdown",
   "id": "cb0e7278-0497-461e-851a-887be1507bbc",
   "metadata": {},
   "source": [
    "## 1.2 Robust Standard errors"
   ]
  },
  {
   "cell_type": "code",
   "execution_count": 30,
   "id": "f31456c4-4a29-4a58-90fe-ee936f770c2d",
   "metadata": {},
   "outputs": [
    {
     "data": {
      "text/plain": [
       "const         0.000000e+00\n",
       "v2x_freexp    5.614891e-97\n",
       "dtype: float64"
      ]
     },
     "execution_count": 30,
     "metadata": {},
     "output_type": "execute_result"
    }
   ],
   "source": [
    "def regression(data, y, x):\n",
    "    x = data[x]\n",
    "    y = data[y]\n",
    "    x = sm.add_constant(x)\n",
    "    reg = sm.OLS(y, x).fit(cov_type = 'HC1') # ROBUST STANDARD ERRORS IN cov_type\n",
    "    return reg.pvalues\n",
    "\n",
    "regression(\n",
    "    data = df_regression,\n",
    "    y =  'NGDPDPC_log',\n",
    "    x = 'v2x_freexp'\n",
    ")"
   ]
  },
  {
   "cell_type": "markdown",
   "id": "1f598027-48d4-43f0-a79a-d1e5c5fa3df3",
   "metadata": {},
   "source": [
    "## 1.3 Panel Data"
   ]
  },
  {
   "cell_type": "markdown",
   "id": "8caaba92-09aa-41fc-842d-eee6a3643f21",
   "metadata": {},
   "source": [
    "### 1.3.1 Easy way"
   ]
  },
  {
   "cell_type": "code",
   "execution_count": 31,
   "id": "90e1f430-283a-41d9-9b35-73ae87847d8b",
   "metadata": {},
   "outputs": [
    {
     "data": {
      "text/plain": [
       "Intercept           8.631178\n",
       "v2x_freexp_scale    0.013788\n",
       "dtype: float64"
      ]
     },
     "execution_count": 31,
     "metadata": {},
     "output_type": "execute_result"
    }
   ],
   "source": [
    "import statsmodels.formula.api as smf\n",
    "smf.ols(formula='NGDPDPC_log ~ v2x_freexp_scale', data=df_regression).fit().params"
   ]
  },
  {
   "cell_type": "code",
   "execution_count": 32,
   "id": "a38db3a2-9212-4300-a866-b7412d924584",
   "metadata": {},
   "outputs": [
    {
     "data": {
      "text/plain": [
       "Intercept            8.208610\n",
       "C(country)[T.KOR]    0.631169\n",
       "C(country)[T.TWN]    0.578734\n",
       "v2x_freexp_scale     0.011719\n",
       "dtype: float64"
      ]
     },
     "execution_count": 32,
     "metadata": {},
     "output_type": "execute_result"
    }
   ],
   "source": [
    "smf.ols(formula='NGDPDPC_log ~ v2x_freexp_scale + C(country)', data=df_regression).fit().params"
   ]
  },
  {
   "cell_type": "markdown",
   "id": "74561d10-2a4e-4590-b98c-3bbf7d38633c",
   "metadata": {},
   "source": [
    "### 1.3.2 Difficult way"
   ]
  },
  {
   "cell_type": "code",
   "execution_count": 33,
   "id": "2f72861c-8d59-4b24-8d26-6e59eb4655cf",
   "metadata": {},
   "outputs": [
    {
     "data": {
      "text/html": [
       "<div>\n",
       "<style scoped>\n",
       "    .dataframe tbody tr th:only-of-type {\n",
       "        vertical-align: middle;\n",
       "    }\n",
       "\n",
       "    .dataframe tbody tr th {\n",
       "        vertical-align: top;\n",
       "    }\n",
       "\n",
       "    .dataframe thead th {\n",
       "        text-align: right;\n",
       "    }\n",
       "</style>\n",
       "<table border=\"1\" class=\"dataframe\">\n",
       "  <thead>\n",
       "    <tr style=\"text-align: right;\">\n",
       "      <th></th>\n",
       "      <th>KOR</th>\n",
       "      <th>TWN</th>\n",
       "    </tr>\n",
       "  </thead>\n",
       "  <tbody>\n",
       "    <tr>\n",
       "      <th>105</th>\n",
       "      <td>0</td>\n",
       "      <td>0</td>\n",
       "    </tr>\n",
       "    <tr>\n",
       "      <th>106</th>\n",
       "      <td>0</td>\n",
       "      <td>0</td>\n",
       "    </tr>\n",
       "  </tbody>\n",
       "</table>\n",
       "</div>"
      ],
      "text/plain": [
       "     KOR  TWN\n",
       "105    0    0\n",
       "106    0    0"
      ]
     },
     "execution_count": 33,
     "metadata": {},
     "output_type": "execute_result"
    }
   ],
   "source": [
    "df_dummies = pd.get_dummies(df_regression['country'], drop_first = True).astype(int)\n",
    "df_dummies.head(2)"
   ]
  },
  {
   "cell_type": "code",
   "execution_count": 34,
   "id": "b551f33d-d7c2-4c7c-a9c4-1720e0474a1b",
   "metadata": {},
   "outputs": [
    {
     "data": {
      "text/html": [
       "<div>\n",
       "<style scoped>\n",
       "    .dataframe tbody tr th:only-of-type {\n",
       "        vertical-align: middle;\n",
       "    }\n",
       "\n",
       "    .dataframe tbody tr th {\n",
       "        vertical-align: top;\n",
       "    }\n",
       "\n",
       "    .dataframe thead th {\n",
       "        text-align: right;\n",
       "    }\n",
       "</style>\n",
       "<table border=\"1\" class=\"dataframe\">\n",
       "  <thead>\n",
       "    <tr style=\"text-align: right;\">\n",
       "      <th></th>\n",
       "      <th>country</th>\n",
       "      <th>year</th>\n",
       "      <th>NGDPDPC</th>\n",
       "      <th>v2x_freexp</th>\n",
       "      <th>NGDPDPC_log</th>\n",
       "      <th>v2x_freexp_scale</th>\n",
       "      <th>KOR</th>\n",
       "      <th>TWN</th>\n",
       "    </tr>\n",
       "  </thead>\n",
       "  <tbody>\n",
       "    <tr>\n",
       "      <th>105</th>\n",
       "      <td>Asia (avg)</td>\n",
       "      <td>1990</td>\n",
       "      <td>3749.756571</td>\n",
       "      <td>0.424697</td>\n",
       "      <td>8.229446</td>\n",
       "      <td>42.469697</td>\n",
       "      <td>0</td>\n",
       "      <td>0</td>\n",
       "    </tr>\n",
       "    <tr>\n",
       "      <th>106</th>\n",
       "      <td>Asia (avg)</td>\n",
       "      <td>1991</td>\n",
       "      <td>4234.663571</td>\n",
       "      <td>0.444273</td>\n",
       "      <td>8.351059</td>\n",
       "      <td>44.427273</td>\n",
       "      <td>0</td>\n",
       "      <td>0</td>\n",
       "    </tr>\n",
       "  </tbody>\n",
       "</table>\n",
       "</div>"
      ],
      "text/plain": [
       "        country  year      NGDPDPC  v2x_freexp  NGDPDPC_log  v2x_freexp_scale  \\\n",
       "105  Asia (avg)  1990  3749.756571    0.424697     8.229446         42.469697   \n",
       "106  Asia (avg)  1991  4234.663571    0.444273     8.351059         44.427273   \n",
       "\n",
       "     KOR  TWN  \n",
       "105    0    0  \n",
       "106    0    0  "
      ]
     },
     "execution_count": 34,
     "metadata": {},
     "output_type": "execute_result"
    }
   ],
   "source": [
    "df_regression = pd.merge(\n",
    "    df_regression,\n",
    "    df_dummies,\n",
    "    right_index = True,\n",
    "    left_index = True\n",
    ")\n",
    "df_regression.head(2)"
   ]
  },
  {
   "cell_type": "code",
   "execution_count": 35,
   "id": "28763db6-e4d1-4bc4-9ade-a260c7478e38",
   "metadata": {},
   "outputs": [
    {
     "data": {
      "text/plain": [
       "const               8.208610\n",
       "KOR                 0.631169\n",
       "TWN                 0.578734\n",
       "v2x_freexp_scale    0.011719\n",
       "dtype: float64"
      ]
     },
     "execution_count": 35,
     "metadata": {},
     "output_type": "execute_result"
    }
   ],
   "source": [
    "def regression(data, y, x_cols):\n",
    "    x = data[x_cols]\n",
    "    y = data[y]\n",
    "    x = sm.add_constant(x)\n",
    "    reg = sm.OLS(y, x).fit() # ROBUST STANDARD ERRORS IN cov_type\n",
    "    return reg.params\n",
    "\n",
    "regression(\n",
    "    data = df_regression,\n",
    "    y =  'NGDPDPC_log',\n",
    "    x_cols = ['KOR', 'TWN', 'v2x_freexp_scale']\n",
    ")"
   ]
  },
  {
   "cell_type": "markdown",
   "id": "43a3d00a-90cc-4dc6-87b8-c85c5b2abd4f",
   "metadata": {},
   "source": [
    "# 2. Machine Learning"
   ]
  },
  {
   "cell_type": "markdown",
   "id": "87a49fe0-d234-4a7f-b012-33f7384a0981",
   "metadata": {},
   "source": [
    "## 2.1 Unsupervised learning: Dimension reducation/PCA"
   ]
  },
  {
   "cell_type": "code",
   "execution_count": 36,
   "id": "78434b4c-9acf-4e99-b72e-64b0d83cd4ed",
   "metadata": {},
   "outputs": [
    {
     "data": {
      "text/html": [
       "<div>\n",
       "<style scoped>\n",
       "    .dataframe tbody tr th:only-of-type {\n",
       "        vertical-align: middle;\n",
       "    }\n",
       "\n",
       "    .dataframe tbody tr th {\n",
       "        vertical-align: top;\n",
       "    }\n",
       "\n",
       "    .dataframe thead th {\n",
       "        text-align: right;\n",
       "    }\n",
       "</style>\n",
       "<table border=\"1\" class=\"dataframe\">\n",
       "  <thead>\n",
       "    <tr style=\"text-align: right;\">\n",
       "      <th></th>\n",
       "      <th>region</th>\n",
       "      <th>subregion</th>\n",
       "      <th>country</th>\n",
       "      <th>year</th>\n",
       "      <th>PISA</th>\n",
       "      <th>GDI</th>\n",
       "      <th>GINI</th>\n",
       "      <th>LibDem</th>\n",
       "      <th>Public Spending on Education</th>\n",
       "      <th>Private Spending on Education</th>\n",
       "    </tr>\n",
       "  </thead>\n",
       "  <tbody>\n",
       "    <tr>\n",
       "      <th>18</th>\n",
       "      <td>Oceania</td>\n",
       "      <td>Australia and New Zealand</td>\n",
       "      <td>Australia</td>\n",
       "      <td>2018</td>\n",
       "      <td>503.0</td>\n",
       "      <td>0.971</td>\n",
       "      <td>34.3</td>\n",
       "      <td>0.813</td>\n",
       "      <td>34.792880</td>\n",
       "      <td>34.792880</td>\n",
       "    </tr>\n",
       "    <tr>\n",
       "      <th>35</th>\n",
       "      <td>Europe</td>\n",
       "      <td>Western Europe</td>\n",
       "      <td>Austria</td>\n",
       "      <td>2012</td>\n",
       "      <td>490.0</td>\n",
       "      <td>0.975</td>\n",
       "      <td>30.5</td>\n",
       "      <td>0.806</td>\n",
       "      <td>95.143448</td>\n",
       "      <td>95.143448</td>\n",
       "    </tr>\n",
       "  </tbody>\n",
       "</table>\n",
       "</div>"
      ],
      "text/plain": [
       "     region                  subregion    country  year   PISA    GDI  GINI  \\\n",
       "18  Oceania  Australia and New Zealand  Australia  2018  503.0  0.971  34.3   \n",
       "35   Europe             Western Europe    Austria  2012  490.0  0.975  30.5   \n",
       "\n",
       "    LibDem  Public Spending on Education  Private Spending on Education  \n",
       "18   0.813                     34.792880                      34.792880  \n",
       "35   0.806                     95.143448                      95.143448  "
      ]
     },
     "execution_count": 36,
     "metadata": {},
     "output_type": "execute_result"
    }
   ],
   "source": [
    "df_edu = pd.read_csv(f\"{data_folder}/education.csv\").dropna()\n",
    "df_edu.head(2)"
   ]
  },
  {
   "cell_type": "code",
   "execution_count": 37,
   "id": "1b7fbe91-9872-4f21-adc5-2b141a96103f",
   "metadata": {},
   "outputs": [
    {
     "data": {
      "text/html": [
       "<div>\n",
       "<style scoped>\n",
       "    .dataframe tbody tr th:only-of-type {\n",
       "        vertical-align: middle;\n",
       "    }\n",
       "\n",
       "    .dataframe tbody tr th {\n",
       "        vertical-align: top;\n",
       "    }\n",
       "\n",
       "    .dataframe thead th {\n",
       "        text-align: right;\n",
       "    }\n",
       "</style>\n",
       "<table border=\"1\" class=\"dataframe\">\n",
       "  <thead>\n",
       "    <tr style=\"text-align: right;\">\n",
       "      <th></th>\n",
       "      <th></th>\n",
       "      <th>GINI</th>\n",
       "      <th>LibDem</th>\n",
       "      <th>Public Spending on Education</th>\n",
       "      <th>Private Spending on Education</th>\n",
       "      <th>PISA</th>\n",
       "    </tr>\n",
       "    <tr>\n",
       "      <th>country</th>\n",
       "      <th>year</th>\n",
       "      <th></th>\n",
       "      <th></th>\n",
       "      <th></th>\n",
       "      <th></th>\n",
       "      <th></th>\n",
       "    </tr>\n",
       "  </thead>\n",
       "  <tbody>\n",
       "    <tr>\n",
       "      <th>Australia</th>\n",
       "      <th>2018</th>\n",
       "      <td>34.3</td>\n",
       "      <td>0.813</td>\n",
       "      <td>34.792880</td>\n",
       "      <td>34.792880</td>\n",
       "      <td>503.0</td>\n",
       "    </tr>\n",
       "    <tr>\n",
       "      <th>Austria</th>\n",
       "      <th>2012</th>\n",
       "      <td>30.5</td>\n",
       "      <td>0.806</td>\n",
       "      <td>95.143448</td>\n",
       "      <td>95.143448</td>\n",
       "      <td>490.0</td>\n",
       "    </tr>\n",
       "  </tbody>\n",
       "</table>\n",
       "</div>"
      ],
      "text/plain": [
       "                GINI  LibDem  Public Spending on Education  \\\n",
       "country   year                                               \n",
       "Australia 2018  34.3   0.813                     34.792880   \n",
       "Austria   2012  30.5   0.806                     95.143448   \n",
       "\n",
       "                Private Spending on Education   PISA  \n",
       "country   year                                        \n",
       "Australia 2018                      34.792880  503.0  \n",
       "Austria   2012                      95.143448  490.0  "
      ]
     },
     "execution_count": 37,
     "metadata": {},
     "output_type": "execute_result"
    }
   ],
   "source": [
    "data = df_edu.set_index(['country','year'])[['GINI', 'LibDem', 'Public Spending on Education', 'Private Spending on Education', 'PISA']]\n",
    "data.head(2)"
   ]
  },
  {
   "cell_type": "markdown",
   "id": "f7445629-20d8-4d57-a824-77d5ce1191ce",
   "metadata": {},
   "source": [
    "### 2.1.1 Set PCA"
   ]
  },
  {
   "cell_type": "code",
   "execution_count": 38,
   "id": "7b64a999-4e49-42f6-8e41-46f96d23a963",
   "metadata": {},
   "outputs": [],
   "source": [
    "from sklearn.decomposition import PCA\n",
    "pca = PCA(n_components=1) "
   ]
  },
  {
   "cell_type": "code",
   "execution_count": 39,
   "id": "51a9642d-2a03-4014-b5a3-070a402debff",
   "metadata": {},
   "outputs": [
    {
     "data": {
      "text/html": [
       "<div>\n",
       "<style scoped>\n",
       "    .dataframe tbody tr th:only-of-type {\n",
       "        vertical-align: middle;\n",
       "    }\n",
       "\n",
       "    .dataframe tbody tr th {\n",
       "        vertical-align: top;\n",
       "    }\n",
       "\n",
       "    .dataframe thead th {\n",
       "        text-align: right;\n",
       "    }\n",
       "</style>\n",
       "<table border=\"1\" class=\"dataframe\">\n",
       "  <thead>\n",
       "    <tr style=\"text-align: right;\">\n",
       "      <th></th>\n",
       "      <th></th>\n",
       "      <th>PCA</th>\n",
       "    </tr>\n",
       "    <tr>\n",
       "      <th>country</th>\n",
       "      <th>year</th>\n",
       "      <th></th>\n",
       "    </tr>\n",
       "  </thead>\n",
       "  <tbody>\n",
       "    <tr>\n",
       "      <th>Australia</th>\n",
       "      <th>2018</th>\n",
       "      <td>-49.940339</td>\n",
       "    </tr>\n",
       "    <tr>\n",
       "      <th>Austria</th>\n",
       "      <th>2012</th>\n",
       "      <td>34.883874</td>\n",
       "    </tr>\n",
       "  </tbody>\n",
       "</table>\n",
       "</div>"
      ],
      "text/plain": [
       "                      PCA\n",
       "country   year           \n",
       "Australia 2018 -49.940339\n",
       "Austria   2012  34.883874"
      ]
     },
     "execution_count": 39,
     "metadata": {},
     "output_type": "execute_result"
    }
   ],
   "source": [
    "principal_components = pca.fit_transform(data.drop(['PISA'], axis='columns'))\n",
    "df_pca = pd.DataFrame(data=principal_components, columns=['PCA'], index = data.index)\n",
    "df_pca.head(2)"
   ]
  },
  {
   "cell_type": "code",
   "execution_count": 40,
   "id": "a63c2205-b4af-446a-9966-65449459bb4b",
   "metadata": {},
   "outputs": [
    {
     "data": {
      "text/html": [
       "<div>\n",
       "<style scoped>\n",
       "    .dataframe tbody tr th:only-of-type {\n",
       "        vertical-align: middle;\n",
       "    }\n",
       "\n",
       "    .dataframe tbody tr th {\n",
       "        vertical-align: top;\n",
       "    }\n",
       "\n",
       "    .dataframe thead th {\n",
       "        text-align: right;\n",
       "    }\n",
       "</style>\n",
       "<table border=\"1\" class=\"dataframe\">\n",
       "  <thead>\n",
       "    <tr style=\"text-align: right;\">\n",
       "      <th></th>\n",
       "      <th></th>\n",
       "      <th>PCA</th>\n",
       "      <th>GINI</th>\n",
       "      <th>LibDem</th>\n",
       "      <th>Public Spending on Education</th>\n",
       "      <th>Private Spending on Education</th>\n",
       "      <th>PISA</th>\n",
       "    </tr>\n",
       "    <tr>\n",
       "      <th>country</th>\n",
       "      <th>year</th>\n",
       "      <th></th>\n",
       "      <th></th>\n",
       "      <th></th>\n",
       "      <th></th>\n",
       "      <th></th>\n",
       "      <th></th>\n",
       "    </tr>\n",
       "  </thead>\n",
       "  <tbody>\n",
       "    <tr>\n",
       "      <th>Australia</th>\n",
       "      <th>2018</th>\n",
       "      <td>-49.940339</td>\n",
       "      <td>34.3</td>\n",
       "      <td>0.813</td>\n",
       "      <td>34.792880</td>\n",
       "      <td>34.792880</td>\n",
       "      <td>503.0</td>\n",
       "    </tr>\n",
       "    <tr>\n",
       "      <th>Austria</th>\n",
       "      <th>2012</th>\n",
       "      <td>34.883874</td>\n",
       "      <td>30.5</td>\n",
       "      <td>0.806</td>\n",
       "      <td>95.143448</td>\n",
       "      <td>95.143448</td>\n",
       "      <td>490.0</td>\n",
       "    </tr>\n",
       "  </tbody>\n",
       "</table>\n",
       "</div>"
      ],
      "text/plain": [
       "                      PCA  GINI  LibDem  Public Spending on Education  \\\n",
       "country   year                                                          \n",
       "Australia 2018 -49.940339  34.3   0.813                     34.792880   \n",
       "Austria   2012  34.883874  30.5   0.806                     95.143448   \n",
       "\n",
       "                Private Spending on Education   PISA  \n",
       "country   year                                        \n",
       "Australia 2018                      34.792880  503.0  \n",
       "Austria   2012                      95.143448  490.0  "
      ]
     },
     "execution_count": 40,
     "metadata": {},
     "output_type": "execute_result"
    }
   ],
   "source": [
    "df_pca = pd.concat([df_pca, data], axis='columns')\n",
    "df_pca.head(2)"
   ]
  },
  {
   "cell_type": "markdown",
   "id": "eec6a499-eea8-4fb9-afab-76c3b9e0de04",
   "metadata": {},
   "source": [
    "### 2.1.2 Scatter and regression"
   ]
  },
  {
   "cell_type": "code",
   "execution_count": 41,
   "id": "1b14cd18-eae7-4e92-ab4e-62b75358fa55",
   "metadata": {},
   "outputs": [
    {
     "data": {
      "text/plain": [
       "<Axes: xlabel='PCA', ylabel='PISA'>"
      ]
     },
     "execution_count": 41,
     "metadata": {},
     "output_type": "execute_result"
    },
    {
     "data": {
      "image/png": "[encoded data removed]",
      "text/plain": [
       "<Figure size 640x480 with 1 Axes>"
      ]
     },
     "metadata": {},
     "output_type": "display_data"
    }
   ],
   "source": [
    "import seaborn as sns\n",
    "sns.scatterplot(\n",
    "    data = df_pca,\n",
    "    y = 'PISA',\n",
    "    x = 'PCA',\n",
    ")"
   ]
  },
  {
   "cell_type": "code",
   "execution_count": 42,
   "id": "0a679bea-3c59-4823-9f96-1f60ab827e8a",
   "metadata": {},
   "outputs": [
    {
     "data": {
      "text/plain": [
       "<Axes: xlabel='Public Spending on Education', ylabel='PISA'>"
      ]
     },
     "execution_count": 42,
     "metadata": {},
     "output_type": "execute_result"
    },
    {
     "data": {
      "image/png": "[encoded data removed]",
      "text/plain": [
       "<Figure size 640x480 with 1 Axes>"
      ]
     },
     "metadata": {},
     "output_type": "display_data"
    }
   ],
   "source": [
    "import seaborn as sns\n",
    "sns.scatterplot(\n",
    "    data = df_pca,\n",
    "    y = 'PISA',\n",
    "    x = 'Public Spending on Education',\n",
    ")"
   ]
  },
  {
   "cell_type": "code",
   "execution_count": 43,
   "id": "2de7b7c4-7b72-4f7a-97c1-4c41084bbba1",
   "metadata": {},
   "outputs": [],
   "source": [
    "def regression(data, y, x_cols):\n",
    "    x = data[x_cols]\n",
    "    y = data[y]\n",
    "    x = sm.add_constant(x)\n",
    "    reg = sm.OLS(y, x).fit() # ROBUST STANDARD ERRORS IN cov_type\n",
    "    df = pd.concat([reg.params, reg.pvalues], axis=1).round(2)\n",
    "    df.columns = ['coef', 'pvalue']\n",
    "    return df"
   ]
  },
  {
   "cell_type": "code",
   "execution_count": 44,
   "id": "6c88d55c-22f2-4c73-84d5-55bf32b66094",
   "metadata": {},
   "outputs": [
    {
     "data": {
      "text/html": [
       "<div>\n",
       "<style scoped>\n",
       "    .dataframe tbody tr th:only-of-type {\n",
       "        vertical-align: middle;\n",
       "    }\n",
       "\n",
       "    .dataframe tbody tr th {\n",
       "        vertical-align: top;\n",
       "    }\n",
       "\n",
       "    .dataframe thead th {\n",
       "        text-align: right;\n",
       "    }\n",
       "</style>\n",
       "<table border=\"1\" class=\"dataframe\">\n",
       "  <thead>\n",
       "    <tr style=\"text-align: right;\">\n",
       "      <th></th>\n",
       "      <th>coef</th>\n",
       "      <th>pvalue</th>\n",
       "    </tr>\n",
       "  </thead>\n",
       "  <tbody>\n",
       "    <tr>\n",
       "      <th>const</th>\n",
       "      <td>489.39</td>\n",
       "      <td>0.0</td>\n",
       "    </tr>\n",
       "    <tr>\n",
       "      <th>PCA</th>\n",
       "      <td>0.32</td>\n",
       "      <td>0.0</td>\n",
       "    </tr>\n",
       "  </tbody>\n",
       "</table>\n",
       "</div>"
      ],
      "text/plain": [
       "         coef  pvalue\n",
       "const  489.39     0.0\n",
       "PCA      0.32     0.0"
      ]
     },
     "execution_count": 44,
     "metadata": {},
     "output_type": "execute_result"
    }
   ],
   "source": [
    "\n",
    "    \n",
    "regression(\n",
    "    data = df_pca,\n",
    "    x_cols = ['PCA'],\n",
    "    y = 'PISA'\n",
    ")"
   ]
  },
  {
   "cell_type": "code",
   "execution_count": 45,
   "id": "fd48cd63-ab88-454b-ace8-d77b1ad11d4d",
   "metadata": {},
   "outputs": [
    {
     "data": {
      "text/html": [
       "<div>\n",
       "<style scoped>\n",
       "    .dataframe tbody tr th:only-of-type {\n",
       "        vertical-align: middle;\n",
       "    }\n",
       "\n",
       "    .dataframe tbody tr th {\n",
       "        vertical-align: top;\n",
       "    }\n",
       "\n",
       "    .dataframe thead th {\n",
       "        text-align: right;\n",
       "    }\n",
       "</style>\n",
       "<table border=\"1\" class=\"dataframe\">\n",
       "  <thead>\n",
       "    <tr style=\"text-align: right;\">\n",
       "      <th></th>\n",
       "      <th>coef</th>\n",
       "      <th>pvalue</th>\n",
       "    </tr>\n",
       "  </thead>\n",
       "  <tbody>\n",
       "    <tr>\n",
       "      <th>const</th>\n",
       "      <td>392.09</td>\n",
       "      <td>0.0</td>\n",
       "    </tr>\n",
       "    <tr>\n",
       "      <th>LibDem</th>\n",
       "      <td>126.19</td>\n",
       "      <td>0.0</td>\n",
       "    </tr>\n",
       "  </tbody>\n",
       "</table>\n",
       "</div>"
      ],
      "text/plain": [
       "          coef  pvalue\n",
       "const   392.09     0.0\n",
       "LibDem  126.19     0.0"
      ]
     },
     "execution_count": 45,
     "metadata": {},
     "output_type": "execute_result"
    }
   ],
   "source": [
    "regression(\n",
    "    data = df_pca,\n",
    "    x_cols = ['LibDem'],\n",
    "    y = 'PISA'\n",
    ")"
   ]
  },
  {
   "cell_type": "markdown",
   "id": "dceb29dd-8150-4e21-bb70-d2e06f75024c",
   "metadata": {},
   "source": [
    "### 2.1.3 You shoud always scale/normalize/zscore before pca"
   ]
  },
  {
   "cell_type": "code",
   "execution_count": 46,
   "id": "5814a237-3eb4-4319-8007-722f55d5f214",
   "metadata": {},
   "outputs": [
    {
     "data": {
      "text/html": [
       "<div>\n",
       "<style scoped>\n",
       "    .dataframe tbody tr th:only-of-type {\n",
       "        vertical-align: middle;\n",
       "    }\n",
       "\n",
       "    .dataframe tbody tr th {\n",
       "        vertical-align: top;\n",
       "    }\n",
       "\n",
       "    .dataframe thead th {\n",
       "        text-align: right;\n",
       "    }\n",
       "</style>\n",
       "<table border=\"1\" class=\"dataframe\">\n",
       "  <thead>\n",
       "    <tr style=\"text-align: right;\">\n",
       "      <th></th>\n",
       "      <th></th>\n",
       "      <th>GINI</th>\n",
       "      <th>LibDem</th>\n",
       "      <th>Public Spending on Education</th>\n",
       "      <th>Private Spending on Education</th>\n",
       "      <th>PISA</th>\n",
       "    </tr>\n",
       "    <tr>\n",
       "      <th>country</th>\n",
       "      <th>year</th>\n",
       "      <th></th>\n",
       "      <th></th>\n",
       "      <th></th>\n",
       "      <th></th>\n",
       "      <th></th>\n",
       "    </tr>\n",
       "  </thead>\n",
       "  <tbody>\n",
       "    <tr>\n",
       "      <th>Australia</th>\n",
       "      <th>2018</th>\n",
       "      <td>34.3</td>\n",
       "      <td>0.813</td>\n",
       "      <td>34.792880</td>\n",
       "      <td>34.792880</td>\n",
       "      <td>503.0</td>\n",
       "    </tr>\n",
       "    <tr>\n",
       "      <th>Austria</th>\n",
       "      <th>2012</th>\n",
       "      <td>30.5</td>\n",
       "      <td>0.806</td>\n",
       "      <td>95.143448</td>\n",
       "      <td>95.143448</td>\n",
       "      <td>490.0</td>\n",
       "    </tr>\n",
       "  </tbody>\n",
       "</table>\n",
       "</div>"
      ],
      "text/plain": [
       "                GINI  LibDem  Public Spending on Education  \\\n",
       "country   year                                               \n",
       "Australia 2018  34.3   0.813                     34.792880   \n",
       "Austria   2012  30.5   0.806                     95.143448   \n",
       "\n",
       "                Private Spending on Education   PISA  \n",
       "country   year                                        \n",
       "Australia 2018                      34.792880  503.0  \n",
       "Austria   2012                      95.143448  490.0  "
      ]
     },
     "execution_count": 46,
     "metadata": {},
     "output_type": "execute_result"
    }
   ],
   "source": [
    "data.head(2)"
   ]
  },
  {
   "cell_type": "code",
   "execution_count": 47,
   "id": "8537df98-30b4-4833-a553-83dbbd0a1ec3",
   "metadata": {},
   "outputs": [
    {
     "data": {
      "text/html": [
       "<div>\n",
       "<style scoped>\n",
       "    .dataframe tbody tr th:only-of-type {\n",
       "        vertical-align: middle;\n",
       "    }\n",
       "\n",
       "    .dataframe tbody tr th {\n",
       "        vertical-align: top;\n",
       "    }\n",
       "\n",
       "    .dataframe thead th {\n",
       "        text-align: right;\n",
       "    }\n",
       "</style>\n",
       "<table border=\"1\" class=\"dataframe\">\n",
       "  <thead>\n",
       "    <tr style=\"text-align: right;\">\n",
       "      <th></th>\n",
       "      <th></th>\n",
       "      <th>PCA_scaled</th>\n",
       "    </tr>\n",
       "    <tr>\n",
       "      <th>country</th>\n",
       "      <th>year</th>\n",
       "      <th></th>\n",
       "    </tr>\n",
       "  </thead>\n",
       "  <tbody>\n",
       "    <tr>\n",
       "      <th>Australia</th>\n",
       "      <th>2018</th>\n",
       "      <td>-2.122840</td>\n",
       "    </tr>\n",
       "    <tr>\n",
       "      <th>Austria</th>\n",
       "      <th>2012</th>\n",
       "      <td>1.793649</td>\n",
       "    </tr>\n",
       "  </tbody>\n",
       "</table>\n",
       "</div>"
      ],
      "text/plain": [
       "                PCA_scaled\n",
       "country   year            \n",
       "Australia 2018   -2.122840\n",
       "Austria   2012    1.793649"
      ]
     },
     "execution_count": 47,
     "metadata": {},
     "output_type": "execute_result"
    }
   ],
   "source": [
    "from sklearn.preprocessing import StandardScaler\n",
    "scaler = StandardScaler()\n",
    "scaled_data = scaler.fit_transform(data.drop(['PISA'], axis='columns'))\n",
    "\n",
    "from sklearn.decomposition import PCA\n",
    "pca = PCA(n_components=1) \n",
    "principal_components = pca.fit_transform(scaled_data)\n",
    "\n",
    "df_pca = pd.DataFrame(data=principal_components, columns=['PCA_scaled'], index = data.index)\n",
    "df_pca.head(2)"
   ]
  },
  {
   "cell_type": "code",
   "execution_count": 48,
   "id": "e42db27b-efc3-49ab-a7d9-4cd5fb718c36",
   "metadata": {},
   "outputs": [
    {
     "data": {
      "text/html": [
       "<div>\n",
       "<style scoped>\n",
       "    .dataframe tbody tr th:only-of-type {\n",
       "        vertical-align: middle;\n",
       "    }\n",
       "\n",
       "    .dataframe tbody tr th {\n",
       "        vertical-align: top;\n",
       "    }\n",
       "\n",
       "    .dataframe thead th {\n",
       "        text-align: right;\n",
       "    }\n",
       "</style>\n",
       "<table border=\"1\" class=\"dataframe\">\n",
       "  <thead>\n",
       "    <tr style=\"text-align: right;\">\n",
       "      <th></th>\n",
       "      <th></th>\n",
       "      <th>PCA_scaled</th>\n",
       "      <th>GINI</th>\n",
       "      <th>LibDem</th>\n",
       "      <th>Public Spending on Education</th>\n",
       "      <th>Private Spending on Education</th>\n",
       "      <th>PISA</th>\n",
       "    </tr>\n",
       "    <tr>\n",
       "      <th>country</th>\n",
       "      <th>year</th>\n",
       "      <th></th>\n",
       "      <th></th>\n",
       "      <th></th>\n",
       "      <th></th>\n",
       "      <th></th>\n",
       "      <th></th>\n",
       "    </tr>\n",
       "  </thead>\n",
       "  <tbody>\n",
       "    <tr>\n",
       "      <th>Australia</th>\n",
       "      <th>2018</th>\n",
       "      <td>-2.122840</td>\n",
       "      <td>34.3</td>\n",
       "      <td>0.813</td>\n",
       "      <td>34.792880</td>\n",
       "      <td>34.792880</td>\n",
       "      <td>503.0</td>\n",
       "    </tr>\n",
       "    <tr>\n",
       "      <th>Austria</th>\n",
       "      <th>2012</th>\n",
       "      <td>1.793649</td>\n",
       "      <td>30.5</td>\n",
       "      <td>0.806</td>\n",
       "      <td>95.143448</td>\n",
       "      <td>95.143448</td>\n",
       "      <td>490.0</td>\n",
       "    </tr>\n",
       "  </tbody>\n",
       "</table>\n",
       "</div>"
      ],
      "text/plain": [
       "                PCA_scaled  GINI  LibDem  Public Spending on Education  \\\n",
       "country   year                                                           \n",
       "Australia 2018   -2.122840  34.3   0.813                     34.792880   \n",
       "Austria   2012    1.793649  30.5   0.806                     95.143448   \n",
       "\n",
       "                Private Spending on Education   PISA  \n",
       "country   year                                        \n",
       "Australia 2018                      34.792880  503.0  \n",
       "Austria   2012                      95.143448  490.0  "
      ]
     },
     "execution_count": 48,
     "metadata": {},
     "output_type": "execute_result"
    }
   ],
   "source": [
    "df_pca = pd.concat([df_pca, data], axis='columns')\n",
    "df_pca.head(2)"
   ]
  },
  {
   "cell_type": "code",
   "execution_count": 49,
   "id": "021e161b-6fc4-48c6-a863-e2efaf1871fe",
   "metadata": {},
   "outputs": [
    {
     "data": {
      "text/plain": [
       "<Axes: xlabel='PCA_scaled', ylabel='PISA'>"
      ]
     },
     "execution_count": 49,
     "metadata": {},
     "output_type": "execute_result"
    },
    {
     "data": {
      "image/png": "[encoded data removed]",
      "text/plain": [
       "<Figure size 640x480 with 1 Axes>"
      ]
     },
     "metadata": {},
     "output_type": "display_data"
    }
   ],
   "source": [
    "import seaborn as sns\n",
    "sns.scatterplot(\n",
    "    data = df_pca,\n",
    "    y = 'PISA',\n",
    "    x = 'PCA_scaled',\n",
    ")"
   ]
  },
  {
   "cell_type": "code",
   "execution_count": 50,
   "id": "b4b1cfb5-aa94-4b89-9f0a-10d67e9e3297",
   "metadata": {},
   "outputs": [
    {
     "data": {
      "text/plain": [
       "<Axes: xlabel='Public Spending on Education', ylabel='PISA'>"
      ]
     },
     "execution_count": 50,
     "metadata": {},
     "output_type": "execute_result"
    },
    {
     "data": {
      "image/png": "[encoded data removed]",
      "text/plain": [
       "<Figure size 640x480 with 1 Axes>"
      ]
     },
     "metadata": {},
     "output_type": "display_data"
    }
   ],
   "source": [
    "import seaborn as sns\n",
    "sns.scatterplot(\n",
    "    data = df_pca,\n",
    "    y = 'PISA',\n",
    "    x = 'Public Spending on Education',\n",
    ")"
   ]
  },
  {
   "cell_type": "markdown",
   "id": "0625d553-17e1-4ad3-830d-569ccf2bf4d7",
   "metadata": {},
   "source": [
    "### 2.1.4 Using PCA or other technique to create index"
   ]
  },
  {
   "cell_type": "code",
   "execution_count": 51,
   "id": "b8fbd941-a56c-457c-9d98-ef4cba504378",
   "metadata": {},
   "outputs": [
    {
     "data": {
      "text/plain": [
       "<Axes: xlabel='country'>"
      ]
     },
     "execution_count": 51,
     "metadata": {},
     "output_type": "execute_result"
    },
    {
     "data": {
      "image/png": "[encoded data removed]",
      "text/plain": [
       "<Figure size 640x480 with 1 Axes>"
      ]
     },
     "metadata": {},
     "output_type": "display_data"
    }
   ],
   "source": [
    "df_pca.query(\"year == 2018\").sort_values('PCA_scaled').droplevel(axis=0, level= 'year')['PCA_scaled'].plot(kind ='bar')"
   ]
  },
  {
   "cell_type": "markdown",
   "id": "bfe4a6fb-12c3-4e85-8082-383d7c5deb76",
   "metadata": {},
   "source": [
    "## 2.2 Supervised"
   ]
  },
  {
   "cell_type": "code",
   "execution_count": 52,
   "id": "1cf598d6-562b-412e-8488-3f399e3f29b7",
   "metadata": {},
   "outputs": [],
   "source": [
    "from sklearn.tree import DecisionTreeRegressor, plot_tree\n",
    "import matplotlib.pyplot as plt"
   ]
  },
  {
   "cell_type": "code",
   "execution_count": 53,
   "id": "a8bf117f-59dd-449b-9062-863ac19c379b",
   "metadata": {},
   "outputs": [
    {
     "data": {
      "text/html": [
       "<style>#sk-container-id-1 {\n",
       "  /* Definition of color scheme common for light and dark mode */\n",
       "  --sklearn-color-text: #000;\n",
       "  --sklearn-color-text-muted: #666;\n",
       "  --sklearn-color-line: gray;\n",
       "  /* Definition of color scheme for unfitted estimators */\n",
       "  --sklearn-color-unfitted-level-0: #fff5e6;\n",
       "  --sklearn-color-unfitted-level-1: #f6e4d2;\n",
       "  --sklearn-color-unfitted-level-2: #ffe0b3;\n",
       "  --sklearn-color-unfitted-level-3: chocolate;\n",
       "  /* Definition of color scheme for fitted estimators */\n",
       "  --sklearn-color-fitted-level-0: #f0f8ff;\n",
       "  --sklearn-color-fitted-level-1: #d4ebff;\n",
       "  --sklearn-color-fitted-level-2: #b3dbfd;\n",
       "  --sklearn-color-fitted-level-3: cornflowerblue;\n",
       "\n",
       "  /* Specific color for light theme */\n",
       "  --sklearn-color-text-on-default-background: var(--sg-text-color, var(--theme-code-foreground, var(--jp-content-font-color1, black)));\n",
       "  --sklearn-color-background: var(--sg-background-color, var(--theme-background, var(--jp-layout-color0, white)));\n",
       "  --sklearn-color-border-box: var(--sg-text-color, var(--theme-code-foreground, var(--jp-content-font-color1, black)));\n",
       "  --sklearn-color-icon: #696969;\n",
       "\n",
       "  @media (prefers-color-scheme: dark) {\n",
       "    /* Redefinition of color scheme for dark theme */\n",
       "    --sklearn-color-text-on-default-background: var(--sg-text-color, var(--theme-code-foreground, var(--jp-content-font-color1, white)));\n",
       "    --sklearn-color-background: var(--sg-background-color, var(--theme-background, var(--jp-layout-color0, #111)));\n",
       "    --sklearn-color-border-box: var(--sg-text-color, var(--theme-code-foreground, var(--jp-content-font-color1, white)));\n",
       "    --sklearn-color-icon: #878787;\n",
       "  }\n",
       "}\n",
       "\n",
       "#sk-container-id-1 {\n",
       "  color: var(--sklearn-color-text);\n",
       "}\n",
       "\n",
       "#sk-container-id-1 pre {\n",
       "  padding: 0;\n",
       "}\n",
       "\n",
       "#sk-container-id-1 input.sk-hidden--visually {\n",
       "  border: 0;\n",
       "  clip: rect(1px 1px 1px 1px);\n",
       "  clip: rect(1px, 1px, 1px, 1px);\n",
       "  height: 1px;\n",
       "  margin: -1px;\n",
       "  overflow: hidden;\n",
       "  padding: 0;\n",
       "  position: absolute;\n",
       "  width: 1px;\n",
       "}\n",
       "\n",
       "#sk-container-id-1 div.sk-dashed-wrapped {\n",
       "  border: 1px dashed var(--sklearn-color-line);\n",
       "  margin: 0 0.4em 0.5em 0.4em;\n",
       "  box-sizing: border-box;\n",
       "  padding-bottom: 0.4em;\n",
       "  background-color: var(--sklearn-color-background);\n",
       "}\n",
       "\n",
       "#sk-container-id-1 div.sk-container {\n",
       "  /* jupyter's `normalize.less` sets `[hidden] { display: none; }`\n",
       "     but bootstrap.min.css set `[hidden] { display: none !important; }`\n",
       "     so we also need the `!important` here to be able to override the\n",
       "     default hidden behavior on the sphinx rendered scikit-learn.org.\n",
       "     See: https://github.com/scikit-learn/scikit-learn/issues/21755 */\n",
       "  display: inline-block !important;\n",
       "  position: relative;\n",
       "}\n",
       "\n",
       "#sk-container-id-1 div.sk-text-repr-fallback {\n",
       "  display: none;\n",
       "}\n",
       "\n",
       "div.sk-parallel-item,\n",
       "div.sk-serial,\n",
       "div.sk-item {\n",
       "  /* draw centered vertical line to link estimators */\n",
       "  background-image: linear-gradient(var(--sklearn-color-text-on-default-background), var(--sklearn-color-text-on-default-background));\n",
       "  background-size: 2px 100%;\n",
       "  background-repeat: no-repeat;\n",
       "  background-position: center center;\n",
       "}\n",
       "\n",
       "/* Parallel-specific style estimator block */\n",
       "\n",
       "#sk-container-id-1 div.sk-parallel-item::after {\n",
       "  content: \"\";\n",
       "  width: 100%;\n",
       "  border-bottom: 2px solid var(--sklearn-color-text-on-default-background);\n",
       "  flex-grow: 1;\n",
       "}\n",
       "\n",
       "#sk-container-id-1 div.sk-parallel {\n",
       "  display: flex;\n",
       "  align-items: stretch;\n",
       "  justify-content: center;\n",
       "  background-color: var(--sklearn-color-background);\n",
       "  position: relative;\n",
       "}\n",
       "\n",
       "#sk-container-id-1 div.sk-parallel-item {\n",
       "  display: flex;\n",
       "  flex-direction: column;\n",
       "}\n",
       "\n",
       "#sk-container-id-1 div.sk-parallel-item:first-child::after {\n",
       "  align-self: flex-end;\n",
       "  width: 50%;\n",
       "}\n",
       "\n",
       "#sk-container-id-1 div.sk-parallel-item:last-child::after {\n",
       "  align-self: flex-start;\n",
       "  width: 50%;\n",
       "}\n",
       "\n",
       "#sk-container-id-1 div.sk-parallel-item:only-child::after {\n",
       "  width: 0;\n",
       "}\n",
       "\n",
       "/* Serial-specific style estimator block */\n",
       "\n",
       "#sk-container-id-1 div.sk-serial {\n",
       "  display: flex;\n",
       "  flex-direction: column;\n",
       "  align-items: center;\n",
       "  background-color: var(--sklearn-color-background);\n",
       "  padding-right: 1em;\n",
       "  padding-left: 1em;\n",
       "}\n",
       "\n",
       "\n",
       "/* Toggleable style: style used for estimator/Pipeline/ColumnTransformer box that is\n",
       "clickable and can be expanded/collapsed.\n",
       "- Pipeline and ColumnTransformer use this feature and define the default style\n",
       "- Estimators will overwrite some part of the style using the `sk-estimator` class\n",
       "*/\n",
       "\n",
       "/* Pipeline and ColumnTransformer style (default) */\n",
       "\n",
       "#sk-container-id-1 div.sk-toggleable {\n",
       "  /* Default theme specific background. It is overwritten whether we have a\n",
       "  specific estimator or a Pipeline/ColumnTransformer */\n",
       "  background-color: var(--sklearn-color-background);\n",
       "}\n",
       "\n",
       "/* Toggleable label */\n",
       "#sk-container-id-1 label.sk-toggleable__label {\n",
       "  cursor: pointer;\n",
       "  display: flex;\n",
       "  width: 100%;\n",
       "  margin-bottom: 0;\n",
       "  padding: 0.5em;\n",
       "  box-sizing: border-box;\n",
       "  text-align: center;\n",
       "  align-items: start;\n",
       "  justify-content: space-between;\n",
       "  gap: 0.5em;\n",
       "}\n",
       "\n",
       "#sk-container-id-1 label.sk-toggleable__label .caption {\n",
       "  font-size: 0.6rem;\n",
       "  font-weight: lighter;\n",
       "  color: var(--sklearn-color-text-muted);\n",
       "}\n",
       "\n",
       "#sk-container-id-1 label.sk-toggleable__label-arrow:before {\n",
       "  /* Arrow on the left of the label */\n",
       "  content: \"▸\";\n",
       "  float: left;\n",
       "  margin-right: 0.25em;\n",
       "  color: var(--sklearn-color-icon);\n",
       "}\n",
       "\n",
       "#sk-container-id-1 label.sk-toggleable__label-arrow:hover:before {\n",
       "  color: var(--sklearn-color-text);\n",
       "}\n",
       "\n",
       "/* Toggleable content - dropdown */\n",
       "\n",
       "#sk-container-id-1 div.sk-toggleable__content {\n",
       "  max-height: 0;\n",
       "  max-width: 0;\n",
       "  overflow: hidden;\n",
       "  text-align: left;\n",
       "  /* unfitted */\n",
       "  background-color: var(--sklearn-color-unfitted-level-0);\n",
       "}\n",
       "\n",
       "#sk-container-id-1 div.sk-toggleable__content.fitted {\n",
       "  /* fitted */\n",
       "  background-color: var(--sklearn-color-fitted-level-0);\n",
       "}\n",
       "\n",
       "#sk-container-id-1 div.sk-toggleable__content pre {\n",
       "  margin: 0.2em;\n",
       "  border-radius: 0.25em;\n",
       "  color: var(--sklearn-color-text);\n",
       "  /* unfitted */\n",
       "  background-color: var(--sklearn-color-unfitted-level-0);\n",
       "}\n",
       "\n",
       "#sk-container-id-1 div.sk-toggleable__content.fitted pre {\n",
       "  /* unfitted */\n",
       "  background-color: var(--sklearn-color-fitted-level-0);\n",
       "}\n",
       "\n",
       "#sk-container-id-1 input.sk-toggleable__control:checked~div.sk-toggleable__content {\n",
       "  /* Expand drop-down */\n",
       "  max-height: 200px;\n",
       "  max-width: 100%;\n",
       "  overflow: auto;\n",
       "}\n",
       "\n",
       "#sk-container-id-1 input.sk-toggleable__control:checked~label.sk-toggleable__label-arrow:before {\n",
       "  content: \"▾\";\n",
       "}\n",
       "\n",
       "/* Pipeline/ColumnTransformer-specific style */\n",
       "\n",
       "#sk-container-id-1 div.sk-label input.sk-toggleable__control:checked~label.sk-toggleable__label {\n",
       "  color: var(--sklearn-color-text);\n",
       "  background-color: var(--sklearn-color-unfitted-level-2);\n",
       "}\n",
       "\n",
       "#sk-container-id-1 div.sk-label.fitted input.sk-toggleable__control:checked~label.sk-toggleable__label {\n",
       "  background-color: var(--sklearn-color-fitted-level-2);\n",
       "}\n",
       "\n",
       "/* Estimator-specific style */\n",
       "\n",
       "/* Colorize estimator box */\n",
       "#sk-container-id-1 div.sk-estimator input.sk-toggleable__control:checked~label.sk-toggleable__label {\n",
       "  /* unfitted */\n",
       "  background-color: var(--sklearn-color-unfitted-level-2);\n",
       "}\n",
       "\n",
       "#sk-container-id-1 div.sk-estimator.fitted input.sk-toggleable__control:checked~label.sk-toggleable__label {\n",
       "  /* fitted */\n",
       "  background-color: var(--sklearn-color-fitted-level-2);\n",
       "}\n",
       "\n",
       "#sk-container-id-1 div.sk-label label.sk-toggleable__label,\n",
       "#sk-container-id-1 div.sk-label label {\n",
       "  /* The background is the default theme color */\n",
       "  color: var(--sklearn-color-text-on-default-background);\n",
       "}\n",
       "\n",
       "/* On hover, darken the color of the background */\n",
       "#sk-container-id-1 div.sk-label:hover label.sk-toggleable__label {\n",
       "  color: var(--sklearn-color-text);\n",
       "  background-color: var(--sklearn-color-unfitted-level-2);\n",
       "}\n",
       "\n",
       "/* Label box, darken color on hover, fitted */\n",
       "#sk-container-id-1 div.sk-label.fitted:hover label.sk-toggleable__label.fitted {\n",
       "  color: var(--sklearn-color-text);\n",
       "  background-color: var(--sklearn-color-fitted-level-2);\n",
       "}\n",
       "\n",
       "/* Estimator label */\n",
       "\n",
       "#sk-container-id-1 div.sk-label label {\n",
       "  font-family: monospace;\n",
       "  font-weight: bold;\n",
       "  display: inline-block;\n",
       "  line-height: 1.2em;\n",
       "}\n",
       "\n",
       "#sk-container-id-1 div.sk-label-container {\n",
       "  text-align: center;\n",
       "}\n",
       "\n",
       "/* Estimator-specific */\n",
       "#sk-container-id-1 div.sk-estimator {\n",
       "  font-family: monospace;\n",
       "  border: 1px dotted var(--sklearn-color-border-box);\n",
       "  border-radius: 0.25em;\n",
       "  box-sizing: border-box;\n",
       "  margin-bottom: 0.5em;\n",
       "  /* unfitted */\n",
       "  background-color: var(--sklearn-color-unfitted-level-0);\n",
       "}\n",
       "\n",
       "#sk-container-id-1 div.sk-estimator.fitted {\n",
       "  /* fitted */\n",
       "  background-color: var(--sklearn-color-fitted-level-0);\n",
       "}\n",
       "\n",
       "/* on hover */\n",
       "#sk-container-id-1 div.sk-estimator:hover {\n",
       "  /* unfitted */\n",
       "  background-color: var(--sklearn-color-unfitted-level-2);\n",
       "}\n",
       "\n",
       "#sk-container-id-1 div.sk-estimator.fitted:hover {\n",
       "  /* fitted */\n",
       "  background-color: var(--sklearn-color-fitted-level-2);\n",
       "}\n",
       "\n",
       "/* Specification for estimator info (e.g. \"i\" and \"?\") */\n",
       "\n",
       "/* Common style for \"i\" and \"?\" */\n",
       "\n",
       ".sk-estimator-doc-link,\n",
       "a:link.sk-estimator-doc-link,\n",
       "a:visited.sk-estimator-doc-link {\n",
       "  float: right;\n",
       "  font-size: smaller;\n",
       "  line-height: 1em;\n",
       "  font-family: monospace;\n",
       "  background-color: var(--sklearn-color-background);\n",
       "  border-radius: 1em;\n",
       "  height: 1em;\n",
       "  width: 1em;\n",
       "  text-decoration: none !important;\n",
       "  margin-left: 0.5em;\n",
       "  text-align: center;\n",
       "  /* unfitted */\n",
       "  border: var(--sklearn-color-unfitted-level-1) 1pt solid;\n",
       "  color: var(--sklearn-color-unfitted-level-1);\n",
       "}\n",
       "\n",
       ".sk-estimator-doc-link.fitted,\n",
       "a:link.sk-estimator-doc-link.fitted,\n",
       "a:visited.sk-estimator-doc-link.fitted {\n",
       "  /* fitted */\n",
       "  border: var(--sklearn-color-fitted-level-1) 1pt solid;\n",
       "  color: var(--sklearn-color-fitted-level-1);\n",
       "}\n",
       "\n",
       "/* On hover */\n",
       "div.sk-estimator:hover .sk-estimator-doc-link:hover,\n",
       ".sk-estimator-doc-link:hover,\n",
       "div.sk-label-container:hover .sk-estimator-doc-link:hover,\n",
       ".sk-estimator-doc-link:hover {\n",
       "  /* unfitted */\n",
       "  background-color: var(--sklearn-color-unfitted-level-3);\n",
       "  color: var(--sklearn-color-background);\n",
       "  text-decoration: none;\n",
       "}\n",
       "\n",
       "div.sk-estimator.fitted:hover .sk-estimator-doc-link.fitted:hover,\n",
       ".sk-estimator-doc-link.fitted:hover,\n",
       "div.sk-label-container:hover .sk-estimator-doc-link.fitted:hover,\n",
       ".sk-estimator-doc-link.fitted:hover {\n",
       "  /* fitted */\n",
       "  background-color: var(--sklearn-color-fitted-level-3);\n",
       "  color: var(--sklearn-color-background);\n",
       "  text-decoration: none;\n",
       "}\n",
       "\n",
       "/* Span, style for the box shown on hovering the info icon */\n",
       ".sk-estimator-doc-link span {\n",
       "  display: none;\n",
       "  z-index: 9999;\n",
       "  position: relative;\n",
       "  font-weight: normal;\n",
       "  right: .2ex;\n",
       "  padding: .5ex;\n",
       "  margin: .5ex;\n",
       "  width: min-content;\n",
       "  min-width: 20ex;\n",
       "  max-width: 50ex;\n",
       "  color: var(--sklearn-color-text);\n",
       "  box-shadow: 2pt 2pt 4pt #999;\n",
       "  /* unfitted */\n",
       "  background: var(--sklearn-color-unfitted-level-0);\n",
       "  border: .5pt solid var(--sklearn-color-unfitted-level-3);\n",
       "}\n",
       "\n",
       ".sk-estimator-doc-link.fitted span {\n",
       "  /* fitted */\n",
       "  background: var(--sklearn-color-fitted-level-0);\n",
       "  border: var(--sklearn-color-fitted-level-3);\n",
       "}\n",
       "\n",
       ".sk-estimator-doc-link:hover span {\n",
       "  display: block;\n",
       "}\n",
       "\n",
       "/* \"?\"-specific style due to the `<a>` HTML tag */\n",
       "\n",
       "#sk-container-id-1 a.estimator_doc_link {\n",
       "  float: right;\n",
       "  font-size: 1rem;\n",
       "  line-height: 1em;\n",
       "  font-family: monospace;\n",
       "  background-color: var(--sklearn-color-background);\n",
       "  border-radius: 1rem;\n",
       "  height: 1rem;\n",
       "  width: 1rem;\n",
       "  text-decoration: none;\n",
       "  /* unfitted */\n",
       "  color: var(--sklearn-color-unfitted-level-1);\n",
       "  border: var(--sklearn-color-unfitted-level-1) 1pt solid;\n",
       "}\n",
       "\n",
       "#sk-container-id-1 a.estimator_doc_link.fitted {\n",
       "  /* fitted */\n",
       "  border: var(--sklearn-color-fitted-level-1) 1pt solid;\n",
       "  color: var(--sklearn-color-fitted-level-1);\n",
       "}\n",
       "\n",
       "/* On hover */\n",
       "#sk-container-id-1 a.estimator_doc_link:hover {\n",
       "  /* unfitted */\n",
       "  background-color: var(--sklearn-color-unfitted-level-3);\n",
       "  color: var(--sklearn-color-background);\n",
       "  text-decoration: none;\n",
       "}\n",
       "\n",
       "#sk-container-id-1 a.estimator_doc_link.fitted:hover {\n",
       "  /* fitted */\n",
       "  background-color: var(--sklearn-color-fitted-level-3);\n",
       "}\n",
       "</style><div id=\"sk-container-id-1\" class=\"sk-top-container\"><div class=\"sk-text-repr-fallback\"><pre>DecisionTreeRegressor(max_depth=3)</pre><b>In a Jupyter environment, please rerun this cell to show the HTML representation or trust the notebook. <br />On GitHub, the HTML representation is unable to render, please try loading this page with nbviewer.org.</b></div><div class=\"sk-container\" hidden><div class=\"sk-item\"><div class=\"sk-estimator fitted sk-toggleable\"><input class=\"sk-toggleable__control sk-hidden--visually\" id=\"sk-estimator-id-1\" type=\"checkbox\" checked><label for=\"sk-estimator-id-1\" class=\"sk-toggleable__label fitted sk-toggleable__label-arrow\"><div><div>DecisionTreeRegressor</div></div><div><a class=\"sk-estimator-doc-link fitted\" rel=\"noreferrer\" target=\"_blank\" href=\"https://scikit-learn.org/1.6/modules/generated/sklearn.tree.DecisionTreeRegressor.html\">?<span>Documentation for DecisionTreeRegressor</span></a><span class=\"sk-estimator-doc-link fitted\">i<span>Fitted</span></span></div></label><div class=\"sk-toggleable__content fitted\"><pre>DecisionTreeRegressor(max_depth=3)</pre></div> </div></div></div></div>"
      ],
      "text/plain": [
       "DecisionTreeRegressor(max_depth=3)"
      ]
     },
     "execution_count": 53,
     "metadata": {},
     "output_type": "execute_result"
    }
   ],
   "source": [
    "X = df_pca.drop(['PISA', 'PCA_scaled'], axis='columns')\n",
    "y = df_pca['PISA']\n",
    "dtree = DecisionTreeRegressor(max_depth = 3)\n",
    "dtree.fit(X, y)"
   ]
  },
  {
   "cell_type": "code",
   "execution_count": 54,
   "id": "bf8f40f4-5368-4715-b77f-edb2e35b2aa3",
   "metadata": {},
   "outputs": [
    {
     "data": {
      "image/png": "[encoded data removed]",
      "text/plain": [
       "<Figure size 2000x1000 with 1 Axes>"
      ]
     },
     "metadata": {},
     "output_type": "display_data"
    }
   ],
   "source": [
    "plt.figure(figsize=(20,10))\n",
    "plot_tree(dtree, feature_names=X.columns, filled=True)\n",
    "plt.show()"
   ]
  },
  {
   "cell_type": "code",
   "execution_count": null,
   "id": "a664c488-c6bc-4bd6-8230-8fb56c8bf5f4",
   "metadata": {},
   "outputs": [],
   "source": []
  }
 ],
 "metadata": {
  "kernelspec": {
   "display_name": "Python 3 (ipykernel)",
   "language": "python",
   "name": "python3"
  },
  "language_info": {
   "codemirror_mode": {
    "name": "ipython",
    "version": 3
   },
   "file_extension": ".py",
   "mimetype": "text/x-python",
   "name": "python",
   "nbconvert_exporter": "python",
   "pygments_lexer": "ipython3",
   "version": "3.12.7"
  }
 },
 "nbformat": 4,
 "nbformat_minor": 5
}
