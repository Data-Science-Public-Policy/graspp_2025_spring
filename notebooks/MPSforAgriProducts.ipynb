{
 "cells": [
  {
   "cell_type": "code",
   "execution_count": 4,
   "id": "eff6da8e",
   "metadata": {},
   "outputs": [],
   "source": [
    "import pandas as pd\n",
    "\n",
    "\n",
    "# 定义函数\n",
    "def load_mps(file_path, products):\n",
    "    df = pd.read_excel(file_path, sheet_name='TOTAL', header=None)\n",
    "    years = list(range(1986, 2024))\n",
    "    all_data = []\n",
    "    for product in products:\n",
    "        idx = df[df[1].astype(str).str.contains(product, na=False, case=False)].index\n",
    "        if len(idx) == 0:\n",
    "            print(f\"Warning: {product} not found.\")\n",
    "            continue\n",
    "        values = df.iloc[idx[0], 45:83].values\n",
    "        all_data.append(pd.DataFrame({'Year': years, 'Product': product, 'MPS_Value': values}))\n",
    "    return pd.concat(all_data, ignore_index=True)\n",
    "\n"
   ]
  },
  {
   "cell_type": "code",
   "execution_count": 5,
   "id": "1b5586f0",
   "metadata": {},
   "outputs": [],
   "source": [
    "# 需要提取的日本产品列表\n",
    "products_jpn = [\n",
    "    'Barley', 'Wheat', 'Rice', 'Soybean', 'Refined sugar', 'Apple',\n",
    "    'Cabbage', 'Cucumber', 'Grapes', 'Mandarin', 'Pears', 'Spinaches',\n",
    "    'Strawberries', 'Welsh Onion', 'Milk', 'Beef and veal', 'Pigmeat',\n",
    "    'Poultry Meat', 'Eggs'\n",
    "]\n",
    "\n",
    "# 加载日本数据并pivot\n",
    "df_jpn = load_mps('../Data/pse-jpn-2024.xls', products_jpn)\n",
    "df_jpn_pivot = df_jpn.pivot(index='Year', columns='Product', values='MPS_Value')\n",
    "df_jpn_pivot.to_csv('../Data/mps_cleaned_pivot_products_japan.csv')\n",
    "\n"
   ]
  },
  {
   "cell_type": "code",
   "execution_count": 6,
   "id": "9fee000a",
   "metadata": {},
   "outputs": [],
   "source": [
    "# 需要提取的越南产品列表\n",
    "products_vnm = [\n",
    "    'Maize', 'Rice', 'Sugar cane', 'Cashew nuts', 'Coffee', 'Pepper',\n",
    "    'Natural Rubber', 'Tea', 'Beef and veal', 'Pigmeat', 'Poultry', 'Eggs'\n",
    "]\n",
    "\n",
    "# 加载越南数据并pivot\n",
    "df_vnm = load_mps('../Data/pse-vnm-2024.xls', products_vnm)\n",
    "df_vnm_pivot = df_vnm.pivot(index='Year', columns='Product', values='MPS_Value')\n",
    "df_vnm_pivot.to_csv('../Data/mps_cleaned_pivot_products_vietnam.csv')\n",
    "\n"
   ]
  },
  {
   "cell_type": "code",
   "execution_count": null,
   "id": "c09c2bf4",
   "metadata": {},
   "outputs": [],
   "source": [
    "# 需要提取的美国产品列表\n",
    "products_usa = [\n",
    "    'Barley', 'Wheat', 'Maize', 'Rice', 'Sorghum', 'Soybeans',\n",
    "    'Sugar', 'Alfalfa', 'Cotton', 'Milk', 'Beef', 'Pigmeat',\n",
    "    'Poultry', 'Sheepmeat', 'Eggs', 'Wool'\n",
    "]\n",
    "\n",
    "# 加载美国数据并pivot\n",
    "df_usa = load_mps('../Data/pse-usa-2024.xls', products_usa)\n",
    "df_usa_pivot = df_usa.pivot(index='Year', columns='Product', values='MPS_Value')\n",
    "df_usa_pivot.to_csv('../Data/mps_cleaned_pivot_products_usa.csv')\n",
    "\n"
   ]
  }
 ],
 "metadata": {
  "kernelspec": {
   "display_name": ".venv",
   "language": "python",
   "name": "python3"
  },
  "language_info": {
   "codemirror_mode": {
    "name": "ipython",
    "version": 3
   },
   "file_extension": ".py",
   "mimetype": "text/x-python",
   "name": "python",
   "nbconvert_exporter": "python",
   "pygments_lexer": "ipython3",
   "version": "3.9.6"
  }
 },
 "nbformat": 4,
 "nbformat_minor": 5
}
