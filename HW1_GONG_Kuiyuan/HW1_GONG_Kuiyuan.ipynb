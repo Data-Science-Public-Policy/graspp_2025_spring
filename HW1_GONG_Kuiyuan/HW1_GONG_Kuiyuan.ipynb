{
 "cells": [
  {
   "cell_type": "markdown",
   "id": "cc932ec4",
   "metadata": {},
   "source": [
    "# A. Individual Assignment"
   ]
  },
  {
   "cell_type": "markdown",
   "id": "b05a05f1",
   "metadata": {},
   "source": [
    "## 1.1 Download Data"
   ]
  },
  {
   "cell_type": "markdown",
   "id": "dfe2b75f",
   "metadata": {},
   "source": [
    "### 1.1.1 Downloading dataset 1"
   ]
  },
  {
   "cell_type": "code",
   "execution_count": 19,
   "id": "777ed971",
   "metadata": {},
   "outputs": [
    {
     "data": {
      "text/plain": [
       "'/Users/edisonkung/Desktop/Data Science for Public Policy/graspp_2025_spring/HW1_GONG_Kuiyuan'"
      ]
     },
     "execution_count": 19,
     "metadata": {},
     "output_type": "execute_result"
    }
   ],
   "source": [
    "import pandas as pd\n",
    "import io\n",
    "import requests\n",
    "import os\n",
    "import matplotlib.pyplot as plt\n",
    "os.getcwd()"
   ]
  },
  {
   "cell_type": "code",
   "execution_count": 20,
   "id": "a89b0b9f",
   "metadata": {},
   "outputs": [
    {
     "name": "stdout",
     "output_type": "stream",
     "text": [
      "Here is the link to access the data: https://sdmx.oecd.org/public/rest/data/OECD.TAD.ARP,DSD_AGR_POLIND@DF_POL,1.1/.A...?startPeriod=2014&dimensionAtObservation=AllDimensions&format=csv\n"
     ]
    }
   ],
   "source": [
    "url = 'https://sdmx.oecd.org/public/rest/data/OECD.TAD.ARP,DSD_AGR_POLIND@DF_POL,1.1/.A...?startPeriod=2014&dimensionAtObservation=AllDimensions&format=csv'\n",
    "print (f'Here is the link to access the data: {url}') "
   ]
  },
  {
   "cell_type": "code",
   "execution_count": 21,
   "id": "c6d3015f",
   "metadata": {},
   "outputs": [
    {
     "name": "stdout",
     "output_type": "stream",
     "text": [
      "Succeeded\n"
     ]
    }
   ],
   "source": [
    "response = requests.get(url)\n",
    "response.raise_for_status()\n",
    "if response.status_code == 200:\n",
    "    print(\"Succeeded\")\n",
    "else: \n",
    "    print(\"Failed\")"
   ]
  },
  {
   "cell_type": "code",
   "execution_count": 37,
   "id": "69219d8a",
   "metadata": {},
   "outputs": [],
   "source": [
    "data = io.StringIO(response.text)\n",
    "data_1 = pd.read_csv(data)\n",
    "data_1.head(5)\n",
    "data_1.to_csv('../data/raw/OECD_PSE.csv', index=False)\n",
    "os.remove('../data/raw/OECD_PSE')"
   ]
  },
  {
   "cell_type": "code",
   "execution_count": 24,
   "id": "970211a0",
   "metadata": {},
   "outputs": [
    {
     "data": {
      "text/plain": [
       "array(['OECD', 'EU', 'KAZ', 'CAN', 'COL', 'IND', 'KOR', 'ZAF', 'PHL',\n",
       "       'USA', 'NOR', 'MEX', 'ISL', 'AUS', 'ISR', 'ARG', 'UKR', 'GBR',\n",
       "       'CRI', 'JPN', 'VNM', 'IDN', 'CHE', 'NZL', 'BRA', 'CHN', 'CHL',\n",
       "       'RUS', 'TUR'], dtype=object)"
      ]
     },
     "execution_count": 24,
     "metadata": {},
     "output_type": "execute_result"
    }
   ],
   "source": [
    "data_1.REF_AREA.unique()"
   ]
  },
  {
   "cell_type": "markdown",
   "id": "057fd35a",
   "metadata": {},
   "source": [
    "### 1.1.2 Downloading dataset 2"
   ]
  },
  {
   "cell_type": "code",
   "execution_count": 29,
   "id": "aa7d87e6",
   "metadata": {},
   "outputs": [
    {
     "name": "stdout",
     "output_type": "stream",
     "text": [
      "Succeeded\n"
     ]
    }
   ],
   "source": [
    "url = 'https://sdmx.oecd.org/public/rest/data/OECD.TAD.ARP,DSD_AGR_POLIND@DF_COMGSSE,1.1/.A...?startPeriod=2014&dimensionAtObservation=AllDimensions&format=csv'\n",
    "\n",
    "response = requests.get(url)\n",
    "response.raise_for_status()\n",
    "if response.status_code == 200:\n",
    "    print(\"Succeeded\")\n",
    "else: \n",
    "    print(\"Failed\")"
   ]
  },
  {
   "cell_type": "code",
   "execution_count": 32,
   "id": "49430442",
   "metadata": {},
   "outputs": [
    {
     "data": {
      "text/html": [
       "<div>\n",
       "<style scoped>\n",
       "    .dataframe tbody tr th:only-of-type {\n",
       "        vertical-align: middle;\n",
       "    }\n",
       "\n",
       "    .dataframe tbody tr th {\n",
       "        vertical-align: top;\n",
       "    }\n",
       "\n",
       "    .dataframe thead th {\n",
       "        text-align: right;\n",
       "    }\n",
       "</style>\n",
       "<table border=\"1\" class=\"dataframe\">\n",
       "  <thead>\n",
       "    <tr style=\"text-align: right;\">\n",
       "      <th></th>\n",
       "      <th>DATAFLOW</th>\n",
       "      <th>REF_AREA</th>\n",
       "      <th>FREQ</th>\n",
       "      <th>MEASURE</th>\n",
       "      <th>COMMODITY</th>\n",
       "      <th>UNIT_MEASURE</th>\n",
       "      <th>TIME_PERIOD</th>\n",
       "      <th>OBS_VALUE</th>\n",
       "      <th>DECIMALS</th>\n",
       "      <th>OBS_STATUS</th>\n",
       "      <th>CURRENCY</th>\n",
       "      <th>UNIT_MULT</th>\n",
       "    </tr>\n",
       "  </thead>\n",
       "  <tbody>\n",
       "    <tr>\n",
       "      <th>0</th>\n",
       "      <td>OECD.TAD.ARP:DSD_AGR_POLIND@DF_COMGSSE(1.1)</td>\n",
       "      <td>ISR</td>\n",
       "      <td>A</td>\n",
       "      <td>GSSEIBSH</td>\n",
       "      <td>CPC_EX_TO</td>\n",
       "      <td>PT_SUPP_E_GN_SRV</td>\n",
       "      <td>2023</td>\n",
       "      <td>8.5213</td>\n",
       "      <td>2</td>\n",
       "      <td>NaN</td>\n",
       "      <td>NaN</td>\n",
       "      <td>NaN</td>\n",
       "    </tr>\n",
       "    <tr>\n",
       "      <th>1</th>\n",
       "      <td>OECD.TAD.ARP:DSD_AGR_POLIND@DF_COMGSSE(1.1)</td>\n",
       "      <td>ISR</td>\n",
       "      <td>A</td>\n",
       "      <td>GSSEIBSH</td>\n",
       "      <td>CPC_EX_TO</td>\n",
       "      <td>PT_SUPP_E_GN_SRV</td>\n",
       "      <td>2022</td>\n",
       "      <td>9.9586</td>\n",
       "      <td>2</td>\n",
       "      <td>NaN</td>\n",
       "      <td>NaN</td>\n",
       "      <td>NaN</td>\n",
       "    </tr>\n",
       "    <tr>\n",
       "      <th>2</th>\n",
       "      <td>OECD.TAD.ARP:DSD_AGR_POLIND@DF_COMGSSE(1.1)</td>\n",
       "      <td>ISR</td>\n",
       "      <td>A</td>\n",
       "      <td>GSSEIBSH</td>\n",
       "      <td>CPC_EX_TO</td>\n",
       "      <td>PT_SUPP_E_GN_SRV</td>\n",
       "      <td>2021</td>\n",
       "      <td>7.1212</td>\n",
       "      <td>2</td>\n",
       "      <td>NaN</td>\n",
       "      <td>NaN</td>\n",
       "      <td>NaN</td>\n",
       "    </tr>\n",
       "    <tr>\n",
       "      <th>3</th>\n",
       "      <td>OECD.TAD.ARP:DSD_AGR_POLIND@DF_COMGSSE(1.1)</td>\n",
       "      <td>ISR</td>\n",
       "      <td>A</td>\n",
       "      <td>GSSEIBSH</td>\n",
       "      <td>CPC_EX_TO</td>\n",
       "      <td>PT_SUPP_E_GN_SRV</td>\n",
       "      <td>2020</td>\n",
       "      <td>7.7754</td>\n",
       "      <td>2</td>\n",
       "      <td>NaN</td>\n",
       "      <td>NaN</td>\n",
       "      <td>NaN</td>\n",
       "    </tr>\n",
       "    <tr>\n",
       "      <th>4</th>\n",
       "      <td>OECD.TAD.ARP:DSD_AGR_POLIND@DF_COMGSSE(1.1)</td>\n",
       "      <td>ISR</td>\n",
       "      <td>A</td>\n",
       "      <td>GSSEIBSH</td>\n",
       "      <td>CPC_EX_TO</td>\n",
       "      <td>PT_SUPP_E_GN_SRV</td>\n",
       "      <td>2019</td>\n",
       "      <td>8.1080</td>\n",
       "      <td>2</td>\n",
       "      <td>NaN</td>\n",
       "      <td>NaN</td>\n",
       "      <td>NaN</td>\n",
       "    </tr>\n",
       "  </tbody>\n",
       "</table>\n",
       "</div>"
      ],
      "text/plain": [
       "                                      DATAFLOW REF_AREA FREQ   MEASURE  \\\n",
       "0  OECD.TAD.ARP:DSD_AGR_POLIND@DF_COMGSSE(1.1)      ISR    A  GSSEIBSH   \n",
       "1  OECD.TAD.ARP:DSD_AGR_POLIND@DF_COMGSSE(1.1)      ISR    A  GSSEIBSH   \n",
       "2  OECD.TAD.ARP:DSD_AGR_POLIND@DF_COMGSSE(1.1)      ISR    A  GSSEIBSH   \n",
       "3  OECD.TAD.ARP:DSD_AGR_POLIND@DF_COMGSSE(1.1)      ISR    A  GSSEIBSH   \n",
       "4  OECD.TAD.ARP:DSD_AGR_POLIND@DF_COMGSSE(1.1)      ISR    A  GSSEIBSH   \n",
       "\n",
       "   COMMODITY      UNIT_MEASURE  TIME_PERIOD  OBS_VALUE  DECIMALS OBS_STATUS  \\\n",
       "0  CPC_EX_TO  PT_SUPP_E_GN_SRV         2023     8.5213         2        NaN   \n",
       "1  CPC_EX_TO  PT_SUPP_E_GN_SRV         2022     9.9586         2        NaN   \n",
       "2  CPC_EX_TO  PT_SUPP_E_GN_SRV         2021     7.1212         2        NaN   \n",
       "3  CPC_EX_TO  PT_SUPP_E_GN_SRV         2020     7.7754         2        NaN   \n",
       "4  CPC_EX_TO  PT_SUPP_E_GN_SRV         2019     8.1080         2        NaN   \n",
       "\n",
       "   CURRENCY  UNIT_MULT  \n",
       "0       NaN        NaN  \n",
       "1       NaN        NaN  \n",
       "2       NaN        NaN  \n",
       "3       NaN        NaN  \n",
       "4       NaN        NaN  "
      ]
     },
     "execution_count": 32,
     "metadata": {},
     "output_type": "execute_result"
    }
   ],
   "source": [
    "data = io.StringIO(response.text)\n",
    "data_2 = pd.read_csv(data)\n",
    "data_2.head(5)"
   ]
  },
  {
   "cell_type": "code",
   "execution_count": 33,
   "id": "1cc2029f",
   "metadata": {},
   "outputs": [
    {
     "data": {
      "text/plain": [
       "array(['ISR', 'NOR', 'GBR', 'EU', 'OECD', 'NZL', 'VNM', 'ISL', 'IND',\n",
       "       'CHL', 'RUS', 'CAN', 'MEX', 'JPN', 'CRI', 'AUS', 'ARG', 'CHE',\n",
       "       'IDN', 'ZAF', 'CHN', 'KAZ', 'COL', 'BRA', 'UKR', 'KOR', 'TUR',\n",
       "       'USA', 'PHL'], dtype=object)"
      ]
     },
     "execution_count": 33,
     "metadata": {},
     "output_type": "execute_result"
    }
   ],
   "source": [
    "data_2.REF_AREA.unique()"
   ]
  },
  {
   "cell_type": "markdown",
   "id": "65ad0400",
   "metadata": {},
   "source": [
    "## 1.2 Manipulate Data"
   ]
  },
  {
   "cell_type": "markdown",
   "id": "c6b2010d",
   "metadata": {},
   "source": [
    "## 1.3 Merge Data"
   ]
  },
  {
   "cell_type": "markdown",
   "id": "56846ea2",
   "metadata": {},
   "source": []
  }
 ],
 "metadata": {
  "kernelspec": {
   "display_name": "Python 3",
   "language": "python",
   "name": "python3"
  },
  "language_info": {
   "codemirror_mode": {
    "name": "ipython",
    "version": 3
   },
   "file_extension": ".py",
   "mimetype": "text/x-python",
   "name": "python",
   "nbconvert_exporter": "python",
   "pygments_lexer": "ipython3",
   "version": "3.9.6"
  }
 },
 "nbformat": 4,
 "nbformat_minor": 5
}
