{
 "cells": [
  {
   "cell_type": "markdown",
   "id": "cc932ec4",
   "metadata": {},
   "source": [
    "# A. Individual Assignment"
   ]
  },
  {
   "cell_type": "markdown",
   "id": "b05a05f1",
   "metadata": {},
   "source": [
    "## 1.1 Download Data"
   ]
  },
  {
   "cell_type": "markdown",
   "id": "dfe2b75f",
   "metadata": {},
   "source": [
    "### 1.1.1 Downloading dataset 1"
   ]
  },
  {
   "cell_type": "code",
   "execution_count": 3,
   "id": "777ed971",
   "metadata": {},
   "outputs": [
    {
     "data": {
      "text/plain": [
       "'/Users/edisonkung/Desktop/Data Science for Public Policy/graspp_2025_spring/HW1_GONG_Kuiyuan'"
      ]
     },
     "execution_count": 3,
     "metadata": {},
     "output_type": "execute_result"
    }
   ],
   "source": [
    "import pandas as pd\n",
    "import io\n",
    "import requests\n",
    "import os\n",
    "os.getcwd()"
   ]
  },
  {
   "cell_type": "code",
   "execution_count": 6,
   "id": "a89b0b9f",
   "metadata": {},
   "outputs": [
    {
     "name": "stdout",
     "output_type": "stream",
     "text": [
      "Here is the link to access the data: https://sdmx.oecd.org/public/rest/data/OECD.TAD.ARP,DSD_AGR_POLIND@DF_MONEVA,1.1/OECD.A..CPC_EX_TO.?startPeriod=2014&dimensionAtObservation=AllDimensions&format=csv\n"
     ]
    }
   ],
   "source": [
    "url = 'https://sdmx.oecd.org/public/rest/data/OECD.TAD.ARP,DSD_AGR_POLIND@DF_MONEVA,1.1/OECD.A..CPC_EX_TO.?startPeriod=2014&dimensionAtObservation=AllDimensions&format=csv'\n",
    "print (f'Here is the link to access the data: {url}') "
   ]
  },
  {
   "cell_type": "code",
   "execution_count": 9,
   "id": "c6d3015f",
   "metadata": {},
   "outputs": [
    {
     "name": "stdout",
     "output_type": "stream",
     "text": [
      "Succeeded\n"
     ]
    }
   ],
   "source": [
    "response = requests.get(url)\n",
    "response.raise_for_status()\n",
    "if response.status_code == 200:\n",
    "    print(\"Succeeded\")\n",
    "else: \n",
    "    print(\"Failed\")"
   ]
  },
  {
   "cell_type": "code",
   "execution_count": 11,
   "id": "69219d8a",
   "metadata": {},
   "outputs": [
    {
     "data": {
      "text/html": [
       "<div>\n",
       "<style scoped>\n",
       "    .dataframe tbody tr th:only-of-type {\n",
       "        vertical-align: middle;\n",
       "    }\n",
       "\n",
       "    .dataframe tbody tr th {\n",
       "        vertical-align: top;\n",
       "    }\n",
       "\n",
       "    .dataframe thead th {\n",
       "        text-align: right;\n",
       "    }\n",
       "</style>\n",
       "<table border=\"1\" class=\"dataframe\">\n",
       "  <thead>\n",
       "    <tr style=\"text-align: right;\">\n",
       "      <th></th>\n",
       "      <th>DATAFLOW</th>\n",
       "      <th>REF_AREA</th>\n",
       "      <th>FREQ</th>\n",
       "      <th>MEASURE</th>\n",
       "      <th>COMMODITY</th>\n",
       "      <th>UNIT_MEASURE</th>\n",
       "      <th>TIME_PERIOD</th>\n",
       "      <th>OBS_VALUE</th>\n",
       "      <th>DECIMALS</th>\n",
       "      <th>OBS_STATUS</th>\n",
       "      <th>CURRENCY</th>\n",
       "      <th>UNIT_MULT</th>\n",
       "    </tr>\n",
       "  </thead>\n",
       "  <tbody>\n",
       "    <tr>\n",
       "      <th>0</th>\n",
       "      <td>OECD.TAD.ARP:DSD_AGR_POLIND@DF_MONEVA(1.1)</td>\n",
       "      <td>OECD</td>\n",
       "      <td>A</td>\n",
       "      <td>GSSEJC</td>\n",
       "      <td>CPC_EX_TO</td>\n",
       "      <td>EUR</td>\n",
       "      <td>2023</td>\n",
       "      <td>4324.3150</td>\n",
       "      <td>2</td>\n",
       "      <td>NaN</td>\n",
       "      <td>NaN</td>\n",
       "      <td>6.0</td>\n",
       "    </tr>\n",
       "    <tr>\n",
       "      <th>1</th>\n",
       "      <td>OECD.TAD.ARP:DSD_AGR_POLIND@DF_MONEVA(1.1)</td>\n",
       "      <td>OECD</td>\n",
       "      <td>A</td>\n",
       "      <td>GSSEJC</td>\n",
       "      <td>CPC_EX_TO</td>\n",
       "      <td>EUR</td>\n",
       "      <td>2022</td>\n",
       "      <td>5348.0678</td>\n",
       "      <td>2</td>\n",
       "      <td>NaN</td>\n",
       "      <td>NaN</td>\n",
       "      <td>6.0</td>\n",
       "    </tr>\n",
       "    <tr>\n",
       "      <th>2</th>\n",
       "      <td>OECD.TAD.ARP:DSD_AGR_POLIND@DF_MONEVA(1.1)</td>\n",
       "      <td>OECD</td>\n",
       "      <td>A</td>\n",
       "      <td>GSSEJC</td>\n",
       "      <td>CPC_EX_TO</td>\n",
       "      <td>EUR</td>\n",
       "      <td>2021</td>\n",
       "      <td>3581.0647</td>\n",
       "      <td>2</td>\n",
       "      <td>NaN</td>\n",
       "      <td>NaN</td>\n",
       "      <td>6.0</td>\n",
       "    </tr>\n",
       "    <tr>\n",
       "      <th>3</th>\n",
       "      <td>OECD.TAD.ARP:DSD_AGR_POLIND@DF_MONEVA(1.1)</td>\n",
       "      <td>OECD</td>\n",
       "      <td>A</td>\n",
       "      <td>GSSEJC</td>\n",
       "      <td>CPC_EX_TO</td>\n",
       "      <td>EUR</td>\n",
       "      <td>2020</td>\n",
       "      <td>2600.0506</td>\n",
       "      <td>2</td>\n",
       "      <td>NaN</td>\n",
       "      <td>NaN</td>\n",
       "      <td>6.0</td>\n",
       "    </tr>\n",
       "    <tr>\n",
       "      <th>4</th>\n",
       "      <td>OECD.TAD.ARP:DSD_AGR_POLIND@DF_MONEVA(1.1)</td>\n",
       "      <td>OECD</td>\n",
       "      <td>A</td>\n",
       "      <td>GSSEJC</td>\n",
       "      <td>CPC_EX_TO</td>\n",
       "      <td>EUR</td>\n",
       "      <td>2019</td>\n",
       "      <td>3749.5171</td>\n",
       "      <td>2</td>\n",
       "      <td>NaN</td>\n",
       "      <td>NaN</td>\n",
       "      <td>6.0</td>\n",
       "    </tr>\n",
       "    <tr>\n",
       "      <th>...</th>\n",
       "      <td>...</td>\n",
       "      <td>...</td>\n",
       "      <td>...</td>\n",
       "      <td>...</td>\n",
       "      <td>...</td>\n",
       "      <td>...</td>\n",
       "      <td>...</td>\n",
       "      <td>...</td>\n",
       "      <td>...</td>\n",
       "      <td>...</td>\n",
       "      <td>...</td>\n",
       "      <td>...</td>\n",
       "    </tr>\n",
       "    <tr>\n",
       "      <th>2531</th>\n",
       "      <td>OECD.TAD.ARP:DSD_AGR_POLIND@DF_MONEVA(1.1)</td>\n",
       "      <td>OECD</td>\n",
       "      <td>A</td>\n",
       "      <td>GSSESH</td>\n",
       "      <td>CPC_EX_TO</td>\n",
       "      <td>PT_SUPP_E</td>\n",
       "      <td>2015</td>\n",
       "      <td>13.8563</td>\n",
       "      <td>2</td>\n",
       "      <td>NaN</td>\n",
       "      <td>NaN</td>\n",
       "      <td>NaN</td>\n",
       "    </tr>\n",
       "    <tr>\n",
       "      <th>2532</th>\n",
       "      <td>OECD.TAD.ARP:DSD_AGR_POLIND@DF_MONEVA(1.1)</td>\n",
       "      <td>OECD</td>\n",
       "      <td>A</td>\n",
       "      <td>MOSTDISTSH</td>\n",
       "      <td>CPC_EX_TO</td>\n",
       "      <td>FCTR</td>\n",
       "      <td>2014</td>\n",
       "      <td>47.1234</td>\n",
       "      <td>2</td>\n",
       "      <td>NaN</td>\n",
       "      <td>NaN</td>\n",
       "      <td>NaN</td>\n",
       "    </tr>\n",
       "    <tr>\n",
       "      <th>2533</th>\n",
       "      <td>OECD.TAD.ARP:DSD_AGR_POLIND@DF_MONEVA(1.1)</td>\n",
       "      <td>OECD</td>\n",
       "      <td>A</td>\n",
       "      <td>DBP</td>\n",
       "      <td>CPC_EX_TO</td>\n",
       "      <td>PC</td>\n",
       "      <td>2015</td>\n",
       "      <td>NaN</td>\n",
       "      <td>2</td>\n",
       "      <td>O</td>\n",
       "      <td>NaN</td>\n",
       "      <td>NaN</td>\n",
       "    </tr>\n",
       "    <tr>\n",
       "      <th>2534</th>\n",
       "      <td>OECD.TAD.ARP:DSD_AGR_POLIND@DF_MONEVA(1.1)</td>\n",
       "      <td>OECD</td>\n",
       "      <td>A</td>\n",
       "      <td>GSSEM</td>\n",
       "      <td>CPC_EX_TO</td>\n",
       "      <td>USD</td>\n",
       "      <td>2014</td>\n",
       "      <td>1533.3863</td>\n",
       "      <td>2</td>\n",
       "      <td>NaN</td>\n",
       "      <td>NaN</td>\n",
       "      <td>6.0</td>\n",
       "    </tr>\n",
       "    <tr>\n",
       "      <th>2535</th>\n",
       "      <td>OECD.TAD.ARP:DSD_AGR_POLIND@DF_MONEVA(1.1)</td>\n",
       "      <td>OECD</td>\n",
       "      <td>A</td>\n",
       "      <td>PSE</td>\n",
       "      <td>CPC_EX_TO</td>\n",
       "      <td>USD</td>\n",
       "      <td>2014</td>\n",
       "      <td>231646.1458</td>\n",
       "      <td>2</td>\n",
       "      <td>NaN</td>\n",
       "      <td>NaN</td>\n",
       "      <td>6.0</td>\n",
       "    </tr>\n",
       "  </tbody>\n",
       "</table>\n",
       "<p>2536 rows × 12 columns</p>\n",
       "</div>"
      ],
      "text/plain": [
       "                                        DATAFLOW REF_AREA FREQ     MEASURE  \\\n",
       "0     OECD.TAD.ARP:DSD_AGR_POLIND@DF_MONEVA(1.1)     OECD    A      GSSEJC   \n",
       "1     OECD.TAD.ARP:DSD_AGR_POLIND@DF_MONEVA(1.1)     OECD    A      GSSEJC   \n",
       "2     OECD.TAD.ARP:DSD_AGR_POLIND@DF_MONEVA(1.1)     OECD    A      GSSEJC   \n",
       "3     OECD.TAD.ARP:DSD_AGR_POLIND@DF_MONEVA(1.1)     OECD    A      GSSEJC   \n",
       "4     OECD.TAD.ARP:DSD_AGR_POLIND@DF_MONEVA(1.1)     OECD    A      GSSEJC   \n",
       "...                                          ...      ...  ...         ...   \n",
       "2531  OECD.TAD.ARP:DSD_AGR_POLIND@DF_MONEVA(1.1)     OECD    A      GSSESH   \n",
       "2532  OECD.TAD.ARP:DSD_AGR_POLIND@DF_MONEVA(1.1)     OECD    A  MOSTDISTSH   \n",
       "2533  OECD.TAD.ARP:DSD_AGR_POLIND@DF_MONEVA(1.1)     OECD    A         DBP   \n",
       "2534  OECD.TAD.ARP:DSD_AGR_POLIND@DF_MONEVA(1.1)     OECD    A       GSSEM   \n",
       "2535  OECD.TAD.ARP:DSD_AGR_POLIND@DF_MONEVA(1.1)     OECD    A         PSE   \n",
       "\n",
       "      COMMODITY UNIT_MEASURE  TIME_PERIOD    OBS_VALUE  DECIMALS OBS_STATUS  \\\n",
       "0     CPC_EX_TO          EUR         2023    4324.3150         2        NaN   \n",
       "1     CPC_EX_TO          EUR         2022    5348.0678         2        NaN   \n",
       "2     CPC_EX_TO          EUR         2021    3581.0647         2        NaN   \n",
       "3     CPC_EX_TO          EUR         2020    2600.0506         2        NaN   \n",
       "4     CPC_EX_TO          EUR         2019    3749.5171         2        NaN   \n",
       "...         ...          ...          ...          ...       ...        ...   \n",
       "2531  CPC_EX_TO    PT_SUPP_E         2015      13.8563         2        NaN   \n",
       "2532  CPC_EX_TO         FCTR         2014      47.1234         2        NaN   \n",
       "2533  CPC_EX_TO           PC         2015          NaN         2          O   \n",
       "2534  CPC_EX_TO          USD         2014    1533.3863         2        NaN   \n",
       "2535  CPC_EX_TO          USD         2014  231646.1458         2        NaN   \n",
       "\n",
       "      CURRENCY  UNIT_MULT  \n",
       "0          NaN        6.0  \n",
       "1          NaN        6.0  \n",
       "2          NaN        6.0  \n",
       "3          NaN        6.0  \n",
       "4          NaN        6.0  \n",
       "...        ...        ...  \n",
       "2531       NaN        NaN  \n",
       "2532       NaN        NaN  \n",
       "2533       NaN        NaN  \n",
       "2534       NaN        6.0  \n",
       "2535       NaN        6.0  \n",
       "\n",
       "[2536 rows x 12 columns]"
      ]
     },
     "execution_count": 11,
     "metadata": {},
     "output_type": "execute_result"
    }
   ],
   "source": [
    "data = io.StringIO(response.text)\n",
    "data_1 = pd.read_csv(data)\n",
    "data_1"
   ]
  },
  {
   "cell_type": "code",
   "execution_count": 14,
   "id": "970211a0",
   "metadata": {},
   "outputs": [
    {
     "data": {
      "text/plain": [
       "array(['EUR', 'USD', 'PT_SUPP_E_GN_SRV', 'XDC', 'FCTR', 'PT_SUPP_E_PRDC',\n",
       "       'PT_REC_FRM', 'PC', 'PT_B1GQ', 'PT_CSE_AGR_COM', 'PT_EMP',\n",
       "       'PT_PROD_VAL', 'IX', 'PT_SUPP_E'], dtype=object)"
      ]
     },
     "execution_count": 14,
     "metadata": {},
     "output_type": "execute_result"
    }
   ],
   "source": [
    "data_1['UNIT_MEASURE'].unique()"
   ]
  },
  {
   "cell_type": "markdown",
   "id": "65ad0400",
   "metadata": {},
   "source": [
    "## 1.2 Manipulate Data"
   ]
  },
  {
   "cell_type": "markdown",
   "id": "c6b2010d",
   "metadata": {},
   "source": [
    "## 1.3 Merge Data"
   ]
  },
  {
   "cell_type": "markdown",
   "id": "56846ea2",
   "metadata": {},
   "source": []
  }
 ],
 "metadata": {
  "kernelspec": {
   "display_name": "Python 3",
   "language": "python",
   "name": "python3"
  },
  "language_info": {
   "codemirror_mode": {
    "name": "ipython",
    "version": 3
   },
   "file_extension": ".py",
   "mimetype": "text/x-python",
   "name": "python",
   "nbconvert_exporter": "python",
   "pygments_lexer": "ipython3",
   "version": "3.9.6"
  }
 },
 "nbformat": 4,
 "nbformat_minor": 5
}
