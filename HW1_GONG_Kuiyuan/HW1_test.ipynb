{
 "cells": [
  {
   "cell_type": "code",
   "execution_count": 2,
   "id": "087ada9d",
   "metadata": {},
   "outputs": [
    {
     "name": "stdout",
     "output_type": "stream",
     "text": [
      "AFRREO 文件下载成功，保存在当前目录。\n"
     ]
    }
   ],
   "source": [
    "import requests\n",
    "import pandas as pd\n",
    "from io import StringIO\n",
    "import os\n",
    "\n",
    "# 设置 IMF 的 AFRREO 数据 URL（CSV格式）\n",
    "url = \"https://www.imf.org/-/media/Files/Publications/REO/AFR/2023/May/StatisticalAppendix-REO-Africa-April2023.ashx?la=en\"\n",
    "\n",
    "# 下载文件\n",
    "response = requests.get(url)\n",
    "\n",
    "# 检查请求是否成功\n",
    "if response.status_code == 200:\n",
    "    # 把二进制文件写入到本地（这是 PDF/Excel，而不是 CSV）\n",
    "    with open(\"AFRREO_2023_April.xlsx\", \"wb\") as f:\n",
    "        f.write(response.content)\n",
    "    print(\"AFRREO 文件下载成功，保存在当前目录。\")\n",
    "else:\n",
    "    print(\"下载失败，状态码：\", response.status_code)\n"
   ]
  },
  {
   "cell_type": "code",
   "execution_count": 3,
   "id": "926c0fd4",
   "metadata": {},
   "outputs": [],
   "source": [
    "os. remove(\"AFRREO_2023_April.xlsx\")"
   ]
  }
 ],
 "metadata": {
  "kernelspec": {
   "display_name": "Python 3",
   "language": "python",
   "name": "python3"
  },
  "language_info": {
   "codemirror_mode": {
    "name": "ipython",
    "version": 3
   },
   "file_extension": ".py",
   "mimetype": "text/x-python",
   "name": "python",
   "nbconvert_exporter": "python",
   "pygments_lexer": "ipython3",
   "version": "3.9.6"
  }
 },
 "nbformat": 4,
 "nbformat_minor": 5
}
